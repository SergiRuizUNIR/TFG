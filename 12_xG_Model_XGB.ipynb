{
 "cells": [
  {
   "cell_type": "code",
   "execution_count": 24,
   "id": "768f8456",
   "metadata": {},
   "outputs": [],
   "source": [
    "import os\n",
    "from sklearn.model_selection import train_test_split, cross_val_score, RepeatedStratifiedKFold\n",
    "from sklearn.metrics import average_precision_score, accuracy_score, roc_auc_score, make_scorer, log_loss, brier_score_loss\n",
    "from sklearn.model_selection import GridSearchCV\n",
    "from sklearn.inspection import permutation_importance\n",
    "from sklearn.calibration import calibration_curve\n",
    "import xgboost as xgb\n",
    "from xgboost import XGBClassifier\n",
    "import numpy as np\n",
    "import pandas as pd\n",
    "from numpy import mean\n",
    "from numpy import std\n",
    "import matplotlib.pyplot as plt\n",
    "import seaborn as sns\n",
    "from scipy.spatial import distance\n",
    "import warnings\n",
    "from hyperopt import STATUS_OK, Trials, fmin, hp, tpe\n",
    "from sklearn.calibration import CalibratedClassifierCV\n",
    "from skopt import BayesSearchCV\n",
    "from skopt.space import Real, Integer\n",
    "warnings.filterwarnings('ignore')"
   ]
  },
  {
   "cell_type": "code",
   "execution_count": 3,
   "id": "9862cd3a",
   "metadata": {},
   "outputs": [],
   "source": [
    "# Setup metrics (see: http://business-analytic.co.uk/blog/evaluating-expected-goals-models/)\n",
    "# define Mcfadden's pseduo r-squared\n",
    "def mcfadden_r2(y, y_pred):\n",
    "    ll = log_loss(y, y_pred)\n",
    "    ll_null = log_loss(y, np.full(len(y), y.mean()))\n",
    "    return 1 - (ll/ll_null)\n",
    "pseudo_r2_scorer = make_scorer(mcfadden_r2, needs_proba=True, greater_is_better=True)"
   ]
  },
  {
   "cell_type": "code",
   "execution_count": 4,
   "id": "3cc8dbc1",
   "metadata": {},
   "outputs": [],
   "source": [
    "scoring = {'roc_aug': 'roc_auc', 'mcfaddens_r2': pseudo_r2_scorer}"
   ]
  },
  {
   "cell_type": "code",
   "execution_count": 5,
   "id": "65455733",
   "metadata": {},
   "outputs": [],
   "source": [
    "# Load the data\n",
    "cwd = os.getcwd()\n",
    "df = pd.read_parquet(os.path.join(cwd, 'data', 'shots.parquet'))\n",
    "df.drop(['match_id', 'statsbomb_id', 'statsbomb_team_id', 'player_id_statsbomb', 'competition_gender', 'team_name',\n",
    "         'player_id', 'firstName', 'middleName', 'lastName', 'Name', 'dataset', 'wyscout_id', 'wyscout_team_id', 'team_id',\n",
    "         'player_id_wyscout','competition_name','minute','shot_zone','competition_gender','match_week'], axis=1, inplace=True)\n",
    "mask_penalty = (df.shot_type_name=='penalty')\n",
    "df_penalty = df[mask_penalty].copy()\n",
    "df_penalty.drop(['x','y','visible_angle','middle_angle','distance_to_goal','distance_visible_angle','log_distance_to_goal',\n",
    "                 'assist_type', 'pass_switch', 'pass_cross', 'pass_cut_back','counter_attack', 'pass_height_name',\n",
    "                 'pass_technique_name', 'shot_zone_number','shot_zone_player_number','fast_break', 'strong_foot',\n",
    "                 'body_part_name','shot_type_name','smart_pass','carry_length','pass_end_x','pass_end_y',\n",
    "                 'goalkeeper_x', 'goalkeeper_y','n_angle','area_goal','area_shot','shot_one_on_one','shot_open_goal',\n",
    "                'under_pressure'], axis=1, inplace=True)\n",
    "df_non_penalty = df[~mask_penalty].copy()\n",
    "X_penalty = df_penalty.drop('goal', axis=1)\n",
    "y_penalty = df_penalty.goal\n",
    "X = df_non_penalty.drop('goal', axis=1)\n",
    "y = df_non_penalty.goal"
   ]
  },
  {
   "cell_type": "code",
   "execution_count": 6,
   "id": "7224651b",
   "metadata": {},
   "outputs": [],
   "source": [
    "# Split into train, calibration and test datasets\n",
    "X_train, X_test, y_train, y_test = train_test_split(X, y, train_size=0.8, random_state=42, stratify=y)\n",
    "X_penalty_train, X_penalty_test, y_penalty_train, y_penalty_test = train_test_split(X_penalty, y_penalty,\n",
    "                                                                        train_size=0.8, random_state=42, stratify=y_penalty)"
   ]
  },
  {
   "cell_type": "code",
   "execution_count": 7,
   "id": "c9a7f835",
   "metadata": {},
   "outputs": [],
   "source": [
    "# Load and split fake data\n",
    "df_fake = pd.read_parquet(os.path.join(cwd, 'data', 'fake_shots.parquet'))\n",
    "df_fake.drop(['competition_gender','competition_gender','match_week'], axis=1, inplace=True)\n",
    "df_fake.index = ['a'+str(idx) for idx in df_fake.index]\n",
    "\n",
    "y_fake = df_fake.goal\n",
    "X_fake = df_fake.drop('goal', axis=1)"
   ]
  },
  {
   "cell_type": "code",
   "execution_count": 8,
   "id": "87cbfb38",
   "metadata": {},
   "outputs": [],
   "source": [
    "# Add fake training data. I am not adding this to the test data as want this to be realistic of real data.\n",
    "X_train = pd.concat([X_train, X_fake])\n",
    "y_train = pd.concat([y_train, y_fake])"
   ]
  },
  {
   "cell_type": "code",
   "execution_count": 9,
   "id": "f93c474f",
   "metadata": {},
   "outputs": [],
   "source": [
    "# Clean data. Categories to numbers. Drop distance and angle measures as just want raw locations for my models.\n",
    "def clean_lightgbm(df):\n",
    "    df = df.copy()\n",
    "    # replace categorical columns\n",
    "    shot_type_cat = {'free_kick': 0, 'corner': 1, 'throw_in': 2, 'direct_set_piece': 3, 'open_play': 4}\n",
    "    body_type_cat = {'Right Foot': 0, 'Left Foot': 1, 'Other': 2}\n",
    "    assist_type_cat = {'pass': 0, 'recovery': 1, 'clearance': 2, 'direct': 3, 'rebound': 4}\n",
    "    pass_height_cat = {'High Pass': 0, 'Ground/ Low Pass': 1}\n",
    "    pass_technique_cat = {'Through Ball': 0, 'Straight': 1, 'Inswinging': 2, 'Outswinging': 3, 'other': 4}\n",
    "    H_A_column_cat = {'Home Team': 0, 'Away Team': 1}\n",
    "    match_moment_cat = {'0-15': 0, '15-30': 1, '30-45': 2, '45-60': 3, '60-75': 4, '75-90': 5}\n",
    "    competition_type_cat = {'League': 0, 'Cup': 1}\n",
    "    competition_part_cat = {'start': 0, 'middle': 1, 'final': 2, 'group': 3, 'knockout': 4}\n",
    "    df.shot_type_name.replace(shot_type_cat, inplace=True)\n",
    "    df.body_part_name.replace(body_type_cat, inplace=True)\n",
    "    df.assist_type.replace(assist_type_cat, inplace=True)\n",
    "    df.pass_height_name.replace(pass_height_cat, inplace=True)\n",
    "    df.pass_technique_name.replace(pass_technique_cat, inplace=True)\n",
    "    df.H_A_column.replace(H_A_column_cat, inplace=True)\n",
    "    df.match_moment.replace(match_moment_cat, inplace=True)\n",
    "    df.competition_type.replace(competition_type_cat, inplace=True)\n",
    "    df.competition_part.replace(competition_part_cat, inplace=True)\n",
    "    \n",
    "    # replace boolean type columns (not really as have nans)\n",
    "    for col in ['pass_switch', 'pass_cross', 'pass_cut_back', 'shot_one_on_one',\n",
    "                'shot_open_goal', 'under_pressure', 'smart_pass']:\n",
    "        df[col] = df[col].astype(np.float32)\n",
    "    return df\n",
    "    \n",
    "X_train = clean_lightgbm(X_train)\n",
    "X_test = clean_lightgbm(X_test)"
   ]
  },
  {
   "cell_type": "code",
   "execution_count": 10,
   "id": "fb8842a0",
   "metadata": {},
   "outputs": [],
   "source": [
    "# Clean data. Categories to numbers. Drop distance and angle measures as just want raw locations for my models.\n",
    "def clean_lightgbm_p(df):\n",
    "    df = df.copy()\n",
    "    # replace categorical columns\n",
    "    H_A_column_cat = {'Home Team': 0, 'Away Team': 1}\n",
    "    match_moment_cat = {'0-15': 0, '15-30': 1, '30-45': 2, '45-60': 3, '60-75': 4, '75-90': 5}\n",
    "    competition_type_cat = {'League': 0, 'Cup': 1}\n",
    "    competition_part_cat = {'start': 0, 'middle': 1, 'final': 2, 'group': 3, 'knockout': 4}\n",
    "    df.H_A_column.replace(H_A_column_cat, inplace=True)\n",
    "    df.match_moment.replace(match_moment_cat, inplace=True)\n",
    "    df.competition_type.replace(competition_type_cat, inplace=True)\n",
    "    df.competition_part.replace(competition_part_cat, inplace=True)\n",
    "    return df\n",
    "    \n",
    "X_penalty_train = clean_lightgbm_p(X_penalty_train)\n",
    "X_penalty_test = clean_lightgbm_p(X_penalty_test)"
   ]
  },
  {
   "cell_type": "code",
   "execution_count": 10,
   "id": "4948c2f8",
   "metadata": {},
   "outputs": [],
   "source": [
    "space={'max_depth': hp.quniform(\"max_depth\", 3, 18, 1),\n",
    "        'gamma': hp.uniform ('gamma', 1,9),\n",
    "        'reg_alpha' : hp.quniform('reg_alpha', 40,180,1),\n",
    "        'reg_lambda' : hp.uniform('reg_lambda', 0,1),\n",
    "        'colsample_bytree' : hp.uniform('colsample_bytree', 0.5,1),\n",
    "        'min_child_weight' : hp.quniform('min_child_weight', 0, 10, 1),\n",
    "        'n_estimators': 180,\n",
    "        'seed': 0\n",
    "    }"
   ]
  },
  {
   "cell_type": "code",
   "execution_count": 11,
   "id": "d56a30e7",
   "metadata": {},
   "outputs": [],
   "source": [
    "def objective(space):\n",
    "    clf=xgb.XGBClassifier(\n",
    "                    n_estimators =space['n_estimators'], max_depth = int(space['max_depth']), gamma = space['gamma'],\n",
    "                    reg_alpha = int(space['reg_alpha']),min_child_weight=int(space['min_child_weight']),\n",
    "                    colsample_bytree=int(space['colsample_bytree']))\n",
    "    \n",
    "    evaluation = [( X_train, y_train), ( X_test, y_test)]\n",
    "    \n",
    "    clf.fit(X_train, y_train,\n",
    "            eval_set=evaluation, eval_metric=\"auc\",\n",
    "            early_stopping_rounds=10,verbose=False)\n",
    "    \n",
    "\n",
    "    pred = clf.predict(X_test)\n",
    "    accuracy = accuracy_score(y_test, pred>0.5)\n",
    "    return {'loss': -accuracy, 'status': STATUS_OK }"
   ]
  },
  {
   "cell_type": "code",
   "execution_count": 12,
   "id": "1db519c9",
   "metadata": {},
   "outputs": [
    {
     "name": "stdout",
     "output_type": "stream",
     "text": [
      "SCORE:                                                 \n",
      "0.8938924197798791                                     \n",
      "SCORE:                                                                            \n",
      "0.8938924197798791                                                                \n",
      "SCORE:                                                                            \n",
      "0.8938924197798791                                                                \n",
      "SCORE:                                                                            \n",
      "0.8942799565958766                                                                \n",
      "SCORE:                                                                            \n",
      "0.8941249418694776                                                                \n",
      "SCORE:                                                                            \n",
      "0.8955200744070687                                                                \n",
      "SCORE:                                                                            \n",
      "0.8942799565958766                                                                \n",
      "SCORE:                                                                            \n",
      "0.8942799565958766                                                                \n",
      "SCORE:                                                                            \n",
      "0.8938924197798791                                                                \n",
      "SCORE:                                                                            \n",
      "0.8938924197798791                                                                \n",
      "SCORE:                                                                             \n",
      "0.8938924197798791                                                                 \n",
      "SCORE:                                                                             \n",
      "0.8938924197798791                                                                 \n",
      "SCORE:                                                                             \n",
      "0.8942799565958766                                                                 \n",
      "SCORE:                                                                             \n",
      "0.8938924197798791                                                                 \n",
      "SCORE:                                                                             \n",
      "0.8941249418694776                                                                 \n",
      "SCORE:                                                                             \n",
      "0.8942799565958766                                                                 \n",
      "SCORE:                                                                             \n",
      "0.8938924197798791                                                                 \n",
      "SCORE:                                                                             \n",
      "0.8942799565958766                                                                 \n",
      "SCORE:                                                                             \n",
      "0.8941249418694776                                                                 \n",
      "SCORE:                                                                             \n",
      "0.8938924197798791                                                                 \n",
      "SCORE:                                                                             \n",
      "0.8956750891334677                                                                 \n",
      "SCORE:                                                                             \n",
      "0.8955200744070687                                                                 \n",
      "SCORE:                                                                             \n",
      "0.8955200744070687                                                                 \n",
      "SCORE:                                                                             \n",
      "0.8952100449542707                                                                 \n",
      "SCORE:                                                                             \n",
      "0.8952875523174701                                                                 \n",
      "SCORE:                                                                             \n",
      "0.8945899860486747                                                                 \n",
      "SCORE:                                                                             \n",
      "0.8957525964966672                                                                 \n",
      "SCORE:                                                                             \n",
      "0.8955975817702682                                                                 \n",
      "SCORE:                                                                             \n",
      "0.8945124786854751                                                                 \n",
      "SCORE:                                                                             \n",
      "0.8953650596806697                                                                 \n",
      "SCORE:                                                                             \n",
      "0.8943574639590761                                                                 \n",
      "SCORE:                                                                             \n",
      "0.8955200744070687                                                                 \n",
      "SCORE:                                                                             \n",
      "0.8943574639590761                                                                 \n",
      "SCORE:                                                                             \n",
      "0.8938924197798791                                                                 \n",
      "SCORE:                                                                             \n",
      "0.8957525964966672                                                                 \n",
      "SCORE:                                                                             \n",
      "0.8938924197798791                                                                 \n",
      "SCORE:                                                                             \n",
      "0.8938924197798791                                                                 \n",
      "SCORE:                                                                             \n",
      "0.8959076112230662                                                                 \n",
      "SCORE:                                                                             \n",
      "0.8945124786854751                                                                 \n",
      "SCORE:                                                                             \n",
      "0.8942799565958766                                                                 \n",
      "SCORE:                                                                             \n",
      "0.8938924197798791                                                                 \n",
      "SCORE:                                                                             \n",
      "0.8938924197798791                                                                 \n",
      "SCORE:                                                                             \n",
      "0.8955975817702682                                                                 \n",
      "SCORE:                                                                             \n",
      "0.8942799565958766                                                                 \n",
      "SCORE:                                                                             \n",
      "0.8953650596806697                                                                 \n",
      "SCORE:                                                                             \n",
      "0.8938924197798791                                                                 \n",
      "SCORE:                                                                             \n",
      "0.8938924197798791                                                                 \n",
      "SCORE:                                                                             \n",
      "0.8941249418694776                                                                 \n",
      "SCORE:                                                                             \n",
      "0.8947450007750737                                                                 \n"
     ]
    },
    {
     "name": "stdout",
     "output_type": "stream",
     "text": [
      "SCORE:                                                                             \n",
      "0.8958301038598667                                                                 \n",
      "SCORE:                                                                             \n",
      "0.8938924197798791                                                                 \n",
      "SCORE:                                                                             \n",
      "0.8953650596806697                                                                 \n",
      "SCORE:                                                                             \n",
      "0.8955200744070687                                                                 \n",
      "SCORE:                                                                             \n",
      "0.8942799565958766                                                                 \n",
      "SCORE:                                                                             \n",
      "0.8938924197798791                                                                 \n",
      "SCORE:                                                                             \n",
      "0.8942799565958766                                                                 \n",
      "SCORE:                                                                             \n",
      "0.8943574639590761                                                                 \n",
      "SCORE:                                                                             \n",
      "0.8944349713222756                                                                 \n",
      "SCORE:                                                                             \n",
      "0.8956750891334677                                                                 \n",
      "SCORE:                                                                             \n",
      "0.8938924197798791                                                                 \n",
      "SCORE:                                                                             \n",
      "0.8953650596806697                                                                 \n",
      "SCORE:                                                                             \n",
      "0.8941249418694776                                                                 \n",
      "SCORE:                                                                             \n",
      "0.8938924197798791                                                                 \n",
      "SCORE:                                                                             \n",
      "0.8955975817702682                                                                 \n",
      "SCORE:                                                                             \n",
      "0.8952875523174701                                                                 \n",
      "SCORE:                                                                             \n",
      "0.8957525964966672                                                                 \n",
      "SCORE:                                                                             \n",
      "0.8955200744070687                                                                 \n",
      "SCORE:                                                                             \n",
      "0.8957525964966672                                                                 \n",
      "SCORE:                                                                             \n",
      "0.8958301038598667                                                                 \n",
      "SCORE:                                                                             \n",
      "0.8948225081382731                                                                 \n",
      "SCORE:                                                                             \n",
      "0.8943574639590761                                                                 \n",
      "SCORE:                                                                             \n",
      "0.8955200744070687                                                                 \n",
      "SCORE:                                                                             \n",
      "0.8958301038598667                                                                 \n",
      "SCORE:                                                                             \n",
      "0.8953650596806697                                                                 \n",
      "SCORE:                                                                             \n",
      "0.8942799565958766                                                                 \n",
      "SCORE:                                                                             \n",
      "0.8947450007750737                                                                 \n",
      "SCORE:                                                                             \n",
      "0.8957525964966672                                                                 \n",
      "SCORE:                                                                             \n",
      "0.8955200744070687                                                                 \n",
      "SCORE:                                                                             \n",
      "0.8953650596806697                                                                 \n",
      "SCORE:                                                                             \n",
      "0.8942799565958766                                                                 \n",
      "SCORE:                                                                             \n",
      "0.8938924197798791                                                                 \n",
      "SCORE:                                                                             \n",
      "0.8943574639590761                                                                 \n",
      "SCORE:                                                                             \n",
      "0.8943574639590761                                                                 \n",
      "SCORE:                                                                             \n",
      "0.8942799565958766                                                                 \n",
      "SCORE:                                                                             \n",
      "0.8957525964966672                                                                 \n",
      "SCORE:                                                                             \n",
      "0.8938924197798791                                                                 \n",
      "SCORE:                                                                             \n",
      "0.8938924197798791                                                                 \n",
      "SCORE:                                                                             \n",
      "0.8955200744070687                                                                 \n",
      "SCORE:                                                                             \n",
      "0.8957525964966672                                                                 \n",
      "SCORE:                                                                             \n",
      "0.8942799565958766                                                                 \n",
      "SCORE:                                                                             \n",
      "0.8951325375910711                                                                 \n",
      "SCORE:                                                                             \n",
      "0.8945124786854751                                                                 \n",
      "SCORE:                                                                             \n",
      "0.8955200744070687                                                                 \n",
      "SCORE:                                                                             \n",
      "0.8952100449542707                                                                 \n",
      "SCORE:                                                                             \n",
      "0.8949000155014727                                                                 \n",
      "SCORE:                                                                             \n",
      "0.8949000155014727                                                                 \n",
      "SCORE:                                                                             \n",
      "0.8941249418694776                                                                 \n",
      "SCORE:                                                                             \n"
     ]
    },
    {
     "name": "stdout",
     "output_type": "stream",
     "text": [
      "0.8955975817702682                                                                 \n",
      "SCORE:                                                                             \n",
      "0.8952875523174701                                                                 \n",
      "SCORE:                                                                             \n",
      "0.8952875523174701                                                                 \n",
      "100%|██████████| 100/100 [04:12<00:00,  2.52s/trial, best loss: -0.8959076112230662]\n"
     ]
    }
   ],
   "source": [
    "trials = Trials()\n",
    "\n",
    "best_hyperparams = fmin(fn = objective,\n",
    "                        space = space,\n",
    "                        algo = tpe.suggest,\n",
    "                        max_evals = 100,\n",
    "                        trials = trials)"
   ]
  },
  {
   "cell_type": "code",
   "execution_count": 13,
   "id": "5e404210",
   "metadata": {},
   "outputs": [
    {
     "name": "stdout",
     "output_type": "stream",
     "text": [
      "The best hyperparameters are :  \n",
      "\n",
      "{'colsample_bytree': 0.558729738467207, 'gamma': 7.947271005831234, 'max_depth': 3.0, 'min_child_weight': 1.0, 'reg_alpha': 42.0, 'reg_lambda': 0.10443753358579017}\n"
     ]
    }
   ],
   "source": [
    "print(\"The best hyperparameters are : \",\"\\n\")\n",
    "print(best_hyperparams)"
   ]
  },
  {
   "cell_type": "code",
   "execution_count": 25,
   "id": "b7a55c6b",
   "metadata": {},
   "outputs": [
    {
     "ename": "KeyboardInterrupt",
     "evalue": "",
     "output_type": "error",
     "traceback": [
      "\u001b[1;31m---------------------------------------------------------------------------\u001b[0m",
      "\u001b[1;31mKeyboardInterrupt\u001b[0m                         Traceback (most recent call last)",
      "\u001b[1;32m<ipython-input-25-838853002fa4>\u001b[0m in \u001b[0;36m<module>\u001b[1;34m\u001b[0m\n\u001b[0;32m     12\u001b[0m                          \u001b[0mcv\u001b[0m\u001b[1;33m=\u001b[0m\u001b[1;36m5\u001b[0m\u001b[1;33m,\u001b[0m\u001b[1;33m\u001b[0m\u001b[1;33m\u001b[0m\u001b[0m\n\u001b[0;32m     13\u001b[0m                          n_jobs=-1)\n\u001b[1;32m---> 14\u001b[1;33m \u001b[0mxgb_np\u001b[0m\u001b[1;33m.\u001b[0m\u001b[0mfit\u001b[0m\u001b[1;33m(\u001b[0m\u001b[0mX_train\u001b[0m\u001b[1;33m,\u001b[0m \u001b[0my_train\u001b[0m\u001b[1;33m)\u001b[0m\u001b[1;33m\u001b[0m\u001b[1;33m\u001b[0m\u001b[0m\n\u001b[0m\u001b[0;32m     15\u001b[0m \u001b[1;31m# Nested resampling using skopt. see: https://github.com/scikit-optimize/scikit-optimize/issues/725\u001b[0m\u001b[1;33m\u001b[0m\u001b[1;33m\u001b[0m\u001b[1;33m\u001b[0m\u001b[0m\n\u001b[0;32m     16\u001b[0m xgb_p = BayesSearchCV(estimator=xgb_cccv,\n",
      "\u001b[1;32m~\\anaconda3\\envs\\xGenv\\lib\\site-packages\\skopt\\searchcv.py\u001b[0m in \u001b[0;36mfit\u001b[1;34m(self, X, y, groups, callback)\u001b[0m\n\u001b[0;32m    692\u001b[0m                 optim_result = self._step(\n\u001b[0;32m    693\u001b[0m                     \u001b[0mX\u001b[0m\u001b[1;33m,\u001b[0m \u001b[0my\u001b[0m\u001b[1;33m,\u001b[0m \u001b[0msearch_space\u001b[0m\u001b[1;33m,\u001b[0m \u001b[0moptimizer\u001b[0m\u001b[1;33m,\u001b[0m\u001b[1;33m\u001b[0m\u001b[1;33m\u001b[0m\u001b[0m\n\u001b[1;32m--> 694\u001b[1;33m                     \u001b[0mgroups\u001b[0m\u001b[1;33m=\u001b[0m\u001b[0mgroups\u001b[0m\u001b[1;33m,\u001b[0m \u001b[0mn_points\u001b[0m\u001b[1;33m=\u001b[0m\u001b[0mn_points_adjusted\u001b[0m\u001b[1;33m\u001b[0m\u001b[1;33m\u001b[0m\u001b[0m\n\u001b[0m\u001b[0;32m    695\u001b[0m                 )\n\u001b[0;32m    696\u001b[0m                 \u001b[0mn_iter\u001b[0m \u001b[1;33m-=\u001b[0m \u001b[0mn_points\u001b[0m\u001b[1;33m\u001b[0m\u001b[1;33m\u001b[0m\u001b[0m\n",
      "\u001b[1;32m~\\anaconda3\\envs\\xGenv\\lib\\site-packages\\skopt\\searchcv.py\u001b[0m in \u001b[0;36m_step\u001b[1;34m(self, X, y, search_space, optimizer, groups, n_points)\u001b[0m\n\u001b[0;32m    577\u001b[0m         \u001b[0mrefit\u001b[0m \u001b[1;33m=\u001b[0m \u001b[0mself\u001b[0m\u001b[1;33m.\u001b[0m\u001b[0mrefit\u001b[0m\u001b[1;33m\u001b[0m\u001b[1;33m\u001b[0m\u001b[0m\n\u001b[0;32m    578\u001b[0m         \u001b[0mself\u001b[0m\u001b[1;33m.\u001b[0m\u001b[0mrefit\u001b[0m \u001b[1;33m=\u001b[0m \u001b[1;32mFalse\u001b[0m\u001b[1;33m\u001b[0m\u001b[1;33m\u001b[0m\u001b[0m\n\u001b[1;32m--> 579\u001b[1;33m         \u001b[0mself\u001b[0m\u001b[1;33m.\u001b[0m\u001b[0m_fit\u001b[0m\u001b[1;33m(\u001b[0m\u001b[0mX\u001b[0m\u001b[1;33m,\u001b[0m \u001b[0my\u001b[0m\u001b[1;33m,\u001b[0m \u001b[0mgroups\u001b[0m\u001b[1;33m,\u001b[0m \u001b[0mparams_dict\u001b[0m\u001b[1;33m)\u001b[0m\u001b[1;33m\u001b[0m\u001b[1;33m\u001b[0m\u001b[0m\n\u001b[0m\u001b[0;32m    580\u001b[0m         \u001b[0mself\u001b[0m\u001b[1;33m.\u001b[0m\u001b[0mrefit\u001b[0m \u001b[1;33m=\u001b[0m \u001b[0mrefit\u001b[0m\u001b[1;33m\u001b[0m\u001b[1;33m\u001b[0m\u001b[0m\n\u001b[0;32m    581\u001b[0m \u001b[1;33m\u001b[0m\u001b[0m\n",
      "\u001b[1;32m~\\anaconda3\\envs\\xGenv\\lib\\site-packages\\skopt\\searchcv.py\u001b[0m in \u001b[0;36m_fit\u001b[1;34m(self, X, y, groups, parameter_iterable)\u001b[0m\n\u001b[0;32m    421\u001b[0m                 \u001b[0merror_score\u001b[0m\u001b[1;33m=\u001b[0m\u001b[0mself\u001b[0m\u001b[1;33m.\u001b[0m\u001b[0merror_score\u001b[0m\u001b[1;33m\u001b[0m\u001b[1;33m\u001b[0m\u001b[0m\n\u001b[0;32m    422\u001b[0m             )\n\u001b[1;32m--> 423\u001b[1;33m             \u001b[1;32mfor\u001b[0m \u001b[0mparameters\u001b[0m \u001b[1;32min\u001b[0m \u001b[0mparameter_iterable\u001b[0m\u001b[1;33m\u001b[0m\u001b[1;33m\u001b[0m\u001b[0m\n\u001b[0m\u001b[0;32m    424\u001b[0m             for train, test in cv_iter)\n\u001b[0;32m    425\u001b[0m \u001b[1;33m\u001b[0m\u001b[0m\n",
      "\u001b[1;32m~\\anaconda3\\envs\\xGenv\\lib\\site-packages\\joblib\\parallel.py\u001b[0m in \u001b[0;36m__call__\u001b[1;34m(self, iterable)\u001b[0m\n\u001b[0;32m   1052\u001b[0m \u001b[1;33m\u001b[0m\u001b[0m\n\u001b[0;32m   1053\u001b[0m             \u001b[1;32mwith\u001b[0m \u001b[0mself\u001b[0m\u001b[1;33m.\u001b[0m\u001b[0m_backend\u001b[0m\u001b[1;33m.\u001b[0m\u001b[0mretrieval_context\u001b[0m\u001b[1;33m(\u001b[0m\u001b[1;33m)\u001b[0m\u001b[1;33m:\u001b[0m\u001b[1;33m\u001b[0m\u001b[1;33m\u001b[0m\u001b[0m\n\u001b[1;32m-> 1054\u001b[1;33m                 \u001b[0mself\u001b[0m\u001b[1;33m.\u001b[0m\u001b[0mretrieve\u001b[0m\u001b[1;33m(\u001b[0m\u001b[1;33m)\u001b[0m\u001b[1;33m\u001b[0m\u001b[1;33m\u001b[0m\u001b[0m\n\u001b[0m\u001b[0;32m   1055\u001b[0m             \u001b[1;31m# Make sure that we get a last message telling us we are done\u001b[0m\u001b[1;33m\u001b[0m\u001b[1;33m\u001b[0m\u001b[1;33m\u001b[0m\u001b[0m\n\u001b[0;32m   1056\u001b[0m             \u001b[0melapsed_time\u001b[0m \u001b[1;33m=\u001b[0m \u001b[0mtime\u001b[0m\u001b[1;33m.\u001b[0m\u001b[0mtime\u001b[0m\u001b[1;33m(\u001b[0m\u001b[1;33m)\u001b[0m \u001b[1;33m-\u001b[0m \u001b[0mself\u001b[0m\u001b[1;33m.\u001b[0m\u001b[0m_start_time\u001b[0m\u001b[1;33m\u001b[0m\u001b[1;33m\u001b[0m\u001b[0m\n",
      "\u001b[1;32m~\\anaconda3\\envs\\xGenv\\lib\\site-packages\\joblib\\parallel.py\u001b[0m in \u001b[0;36mretrieve\u001b[1;34m(self)\u001b[0m\n\u001b[0;32m    931\u001b[0m             \u001b[1;32mtry\u001b[0m\u001b[1;33m:\u001b[0m\u001b[1;33m\u001b[0m\u001b[1;33m\u001b[0m\u001b[0m\n\u001b[0;32m    932\u001b[0m                 \u001b[1;32mif\u001b[0m \u001b[0mgetattr\u001b[0m\u001b[1;33m(\u001b[0m\u001b[0mself\u001b[0m\u001b[1;33m.\u001b[0m\u001b[0m_backend\u001b[0m\u001b[1;33m,\u001b[0m \u001b[1;34m'supports_timeout'\u001b[0m\u001b[1;33m,\u001b[0m \u001b[1;32mFalse\u001b[0m\u001b[1;33m)\u001b[0m\u001b[1;33m:\u001b[0m\u001b[1;33m\u001b[0m\u001b[1;33m\u001b[0m\u001b[0m\n\u001b[1;32m--> 933\u001b[1;33m                     \u001b[0mself\u001b[0m\u001b[1;33m.\u001b[0m\u001b[0m_output\u001b[0m\u001b[1;33m.\u001b[0m\u001b[0mextend\u001b[0m\u001b[1;33m(\u001b[0m\u001b[0mjob\u001b[0m\u001b[1;33m.\u001b[0m\u001b[0mget\u001b[0m\u001b[1;33m(\u001b[0m\u001b[0mtimeout\u001b[0m\u001b[1;33m=\u001b[0m\u001b[0mself\u001b[0m\u001b[1;33m.\u001b[0m\u001b[0mtimeout\u001b[0m\u001b[1;33m)\u001b[0m\u001b[1;33m)\u001b[0m\u001b[1;33m\u001b[0m\u001b[1;33m\u001b[0m\u001b[0m\n\u001b[0m\u001b[0;32m    934\u001b[0m                 \u001b[1;32melse\u001b[0m\u001b[1;33m:\u001b[0m\u001b[1;33m\u001b[0m\u001b[1;33m\u001b[0m\u001b[0m\n\u001b[0;32m    935\u001b[0m                     \u001b[0mself\u001b[0m\u001b[1;33m.\u001b[0m\u001b[0m_output\u001b[0m\u001b[1;33m.\u001b[0m\u001b[0mextend\u001b[0m\u001b[1;33m(\u001b[0m\u001b[0mjob\u001b[0m\u001b[1;33m.\u001b[0m\u001b[0mget\u001b[0m\u001b[1;33m(\u001b[0m\u001b[1;33m)\u001b[0m\u001b[1;33m)\u001b[0m\u001b[1;33m\u001b[0m\u001b[1;33m\u001b[0m\u001b[0m\n",
      "\u001b[1;32m~\\anaconda3\\envs\\xGenv\\lib\\site-packages\\joblib\\_parallel_backends.py\u001b[0m in \u001b[0;36mwrap_future_result\u001b[1;34m(future, timeout)\u001b[0m\n\u001b[0;32m    540\u001b[0m         AsyncResults.get from multiprocessing.\"\"\"\n\u001b[0;32m    541\u001b[0m         \u001b[1;32mtry\u001b[0m\u001b[1;33m:\u001b[0m\u001b[1;33m\u001b[0m\u001b[1;33m\u001b[0m\u001b[0m\n\u001b[1;32m--> 542\u001b[1;33m             \u001b[1;32mreturn\u001b[0m \u001b[0mfuture\u001b[0m\u001b[1;33m.\u001b[0m\u001b[0mresult\u001b[0m\u001b[1;33m(\u001b[0m\u001b[0mtimeout\u001b[0m\u001b[1;33m=\u001b[0m\u001b[0mtimeout\u001b[0m\u001b[1;33m)\u001b[0m\u001b[1;33m\u001b[0m\u001b[1;33m\u001b[0m\u001b[0m\n\u001b[0m\u001b[0;32m    543\u001b[0m         \u001b[1;32mexcept\u001b[0m \u001b[0mCfTimeoutError\u001b[0m \u001b[1;32mas\u001b[0m \u001b[0me\u001b[0m\u001b[1;33m:\u001b[0m\u001b[1;33m\u001b[0m\u001b[1;33m\u001b[0m\u001b[0m\n\u001b[0;32m    544\u001b[0m             \u001b[1;32mraise\u001b[0m \u001b[0mTimeoutError\u001b[0m \u001b[1;32mfrom\u001b[0m \u001b[0me\u001b[0m\u001b[1;33m\u001b[0m\u001b[1;33m\u001b[0m\u001b[0m\n",
      "\u001b[1;32m~\\anaconda3\\envs\\xGenv\\lib\\concurrent\\futures\\_base.py\u001b[0m in \u001b[0;36mresult\u001b[1;34m(self, timeout)\u001b[0m\n\u001b[0;32m    428\u001b[0m                 \u001b[1;32mreturn\u001b[0m \u001b[0mself\u001b[0m\u001b[1;33m.\u001b[0m\u001b[0m__get_result\u001b[0m\u001b[1;33m(\u001b[0m\u001b[1;33m)\u001b[0m\u001b[1;33m\u001b[0m\u001b[1;33m\u001b[0m\u001b[0m\n\u001b[0;32m    429\u001b[0m \u001b[1;33m\u001b[0m\u001b[0m\n\u001b[1;32m--> 430\u001b[1;33m             \u001b[0mself\u001b[0m\u001b[1;33m.\u001b[0m\u001b[0m_condition\u001b[0m\u001b[1;33m.\u001b[0m\u001b[0mwait\u001b[0m\u001b[1;33m(\u001b[0m\u001b[0mtimeout\u001b[0m\u001b[1;33m)\u001b[0m\u001b[1;33m\u001b[0m\u001b[1;33m\u001b[0m\u001b[0m\n\u001b[0m\u001b[0;32m    431\u001b[0m \u001b[1;33m\u001b[0m\u001b[0m\n\u001b[0;32m    432\u001b[0m             \u001b[1;32mif\u001b[0m \u001b[0mself\u001b[0m\u001b[1;33m.\u001b[0m\u001b[0m_state\u001b[0m \u001b[1;32min\u001b[0m \u001b[1;33m[\u001b[0m\u001b[0mCANCELLED\u001b[0m\u001b[1;33m,\u001b[0m \u001b[0mCANCELLED_AND_NOTIFIED\u001b[0m\u001b[1;33m]\u001b[0m\u001b[1;33m:\u001b[0m\u001b[1;33m\u001b[0m\u001b[1;33m\u001b[0m\u001b[0m\n",
      "\u001b[1;32m~\\anaconda3\\envs\\xGenv\\lib\\threading.py\u001b[0m in \u001b[0;36mwait\u001b[1;34m(self, timeout)\u001b[0m\n\u001b[0;32m    294\u001b[0m         \u001b[1;32mtry\u001b[0m\u001b[1;33m:\u001b[0m    \u001b[1;31m# restore state no matter what (e.g., KeyboardInterrupt)\u001b[0m\u001b[1;33m\u001b[0m\u001b[1;33m\u001b[0m\u001b[0m\n\u001b[0;32m    295\u001b[0m             \u001b[1;32mif\u001b[0m \u001b[0mtimeout\u001b[0m \u001b[1;32mis\u001b[0m \u001b[1;32mNone\u001b[0m\u001b[1;33m:\u001b[0m\u001b[1;33m\u001b[0m\u001b[1;33m\u001b[0m\u001b[0m\n\u001b[1;32m--> 296\u001b[1;33m                 \u001b[0mwaiter\u001b[0m\u001b[1;33m.\u001b[0m\u001b[0macquire\u001b[0m\u001b[1;33m(\u001b[0m\u001b[1;33m)\u001b[0m\u001b[1;33m\u001b[0m\u001b[1;33m\u001b[0m\u001b[0m\n\u001b[0m\u001b[0;32m    297\u001b[0m                 \u001b[0mgotit\u001b[0m \u001b[1;33m=\u001b[0m \u001b[1;32mTrue\u001b[0m\u001b[1;33m\u001b[0m\u001b[1;33m\u001b[0m\u001b[0m\n\u001b[0;32m    298\u001b[0m             \u001b[1;32melse\u001b[0m\u001b[1;33m:\u001b[0m\u001b[1;33m\u001b[0m\u001b[1;33m\u001b[0m\u001b[0m\n",
      "\u001b[1;31mKeyboardInterrupt\u001b[0m: "
     ]
    }
   ],
   "source": [
    "# Fit the nested 5-fold cross validation using Bayesian optimisation.\n",
    "xgb_cccv = CalibratedClassifierCV(XGBClassifier(random_state=42), method='isotonic', cv=3)\n",
    "xgb_param_grid = {'base_estimator__min_child_samples': Integer(0, 200),\n",
    "                   'base_estimator__num_leaves': Integer(2, 500),\n",
    "                   'base_estimator__reg_lambda': Real(0, 1),\n",
    "                   'base_estimator__reg_alpha': Real(0, 1),\n",
    "                   'base_estimator__max_depth': Integer(0, 500)}\n",
    "# Nested resampling using skopt. see: https://github.com/scikit-optimize/scikit-optimize/issues/725\n",
    "xgb_np = BayesSearchCV(estimator=xgb_cccv,\n",
    "                         n_iter=100,\n",
    "                         search_spaces=xgb_param_grid,\n",
    "                         cv=5,\n",
    "                         n_jobs=-1)\n",
    "xgb_np.fit(X_train, y_train)\n",
    "# Nested resampling using skopt. see: https://github.com/scikit-optimize/scikit-optimize/issues/725\n",
    "xgb_p = BayesSearchCV(estimator=xgb_cccv,\n",
    "                         n_iter=100,\n",
    "                         search_spaces=xgb_param_grid,\n",
    "                         cv=5,\n",
    "                         n_jobs=-1)\n",
    "xgb_p.fit(X_penalty_train, y_penalty_train)"
   ]
  },
  {
   "cell_type": "code",
   "execution_count": 11,
   "id": "eeb9152f",
   "metadata": {},
   "outputs": [
    {
     "data": {
      "text/plain": [
       "XGBClassifier(base_score=0.5, booster='gbtree', colsample_bylevel=1,\n",
       "              colsample_bynode=1, colsample_bytree=1, eval_metric='logloss',\n",
       "              gamma=0, gpu_id=-1, importance_type='gain',\n",
       "              interaction_constraints='', learning_rate=0.05, max_delta_step=0,\n",
       "              max_depth=7, min_child_weight=1, missing=nan,\n",
       "              monotone_constraints='()', n_estimators=100, n_jobs=-1,\n",
       "              num_parallel_tree=1, random_state=0, reg_alpha=0, reg_lambda=1,\n",
       "              scale_pos_weight=1, subsample=1, tree_method='exact',\n",
       "              validate_parameters=1, verbosity=None)"
      ]
     },
     "execution_count": 11,
     "metadata": {},
     "output_type": "execute_result"
    }
   ],
   "source": [
    "xgb_np = XGBClassifier(objective='binary:logistic', alpha=10, n_estimators=100, eval_metric='logloss', learning_rate=0.05,\n",
    "                       n_jobs=-1, max_depth=3)\n",
    "xgb_np.fit(X_train, y_train)\n",
    "xgb_p = XGBClassifier(objective='binary:logistic', max_depth=7, n_estimators=100, eval_metric='logloss',\n",
    "                    learning_rate=0.05, n_jobs=-1)\n",
    "xgb_p.fit(X_penalty_train, y_penalty_train)"
   ]
  },
  {
   "cell_type": "code",
   "execution_count": null,
   "id": "7d6cb30a",
   "metadata": {},
   "outputs": [],
   "source": [
    "# Permutation importance\n",
    "# note not using fake data for permutation importance\n",
    "perm_result = permutation_importance(xgb_np, X_train, y_train, n_repeats=10, random_state=42)\n",
    "df_perm_importance = pd.DataFrame({'Feature':X_train.columns,\n",
    "                                   'importance': perm_result.importances.mean(axis=1),\n",
    "                                   'std_dev': perm_result.importances.std(axis=1)})\n",
    "df_perm_importance.sort_values('importance', ascending=False, inplace=True)\n",
    "df_perm_importance.reset_index(drop=True, inplace=True)\n",
    "df_perm_importance"
   ]
  },
  {
   "cell_type": "code",
   "execution_count": null,
   "id": "24f26443",
   "metadata": {},
   "outputs": [],
   "source": [
    "fig, ax = plt.subplots(figsize=(16, 9))\n",
    "sorted_idx = perm_result.importances_mean.argsort()\n",
    "bar_plot = ax.boxplot(perm_result.importances[sorted_idx].T, vert=False, labels=X_train.columns[sorted_idx])"
   ]
  },
  {
   "cell_type": "code",
   "execution_count": 14,
   "id": "7ae065ae",
   "metadata": {},
   "outputs": [
    {
     "data": {
      "text/html": [
       "<div>\n",
       "<style scoped>\n",
       "    .dataframe tbody tr th:only-of-type {\n",
       "        vertical-align: middle;\n",
       "    }\n",
       "\n",
       "    .dataframe tbody tr th {\n",
       "        vertical-align: top;\n",
       "    }\n",
       "\n",
       "    .dataframe thead th {\n",
       "        text-align: right;\n",
       "    }\n",
       "</style>\n",
       "<table border=\"1\" class=\"dataframe\">\n",
       "  <thead>\n",
       "    <tr style=\"text-align: right;\">\n",
       "      <th></th>\n",
       "      <th>Feature</th>\n",
       "      <th>importance</th>\n",
       "      <th>std_dev</th>\n",
       "    </tr>\n",
       "  </thead>\n",
       "  <tbody>\n",
       "    <tr>\n",
       "      <th>0</th>\n",
       "      <td>shot_number</td>\n",
       "      <td>0.078354</td>\n",
       "      <td>0.010093</td>\n",
       "    </tr>\n",
       "    <tr>\n",
       "      <th>1</th>\n",
       "      <td>match_moment</td>\n",
       "      <td>0.050152</td>\n",
       "      <td>0.008278</td>\n",
       "    </tr>\n",
       "    <tr>\n",
       "      <th>2</th>\n",
       "      <td>shot_player_number</td>\n",
       "      <td>0.041006</td>\n",
       "      <td>0.006190</td>\n",
       "    </tr>\n",
       "    <tr>\n",
       "      <th>3</th>\n",
       "      <td>competition_part</td>\n",
       "      <td>0.040549</td>\n",
       "      <td>0.005951</td>\n",
       "    </tr>\n",
       "    <tr>\n",
       "      <th>4</th>\n",
       "      <td>H_A_column</td>\n",
       "      <td>0.021494</td>\n",
       "      <td>0.003572</td>\n",
       "    </tr>\n",
       "    <tr>\n",
       "      <th>5</th>\n",
       "      <td>players_rival</td>\n",
       "      <td>0.017988</td>\n",
       "      <td>0.003033</td>\n",
       "    </tr>\n",
       "    <tr>\n",
       "      <th>6</th>\n",
       "      <td>players</td>\n",
       "      <td>0.005640</td>\n",
       "      <td>0.003412</td>\n",
       "    </tr>\n",
       "    <tr>\n",
       "      <th>7</th>\n",
       "      <td>competition_type</td>\n",
       "      <td>0.003354</td>\n",
       "      <td>0.001494</td>\n",
       "    </tr>\n",
       "  </tbody>\n",
       "</table>\n",
       "</div>"
      ],
      "text/plain": [
       "              Feature  importance   std_dev\n",
       "0         shot_number    0.078354  0.010093\n",
       "1        match_moment    0.050152  0.008278\n",
       "2  shot_player_number    0.041006  0.006190\n",
       "3    competition_part    0.040549  0.005951\n",
       "4          H_A_column    0.021494  0.003572\n",
       "5       players_rival    0.017988  0.003033\n",
       "6             players    0.005640  0.003412\n",
       "7    competition_type    0.003354  0.001494"
      ]
     },
     "execution_count": 14,
     "metadata": {},
     "output_type": "execute_result"
    }
   ],
   "source": [
    "# Permutation importance\n",
    "# note not using fake data for permutation importance\n",
    "perm_result_p = permutation_importance(xgb_p, X_penalty_train, y_penalty_train, n_repeats=10, random_state=42)\n",
    "df_perm_importance_p = pd.DataFrame({'Feature':X_penalty_train.columns,\n",
    "                                   'importance': perm_result_p.importances.mean(axis=1),\n",
    "                                   'std_dev': perm_result_p.importances.std(axis=1)})\n",
    "df_perm_importance_p.sort_values('importance', ascending=False, inplace=True)\n",
    "df_perm_importance_p.reset_index(drop=True, inplace=True)\n",
    "df_perm_importance_p"
   ]
  },
  {
   "cell_type": "code",
   "execution_count": 15,
   "id": "423a34ea",
   "metadata": {},
   "outputs": [
    {
     "data": {
      "image/png": "[encoded data removed]",
      "text/plain": [
       "<Figure size 1152x648 with 1 Axes>"
      ]
     },
     "metadata": {
      "needs_background": "light"
     },
     "output_type": "display_data"
    }
   ],
   "source": [
    "fig, ax = plt.subplots(figsize=(16, 9))\n",
    "sorted_idx = perm_result_p.importances_mean.argsort()\n",
    "bar_plot = ax.boxplot(perm_result_p.importances[sorted_idx].T, vert=False, labels=X_penalty_train.columns[sorted_idx])"
   ]
  },
  {
   "cell_type": "code",
   "execution_count": null,
   "id": "dfb22184",
   "metadata": {},
   "outputs": [],
   "source": [
    "# Calculate calibration curve on test data\n",
    "y_pred_xgb_calibrated = xgb_np.predict_proba(X_test)\n",
    "fraction_of_positives_xgb, mean_predicted_value_xgb = calibration_curve(y_test, y_pred_xgb_calibrated[:, 1], n_bins=10)"
   ]
  },
  {
   "cell_type": "code",
   "execution_count": null,
   "id": "37210e66",
   "metadata": {},
   "outputs": [],
   "source": [
    "# Plot calibration curve on test data\n",
    "plt.style.use('dark_background')\n",
    "fig = plt.figure(constrained_layout=True, figsize=(10, 15))\n",
    "gs = fig.add_gridspec(ncols=1, nrows=2, height_ratios=(2/3, 1/3))\n",
    "ax1 = fig.add_subplot(gs[0])\n",
    "ax1.plot(mean_predicted_value_xgb, fraction_of_positives_xgb, \"-o\", color='#aabced', label='Calibrated Light GBM')\n",
    "ax1.plot([0, 1], [0, 1], \"--\", color='#e7aeca', label=\"Perfectly calibrated\")\n",
    "ax1.set_xlabel('Mean predicted value', fontsize=15)\n",
    "ax1.set_ylabel('Fraction of positives', fontsize=15)\n",
    "ax1.set_title('Calibration curve', fontsize=20, pad=10)\n",
    "ax1.legend(fontsize=15)\n",
    "ax1.tick_params(labelsize=15)\n",
    "ax2 = fig.add_subplot(gs[1])\n",
    "sns.distplot(y_pred_xgb_calibrated[:, 1], color='#aabced', label='Calibrated Light GBM', kde=False, ax=ax2)\n",
    "ax2.set_xlabel('Predicted value', fontsize=15)\n",
    "ax2.set_ylabel('Count', fontsize=15)\n",
    "ax2.tick_params(labelsize=15)\n",
    "ax2.legend(fontsize=15)\n",
    "ax2.set_title('Distribution of predictions', fontsize=20, pad=10);"
   ]
  },
  {
   "cell_type": "code",
   "execution_count": null,
   "id": "80c09fdf",
   "metadata": {},
   "outputs": [],
   "source": [
    "print(\"The log loss of the model with Random Search is: \" + str(log_loss(y_test, y_pred_xgb_calibrated)))\n",
    "print(\"The ROC AUC score of the model with Random Search is: \" +str(roc_auc_score(y_test, y_pred_xgb_calibrated[:,1])))\n",
    "print('Pseudo R-squared, logistic regression:', mcfadden_r2(y_test, y_pred_xgb_calibrated[:,1]))\n",
    "print('Brier score, logistic regression:',brier_score_loss(y_test, y_pred_xgb_calibrated[:,1], pos_label=y_test.max()))"
   ]
  },
  {
   "cell_type": "code",
   "execution_count": 30,
   "id": "050285bf",
   "metadata": {},
   "outputs": [
    {
     "name": "stdout",
     "output_type": "stream",
     "text": [
      "The log loss of the model with Random Search is: 0.28146274652807185\n",
      "The ROC AUC score of the model with Random Search is: 0.7899906686291702\n",
      "Pseudo R-squared, logistic regression: 0.16800622299073176\n",
      "Brier score, logistic regression: 0.08152145576257959\n"
     ]
    }
   ],
   "source": [
    "print(\"The log loss of the model with Random Search is: \" + str(log_loss(y_test, y_pred_xgb_calibrated)))\n",
    "print(\"The ROC AUC score of the model with Random Search is: \" +str(roc_auc_score(y_test, y_pred_xgb_calibrated[:,1])))\n",
    "print('Pseudo R-squared, logistic regression:', mcfadden_r2(y_test, y_pred_xgb_calibrated[:,1]))\n",
    "print('Brier score, logistic regression:',brier_score_loss(y_test, y_pred_xgb_calibrated[:,1], pos_label=y_test.max()))"
   ]
  },
  {
   "cell_type": "code",
   "execution_count": 29,
   "id": "5cdd13bf",
   "metadata": {},
   "outputs": [
    {
     "name": "stdout",
     "output_type": "stream",
     "text": [
      "The log loss of the model with Random Search is: 0.28390375497329234\n",
      "The ROC AUC score of the model with Random Search is: 0.7873022229791642\n",
      "Pseudo R-squared, logistic regression: 0.160790689634711\n",
      "Brier score, logistic regression: 0.08199303104887563\n"
     ]
    }
   ],
   "source": [
    "print(\"The log loss of the model with Random Search is: \" + str(log_loss(y_test, y_pred_xgb_calibrated)))\n",
    "print(\"The ROC AUC score of the model with Random Search is: \" +str(roc_auc_score(y_test, y_pred_xgb_calibrated[:,1])))\n",
    "print('Pseudo R-squared, logistic regression:', mcfadden_r2(y_test, y_pred_xgb_calibrated[:,1]))\n",
    "print('Brier score, logistic regression:',brier_score_loss(y_test, y_pred_xgb_calibrated[:,1], pos_label=y_test.max()))"
   ]
  },
  {
   "cell_type": "code",
   "execution_count": 1,
   "id": "4baef1ff",
   "metadata": {},
   "outputs": [
    {
     "ename": "NameError",
     "evalue": "name 'xgb_p' is not defined",
     "output_type": "error",
     "traceback": [
      "\u001b[1;31m---------------------------------------------------------------------------\u001b[0m",
      "\u001b[1;31mNameError\u001b[0m                                 Traceback (most recent call last)",
      "\u001b[1;32m<ipython-input-1-aa9c26caf6f1>\u001b[0m in \u001b[0;36m<module>\u001b[1;34m\u001b[0m\n\u001b[0;32m      1\u001b[0m \u001b[1;31m# Calculate calibration curve on test data\u001b[0m\u001b[1;33m\u001b[0m\u001b[1;33m\u001b[0m\u001b[1;33m\u001b[0m\u001b[0m\n\u001b[1;32m----> 2\u001b[1;33m \u001b[0my_pred_xgb_calibrated_p\u001b[0m \u001b[1;33m=\u001b[0m \u001b[0mxgb_p\u001b[0m\u001b[1;33m.\u001b[0m\u001b[0mpredict_proba\u001b[0m\u001b[1;33m(\u001b[0m\u001b[0mX_penalty_test\u001b[0m\u001b[1;33m)\u001b[0m\u001b[1;33m\u001b[0m\u001b[1;33m\u001b[0m\u001b[0m\n\u001b[0m\u001b[0;32m      3\u001b[0m fraction_of_positives_xgb_p, mean_predicted_value_xgb_p = calibration_curve(y_penalty_test, y_pred_xgb_calibrated_p[:, 1],\n\u001b[0;32m      4\u001b[0m                                                                             n_bins=10)\n",
      "\u001b[1;31mNameError\u001b[0m: name 'xgb_p' is not defined"
     ]
    }
   ],
   "source": [
    "# Calculate calibration curve on test data\n",
    "y_pred_xgb_calibrated_p = xgb_p.predict_proba(X_penalty_test)\n",
    "fraction_of_positives_xgb_p, mean_predicted_value_xgb_p = calibration_curve(y_penalty_test, y_pred_xgb_calibrated_p[:, 1],\n",
    "                                                                            n_bins=10)"
   ]
  },
  {
   "cell_type": "code",
   "execution_count": 33,
   "id": "da72c251",
   "metadata": {},
   "outputs": [
    {
     "data": {
      "image/png": "[encoded data removed]",
      "text/plain": [
       "<Figure size 720x1080 with 2 Axes>"
      ]
     },
     "metadata": {},
     "output_type": "display_data"
    }
   ],
   "source": [
    "# Plot calibration curve on test data\n",
    "plt.style.use('dark_background')\n",
    "fig = plt.figure(constrained_layout=True, figsize=(10, 15))\n",
    "gs = fig.add_gridspec(ncols=1, nrows=2, height_ratios=(2/3, 1/3))\n",
    "ax1 = fig.add_subplot(gs[0])\n",
    "ax1.plot(mean_predicted_value_xgb_p, fraction_of_positives_xgb_p, \"-o\", color='#aabced', label='Calibrated Light GBM')\n",
    "ax1.plot([0, 1], [0, 1], \"--\", color='#e7aeca', label=\"Perfectly calibrated\")\n",
    "ax1.set_xlabel('Mean predicted value', fontsize=15)\n",
    "ax1.set_ylabel('Fraction of positives', fontsize=15)\n",
    "ax1.set_title('Calibration curve', fontsize=20, pad=10)\n",
    "ax1.legend(fontsize=15)\n",
    "ax1.tick_params(labelsize=15)\n",
    "ax2 = fig.add_subplot(gs[1])\n",
    "sns.distplot(y_pred_xgb_calibrated_p[:, 1], color='#aabced', label='Calibrated Light GBM', kde=False, ax=ax2)\n",
    "ax2.set_xlabel('Predicted value', fontsize=15)\n",
    "ax2.set_ylabel('Count', fontsize=15)\n",
    "ax2.tick_params(labelsize=15)\n",
    "ax2.legend(fontsize=15)\n",
    "ax2.set_title('Distribution of predictions', fontsize=20, pad=10);"
   ]
  },
  {
   "cell_type": "code",
   "execution_count": 34,
   "id": "3679eff5",
   "metadata": {},
   "outputs": [
    {
     "name": "stdout",
     "output_type": "stream",
     "text": [
      "The log loss of the model with Random Search is: 0.6706552405926314\n",
      "The ROC AUC score of the model with Random Search is: 0.4412886008387343\n",
      "Pseudo R-squared, logistic regression: -0.1690205108999443\n",
      "Brier score, logistic regression: 0.2319049985412154\n"
     ]
    }
   ],
   "source": [
    "print(\"The log loss of the model with Random Search is: \" + str(log_loss(y_penalty_test, y_pred_xgb_calibrated_p)))\n",
    "print(\"The ROC AUC score of the model with Random Search is: \" +str(roc_auc_score(y_penalty_test, \n",
    "                                                                                  y_pred_xgb_calibrated_p[:,1])))\n",
    "print('Pseudo R-squared, logistic regression:', mcfadden_r2(y_penalty_test, y_pred_xgb_calibrated_p[:,1]))\n",
    "print('Brier score, logistic regression:',brier_score_loss(y_penalty_test, y_pred_xgb_calibrated_p[:,1], \n",
    "                                                           pos_label=y_penalty_test.max()))"
   ]
  },
  {
   "cell_type": "code",
   "execution_count": null,
   "id": "acd0b663",
   "metadata": {},
   "outputs": [],
   "source": []
  }
 ],
 "metadata": {
  "kernelspec": {
   "display_name": "xGenv",
   "language": "python",
   "name": "xgenv"
  },
  "language_info": {
   "codemirror_mode": {
    "name": "ipython",
    "version": 3
   },
   "file_extension": ".py",
   "mimetype": "text/x-python",
   "name": "python",
   "nbconvert_exporter": "python",
   "pygments_lexer": "ipython3",
   "version": "3.7.9"
  }
 },
 "nbformat": 4,
 "nbformat_minor": 5
}
