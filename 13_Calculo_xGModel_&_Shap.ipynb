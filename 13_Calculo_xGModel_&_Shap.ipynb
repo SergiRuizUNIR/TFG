{
 "cells": [
  {
   "cell_type": "code",
   "execution_count": 1,
   "metadata": {},
   "outputs": [],
   "source": [
    "import os\n",
    "import pandas as pd\n",
    "import numpy as np\n",
    "import matplotlib.pyplot as plt\n",
    "import seaborn as sns\n",
    "from joblib import load\n",
    "from sklearn.inspection import permutation_importance\n",
    "import shap"
   ]
  },
  {
   "cell_type": "markdown",
   "metadata": {},
   "source": [
    "Load data and model"
   ]
  },
  {
   "cell_type": "code",
   "execution_count": 2,
   "metadata": {},
   "outputs": [],
   "source": [
    "cwd = os.getcwd()\n",
    "df_lgbm = pd.read_parquet(os.path.join(cwd, 'data', 'modelling', 'lgbm.parquet'))\n",
    "df_xgb = pd.read_parquet(os.path.join(cwd, 'data', 'modelling', 'xgb.parquet'))\n",
    "df_lgbm.sort_index(inplace=True)\n",
    "df_xgb.sort_index(inplace=True)\n",
    "df_X = df_xgb.drop(['goal', 'split', 'match_id', 'wyscout_id', 'statsbomb_id'], axis=1).copy()\n",
    "df_X2 = df_lgbm.drop(['goal', 'split', 'match_id', 'wyscout_id', 'statsbomb_id'], axis=1).copy()\n",
    "model = load(os.path.join(cwd, 'models', 'xgb_model.joblib'))\n",
    "model2 = load(os.path.join(cwd, 'models', 'lgbm_model.joblib'))"
   ]
  },
  {
   "cell_type": "markdown",
   "metadata": {},
   "source": [
    "Get feature names"
   ]
  },
  {
   "cell_type": "code",
   "execution_count": 3,
   "metadata": {},
   "outputs": [],
   "source": [
    "features = df_X.columns\n",
    "features = np.array([f.replace('_', ' ') for f in features])\n",
    "features2 = df_X2.columns\n",
    "features2 = np.array([f.replace('_', ' ') for f in features2])"
   ]
  },
  {
   "cell_type": "markdown",
   "metadata": {},
   "source": [
    "xg predictions. First have to fit to training data"
   ]
  },
  {
   "cell_type": "code",
   "execution_count": 4,
   "metadata": {},
   "outputs": [],
   "source": [
    "df_xgb['xg'] = model.predict_proba(df_X)[:, 1]\n",
    "df_lgbm['xg'] = model2.predict_proba(df_X2)[:, 1]"
   ]
  },
  {
   "cell_type": "markdown",
   "metadata": {},
   "source": [
    "Get a datafrane if the uncalibrated/ calibrated probabilities for each of the three models"
   ]
  },
  {
   "cell_type": "code",
   "execution_count": 5,
   "metadata": {},
   "outputs": [
    {
     "data": {
      "text/html": [
       "<div>\n",
       "<style scoped>\n",
       "    .dataframe tbody tr th:only-of-type {\n",
       "        vertical-align: middle;\n",
       "    }\n",
       "\n",
       "    .dataframe tbody tr th {\n",
       "        vertical-align: top;\n",
       "    }\n",
       "\n",
       "    .dataframe thead th {\n",
       "        text-align: right;\n",
       "    }\n",
       "</style>\n",
       "<table border=\"1\" class=\"dataframe\">\n",
       "  <thead>\n",
       "    <tr style=\"text-align: right;\">\n",
       "      <th></th>\n",
       "      <th>uncalibrated0</th>\n",
       "      <th>calibrated0</th>\n",
       "      <th>uncalibrated1</th>\n",
       "      <th>calibrated1</th>\n",
       "      <th>uncalibrated2</th>\n",
       "      <th>calibrated2</th>\n",
       "      <th>calibrated</th>\n",
       "    </tr>\n",
       "  </thead>\n",
       "  <tbody>\n",
       "    <tr>\n",
       "      <th>0</th>\n",
       "      <td>0.078092</td>\n",
       "      <td>0.064042</td>\n",
       "      <td>0.090573</td>\n",
       "      <td>0.089778</td>\n",
       "      <td>0.081945</td>\n",
       "      <td>0.067524</td>\n",
       "      <td>0.073781</td>\n",
       "    </tr>\n",
       "    <tr>\n",
       "      <th>1</th>\n",
       "      <td>0.018980</td>\n",
       "      <td>0.017857</td>\n",
       "      <td>0.020845</td>\n",
       "      <td>0.019888</td>\n",
       "      <td>0.016889</td>\n",
       "      <td>0.019859</td>\n",
       "      <td>0.019201</td>\n",
       "    </tr>\n",
       "    <tr>\n",
       "      <th>2</th>\n",
       "      <td>0.012755</td>\n",
       "      <td>0.010111</td>\n",
       "      <td>0.014877</td>\n",
       "      <td>0.009804</td>\n",
       "      <td>0.018838</td>\n",
       "      <td>0.019859</td>\n",
       "      <td>0.013258</td>\n",
       "    </tr>\n",
       "    <tr>\n",
       "      <th>3</th>\n",
       "      <td>0.026072</td>\n",
       "      <td>0.017857</td>\n",
       "      <td>0.025590</td>\n",
       "      <td>0.025520</td>\n",
       "      <td>0.029832</td>\n",
       "      <td>0.027132</td>\n",
       "      <td>0.023503</td>\n",
       "    </tr>\n",
       "    <tr>\n",
       "      <th>4</th>\n",
       "      <td>0.034835</td>\n",
       "      <td>0.034520</td>\n",
       "      <td>0.023430</td>\n",
       "      <td>0.019888</td>\n",
       "      <td>0.033849</td>\n",
       "      <td>0.039002</td>\n",
       "      <td>0.031136</td>\n",
       "    </tr>\n",
       "    <tr>\n",
       "      <th>...</th>\n",
       "      <td>...</td>\n",
       "      <td>...</td>\n",
       "      <td>...</td>\n",
       "      <td>...</td>\n",
       "      <td>...</td>\n",
       "      <td>...</td>\n",
       "      <td>...</td>\n",
       "    </tr>\n",
       "    <tr>\n",
       "      <th>64501</th>\n",
       "      <td>0.759968</td>\n",
       "      <td>0.642045</td>\n",
       "      <td>0.744963</td>\n",
       "      <td>0.756757</td>\n",
       "      <td>0.776912</td>\n",
       "      <td>0.849133</td>\n",
       "      <td>0.749312</td>\n",
       "    </tr>\n",
       "    <tr>\n",
       "      <th>64502</th>\n",
       "      <td>0.033744</td>\n",
       "      <td>0.034520</td>\n",
       "      <td>0.033702</td>\n",
       "      <td>0.033066</td>\n",
       "      <td>0.042425</td>\n",
       "      <td>0.043172</td>\n",
       "      <td>0.036919</td>\n",
       "    </tr>\n",
       "    <tr>\n",
       "      <th>64503</th>\n",
       "      <td>0.087328</td>\n",
       "      <td>0.085890</td>\n",
       "      <td>0.097997</td>\n",
       "      <td>0.099042</td>\n",
       "      <td>0.104139</td>\n",
       "      <td>0.108875</td>\n",
       "      <td>0.097935</td>\n",
       "    </tr>\n",
       "    <tr>\n",
       "      <th>64504</th>\n",
       "      <td>0.071534</td>\n",
       "      <td>0.064042</td>\n",
       "      <td>0.097015</td>\n",
       "      <td>0.099042</td>\n",
       "      <td>0.103367</td>\n",
       "      <td>0.108875</td>\n",
       "      <td>0.090653</td>\n",
       "    </tr>\n",
       "    <tr>\n",
       "      <th>64505</th>\n",
       "      <td>0.079404</td>\n",
       "      <td>0.064042</td>\n",
       "      <td>0.102393</td>\n",
       "      <td>0.103598</td>\n",
       "      <td>0.097239</td>\n",
       "      <td>0.108875</td>\n",
       "      <td>0.092172</td>\n",
       "    </tr>\n",
       "  </tbody>\n",
       "</table>\n",
       "<p>64506 rows × 7 columns</p>\n",
       "</div>"
      ],
      "text/plain": [
       "       uncalibrated0  calibrated0  uncalibrated1  calibrated1  uncalibrated2  \\\n",
       "0           0.078092     0.064042       0.090573     0.089778       0.081945   \n",
       "1           0.018980     0.017857       0.020845     0.019888       0.016889   \n",
       "2           0.012755     0.010111       0.014877     0.009804       0.018838   \n",
       "3           0.026072     0.017857       0.025590     0.025520       0.029832   \n",
       "4           0.034835     0.034520       0.023430     0.019888       0.033849   \n",
       "...              ...          ...            ...          ...            ...   \n",
       "64501       0.759968     0.642045       0.744963     0.756757       0.776912   \n",
       "64502       0.033744     0.034520       0.033702     0.033066       0.042425   \n",
       "64503       0.087328     0.085890       0.097997     0.099042       0.104139   \n",
       "64504       0.071534     0.064042       0.097015     0.099042       0.103367   \n",
       "64505       0.079404     0.064042       0.102393     0.103598       0.097239   \n",
       "\n",
       "       calibrated2  calibrated  \n",
       "0         0.067524    0.073781  \n",
       "1         0.019859    0.019201  \n",
       "2         0.019859    0.013258  \n",
       "3         0.027132    0.023503  \n",
       "4         0.039002    0.031136  \n",
       "...            ...         ...  \n",
       "64501     0.849133    0.749312  \n",
       "64502     0.043172    0.036919  \n",
       "64503     0.108875    0.097935  \n",
       "64504     0.108875    0.090653  \n",
       "64505     0.108875    0.092172  \n",
       "\n",
       "[64506 rows x 7 columns]"
      ]
     },
     "execution_count": 5,
     "metadata": {},
     "output_type": "execute_result"
    }
   ],
   "source": [
    "models = model.calibrated_classifiers_\n",
    "estimators = [model.base_estimator for model in models]\n",
    "probabilities = []\n",
    "for i in range(3):\n",
    "    probabilities.append(estimators[i].predict_proba(df_X)[:, 1])\n",
    "    probabilities.append(models[i].predict_proba(df_X)[:, 1])\n",
    "df_probabilities = pd.DataFrame(np.vstack(probabilities).T, columns=['uncalibrated0', 'calibrated0',\n",
    "                                                                     'uncalibrated1', 'calibrated1',\n",
    "                                                                     'uncalibrated2', 'calibrated2'])\n",
    "df_probabilities['calibrated'] = model.predict_proba(df_X)[:, 1]\n",
    "df_probabilities"
   ]
  },
  {
   "cell_type": "markdown",
   "metadata": {},
   "source": [
    "Shap values from shap package."
   ]
  },
  {
   "cell_type": "code",
   "execution_count": 6,
   "metadata": {},
   "outputs": [
    {
     "name": "stderr",
     "output_type": "stream",
     "text": [
      "100%|===================| 64287/64506 [02:02<00:00]        "
     ]
    }
   ],
   "source": [
    "sample = data=df_X.sample(500).astype(np.float32)\n",
    "contributions = []\n",
    "for estimator in estimators:\n",
    "    explainer = shap.TreeExplainer(estimator, data=sample, model_output='probability')\n",
    "    shap_values_probability = explainer.shap_values(df_X)\n",
    "    bias = explainer.expected_value\n",
    "    df_contributions_probability = pd.DataFrame(shap_values_probability, columns=features)\n",
    "    df_contributions_probability['bias'] = bias\n",
    "    contributions.append(df_contributions_probability)"
   ]
  },
  {
   "cell_type": "markdown",
   "metadata": {},
   "source": [
    "Scale the uncalibrated contributions to sum to the calibrated predicted probability"
   ]
  },
  {
   "cell_type": "code",
   "execution_count": 7,
   "metadata": {},
   "outputs": [],
   "source": [
    "scaled_contributions = []\n",
    "for i in range(3):\n",
    "    scaled = (contributions[i]\n",
    "              .divide(df_probabilities[f'uncalibrated{i}'], axis=0)\n",
    "              .multiply(df_probabilities[f'calibrated{i}'], axis=0))\n",
    "    scaled_contributions.append(scaled)   \n",
    "df_scaled_contributions = (scaled_contributions[0] + scaled_contributions[1] + scaled_contributions[2])/3."
   ]
  },
  {
   "cell_type": "markdown",
   "metadata": {},
   "source": [
    "Remove a few where the scaled contributions don't match the actual xg"
   ]
  },
  {
   "cell_type": "code",
   "execution_count": 8,
   "metadata": {},
   "outputs": [],
   "source": [
    "df_base = df_xgb[['match_id', 'wyscout_id', 'statsbomb_id', 'xg']]"
   ]
  },
  {
   "cell_type": "code",
   "execution_count": 9,
   "metadata": {},
   "outputs": [],
   "source": [
    "df_scaled_contributions.reset_index(drop=True, inplace=True)\n",
    "df_base.reset_index(drop=True, inplace=True)"
   ]
  },
  {
   "cell_type": "code",
   "execution_count": 10,
   "metadata": {},
   "outputs": [],
   "source": [
    "mask_contributions_not_equal = ((df_scaled_contributions.sum(axis=1) - df_base.xg).abs() > 0.01)\n",
    "df_scaled_contributions[mask_contributions_not_equal] = np.nan"
   ]
  },
  {
   "cell_type": "markdown",
   "metadata": {},
   "source": [
    "Return a dataframe with the contirubtions, match and event ids, and the contributions and xg"
   ]
  },
  {
   "cell_type": "code",
   "execution_count": 11,
   "metadata": {},
   "outputs": [],
   "source": [
    "df_base = df_base.merge(df_scaled_contributions,\n",
    "                        left_index=True,\n",
    "                        right_index=True,\n",
    "                        how='left',\n",
    "                        validate='1:1')"
   ]
  },
  {
   "cell_type": "markdown",
   "metadata": {},
   "source": [
    "Save the dataframe"
   ]
  },
  {
   "cell_type": "code",
   "execution_count": 12,
   "metadata": {},
   "outputs": [],
   "source": [
    "df_base.to_parquet(os.path.join(cwd, 'data', 'modelling', 'xg_shap_xgb.parquet'))"
   ]
  },
  {
   "cell_type": "markdown",
   "metadata": {},
   "source": [
    "Same process for LightGBM model."
   ]
  },
  {
   "cell_type": "code",
   "execution_count": 20,
   "metadata": {},
   "outputs": [
    {
     "data": {
      "text/html": [
       "<div>\n",
       "<style scoped>\n",
       "    .dataframe tbody tr th:only-of-type {\n",
       "        vertical-align: middle;\n",
       "    }\n",
       "\n",
       "    .dataframe tbody tr th {\n",
       "        vertical-align: top;\n",
       "    }\n",
       "\n",
       "    .dataframe thead th {\n",
       "        text-align: right;\n",
       "    }\n",
       "</style>\n",
       "<table border=\"1\" class=\"dataframe\">\n",
       "  <thead>\n",
       "    <tr style=\"text-align: right;\">\n",
       "      <th></th>\n",
       "      <th>uncalibrated0</th>\n",
       "      <th>calibrated0</th>\n",
       "      <th>uncalibrated1</th>\n",
       "      <th>calibrated1</th>\n",
       "      <th>uncalibrated2</th>\n",
       "      <th>calibrated2</th>\n",
       "      <th>calibrated</th>\n",
       "    </tr>\n",
       "  </thead>\n",
       "  <tbody>\n",
       "    <tr>\n",
       "      <th>0</th>\n",
       "      <td>0.061041</td>\n",
       "      <td>0.062291</td>\n",
       "      <td>0.055159</td>\n",
       "      <td>0.059028</td>\n",
       "      <td>0.114096</td>\n",
       "      <td>0.118527</td>\n",
       "      <td>0.079949</td>\n",
       "    </tr>\n",
       "    <tr>\n",
       "      <th>1</th>\n",
       "      <td>0.016283</td>\n",
       "      <td>0.024404</td>\n",
       "      <td>0.010298</td>\n",
       "      <td>0.013026</td>\n",
       "      <td>0.012663</td>\n",
       "      <td>0.023504</td>\n",
       "      <td>0.020311</td>\n",
       "    </tr>\n",
       "    <tr>\n",
       "      <th>2</th>\n",
       "      <td>0.011210</td>\n",
       "      <td>0.017677</td>\n",
       "      <td>0.006496</td>\n",
       "      <td>0.009479</td>\n",
       "      <td>0.015099</td>\n",
       "      <td>0.026270</td>\n",
       "      <td>0.017808</td>\n",
       "    </tr>\n",
       "    <tr>\n",
       "      <th>3</th>\n",
       "      <td>0.011663</td>\n",
       "      <td>0.017677</td>\n",
       "      <td>0.024173</td>\n",
       "      <td>0.026757</td>\n",
       "      <td>0.021094</td>\n",
       "      <td>0.026270</td>\n",
       "      <td>0.023568</td>\n",
       "    </tr>\n",
       "    <tr>\n",
       "      <th>4</th>\n",
       "      <td>0.053396</td>\n",
       "      <td>0.055970</td>\n",
       "      <td>0.017824</td>\n",
       "      <td>0.026757</td>\n",
       "      <td>0.039141</td>\n",
       "      <td>0.040943</td>\n",
       "      <td>0.041223</td>\n",
       "    </tr>\n",
       "    <tr>\n",
       "      <th>...</th>\n",
       "      <td>...</td>\n",
       "      <td>...</td>\n",
       "      <td>...</td>\n",
       "      <td>...</td>\n",
       "      <td>...</td>\n",
       "      <td>...</td>\n",
       "      <td>...</td>\n",
       "    </tr>\n",
       "    <tr>\n",
       "      <th>64501</th>\n",
       "      <td>0.834611</td>\n",
       "      <td>0.800000</td>\n",
       "      <td>0.816485</td>\n",
       "      <td>0.870968</td>\n",
       "      <td>0.760390</td>\n",
       "      <td>0.701031</td>\n",
       "      <td>0.790666</td>\n",
       "    </tr>\n",
       "    <tr>\n",
       "      <th>64502</th>\n",
       "      <td>0.050373</td>\n",
       "      <td>0.045588</td>\n",
       "      <td>0.044116</td>\n",
       "      <td>0.056402</td>\n",
       "      <td>0.034312</td>\n",
       "      <td>0.038008</td>\n",
       "      <td>0.046666</td>\n",
       "    </tr>\n",
       "    <tr>\n",
       "      <th>64503</th>\n",
       "      <td>0.088149</td>\n",
       "      <td>0.091104</td>\n",
       "      <td>0.127988</td>\n",
       "      <td>0.109864</td>\n",
       "      <td>0.109708</td>\n",
       "      <td>0.108844</td>\n",
       "      <td>0.103270</td>\n",
       "    </tr>\n",
       "    <tr>\n",
       "      <th>64504</th>\n",
       "      <td>0.055045</td>\n",
       "      <td>0.056738</td>\n",
       "      <td>0.111904</td>\n",
       "      <td>0.109864</td>\n",
       "      <td>0.090036</td>\n",
       "      <td>0.107722</td>\n",
       "      <td>0.091441</td>\n",
       "    </tr>\n",
       "    <tr>\n",
       "      <th>64505</th>\n",
       "      <td>0.088985</td>\n",
       "      <td>0.091104</td>\n",
       "      <td>0.109564</td>\n",
       "      <td>0.109864</td>\n",
       "      <td>0.068092</td>\n",
       "      <td>0.072874</td>\n",
       "      <td>0.091281</td>\n",
       "    </tr>\n",
       "  </tbody>\n",
       "</table>\n",
       "<p>64506 rows × 7 columns</p>\n",
       "</div>"
      ],
      "text/plain": [
       "       uncalibrated0  calibrated0  uncalibrated1  calibrated1  uncalibrated2  \\\n",
       "0           0.061041     0.062291       0.055159     0.059028       0.114096   \n",
       "1           0.016283     0.024404       0.010298     0.013026       0.012663   \n",
       "2           0.011210     0.017677       0.006496     0.009479       0.015099   \n",
       "3           0.011663     0.017677       0.024173     0.026757       0.021094   \n",
       "4           0.053396     0.055970       0.017824     0.026757       0.039141   \n",
       "...              ...          ...            ...          ...            ...   \n",
       "64501       0.834611     0.800000       0.816485     0.870968       0.760390   \n",
       "64502       0.050373     0.045588       0.044116     0.056402       0.034312   \n",
       "64503       0.088149     0.091104       0.127988     0.109864       0.109708   \n",
       "64504       0.055045     0.056738       0.111904     0.109864       0.090036   \n",
       "64505       0.088985     0.091104       0.109564     0.109864       0.068092   \n",
       "\n",
       "       calibrated2  calibrated  \n",
       "0         0.118527    0.079949  \n",
       "1         0.023504    0.020311  \n",
       "2         0.026270    0.017808  \n",
       "3         0.026270    0.023568  \n",
       "4         0.040943    0.041223  \n",
       "...            ...         ...  \n",
       "64501     0.701031    0.790666  \n",
       "64502     0.038008    0.046666  \n",
       "64503     0.108844    0.103270  \n",
       "64504     0.107722    0.091441  \n",
       "64505     0.072874    0.091281  \n",
       "\n",
       "[64506 rows x 7 columns]"
      ]
     },
     "execution_count": 20,
     "metadata": {},
     "output_type": "execute_result"
    }
   ],
   "source": [
    "models2 = model2.calibrated_classifiers_\n",
    "estimators2 = [model2.base_estimator for model2 in models2]\n",
    "probabilities2 = []\n",
    "for i in range(3):\n",
    "    probabilities2.append(estimators2[i].predict_proba(df_X2)[:, 1])\n",
    "    probabilities2.append(models2[i].predict_proba(df_X2)[:, 1])\n",
    "df_probabilities2 = pd.DataFrame(np.vstack(probabilities2).T, columns=['uncalibrated0', 'calibrated0',\n",
    "                                                                     'uncalibrated1', 'calibrated1',\n",
    "                                                                     'uncalibrated2', 'calibrated2'])\n",
    "df_probabilities2['calibrated'] = model2.predict_proba(df_X)[:, 1]\n",
    "df_probabilities2"
   ]
  },
  {
   "cell_type": "code",
   "execution_count": 21,
   "metadata": {},
   "outputs": [
    {
     "name": "stderr",
     "output_type": "stream",
     "text": [
      "100%|===================| 64469/64506 [16:23<00:00]        "
     ]
    }
   ],
   "source": [
    "sample2 = data2=df_X2.sample(500).astype(np.float32)\n",
    "contributions2 = []\n",
    "for estimator2 in estimators2:\n",
    "    explainer2 = shap.TreeExplainer(estimator2, data=sample2, model_output='probability')\n",
    "    shap_values_probability2 = explainer2.shap_values(df_X2)\n",
    "    bias2 = explainer2.expected_value\n",
    "    df_contributions_probability2 = pd.DataFrame(shap_values_probability2, columns=features2)\n",
    "    df_contributions_probability2['bias'] = bias2\n",
    "    contributions2.append(df_contributions_probability2)"
   ]
  },
  {
   "cell_type": "code",
   "execution_count": 22,
   "metadata": {},
   "outputs": [],
   "source": [
    "scaled_contributions2 = []\n",
    "for i in range(3):\n",
    "    scaled2 = (contributions2[i]\n",
    "              .divide(df_probabilities2[f'uncalibrated{i}'], axis=0)\n",
    "              .multiply(df_probabilities2[f'calibrated{i}'], axis=0))\n",
    "    scaled_contributions2.append(scaled2)   \n",
    "df_scaled_contributions2 = (scaled_contributions2[0] + scaled_contributions2[1] + scaled_contributions2[2])/3."
   ]
  },
  {
   "cell_type": "code",
   "execution_count": 23,
   "metadata": {},
   "outputs": [],
   "source": [
    "df_base2 = df_lgbm[['match_id', 'wyscout_id', 'statsbomb_id', 'xg']]"
   ]
  },
  {
   "cell_type": "code",
   "execution_count": 24,
   "metadata": {},
   "outputs": [],
   "source": [
    "df_scaled_contributions2.reset_index(drop=True, inplace=True)\n",
    "df_base2.reset_index(drop=True, inplace=True)"
   ]
  },
  {
   "cell_type": "code",
   "execution_count": 25,
   "metadata": {},
   "outputs": [],
   "source": [
    "mask_contributions_not_equal2 = ((df_scaled_contributions2.sum(axis=1) - df_base2.xg).abs() > 0.01)\n",
    "df_scaled_contributions[mask_contributions_not_equal2] = np.nan"
   ]
  },
  {
   "cell_type": "code",
   "execution_count": 26,
   "metadata": {},
   "outputs": [],
   "source": [
    "df_base2 = df_base.merge(df_scaled_contributions2,\n",
    "                        left_index=True,\n",
    "                        right_index=True,\n",
    "                        how='left',\n",
    "                        validate='1:1')"
   ]
  },
  {
   "cell_type": "code",
   "execution_count": 27,
   "metadata": {},
   "outputs": [],
   "source": [
    "df_base2.to_parquet(os.path.join(cwd, 'data', 'modelling', 'xg_shap_lgbm.parquet'))"
   ]
  },
  {
   "cell_type": "markdown",
   "metadata": {},
   "source": [
    "Use Shap to plot a contribution"
   ]
  },
  {
   "cell_type": "code",
   "execution_count": 45,
   "metadata": {},
   "outputs": [
    {
     "data": {
      "image/png": "[encoded data removed]",
      "text/plain": [
       "<Figure size 1440x216 with 1 Axes>"
      ]
     },
     "metadata": {
      "needs_background": "light"
     },
     "output_type": "display_data"
    },
    {
     "data": {
      "text/plain": [
       "<Figure size 432x288 with 0 Axes>"
      ]
     },
     "metadata": {},
     "output_type": "display_data"
    }
   ],
   "source": [
    "idx=-5\n",
    "shap.force_plot(df_scaled_contributions.iloc[idx, -1], \n",
    "                df_scaled_contributions.iloc[idx, :-1].values,\n",
    "                features=df_X.iloc[idx].values,\n",
    "                feature_names=features, matplotlib=True, show=True)\n",
    "fig = plt.gcf()\n",
    "fig.savefig(os.path.join(cwd, 'figures', '08_shap_example.png'), bbox_inches = 'tight', pad_inches = 0.2)"
   ]
  },
  {
   "cell_type": "code",
   "execution_count": 46,
   "metadata": {},
   "outputs": [
    {
     "data": {
      "image/png": "[encoded data removed]",
      "text/plain": [
       "<Figure size 1440x216 with 1 Axes>"
      ]
     },
     "metadata": {
      "needs_background": "light"
     },
     "output_type": "display_data"
    },
    {
     "data": {
      "text/plain": [
       "<Figure size 432x288 with 0 Axes>"
      ]
     },
     "metadata": {},
     "output_type": "display_data"
    }
   ],
   "source": [
    "idx=-5\n",
    "shap.force_plot(df_scaled_contributions2.iloc[idx, -1], \n",
    "                df_scaled_contributions2.iloc[idx, :-1].values,\n",
    "                features=df_X2.iloc[idx].values,\n",
    "                feature_names=features, matplotlib=True, show=True)\n",
    "fig = plt.gcf()"
   ]
  }
 ],
 "metadata": {
  "kernelspec": {
   "display_name": "xGenv",
   "language": "python",
   "name": "xgenv"
  },
  "language_info": {
   "codemirror_mode": {
    "name": "ipython",
    "version": 3
   },
   "file_extension": ".py",
   "mimetype": "text/x-python",
   "name": "python",
   "nbconvert_exporter": "python",
   "pygments_lexer": "ipython3",
   "version": "3.7.9"
  }
 },
 "nbformat": 4,
 "nbformat_minor": 4
}
