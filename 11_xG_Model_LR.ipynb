{
 "cells": [
  {
   "cell_type": "code",
   "execution_count": 1,
   "metadata": {},
   "outputs": [],
   "source": [
    "import os\n",
    "import pandas as pd\n",
    "import numpy as np\n",
    "from sklearn.model_selection import train_test_split\n",
    "from sklearn.model_selection import GridSearchCV, cross_validate\n",
    "from sklearn.preprocessing import OneHotEncoder, LabelEncoder\n",
    "from sklearn.preprocessing import StandardScaler\n",
    "from sklearn.compose import ColumnTransformer\n",
    "from sklearn.pipeline import Pipeline\n",
    "from sklearn.impute import SimpleImputer\n",
    "from sklearn.linear_model import LogisticRegression\n",
    "from sklearn.metrics import roc_auc_score, log_loss, make_scorer, brier_score_loss\n",
    "from sklearn.calibration import calibration_curve\n",
    "from joblib import dump, load\n",
    "import matplotlib.pyplot as plt\n",
    "import seaborn as sns\n",
    "# from numpy.ma import MaskedArray\n",
    "# from numpy import mean\n",
    "# from numpy import std\n",
    "# from xgboost import XGBClassifier\n",
    "# from sklearn.model_selection import cross_val_score\n",
    "# from sklearn.model_selection import RepeatedStratifiedKFold\n",
    "# from sklearn.preprocessing import FunctionTransformer\n",
    "# from sklearn.metrics import average_precision_score\n",
    "# # from sklearn.metrics import accuracy_score\n",
    "# from sklearn.calibration import CalibratedClassifierCV\n",
    "# from sklearn.inspection import permutation_importance\n",
    "# import sklearn.utils.fixes\n",
    "# sklearn.utils.fixes.MaskedArray = MaskedArray\n",
    "# from lightgbm import LGBMClassifier\n",
    "# from scipy.stats import spearmanr\n",
    "# from scipy.cluster import hierarchy\n",
    "# from scipy.spatial import distance\n",
    "# monkey patch for bayesseachcv (https://github.com/scikit-optimize/scikit-optimize/issues/902)\n",
    "# from skopt import BayesSearchCV\n",
    "# from skopt.space import Real, Integer\n",
    "import warnings\n",
    "warnings.filterwarnings('ignore')"
   ]
  },
  {
   "cell_type": "code",
   "execution_count": 2,
   "metadata": {},
   "outputs": [],
   "source": [
    "# Random state\n",
    "seed = 42"
   ]
  },
  {
   "cell_type": "code",
   "execution_count": 3,
   "metadata": {},
   "outputs": [],
   "source": [
    "# Setup metrics (see: http://business-analytic.co.uk/blog/evaluating-expected-goals-models/)\n",
    "# define Mcfadden's pseduo r-squared\n",
    "def mcfadden_r2(y, y_pred):\n",
    "    ll = log_loss(y, y_pred)\n",
    "    ll_null = log_loss(y, np.full(len(y), y.mean()))\n",
    "    return 1 - (ll/ll_null)\n",
    "pseudo_r2_scorer = make_scorer(mcfadden_r2, needs_proba=True, greater_is_better=True)"
   ]
  },
  {
   "cell_type": "code",
   "execution_count": 4,
   "metadata": {},
   "outputs": [],
   "source": [
    "scoring = {'roc_aug': 'roc_auc', 'mcfaddens_r2': pseudo_r2_scorer}"
   ]
  },
  {
   "cell_type": "code",
   "execution_count": 5,
   "metadata": {},
   "outputs": [],
   "source": [
    "# Load the data\n",
    "cwd = os.getcwd()\n",
    "df = pd.read_parquet(os.path.join(cwd, 'data', 'shots.parquet'))\n",
    "df.drop(['match_id', 'statsbomb_id','period', 'statsbomb_team_id', 'player_id_statsbomb', 'competition_gender', 'team_name',\n",
    "         'player_id', 'firstName', 'middleName', 'lastName', 'Name', 'dataset', 'wyscout_id', 'wyscout_team_id', 'team_id',\n",
    "         'player_id_wyscout','competition_name','minute','shot_zone'], axis=1, inplace=True)\n",
    "mask_penalty = (df.shot_type_name=='penalty')\n",
    "df_penalty = df[mask_penalty].copy()\n",
    "df_penalty.drop(['assist_type', 'pass_end_y', 'pass_end_x', 'pass_switch', 'pass_cross', 'pass_cut_back',\n",
    "         'pass_height_name', 'pass_technique_name', 'carry_length', 'shot_open_goal', 'shot_one_on_one', 'under_pressure',\n",
    "         'area_shot', 'area_goal', 'n_angle', 'goalkeeper_x','goalkeeper_y','smart_pass',\n",
    "         'shot_zone_number','shot_zone_player_number'], axis=1, inplace=True)\n",
    "df_non_penalty = df[~mask_penalty].copy()\n",
    "df_non_penalty.drop(['penalty_number'], axis=1, inplace=True)\n",
    "X_penalty = df_penalty.drop('goal', axis=1)\n",
    "y_penalty = df_penalty.goal\n",
    "X = df_non_penalty.drop('goal', axis=1)\n",
    "y = df_non_penalty.goal"
   ]
  },
  {
   "cell_type": "code",
   "execution_count": 6,
   "metadata": {},
   "outputs": [
    {
     "name": "stdout",
     "output_type": "stream",
     "text": [
      "<class 'pandas.core.frame.DataFrame'>\n",
      "Int64Index: 64663 entries, 5 to 65787\n",
      "Data columns (total 41 columns):\n",
      " #   Column                   Non-Null Count  Dtype  \n",
      "---  ------                   --------------  -----  \n",
      " 0   eventSec                 64663 non-null  float64\n",
      " 1   shot_type_name           64663 non-null  object \n",
      " 2   x                        64663 non-null  float64\n",
      " 3   y                        64663 non-null  float64\n",
      " 4   counter_attack           64663 non-null  bool   \n",
      " 5   fast_break               64663 non-null  bool   \n",
      " 6   strong_foot              64663 non-null  bool   \n",
      " 7   body_part_name           64663 non-null  object \n",
      " 8   assist_type              64663 non-null  object \n",
      " 9   pass_end_y               15635 non-null  float64\n",
      " 10  pass_end_x               15635 non-null  float64\n",
      " 11  pass_switch              44116 non-null  object \n",
      " 12  pass_cross               44116 non-null  object \n",
      " 13  pass_cut_back            44116 non-null  object \n",
      " 14  pass_height_name         44116 non-null  object \n",
      " 15  pass_technique_name      44116 non-null  object \n",
      " 16  carry_length             15635 non-null  float64\n",
      " 17  visible_angle            64663 non-null  float64\n",
      " 18  middle_angle             64663 non-null  float64\n",
      " 19  distance_to_goal         64663 non-null  float64\n",
      " 20  distance_visible_angle   64663 non-null  float64\n",
      " 21  log_distance_to_goal     64663 non-null  float64\n",
      " 22  shot_one_on_one          21961 non-null  object \n",
      " 23  shot_open_goal           21961 non-null  object \n",
      " 24  under_pressure           21961 non-null  object \n",
      " 25  match_week               64663 non-null  float64\n",
      " 26  player_id_goalkeeper     64663 non-null  float64\n",
      " 27  H_A_column               64663 non-null  object \n",
      " 28  players                  64663 non-null  float64\n",
      " 29  players_rival            64663 non-null  float64\n",
      " 30  area_shot                21961 non-null  float64\n",
      " 31  area_goal                21961 non-null  float64\n",
      " 32  n_angle                  21961 non-null  float64\n",
      " 33  goalkeeper_x             21903 non-null  float64\n",
      " 34  goalkeeper_y             21903 non-null  float64\n",
      " 35  smart_pass               28481 non-null  object \n",
      " 36  match_moment             64663 non-null  object \n",
      " 37  shot_number              64663 non-null  float64\n",
      " 38  shot_zone_number         64663 non-null  float64\n",
      " 39  shot_player_number       64663 non-null  float64\n",
      " 40  shot_zone_player_number  64663 non-null  float64\n",
      "dtypes: bool(3), float64(24), object(14)\n",
      "memory usage: 19.4+ MB\n"
     ]
    }
   ],
   "source": [
    "X.info()"
   ]
  },
  {
   "cell_type": "code",
   "execution_count": 7,
   "metadata": {},
   "outputs": [],
   "source": [
    "# Split into train, calibration and test datasets\n",
    "X_train, X_test, y_train, y_test = train_test_split(X, y, train_size=0.8, random_state=seed, stratify=y)\n",
    "X_penalty_train, X_penalty_test, y_penalty_train, y_penalty_test = train_test_split(X_penalty, y_penalty,\n",
    "                                                                        train_size=0.8, random_state=seed, stratify=y_penalty)"
   ]
  },
  {
   "cell_type": "code",
   "execution_count": 8,
   "metadata": {},
   "outputs": [
    {
     "name": "stdout",
     "output_type": "stream",
     "text": [
      "Shots train 51730 ;Number goals 5485 ;Goals %:  10.6\n",
      "Shots test 12933 ;Number goals 1371 ;Goals %:  10.6\n"
     ]
    }
   ],
   "source": [
    "print('Shots train', len(y_train), ';Number goals', y_train.sum(),\n",
    "      ';Goals %: ', round(y_train.mean()*100, 1))\n",
    "print('Shots test', len(y_test), ';Number goals', y_test.sum(),\n",
    "      ';Goals %: ', round(y_test.mean()*100, 1))"
   ]
  },
  {
   "cell_type": "code",
   "execution_count": 9,
   "metadata": {},
   "outputs": [
    {
     "name": "stdout",
     "output_type": "stream",
     "text": [
      "Penalty Shots train 717 ;Penalty Number goals 528 ;Penalty Goals %:  73.6\n",
      "Penalty Shots test 180 ;Penalty Number goals 132 ;Penalty Goals %:  73.3\n"
     ]
    }
   ],
   "source": [
    "print('Penalty Shots train', len(y_penalty_train), ';Penalty Number goals', y_penalty_train.sum(),\n",
    "      ';Penalty Goals %: ', round(y_penalty_train.mean()*100, 1))\n",
    "print('Penalty Shots test', len(y_penalty_test), ';Penalty Number goals', y_penalty_test.sum(),\n",
    "      ';Penalty Goals %: ', round(y_penalty_test.mean()*100, 1))"
   ]
  },
  {
   "cell_type": "code",
   "execution_count": 10,
   "metadata": {},
   "outputs": [],
   "source": [
    "# Load and split fake data\n",
    "df_fake = pd.read_parquet(os.path.join(cwd, 'data', 'fake_shots.parquet'))\n",
    "df_fake.index = ['a'+str(idx) for idx in df_fake.index]\n",
    "y_fake = df_fake.goal\n",
    "X_fake = df_fake.drop('goal', axis=1)"
   ]
  },
  {
   "cell_type": "code",
   "execution_count": 11,
   "metadata": {},
   "outputs": [
    {
     "name": "stdout",
     "output_type": "stream",
     "text": [
      "Shots fake 1000 ;Goals %:  3.4\n"
     ]
    }
   ],
   "source": [
    "print('Shots fake', len(y_fake), ';Goals %: ', round(y_fake.mean()*100, 1))"
   ]
  },
  {
   "cell_type": "markdown",
   "metadata": {},
   "source": [
    "# Logistic regression"
   ]
  },
  {
   "cell_type": "code",
   "execution_count": 12,
   "metadata": {},
   "outputs": [],
   "source": [
    "# Subset dataset for logistic regression\n",
    "# logistic regression does not deal well with dependent features\n",
    "# The model will use the distance/ angle features capture these location features instead\n",
    "# lots of missings for the below features as they come from StatsBomb data only.\n",
    "# while logistic regression does not allow missings so I removed them\n",
    "# drop colum\n",
    "logistic_drop_cols = ['x', 'y',  \n",
    "                      'pass_end_y', 'pass_end_x',  # <- note these were in Wyscout, but often were just the shot location\n",
    "                      'eventSec', 'player_id_goalkeeper', 'goalkeeper_x', 'goalkeeper_y', 'carry_length', \n",
    "                      'shot_one_on_one', 'shot_open_goal','under_pressure', 'area_shot', 'area_goal', 'n_angle', 'smart_pass']\n",
    "X_train_logistic = X_train.drop(logistic_drop_cols, axis=1).copy()\n",
    "X_test_logistic = X_test.drop(logistic_drop_cols, axis=1).copy()"
   ]
  },
  {
   "cell_type": "code",
   "execution_count": 13,
   "metadata": {},
   "outputs": [],
   "source": [
    "# Split dataset for logistic regession into passes / other assists\n",
    "def split(X, y):\n",
    "    mask = X.assist_type == 'pass'\n",
    "    X_pass = X[mask].drop('assist_type', axis=1).copy()\n",
    "    y_pass = y[mask]\n",
    "    X_other = X[~mask].dropna(axis=1, how='all').copy()\n",
    "    y_other = y[~mask]\n",
    "    return X_pass, y_pass, X_other, y_other"
   ]
  },
  {
   "cell_type": "code",
   "execution_count": 14,
   "metadata": {},
   "outputs": [],
   "source": [
    "X_train_pass, y_train_pass, X_train_other, y_train_other = split(X_train_logistic, y_train)\n",
    "X_test_pass, y_test_pass, X_test_other, y_test_other = split(X_test_logistic, y_test)"
   ]
  },
  {
   "cell_type": "code",
   "execution_count": 15,
   "metadata": {},
   "outputs": [],
   "source": [
    "# Pipeline for cleaning pass assists\n",
    "cols = ['shot_type_name', 'body_part_name', 'pass_technique_name', 'pass_height_name','H_A_column','match_moment']\n",
    "cats = [['open_play', 'free_kick', 'corner', 'throw_in'],\n",
    "        ['Right Foot', 'Left Foot', 'Other'],\n",
    "        ['other', 'Through Ball', 'Straight', 'Inswinging', 'Outswinging'],\n",
    "        ['Ground/ Low Pass', 'High Pass'],\n",
    "        ['Home Team', 'Away Team'],\n",
    "        ['0-15','15-30','30-45','45-60','60-75','75-90']]\n",
    "pass_one_hot = ColumnTransformer([('encoder', OneHotEncoder(drop='first', categories=cats), cols)], remainder='passthrough')\n",
    "pipe_pass = Pipeline([('one_hot', pass_one_hot),\n",
    "                      ('impute', SimpleImputer()),\n",
    "                      ('scale', StandardScaler()),\n",
    "                      ('lr', LogisticRegression(random_state=seed))])"
   ]
  },
  {
   "cell_type": "code",
   "execution_count": 16,
   "metadata": {},
   "outputs": [],
   "source": [
    "# Column names of transformed pass data\n",
    "original_cols_remain = [col for col in X_train_pass.columns if col not in cols]\n",
    "new_cols_pass = [item for sublist in cats for i, item in enumerate(sublist) if (i>0)]\n",
    "new_cols_pass.extend(original_cols_remain)"
   ]
  },
  {
   "cell_type": "code",
   "execution_count": 17,
   "metadata": {},
   "outputs": [
    {
     "data": {
      "text/plain": [
       "['free_kick',\n",
       " 'corner',\n",
       " 'throw_in',\n",
       " 'Left Foot',\n",
       " 'Other',\n",
       " 'Through Ball',\n",
       " 'Straight',\n",
       " 'Inswinging',\n",
       " 'Outswinging',\n",
       " 'High Pass',\n",
       " 'Away Team',\n",
       " '15-30',\n",
       " '30-45',\n",
       " '45-60',\n",
       " '60-75',\n",
       " '75-90',\n",
       " 'counter_attack',\n",
       " 'fast_break',\n",
       " 'strong_foot',\n",
       " 'pass_switch',\n",
       " 'pass_cross',\n",
       " 'pass_cut_back',\n",
       " 'visible_angle',\n",
       " 'middle_angle',\n",
       " 'distance_to_goal',\n",
       " 'distance_visible_angle',\n",
       " 'log_distance_to_goal',\n",
       " 'match_week',\n",
       " 'players',\n",
       " 'players_rival',\n",
       " 'shot_number',\n",
       " 'shot_zone_number',\n",
       " 'shot_player_number',\n",
       " 'shot_zone_player_number']"
      ]
     },
     "execution_count": 17,
     "metadata": {},
     "output_type": "execute_result"
    }
   ],
   "source": [
    "new_cols_pass"
   ]
  },
  {
   "cell_type": "code",
   "execution_count": 18,
   "metadata": {},
   "outputs": [
    {
     "name": "stdout",
     "output_type": "stream",
     "text": [
      "['free_kick', 'corner', 'throw_in', 'Left Foot', 'Other', 'Through Ball', 'Straight', 'Inswinging', 'Outswinging', 'High Pass', 'Away Team', '15-30', '30-45', '45-60', '60-75', '75-90', 'counter_attack', 'fast_break', 'strong_foot', 'pass_switch', 'pass_cross', 'pass_cut_back', 'visible_angle', 'middle_angle', 'distance_to_goal', 'distance_visible_angle', 'log_distance_to_goal', 'match_week', 'players', 'players_rival', 'shot_number', 'shot_zone_number', 'shot_player_number', 'shot_zone_player_number']\n"
     ]
    }
   ],
   "source": [
    "print(new_cols_pass)"
   ]
  },
  {
   "cell_type": "code",
   "execution_count": 19,
   "metadata": {},
   "outputs": [],
   "source": [
    "# Pipeline for cleaning other assists\n",
    "# setting direct to recovery so does not not encoded twice ( also covered by shot_type_name == 'direct_set_piece')\n",
    "X_train_other.loc[X_train_other.assist_type == 'direct', 'assist_type'] = 'recovery'\n",
    "X_test_other.loc[X_test_other.assist_type == 'direct', 'assist_type'] = 'recovery'\n",
    "\n",
    "cols = ['shot_type_name', 'body_part_name', 'assist_type','H_A_column','match_moment']\n",
    "cats = [['open_play', 'free_kick', 'corner', 'throw_in', 'direct_set_piece'],\n",
    "        ['Right Foot', 'Left Foot', 'Other'],\n",
    "        ['recovery', 'clearance', 'rebound'],\n",
    "        ['Home Team', 'Away Team'],\n",
    "        ['0-15','15-30','30-45','45-60','60-75','75-90']]\n",
    "other_one_hot = ColumnTransformer([('encoder', OneHotEncoder(drop='first', categories=cats), cols)], remainder='passthrough')\n",
    "pipe_other = Pipeline([('one_hot', other_one_hot),\n",
    "                       ('impute', SimpleImputer()),\n",
    "                       ('scale', StandardScaler()),\n",
    "                       ('lr', LogisticRegression(random_state=seed))])"
   ]
  },
  {
   "cell_type": "code",
   "execution_count": 20,
   "metadata": {},
   "outputs": [],
   "source": [
    "# Column names of transformed passes\n",
    "original_cols_remain = [col for col in X_train_other.columns if col not in cols]\n",
    "new_cols_other = [item for sublist in cats for i, item in enumerate(sublist) if (i>0)]\n",
    "new_cols_other.extend(original_cols_remain)"
   ]
  },
  {
   "cell_type": "code",
   "execution_count": 21,
   "metadata": {},
   "outputs": [
    {
     "data": {
      "text/plain": [
       "['counter_attack',\n",
       " 'fast_break',\n",
       " 'strong_foot',\n",
       " 'visible_angle',\n",
       " 'middle_angle',\n",
       " 'distance_to_goal',\n",
       " 'distance_visible_angle',\n",
       " 'log_distance_to_goal',\n",
       " 'match_week',\n",
       " 'players',\n",
       " 'players_rival',\n",
       " 'shot_number',\n",
       " 'shot_zone_number',\n",
       " 'shot_player_number',\n",
       " 'shot_zone_player_number']"
      ]
     },
     "execution_count": 21,
     "metadata": {},
     "output_type": "execute_result"
    }
   ],
   "source": [
    "original_cols_remain"
   ]
  },
  {
   "cell_type": "code",
   "execution_count": 22,
   "metadata": {},
   "outputs": [
    {
     "name": "stdout",
     "output_type": "stream",
     "text": [
      "['free_kick', 'corner', 'throw_in', 'direct_set_piece', 'Left Foot', 'Other', 'clearance', 'rebound', 'Away Team', '15-30', '30-45', '45-60', '60-75', '75-90', 'counter_attack', 'fast_break', 'strong_foot', 'visible_angle', 'middle_angle', 'distance_to_goal', 'distance_visible_angle', 'log_distance_to_goal', 'match_week', 'players', 'players_rival', 'shot_number', 'shot_zone_number', 'shot_player_number', 'shot_zone_player_number']\n"
     ]
    }
   ],
   "source": [
    "print(new_cols_other)"
   ]
  },
  {
   "cell_type": "code",
   "execution_count": 23,
   "metadata": {},
   "outputs": [],
   "source": [
    "# Search parameters for gridsearchcv\n",
    "param_grid = {'lr__C': np.logspace(-3, 0.1, 100)}"
   ]
  },
  {
   "cell_type": "code",
   "execution_count": 24,
   "metadata": {},
   "outputs": [
    {
     "name": "stdout",
     "output_type": "stream",
     "text": [
      "C: 0.03953390342037077\n"
     ]
    }
   ],
   "source": [
    "# Fit the inner grid search for shots assisted by passes\n",
    "clf_pass = GridSearchCV(estimator=pipe_pass, param_grid=param_grid, scoring='neg_log_loss', n_jobs=-1)\n",
    "clf_pass.fit(X_train_pass, y_train_pass)\n",
    "print('C:', clf_pass.best_estimator_.named_steps.lr.C)"
   ]
  },
  {
   "cell_type": "code",
   "execution_count": 25,
   "metadata": {},
   "outputs": [
    {
     "data": {
      "text/plain": [
       "GridSearchCV(estimator=Pipeline(steps=[('one_hot',\n",
       "                                        ColumnTransformer(remainder='passthrough',\n",
       "                                                          transformers=[('encoder',\n",
       "                                                                         OneHotEncoder(categories=[['open_play',\n",
       "                                                                                                    'free_kick',\n",
       "                                                                                                    'corner',\n",
       "                                                                                                    'throw_in'],\n",
       "                                                                                                   ['Right '\n",
       "                                                                                                    'Foot',\n",
       "                                                                                                    'Left '\n",
       "                                                                                                    'Foot',\n",
       "                                                                                                    'Other'],\n",
       "                                                                                                   ['other',\n",
       "                                                                                                    'Through '\n",
       "                                                                                                    'Ball',\n",
       "                                                                                                    'Straight',\n",
       "                                                                                                    'Inswinging',\n",
       "                                                                                                    'Outswinging'],\n",
       "                                                                                                   ['Ground/ '\n",
       "                                                                                                    'Low '\n",
       "                                                                                                    'Pass',\n",
       "                                                                                                    'High '\n",
       "                                                                                                    'Pass'],\n",
       "                                                                                                   ['Home '\n",
       "                                                                                                    'Team',\n",
       "                                                                                                    'Away '\n",
       "                                                                                                    'Tea...\n",
       "       2.39771732e-01, 2.57698037e-01, 2.76964586e-01, 2.97671581e-01,\n",
       "       3.19926714e-01, 3.43845731e-01, 3.69553030e-01, 3.97182312e-01,\n",
       "       4.26877270e-01, 4.58792343e-01, 4.93093517e-01, 5.29959186e-01,\n",
       "       5.69581081e-01, 6.12165270e-01, 6.57933225e-01, 7.07122977e-01,\n",
       "       7.59990355e-01, 8.16810312e-01, 8.77878360e-01, 9.43512101e-01,\n",
       "       1.01405289e+00, 1.08986759e+00, 1.17135050e+00, 1.25892541e+00])},\n",
       "             scoring='neg_log_loss')"
      ]
     },
     "execution_count": 25,
     "metadata": {},
     "output_type": "execute_result"
    }
   ],
   "source": [
    "clf_pass"
   ]
  },
  {
   "cell_type": "code",
   "execution_count": 26,
   "metadata": {},
   "outputs": [
    {
     "name": "stdout",
     "output_type": "stream",
     "text": [
      "C: 0.11659144011798322\n"
     ]
    }
   ],
   "source": [
    "# Fit the inner grid search for shots assisted other than passes\n",
    "clf_other = GridSearchCV(estimator=pipe_other, param_grid=param_grid, scoring='neg_log_loss', n_jobs=-1)\n",
    "clf_other.fit(X_train_other, y_train_other)\n",
    "print('C:', clf_other.best_estimator_.named_steps.lr.C)"
   ]
  },
  {
   "cell_type": "code",
   "execution_count": 27,
   "metadata": {},
   "outputs": [
    {
     "name": "stderr",
     "output_type": "stream",
     "text": [
      "Exception in thread Thread-6:\n",
      "Traceback (most recent call last):\n",
      "  File \"C:\\Users\\sergi77\\anaconda3\\envs\\xGenv\\lib\\site-packages\\psutil\\_pswindows.py\", line 679, in wrapper\n",
      "    return fun(self, *args, **kwargs)\n",
      "  File \"C:\\Users\\sergi77\\anaconda3\\envs\\xGenv\\lib\\site-packages\\psutil\\_pswindows.py\", line 863, in kill\n",
      "    return cext.proc_kill(self.pid)\n",
      "PermissionError: [WinError 5] Acceso denegado: '(originated from OpenProcess)'\n",
      "\n",
      "During handling of the above exception, another exception occurred:\n",
      "\n",
      "Traceback (most recent call last):\n",
      "  File \"C:\\Users\\sergi77\\anaconda3\\envs\\xGenv\\lib\\threading.py\", line 926, in _bootstrap_inner\n",
      "    self.run()\n",
      "  File \"C:\\Users\\sergi77\\anaconda3\\envs\\xGenv\\lib\\site-packages\\joblib\\externals\\loky\\process_executor.py\", line 558, in run\n",
      "    self.terminate_broken(bpe)\n",
      "  File \"C:\\Users\\sergi77\\anaconda3\\envs\\xGenv\\lib\\site-packages\\joblib\\externals\\loky\\process_executor.py\", line 736, in terminate_broken\n",
      "    self.kill_workers()\n",
      "  File \"C:\\Users\\sergi77\\anaconda3\\envs\\xGenv\\lib\\site-packages\\joblib\\externals\\loky\\process_executor.py\", line 766, in kill_workers\n",
      "    recursive_terminate(p)\n",
      "  File \"C:\\Users\\sergi77\\anaconda3\\envs\\xGenv\\lib\\site-packages\\joblib\\externals\\loky\\backend\\utils.py\", line 26, in recursive_terminate\n",
      "    _recursive_terminate_with_psutil(process)\n",
      "  File \"C:\\Users\\sergi77\\anaconda3\\envs\\xGenv\\lib\\site-packages\\joblib\\externals\\loky\\backend\\utils.py\", line 41, in _recursive_terminate_with_psutil\n",
      "    child.kill()\n",
      "  File \"C:\\Users\\sergi77\\anaconda3\\envs\\xGenv\\lib\\site-packages\\psutil\\__init__.py\", line 272, in wrapper\n",
      "    return fun(self, *args, **kwargs)\n",
      "  File \"C:\\Users\\sergi77\\anaconda3\\envs\\xGenv\\lib\\site-packages\\psutil\\__init__.py\", line 1241, in kill\n",
      "    self._proc.kill()\n",
      "  File \"C:\\Users\\sergi77\\anaconda3\\envs\\xGenv\\lib\\site-packages\\psutil\\_pswindows.py\", line 681, in wrapper\n",
      "    raise convert_oserror(err, pid=self.pid, name=self._name)\n",
      "psutil.AccessDenied: psutil.AccessDenied (pid=11156)\n",
      "\n"
     ]
    },
    {
     "ename": "TerminatedWorkerError",
     "evalue": "A worker process managed by the executor was unexpectedly terminated. This could be caused by a segmentation fault while calling the function or by an excessive memory usage causing the Operating System to kill the worker.\n",
     "output_type": "error",
     "traceback": [
      "\u001b[1;31m---------------------------------------------------------------------------\u001b[0m",
      "\u001b[1;31mTerminatedWorkerError\u001b[0m                     Traceback (most recent call last)",
      "\u001b[1;32m<ipython-input-27-fd949b69e4a5>\u001b[0m in \u001b[0;36m<module>\u001b[1;34m\u001b[0m\n\u001b[0;32m      1\u001b[0m \u001b[1;31m# Outer loops for unbiased estimates of the model accuracy\u001b[0m\u001b[1;33m\u001b[0m\u001b[1;33m\u001b[0m\u001b[1;33m\u001b[0m\u001b[0m\n\u001b[1;32m----> 2\u001b[1;33m \u001b[0mnested_score_pass\u001b[0m \u001b[1;33m=\u001b[0m \u001b[0mcross_validate\u001b[0m\u001b[1;33m(\u001b[0m\u001b[0mclf_pass\u001b[0m\u001b[1;33m,\u001b[0m \u001b[0mX\u001b[0m\u001b[1;33m=\u001b[0m\u001b[0mX_train_pass\u001b[0m\u001b[1;33m,\u001b[0m \u001b[0my\u001b[0m\u001b[1;33m=\u001b[0m\u001b[0my_train_pass\u001b[0m\u001b[1;33m,\u001b[0m \u001b[0mscoring\u001b[0m\u001b[1;33m=\u001b[0m\u001b[0mscoring\u001b[0m\u001b[1;33m,\u001b[0m \u001b[0mn_jobs\u001b[0m\u001b[1;33m=\u001b[0m\u001b[1;33m-\u001b[0m\u001b[1;36m1\u001b[0m\u001b[1;33m)\u001b[0m\u001b[1;33m\u001b[0m\u001b[1;33m\u001b[0m\u001b[0m\n\u001b[0m\u001b[0;32m      3\u001b[0m \u001b[0mprint\u001b[0m\u001b[1;33m(\u001b[0m\u001b[1;34m'ROC AUC for shots assisted by passes:'\u001b[0m\u001b[1;33m,\u001b[0m \u001b[0mnested_score_pass\u001b[0m\u001b[1;33m[\u001b[0m\u001b[1;34m'test_roc_aug'\u001b[0m\u001b[1;33m]\u001b[0m\u001b[1;33m.\u001b[0m\u001b[0mmean\u001b[0m\u001b[1;33m(\u001b[0m\u001b[1;33m)\u001b[0m\u001b[1;33m)\u001b[0m\u001b[1;33m\u001b[0m\u001b[1;33m\u001b[0m\u001b[0m\n\u001b[0;32m      4\u001b[0m \u001b[0mprint\u001b[0m\u001b[1;33m(\u001b[0m\u001b[1;34m\"McFadden's Pseudo R-squared shots assisted by passes:\"\u001b[0m\u001b[1;33m,\u001b[0m \u001b[0mnested_score_pass\u001b[0m\u001b[1;33m[\u001b[0m\u001b[1;34m'test_mcfaddens_r2'\u001b[0m\u001b[1;33m]\u001b[0m\u001b[1;33m.\u001b[0m\u001b[0mmean\u001b[0m\u001b[1;33m(\u001b[0m\u001b[1;33m)\u001b[0m\u001b[1;33m)\u001b[0m\u001b[1;33m\u001b[0m\u001b[1;33m\u001b[0m\u001b[0m\n",
      "\u001b[1;32m~\\anaconda3\\envs\\xGenv\\lib\\site-packages\\sklearn\\utils\\validation.py\u001b[0m in \u001b[0;36minner_f\u001b[1;34m(*args, **kwargs)\u001b[0m\n\u001b[0;32m     70\u001b[0m                           FutureWarning)\n\u001b[0;32m     71\u001b[0m         \u001b[0mkwargs\u001b[0m\u001b[1;33m.\u001b[0m\u001b[0mupdate\u001b[0m\u001b[1;33m(\u001b[0m\u001b[1;33m{\u001b[0m\u001b[0mk\u001b[0m\u001b[1;33m:\u001b[0m \u001b[0marg\u001b[0m \u001b[1;32mfor\u001b[0m \u001b[0mk\u001b[0m\u001b[1;33m,\u001b[0m \u001b[0marg\u001b[0m \u001b[1;32min\u001b[0m \u001b[0mzip\u001b[0m\u001b[1;33m(\u001b[0m\u001b[0msig\u001b[0m\u001b[1;33m.\u001b[0m\u001b[0mparameters\u001b[0m\u001b[1;33m,\u001b[0m \u001b[0margs\u001b[0m\u001b[1;33m)\u001b[0m\u001b[1;33m}\u001b[0m\u001b[1;33m)\u001b[0m\u001b[1;33m\u001b[0m\u001b[1;33m\u001b[0m\u001b[0m\n\u001b[1;32m---> 72\u001b[1;33m         \u001b[1;32mreturn\u001b[0m \u001b[0mf\u001b[0m\u001b[1;33m(\u001b[0m\u001b[1;33m**\u001b[0m\u001b[0mkwargs\u001b[0m\u001b[1;33m)\u001b[0m\u001b[1;33m\u001b[0m\u001b[1;33m\u001b[0m\u001b[0m\n\u001b[0m\u001b[0;32m     73\u001b[0m     \u001b[1;32mreturn\u001b[0m \u001b[0minner_f\u001b[0m\u001b[1;33m\u001b[0m\u001b[1;33m\u001b[0m\u001b[0m\n\u001b[0;32m     74\u001b[0m \u001b[1;33m\u001b[0m\u001b[0m\n",
      "\u001b[1;32m~\\anaconda3\\envs\\xGenv\\lib\\site-packages\\sklearn\\model_selection\\_validation.py\u001b[0m in \u001b[0;36mcross_validate\u001b[1;34m(estimator, X, y, groups, scoring, cv, n_jobs, verbose, fit_params, pre_dispatch, return_train_score, return_estimator, error_score)\u001b[0m\n\u001b[0;32m    246\u001b[0m             \u001b[0mreturn_times\u001b[0m\u001b[1;33m=\u001b[0m\u001b[1;32mTrue\u001b[0m\u001b[1;33m,\u001b[0m \u001b[0mreturn_estimator\u001b[0m\u001b[1;33m=\u001b[0m\u001b[0mreturn_estimator\u001b[0m\u001b[1;33m,\u001b[0m\u001b[1;33m\u001b[0m\u001b[1;33m\u001b[0m\u001b[0m\n\u001b[0;32m    247\u001b[0m             error_score=error_score)\n\u001b[1;32m--> 248\u001b[1;33m         for train, test in cv.split(X, y, groups))\n\u001b[0m\u001b[0;32m    249\u001b[0m \u001b[1;33m\u001b[0m\u001b[0m\n\u001b[0;32m    250\u001b[0m     \u001b[0mzipped_scores\u001b[0m \u001b[1;33m=\u001b[0m \u001b[0mlist\u001b[0m\u001b[1;33m(\u001b[0m\u001b[0mzip\u001b[0m\u001b[1;33m(\u001b[0m\u001b[1;33m*\u001b[0m\u001b[0mscores\u001b[0m\u001b[1;33m)\u001b[0m\u001b[1;33m)\u001b[0m\u001b[1;33m\u001b[0m\u001b[1;33m\u001b[0m\u001b[0m\n",
      "\u001b[1;32m~\\anaconda3\\envs\\xGenv\\lib\\site-packages\\joblib\\parallel.py\u001b[0m in \u001b[0;36m__call__\u001b[1;34m(self, iterable)\u001b[0m\n\u001b[0;32m   1052\u001b[0m \u001b[1;33m\u001b[0m\u001b[0m\n\u001b[0;32m   1053\u001b[0m             \u001b[1;32mwith\u001b[0m \u001b[0mself\u001b[0m\u001b[1;33m.\u001b[0m\u001b[0m_backend\u001b[0m\u001b[1;33m.\u001b[0m\u001b[0mretrieval_context\u001b[0m\u001b[1;33m(\u001b[0m\u001b[1;33m)\u001b[0m\u001b[1;33m:\u001b[0m\u001b[1;33m\u001b[0m\u001b[1;33m\u001b[0m\u001b[0m\n\u001b[1;32m-> 1054\u001b[1;33m                 \u001b[0mself\u001b[0m\u001b[1;33m.\u001b[0m\u001b[0mretrieve\u001b[0m\u001b[1;33m(\u001b[0m\u001b[1;33m)\u001b[0m\u001b[1;33m\u001b[0m\u001b[1;33m\u001b[0m\u001b[0m\n\u001b[0m\u001b[0;32m   1055\u001b[0m             \u001b[1;31m# Make sure that we get a last message telling us we are done\u001b[0m\u001b[1;33m\u001b[0m\u001b[1;33m\u001b[0m\u001b[1;33m\u001b[0m\u001b[0m\n\u001b[0;32m   1056\u001b[0m             \u001b[0melapsed_time\u001b[0m \u001b[1;33m=\u001b[0m \u001b[0mtime\u001b[0m\u001b[1;33m.\u001b[0m\u001b[0mtime\u001b[0m\u001b[1;33m(\u001b[0m\u001b[1;33m)\u001b[0m \u001b[1;33m-\u001b[0m \u001b[0mself\u001b[0m\u001b[1;33m.\u001b[0m\u001b[0m_start_time\u001b[0m\u001b[1;33m\u001b[0m\u001b[1;33m\u001b[0m\u001b[0m\n",
      "\u001b[1;32m~\\anaconda3\\envs\\xGenv\\lib\\site-packages\\joblib\\parallel.py\u001b[0m in \u001b[0;36mretrieve\u001b[1;34m(self)\u001b[0m\n\u001b[0;32m    931\u001b[0m             \u001b[1;32mtry\u001b[0m\u001b[1;33m:\u001b[0m\u001b[1;33m\u001b[0m\u001b[1;33m\u001b[0m\u001b[0m\n\u001b[0;32m    932\u001b[0m                 \u001b[1;32mif\u001b[0m \u001b[0mgetattr\u001b[0m\u001b[1;33m(\u001b[0m\u001b[0mself\u001b[0m\u001b[1;33m.\u001b[0m\u001b[0m_backend\u001b[0m\u001b[1;33m,\u001b[0m \u001b[1;34m'supports_timeout'\u001b[0m\u001b[1;33m,\u001b[0m \u001b[1;32mFalse\u001b[0m\u001b[1;33m)\u001b[0m\u001b[1;33m:\u001b[0m\u001b[1;33m\u001b[0m\u001b[1;33m\u001b[0m\u001b[0m\n\u001b[1;32m--> 933\u001b[1;33m                     \u001b[0mself\u001b[0m\u001b[1;33m.\u001b[0m\u001b[0m_output\u001b[0m\u001b[1;33m.\u001b[0m\u001b[0mextend\u001b[0m\u001b[1;33m(\u001b[0m\u001b[0mjob\u001b[0m\u001b[1;33m.\u001b[0m\u001b[0mget\u001b[0m\u001b[1;33m(\u001b[0m\u001b[0mtimeout\u001b[0m\u001b[1;33m=\u001b[0m\u001b[0mself\u001b[0m\u001b[1;33m.\u001b[0m\u001b[0mtimeout\u001b[0m\u001b[1;33m)\u001b[0m\u001b[1;33m)\u001b[0m\u001b[1;33m\u001b[0m\u001b[1;33m\u001b[0m\u001b[0m\n\u001b[0m\u001b[0;32m    934\u001b[0m                 \u001b[1;32melse\u001b[0m\u001b[1;33m:\u001b[0m\u001b[1;33m\u001b[0m\u001b[1;33m\u001b[0m\u001b[0m\n\u001b[0;32m    935\u001b[0m                     \u001b[0mself\u001b[0m\u001b[1;33m.\u001b[0m\u001b[0m_output\u001b[0m\u001b[1;33m.\u001b[0m\u001b[0mextend\u001b[0m\u001b[1;33m(\u001b[0m\u001b[0mjob\u001b[0m\u001b[1;33m.\u001b[0m\u001b[0mget\u001b[0m\u001b[1;33m(\u001b[0m\u001b[1;33m)\u001b[0m\u001b[1;33m)\u001b[0m\u001b[1;33m\u001b[0m\u001b[1;33m\u001b[0m\u001b[0m\n",
      "\u001b[1;32m~\\anaconda3\\envs\\xGenv\\lib\\site-packages\\joblib\\_parallel_backends.py\u001b[0m in \u001b[0;36mwrap_future_result\u001b[1;34m(future, timeout)\u001b[0m\n\u001b[0;32m    540\u001b[0m         AsyncResults.get from multiprocessing.\"\"\"\n\u001b[0;32m    541\u001b[0m         \u001b[1;32mtry\u001b[0m\u001b[1;33m:\u001b[0m\u001b[1;33m\u001b[0m\u001b[1;33m\u001b[0m\u001b[0m\n\u001b[1;32m--> 542\u001b[1;33m             \u001b[1;32mreturn\u001b[0m \u001b[0mfuture\u001b[0m\u001b[1;33m.\u001b[0m\u001b[0mresult\u001b[0m\u001b[1;33m(\u001b[0m\u001b[0mtimeout\u001b[0m\u001b[1;33m=\u001b[0m\u001b[0mtimeout\u001b[0m\u001b[1;33m)\u001b[0m\u001b[1;33m\u001b[0m\u001b[1;33m\u001b[0m\u001b[0m\n\u001b[0m\u001b[0;32m    543\u001b[0m         \u001b[1;32mexcept\u001b[0m \u001b[0mCfTimeoutError\u001b[0m \u001b[1;32mas\u001b[0m \u001b[0me\u001b[0m\u001b[1;33m:\u001b[0m\u001b[1;33m\u001b[0m\u001b[1;33m\u001b[0m\u001b[0m\n\u001b[0;32m    544\u001b[0m             \u001b[1;32mraise\u001b[0m \u001b[0mTimeoutError\u001b[0m \u001b[1;32mfrom\u001b[0m \u001b[0me\u001b[0m\u001b[1;33m\u001b[0m\u001b[1;33m\u001b[0m\u001b[0m\n",
      "\u001b[1;32m~\\anaconda3\\envs\\xGenv\\lib\\concurrent\\futures\\_base.py\u001b[0m in \u001b[0;36mresult\u001b[1;34m(self, timeout)\u001b[0m\n\u001b[0;32m    433\u001b[0m                 \u001b[1;32mraise\u001b[0m \u001b[0mCancelledError\u001b[0m\u001b[1;33m(\u001b[0m\u001b[1;33m)\u001b[0m\u001b[1;33m\u001b[0m\u001b[1;33m\u001b[0m\u001b[0m\n\u001b[0;32m    434\u001b[0m             \u001b[1;32melif\u001b[0m \u001b[0mself\u001b[0m\u001b[1;33m.\u001b[0m\u001b[0m_state\u001b[0m \u001b[1;33m==\u001b[0m \u001b[0mFINISHED\u001b[0m\u001b[1;33m:\u001b[0m\u001b[1;33m\u001b[0m\u001b[1;33m\u001b[0m\u001b[0m\n\u001b[1;32m--> 435\u001b[1;33m                 \u001b[1;32mreturn\u001b[0m \u001b[0mself\u001b[0m\u001b[1;33m.\u001b[0m\u001b[0m__get_result\u001b[0m\u001b[1;33m(\u001b[0m\u001b[1;33m)\u001b[0m\u001b[1;33m\u001b[0m\u001b[1;33m\u001b[0m\u001b[0m\n\u001b[0m\u001b[0;32m    436\u001b[0m             \u001b[1;32melse\u001b[0m\u001b[1;33m:\u001b[0m\u001b[1;33m\u001b[0m\u001b[1;33m\u001b[0m\u001b[0m\n\u001b[0;32m    437\u001b[0m                 \u001b[1;32mraise\u001b[0m \u001b[0mTimeoutError\u001b[0m\u001b[1;33m(\u001b[0m\u001b[1;33m)\u001b[0m\u001b[1;33m\u001b[0m\u001b[1;33m\u001b[0m\u001b[0m\n",
      "\u001b[1;32m~\\anaconda3\\envs\\xGenv\\lib\\concurrent\\futures\\_base.py\u001b[0m in \u001b[0;36m__get_result\u001b[1;34m(self)\u001b[0m\n\u001b[0;32m    382\u001b[0m     \u001b[1;32mdef\u001b[0m \u001b[0m__get_result\u001b[0m\u001b[1;33m(\u001b[0m\u001b[0mself\u001b[0m\u001b[1;33m)\u001b[0m\u001b[1;33m:\u001b[0m\u001b[1;33m\u001b[0m\u001b[1;33m\u001b[0m\u001b[0m\n\u001b[0;32m    383\u001b[0m         \u001b[1;32mif\u001b[0m \u001b[0mself\u001b[0m\u001b[1;33m.\u001b[0m\u001b[0m_exception\u001b[0m\u001b[1;33m:\u001b[0m\u001b[1;33m\u001b[0m\u001b[1;33m\u001b[0m\u001b[0m\n\u001b[1;32m--> 384\u001b[1;33m             \u001b[1;32mraise\u001b[0m \u001b[0mself\u001b[0m\u001b[1;33m.\u001b[0m\u001b[0m_exception\u001b[0m\u001b[1;33m\u001b[0m\u001b[1;33m\u001b[0m\u001b[0m\n\u001b[0m\u001b[0;32m    385\u001b[0m         \u001b[1;32melse\u001b[0m\u001b[1;33m:\u001b[0m\u001b[1;33m\u001b[0m\u001b[1;33m\u001b[0m\u001b[0m\n\u001b[0;32m    386\u001b[0m             \u001b[1;32mreturn\u001b[0m \u001b[0mself\u001b[0m\u001b[1;33m.\u001b[0m\u001b[0m_result\u001b[0m\u001b[1;33m\u001b[0m\u001b[1;33m\u001b[0m\u001b[0m\n",
      "\u001b[1;31mTerminatedWorkerError\u001b[0m: A worker process managed by the executor was unexpectedly terminated. This could be caused by a segmentation fault while calling the function or by an excessive memory usage causing the Operating System to kill the worker.\n"
     ]
    }
   ],
   "source": [
    "# Outer loops for unbiased estimates of the model accuracy\n",
    "nested_score_pass = cross_validate(clf_pass, X=X_train_pass, y=y_train_pass, scoring=scoring, n_jobs=-1)\n",
    "print('ROC AUC for shots assisted by passes:', nested_score_pass['test_roc_aug'].mean())\n",
    "print(\"McFadden's Pseudo R-squared shots assisted by passes:\", nested_score_pass['test_mcfaddens_r2'].mean())"
   ]
  },
  {
   "cell_type": "code",
   "execution_count": 28,
   "metadata": {},
   "outputs": [
    {
     "name": "stdout",
     "output_type": "stream",
     "text": [
      "ROC AUC for other model: 0.7971591662016942\n",
      "McFadden's Pseudo R-squared for other model: 0.18062363914567625\n"
     ]
    }
   ],
   "source": [
    "nested_score_other = cross_validate(clf_other, X=X_train_other, y=y_train_other, scoring=scoring, n_jobs=-1)\n",
    "print('ROC AUC for other model:', nested_score_other['test_roc_aug'].mean())\n",
    "print(\"McFadden's Pseudo R-squared for other model:\", nested_score_other['test_mcfaddens_r2'].mean())"
   ]
  },
  {
   "cell_type": "markdown",
   "metadata": {},
   "source": [
    "# Test"
   ]
  },
  {
   "cell_type": "code",
   "execution_count": 29,
   "metadata": {},
   "outputs": [],
   "source": [
    "# logistic regression\n",
    "y_pred_lr_pass = clf_pass.predict_proba(X_test_pass)[:, 1]\n",
    "y_pred_lr_other = clf_other.predict_proba(X_test_other)[:, 1]\n",
    "y_pred_lr = np.concatenate([y_pred_lr_pass, y_pred_lr_other])\n",
    "y_true_test = np.concatenate([y_test_pass, y_test_other])\n",
    "fraction_of_positives_lr, mean_predicted_value_lr = calibration_curve(y_true_test, y_pred_lr, n_bins=10)"
   ]
  },
  {
   "cell_type": "code",
   "execution_count": 30,
   "metadata": {},
   "outputs": [
    {
     "data": {
      "image/png": "[encoded data removed]",
      "text/plain": [
       "<Figure size 720x1080 with 2 Axes>"
      ]
     },
     "metadata": {},
     "output_type": "display_data"
    }
   ],
   "source": [
    "# Plot calibration curve on test data\n",
    "plt.style.use('dark_background')\n",
    "fig = plt.figure(constrained_layout=True, figsize=(10, 15))\n",
    "gs = fig.add_gridspec(ncols=1, nrows=2, height_ratios=(2/3, 1/3))\n",
    "ax1 = fig.add_subplot(gs[0])\n",
    "ax1.plot(mean_predicted_value_lr, fraction_of_positives_lr, \"-o\", color='#dbdf4a', label='Logistic regression')\n",
    "ax1.plot([0, 1], [0, 1], \"--\", color='#e7aeca', label=\"Perfectly calibrated\")\n",
    "ax1.set_xlabel('Mean predicted value', fontsize=15)\n",
    "ax1.set_ylabel('Fraction of positives', fontsize=15)\n",
    "ax1.set_title('Calibration curve', fontsize=20, pad=10)\n",
    "ax1.legend(fontsize=15)\n",
    "ax1.tick_params(labelsize=15)\n",
    "ax2 = fig.add_subplot(gs[1])\n",
    "sns.distplot(y_pred_lr, color='#4fe4e4', label='Logistic regression', kde=False, ax=ax2)\n",
    "ax2.set_xlabel('Predicted value', fontsize=15)\n",
    "ax2.set_ylabel('Count', fontsize=15)\n",
    "ax2.tick_params(labelsize=15)\n",
    "ax2.legend(fontsize=15)\n",
    "ax2.set_title('Distribution of predictions', fontsize=20, pad=10);\n",
    "fig.savefig(os.path.join(cwd, 'figures', '22_calibration_curve.png'), bbox_inches = 'tight', pad_inches = 0.2)"
   ]
  },
  {
   "cell_type": "code",
   "execution_count": 31,
   "metadata": {},
   "outputs": [
    {
     "name": "stdout",
     "output_type": "stream",
     "text": [
      "Brier score, logistic regression: 0.08015005097609117\n",
      "ROC AUC, logistic regression: 0.7947564842751179\n",
      "Pseudo R-squared, logistic regression: 0.17845697959044315\n"
     ]
    }
   ],
   "source": [
    "print('Brier score, logistic regression:',brier_score_loss(y_true_test, y_pred_lr, pos_label=y_true_test.max()))\n",
    "print('ROC AUC, logistic regression:', roc_auc_score(y_true_test, y_pred_lr))\n",
    "print('Pseudo R-squared, logistic regression:', mcfadden_r2(y_true_test, y_pred_lr))"
   ]
  },
  {
   "cell_type": "markdown",
   "metadata": {},
   "source": [
    "# Save models"
   ]
  },
  {
   "cell_type": "code",
   "execution_count": 32,
   "metadata": {},
   "outputs": [
    {
     "data": {
      "text/plain": [
       "['C:\\\\Users\\\\sergi77\\\\Desktop\\\\UNIR\\\\TFM\\\\xG_Model_TFM\\\\models\\\\lr_pass.joblib']"
      ]
     },
     "execution_count": 32,
     "metadata": {},
     "output_type": "execute_result"
    }
   ],
   "source": [
    "dump(clf_pass.best_estimator_, os.path.join(cwd, 'models', 'lr_pass.joblib'))"
   ]
  },
  {
   "cell_type": "code",
   "execution_count": 33,
   "metadata": {},
   "outputs": [
    {
     "data": {
      "text/plain": [
       "['C:\\\\Users\\\\sergi77\\\\Desktop\\\\UNIR\\\\TFM\\\\xG_Model_TFM\\\\models\\\\lr_other.joblib']"
      ]
     },
     "execution_count": 33,
     "metadata": {},
     "output_type": "execute_result"
    }
   ],
   "source": [
    "dump(clf_other.best_estimator_, os.path.join(cwd, 'models', 'lr_other.joblib'))"
   ]
  },
  {
   "cell_type": "markdown",
   "metadata": {},
   "source": [
    "# Save data"
   ]
  },
  {
   "cell_type": "code",
   "execution_count": 34,
   "metadata": {},
   "outputs": [],
   "source": [
    "# reload shot dataset for ids\n",
    "df = pd.read_parquet(os.path.join(cwd, 'data', 'shots.parquet'))\n",
    "df = df[['match_id', 'wyscout_id', 'statsbomb_id']].copy()"
   ]
  },
  {
   "cell_type": "code",
   "execution_count": 35,
   "metadata": {},
   "outputs": [],
   "source": [
    "X_train_other['goal'] = y_train_other\n",
    "X_train_other['split'] = 'train'\n",
    "X_test_other['goal'] = y_test_other\n",
    "X_test_other['split'] = 'test'\n",
    "df_other = pd.concat([X_train_other, X_test_other])\n",
    "df_other = df_other.merge(df, left_index=True, right_index=True, validate='1:1', how='left')\n",
    "df_other.reset_index(drop=True, inplace=True)\n",
    "df_other.to_parquet(os.path.join(cwd, 'data', 'modelling', 'lr_other.parquet'))"
   ]
  },
  {
   "cell_type": "code",
   "execution_count": 36,
   "metadata": {},
   "outputs": [],
   "source": [
    "X_train_pass['goal'] = y_train_pass\n",
    "X_train_pass['split'] = 'train'\n",
    "X_test_pass['goal'] = y_test_pass\n",
    "X_test_pass['split'] = 'test'\n",
    "df_pass = pd.concat([X_train_pass, X_test_pass])\n",
    "df_pass = df_pass.merge(df, left_index=True, right_index=True, validate='1:1', how='left')\n",
    "df_pass.reset_index(drop=True, inplace=True)\n",
    "df_pass.to_parquet(os.path.join(cwd, 'data', 'modelling', 'lr_pass.parquet'))"
   ]
  }
 ],
 "metadata": {
  "kernelspec": {
   "display_name": "xGenv",
   "language": "python",
   "name": "xgenv"
  },
  "language_info": {
   "codemirror_mode": {
    "name": "ipython",
    "version": 3
   },
   "file_extension": ".py",
   "mimetype": "text/x-python",
   "name": "python",
   "nbconvert_exporter": "python",
   "pygments_lexer": "ipython3",
   "version": "3.7.9"
  }
 },
 "nbformat": 4,
 "nbformat_minor": 4
}
