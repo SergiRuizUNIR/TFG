{
 "cells": [
  {
   "cell_type": "code",
   "execution_count": 1,
   "id": "ce5f52d7",
   "metadata": {},
   "outputs": [],
   "source": [
    "import os\n",
    "import pandas as pd\n",
    "import numpy as np\n",
    "\n",
    "from sklearn.metrics import log_loss, roc_auc_score, roc_curve, make_scorer, brier_score_loss\n",
    "from sklearn.model_selection import cross_validate, train_test_split, GridSearchCV\n",
    "from sklearn.preprocessing import StandardScaler\n",
    "from sklearn.feature_selection import RFE\n",
    "from sklearn.linear_model import LogisticRegression\n",
    "from sklearn.calibration import calibration_curve, CalibratedClassifierCV\n",
    "from sklearn.inspection import permutation_importance\n",
    "from sklearn.ensemble import RandomForestClassifier\n",
    "from lightgbm import LGBMClassifier\n",
    "from xgboost import XGBClassifier\n",
    "\n",
    "from skopt import BayesSearchCV\n",
    "from skopt.space import Real, Integer\n",
    "\n",
    "from joblib import dump, load\n",
    "import matplotlib.pyplot as plt\n",
    "import seaborn as sns\n",
    "\n",
    "from sklearn.feature_selection import f_regression\n",
    "\n",
    "import warnings\n",
    "warnings.filterwarnings('ignore')"
   ]
  },
  {
   "cell_type": "code",
   "execution_count": 2,
   "id": "d9c1a050",
   "metadata": {},
   "outputs": [],
   "source": [
    "def mcfadden_r2(y, y_pred):\n",
    "    ll = log_loss(y, y_pred)\n",
    "    ll_null = log_loss(y, np.full(len(y), y.mean()))\n",
    "    return 1 - (ll/ll_null)\n",
    "pseudo_r2_scorer = make_scorer(mcfadden_r2, needs_proba=True, greater_is_better=True)\n",
    "scoring = {'roc_aug': 'roc_auc', 'mcfaddens_r2': pseudo_r2_scorer}"
   ]
  },
  {
   "cell_type": "code",
   "execution_count": 3,
   "id": "af0398c2",
   "metadata": {},
   "outputs": [],
   "source": [
    "cwd = os.getcwd()\n",
    "df = pd.read_parquet(os.path.join(cwd, 'data', 'shots.parquet'))\n",
    "df.drop(['match_id', 'statsbomb_id', 'statsbomb_team_id', 'player_id_statsbomb', 'competition_gender', 'team_name',\n",
    "         'player_id', 'firstName', 'middleName', 'lastName', 'Name', 'dataset', 'wyscout_id', 'wyscout_team_id', 'team_id',\n",
    "         'player_id_wyscout','competition_name','minute','shot_zone','match_week','pass_end_y',\n",
    "         'goalkeeper_x', 'goalkeeper_y', 'carry_length', 'shot_one_on_one', 'shot_open_goal','under_pressure', 'area_shot', \n",
    "         'area_goal', 'n_angle', 'smart_pass','pass_end_x'], axis=1, inplace=True)\n",
    "mask_penalty = (df.shot_type_name=='penalty')\n",
    "df_penalty = df[mask_penalty].copy()\n",
    "df_penalty.drop(['x','y','visible_angle','middle_angle','distance_to_goal','distance_visible_angle','log_distance_to_goal',\n",
    "                 'assist_type', 'pass_switch', 'pass_cross', 'pass_cut_back','counter_attack', 'pass_height_name',\n",
    "                 'pass_technique_name', 'shot_zone_number','shot_zone_player_number','fast_break', 'strong_foot',\n",
    "                 'body_part_name','shot_type_name'], axis=1, inplace=True)"
   ]
  },
  {
   "cell_type": "code",
   "execution_count": 4,
   "id": "8e4e380e",
   "metadata": {},
   "outputs": [],
   "source": [
    "df_p = pd.get_dummies(df_penalty, columns=['competition_type','competition_part','H_A_column','match_moment'])\n",
    "y_p = df_p['goal']\n",
    "x_p = df_p.drop(['goal'], axis=1)\n",
    "x_p_train, x_p_test, y_p_train, y_p_test = train_test_split(x_p, y_p, test_size=0.2, random_state=42, stratify=y_p)"
   ]
  },
  {
   "cell_type": "code",
   "execution_count": 5,
   "id": "4c524e25",
   "metadata": {},
   "outputs": [
    {
     "name": "stdout",
     "output_type": "stream",
     "text": [
      "Shots penalty train 656 ;Number goals 486 ;Goals %:  74.1\n",
      "Shots penalty test 165 ;Number goals 122 ;Goals %:  73.9\n"
     ]
    }
   ],
   "source": [
    "print('Shots penalty train', len(y_p_train), ';Number goals', y_p_train.sum(),\n",
    "      ';Goals %: ', round(y_p_train.mean()*100, 1))\n",
    "print('Shots penalty test', len(y_p_test), ';Number goals', y_p_test.sum(),\n",
    "      ';Goals %: ', round(y_p_test.mean()*100, 1))"
   ]
  },
  {
   "cell_type": "code",
   "execution_count": 6,
   "id": "ac222cf8",
   "metadata": {},
   "outputs": [],
   "source": [
    "logreg = LogisticRegression(solver='liblinear', n_jobs=-1, max_iter=100, random_state=42)\n",
    "rfe_p = RFE(logreg, 10)\n",
    "rfe_p = rfe_p.fit(x_p_train, y_p_train)\n",
    "\n",
    "x_p_train = x_p_train.loc[:, rfe_p.support_]\n",
    "x_p_test = x_p_test.loc[:, rfe_p.support_]"
   ]
  },
  {
   "cell_type": "code",
   "execution_count": 7,
   "id": "2980ad4a",
   "metadata": {},
   "outputs": [],
   "source": [
    "sc = StandardScaler()\n",
    "x_p_train_sc = sc.fit_transform(x_p_train)\n",
    "x_p_test_sc = sc.fit_transform(x_p_test)"
   ]
  },
  {
   "cell_type": "code",
   "execution_count": 8,
   "id": "c255f00d",
   "metadata": {},
   "outputs": [],
   "source": [
    "lr = LogisticRegression(random_state=42, solver='liblinear', max_iter=100, n_jobs=-1)"
   ]
  },
  {
   "cell_type": "code",
   "execution_count": 9,
   "id": "64b34e81",
   "metadata": {},
   "outputs": [],
   "source": [
    "grid={\"C\": np.logspace(-3,3,7)}"
   ]
  },
  {
   "cell_type": "code",
   "execution_count": 10,
   "id": "fdbe4f01",
   "metadata": {},
   "outputs": [],
   "source": [
    "logistic_regression_p = GridSearchCV(estimator=lr, param_grid=grid, scoring='neg_log_loss', n_jobs=-1)\n",
    "logistic_regression_p.fit(x_p_train_sc, y_p_train)\n",
    "train_y_p_hat = logistic_regression_p.predict_proba(x_p_train_sc.astype(float))\n",
    "y_pred_lr_p = logistic_regression_p.predict_proba(x_p_test_sc.astype(float))"
   ]
  },
  {
   "cell_type": "code",
   "execution_count": 11,
   "id": "d4f378a9",
   "metadata": {},
   "outputs": [
    {
     "name": "stdout",
     "output_type": "stream",
     "text": [
      "The log loss of our penalty model on the training set is : 0.566\n",
      "The ROC AUC of our penalty model on the training set is : 0.5803\n",
      "McFadden's Pseudo R-squared penaltys : 0.0107\n"
     ]
    }
   ],
   "source": [
    "naive_train_log_loss_p = log_loss(y_p_train, train_y_p_hat[:,1])\n",
    "naive_train_roc_auc_p = roc_auc_score(y_p_train, train_y_p_hat[:,1])\n",
    "print('The log loss of our penalty model on the training set is : ' +str(round(naive_train_log_loss_p, 4)))\n",
    "print('The ROC AUC of our penalty model on the training set is : ' +str(round(naive_train_roc_auc_p, 4)))\n",
    "print(\"McFadden's Pseudo R-squared penaltys : \"  +str(round( mcfadden_r2(y_p_train, train_y_p_hat), 4)))"
   ]
  },
  {
   "cell_type": "code",
   "execution_count": 12,
   "id": "4416eecb",
   "metadata": {},
   "outputs": [],
   "source": [
    "logreg = LogisticRegression(solver='liblinear', n_jobs=-1, max_iter=100, random_state=42)\n",
    "rfe_p2 = RFE(logreg, 8)\n",
    "rfe_p2 = rfe_p2.fit(x_p_train, y_p_train)\n",
    "\n",
    "x_p_train2 = x_p_train.loc[:, rfe_p2.support_]\n",
    "x_p_test2 = x_p_test.loc[:, rfe_p2.support_]"
   ]
  },
  {
   "cell_type": "code",
   "execution_count": 13,
   "id": "00681f4d",
   "metadata": {},
   "outputs": [],
   "source": [
    "sc = StandardScaler()\n",
    "x_p_train_sc2 = sc.fit_transform(x_p_train2)\n",
    "x_p_test_sc2 = sc.fit_transform(x_p_test2)"
   ]
  },
  {
   "cell_type": "code",
   "execution_count": 14,
   "id": "2bd332a1",
   "metadata": {},
   "outputs": [],
   "source": [
    "logistic_regression_p = GridSearchCV(estimator=lr, param_grid=grid, scoring='neg_log_loss', n_jobs=-1)\n",
    "logistic_regression_p.fit(x_p_train_sc2, y_p_train)\n",
    "train_y_p_hat = logistic_regression_p.predict_proba(x_p_train_sc2.astype(float))\n",
    "y_pred_lr_p = logistic_regression_p.predict_proba(x_p_test_sc2.astype(float))"
   ]
  },
  {
   "cell_type": "code",
   "execution_count": 15,
   "id": "4969ed17",
   "metadata": {},
   "outputs": [
    {
     "name": "stdout",
     "output_type": "stream",
     "text": [
      "The log loss of our penalty model on the training set is : 0.5662\n",
      "The ROC AUC of our penalty model on the training set is : 0.5816\n",
      "McFadden's Pseudo R-squared penaltys : 0.0104\n"
     ]
    }
   ],
   "source": [
    "naive_train_log_loss_p = log_loss(y_p_train, train_y_p_hat[:,1])\n",
    "naive_train_roc_auc_p = roc_auc_score(y_p_train, train_y_p_hat[:,1])\n",
    "print('The log loss of our penalty model on the training set is : ' +str(round(naive_train_log_loss_p, 4)))\n",
    "print('The ROC AUC of our penalty model on the training set is : ' +str(round(naive_train_roc_auc_p, 4)))\n",
    "print(\"McFadden's Pseudo R-squared penaltys : \"  +str(round( mcfadden_r2(y_p_train, train_y_p_hat), 4)))"
   ]
  },
  {
   "cell_type": "code",
   "execution_count": 16,
   "id": "5feb3968",
   "metadata": {},
   "outputs": [],
   "source": [
    "logreg = LogisticRegression(solver='liblinear', n_jobs=-1, max_iter=100, random_state=42)\n",
    "rfe_p3 = RFE(logreg, 1)\n",
    "rfe_p3 = rfe_p3.fit(x_p_train, y_p_train)\n",
    "\n",
    "x_p_train3 = x_p_train.loc[:, rfe_p3.support_]\n",
    "x_p_test3 = x_p_test.loc[:, rfe_p3.support_]"
   ]
  },
  {
   "cell_type": "code",
   "execution_count": 17,
   "id": "3dd2110b",
   "metadata": {},
   "outputs": [],
   "source": [
    "sc = StandardScaler()\n",
    "x_p_train_sc3 = sc.fit_transform(x_p_train3)\n",
    "x_p_test_sc3 = sc.fit_transform(x_p_test3)"
   ]
  },
  {
   "cell_type": "code",
   "execution_count": 18,
   "id": "668e2182",
   "metadata": {},
   "outputs": [
    {
     "name": "stdout",
     "output_type": "stream",
     "text": [
      "Wall time: 114 ms\n"
     ]
    }
   ],
   "source": [
    "logistic_regression_p = GridSearchCV(estimator=lr, param_grid=grid, scoring='neg_log_loss', n_jobs=-1)\n",
    "%time logistic_regression_p.fit(x_p_train_sc3, y_p_train)\n",
    "train_y_p_hat = logistic_regression_p.predict_proba(x_p_train_sc3.astype(float))\n",
    "y_pred_lr_p = logistic_regression_p.predict_proba(x_p_test_sc3.astype(float))"
   ]
  },
  {
   "cell_type": "code",
   "execution_count": 19,
   "id": "34b25e5e",
   "metadata": {},
   "outputs": [
    {
     "name": "stdout",
     "output_type": "stream",
     "text": [
      "The log loss of our penalty model on the training set is : 0.5716\n",
      "The ROC AUC of our penalty model on the training set is : 0.5063\n",
      "McFadden's Pseudo R-squared penaltys : 0.001\n"
     ]
    }
   ],
   "source": [
    "naive_train_log_loss_p = log_loss(y_p_train, train_y_p_hat[:,1])\n",
    "naive_train_roc_auc_p = roc_auc_score(y_p_train, train_y_p_hat[:,1])\n",
    "print('The log loss of our penalty model on the training set is : ' +str(round(naive_train_log_loss_p, 4)))\n",
    "print('The ROC AUC of our penalty model on the training set is : ' +str(round(naive_train_roc_auc_p, 4)))\n",
    "print(\"McFadden's Pseudo R-squared penaltys : \"  +str(round( mcfadden_r2(y_p_train, train_y_p_hat), 4)))"
   ]
  },
  {
   "cell_type": "code",
   "execution_count": 20,
   "id": "c7196017",
   "metadata": {},
   "outputs": [
    {
     "data": {
      "image/png": "[encoded data removed]",
      "text/plain": [
       "<Figure size 432x288 with 1 Axes>"
      ]
     },
     "metadata": {
      "needs_background": "light"
     },
     "output_type": "display_data"
    }
   ],
   "source": [
    "test_y_p_hat = logistic_regression_p.predict(x_p_test3.astype(float))\n",
    "train_p_fpr, train_p_tpr, train_p_thresholds = roc_curve(y_true=y_p_train, y_score=train_y_p_hat[:,1])\n",
    "test_p_fpr, test_p_tpr, test_p_thresholds = roc_curve(y_true=y_p_test, y_score=y_pred_lr_p[:,1])\n",
    "plt.plot(train_p_fpr, train_p_tpr, label = 'Train ROC AUC')\n",
    "plt.plot(test_p_fpr, test_p_tpr, label = 'Test ROC AUC')\n",
    "plt.plot([0, 1], [0, 1], color = 'black', linewidth = 2, linestyle = '--')\n",
    "plt.xlabel('False Positive Rate')\n",
    "plt.ylabel('True Positive Rate')\n",
    "plt.legend()\n",
    "plt.title('ROC AUC Curve For Naive Logistic Regression Model On Train vs Test Set')\n",
    "plt.show()"
   ]
  },
  {
   "cell_type": "code",
   "execution_count": 21,
   "id": "dd6d1c23",
   "metadata": {},
   "outputs": [
    {
     "name": "stdout",
     "output_type": "stream",
     "text": [
      "[0.372]\n"
     ]
    }
   ],
   "source": [
    "freg=f_regression(x_p_train_sc3, y_p_train)\n",
    "p=freg[1]\n",
    "print(p.round(3))"
   ]
  },
  {
   "cell_type": "markdown",
   "id": "8e673154",
   "metadata": {},
   "source": [
    "# LightGBM"
   ]
  },
  {
   "cell_type": "markdown",
   "id": "77496539",
   "metadata": {},
   "source": [
    "Load the data"
   ]
  },
  {
   "cell_type": "code",
   "execution_count": 22,
   "id": "44e56348",
   "metadata": {},
   "outputs": [],
   "source": [
    "df2 = pd.read_parquet(os.path.join(cwd, 'data', 'shots.parquet'))\n",
    "df2.drop(['match_id', 'statsbomb_id', 'statsbomb_team_id', 'player_id_statsbomb', 'competition_gender', 'team_name',\n",
    "         'player_id', 'firstName', 'middleName', 'lastName', 'Name', 'dataset', 'wyscout_id', 'wyscout_team_id', 'team_id',\n",
    "         'player_id_wyscout','competition_name','minute','shot_zone','competition_gender','match_week'], axis=1, inplace=True)\n",
    "mask_penalty = (df2.shot_type_name=='penalty')\n",
    "df_penalty = df2[mask_penalty].copy()\n",
    "df_penalty.drop(['x','y','visible_angle','middle_angle','distance_to_goal','distance_visible_angle','log_distance_to_goal',\n",
    "                 'assist_type', 'pass_switch', 'pass_cross', 'pass_cut_back','counter_attack', 'pass_height_name',\n",
    "                 'pass_technique_name', 'shot_zone_number','shot_zone_player_number','fast_break', 'strong_foot',\n",
    "                 'body_part_name','shot_type_name','smart_pass','carry_length','pass_end_x','pass_end_y',\n",
    "                 'goalkeeper_x', 'goalkeeper_y','n_angle','area_goal','area_shot','shot_one_on_one','shot_open_goal',\n",
    "                'under_pressure'], axis=1, inplace=True)\n",
    "X_penalty = df_penalty.drop('goal', axis=1)\n",
    "y_penalty = df_penalty.goal"
   ]
  },
  {
   "cell_type": "markdown",
   "id": "78e0af68",
   "metadata": {},
   "source": [
    "Split into train, calibration and test datasets"
   ]
  },
  {
   "cell_type": "code",
   "execution_count": 23,
   "id": "7928cdb1",
   "metadata": {},
   "outputs": [],
   "source": [
    "X_penalty_train_lgbm, X_penalty_test_lgbm, y_penalty_train_lgbm, y_penalty_test_lgbm = train_test_split(X_penalty, y_penalty,\n",
    "                                                                        train_size=0.8, random_state=42, stratify=y_penalty)"
   ]
  },
  {
   "cell_type": "markdown",
   "id": "bb31ab42",
   "metadata": {},
   "source": [
    "Clean data. Categories to numbers. Drop distance and angle measures as just want raw locations for my models."
   ]
  },
  {
   "cell_type": "code",
   "execution_count": 24,
   "id": "791ee985",
   "metadata": {},
   "outputs": [],
   "source": [
    "def clean_lightgbm_p(df):\n",
    "    df = df.copy()\n",
    "    # replace categorical columns\n",
    "    H_A_column_cat = {'Home Team': 0, 'Away Team': 1}\n",
    "    match_moment_cat = {'0-15': 0, '15-30': 1, '30-45': 2, '45-60': 3, '60-75': 4, '75-90': 5}\n",
    "    competition_type_cat = {'League': 0, 'Cup': 1}\n",
    "    competition_part_cat = {'start': 0, 'middle': 1, 'final': 2, 'group': 3, 'knockout': 4}\n",
    "    df.H_A_column.replace(H_A_column_cat, inplace=True)\n",
    "    df.match_moment.replace(match_moment_cat, inplace=True)\n",
    "    df.competition_type.replace(competition_type_cat, inplace=True)\n",
    "    df.competition_part.replace(competition_part_cat, inplace=True)\n",
    "    return df\n",
    "    \n",
    "X_penalty_train_lgbm = clean_lightgbm_p(X_penalty_train_lgbm)\n",
    "X_penalty_test_lgbm = clean_lightgbm_p(X_penalty_test_lgbm)"
   ]
  },
  {
   "cell_type": "markdown",
   "id": "48d2b566",
   "metadata": {},
   "source": [
    "Implementation of the model wiht a fitting of the nested 5-fold cross validation of the LGBM Classifier using Bayesian optimisation."
   ]
  },
  {
   "cell_type": "code",
   "execution_count": 25,
   "id": "50d4e633",
   "metadata": {},
   "outputs": [],
   "source": [
    "lgbm = CalibratedClassifierCV(LGBMClassifier(random_state=42), method='isotonic', cv=3)\n",
    "lgbm_param_grid = {'base_estimator__min_child_samples': Integer(0, 200),\n",
    "                   'base_estimator__num_leaves': Integer(2, 500),\n",
    "                   'base_estimator__reg_lambda': Real(0, 1),\n",
    "                   'base_estimator__reg_alpha': Real(0, 1),\n",
    "                   'base_estimator__max_depth': Integer(0, 500)}"
   ]
  },
  {
   "cell_type": "markdown",
   "id": "88f19383",
   "metadata": {},
   "source": [
    "Nested resampling using skopt and prediction finding of the test shots after the implementation."
   ]
  },
  {
   "cell_type": "code",
   "execution_count": 26,
   "id": "15074a8c",
   "metadata": {},
   "outputs": [
    {
     "name": "stdout",
     "output_type": "stream",
     "text": [
      "Wall time: 5min 25s\n"
     ]
    }
   ],
   "source": [
    "searchcv_lgbm_p = BayesSearchCV(estimator=lgbm,\n",
    "                         n_iter=100,\n",
    "                         search_spaces=lgbm_param_grid,\n",
    "                         cv=5,\n",
    "                         n_jobs=-1)\n",
    "%time searchcv_lgbm_p.fit(X_penalty_train_lgbm, y_penalty_train_lgbm)\n",
    "y_pred_lgbm_p = searchcv_lgbm_p.best_estimator_.predict_proba(X_penalty_test_lgbm)"
   ]
  },
  {
   "cell_type": "code",
   "execution_count": 27,
   "id": "08b177e6",
   "metadata": {},
   "outputs": [
    {
     "data": {
      "text/html": [
       "<div>\n",
       "<style scoped>\n",
       "    .dataframe tbody tr th:only-of-type {\n",
       "        vertical-align: middle;\n",
       "    }\n",
       "\n",
       "    .dataframe tbody tr th {\n",
       "        vertical-align: top;\n",
       "    }\n",
       "\n",
       "    .dataframe thead th {\n",
       "        text-align: right;\n",
       "    }\n",
       "</style>\n",
       "<table border=\"1\" class=\"dataframe\">\n",
       "  <thead>\n",
       "    <tr style=\"text-align: right;\">\n",
       "      <th></th>\n",
       "      <th>Feature</th>\n",
       "      <th>importance</th>\n",
       "      <th>std_dev</th>\n",
       "    </tr>\n",
       "  </thead>\n",
       "  <tbody>\n",
       "    <tr>\n",
       "      <th>0</th>\n",
       "      <td>competition_type</td>\n",
       "      <td>0.0</td>\n",
       "      <td>0.0</td>\n",
       "    </tr>\n",
       "    <tr>\n",
       "      <th>1</th>\n",
       "      <td>competition_part</td>\n",
       "      <td>0.0</td>\n",
       "      <td>0.0</td>\n",
       "    </tr>\n",
       "    <tr>\n",
       "      <th>2</th>\n",
       "      <td>H_A_column</td>\n",
       "      <td>0.0</td>\n",
       "      <td>0.0</td>\n",
       "    </tr>\n",
       "    <tr>\n",
       "      <th>3</th>\n",
       "      <td>match_moment</td>\n",
       "      <td>0.0</td>\n",
       "      <td>0.0</td>\n",
       "    </tr>\n",
       "    <tr>\n",
       "      <th>4</th>\n",
       "      <td>shot_number</td>\n",
       "      <td>0.0</td>\n",
       "      <td>0.0</td>\n",
       "    </tr>\n",
       "    <tr>\n",
       "      <th>5</th>\n",
       "      <td>shot_player_number</td>\n",
       "      <td>0.0</td>\n",
       "      <td>0.0</td>\n",
       "    </tr>\n",
       "    <tr>\n",
       "      <th>6</th>\n",
       "      <td>players</td>\n",
       "      <td>0.0</td>\n",
       "      <td>0.0</td>\n",
       "    </tr>\n",
       "    <tr>\n",
       "      <th>7</th>\n",
       "      <td>players_rival</td>\n",
       "      <td>0.0</td>\n",
       "      <td>0.0</td>\n",
       "    </tr>\n",
       "  </tbody>\n",
       "</table>\n",
       "</div>"
      ],
      "text/plain": [
       "              Feature  importance  std_dev\n",
       "0    competition_type         0.0      0.0\n",
       "1    competition_part         0.0      0.0\n",
       "2          H_A_column         0.0      0.0\n",
       "3        match_moment         0.0      0.0\n",
       "4         shot_number         0.0      0.0\n",
       "5  shot_player_number         0.0      0.0\n",
       "6             players         0.0      0.0\n",
       "7       players_rival         0.0      0.0"
      ]
     },
     "execution_count": 27,
     "metadata": {},
     "output_type": "execute_result"
    }
   ],
   "source": [
    "perm_result_p = permutation_importance(searchcv_lgbm_p.best_estimator_, X_penalty_train_lgbm, y_penalty_train_lgbm,\n",
    "                                       n_repeats=10, random_state=42)\n",
    "df_perm_importance_p = pd.DataFrame({'Feature':X_penalty_train_lgbm.columns,\n",
    "                                   'importance': perm_result_p.importances.mean(axis=1),\n",
    "                                   'std_dev': perm_result_p.importances.std(axis=1)})\n",
    "df_perm_importance_p.sort_values('importance', ascending=False, inplace=True)\n",
    "df_perm_importance_p.reset_index(drop=True, inplace=True)\n",
    "df_perm_importance_p"
   ]
  },
  {
   "cell_type": "code",
   "execution_count": 28,
   "id": "97bb5ac6",
   "metadata": {},
   "outputs": [
    {
     "data": {
      "image/png": "[encoded data removed]",
      "text/plain": [
       "<Figure size 1152x648 with 1 Axes>"
      ]
     },
     "metadata": {
      "needs_background": "light"
     },
     "output_type": "display_data"
    }
   ],
   "source": [
    "fig, ax = plt.subplots(figsize=(16, 9))\n",
    "sorted_idx = perm_result_p.importances_mean.argsort()\n",
    "bar_plot = ax.boxplot(perm_result_p.importances[sorted_idx].T, vert=False, labels=X_penalty_train_lgbm.columns[sorted_idx])"
   ]
  },
  {
   "cell_type": "markdown",
   "id": "ad965663",
   "metadata": {},
   "source": [
    "# XGBoost"
   ]
  },
  {
   "cell_type": "markdown",
   "id": "e2b8e73b",
   "metadata": {},
   "source": [
    "Same process of splitting, adding data fake and cleaning of the LightGBM model."
   ]
  },
  {
   "cell_type": "code",
   "execution_count": 29,
   "id": "1a47112a",
   "metadata": {},
   "outputs": [],
   "source": [
    "df3 = pd.read_parquet(os.path.join(cwd, 'data', 'shots.parquet'))\n",
    "df3.drop(['match_id', 'statsbomb_id', 'statsbomb_team_id', 'player_id_statsbomb', 'competition_gender', 'team_name',\n",
    "         'player_id', 'firstName', 'middleName', 'lastName', 'Name', 'dataset', 'wyscout_id', 'wyscout_team_id', 'team_id',\n",
    "         'player_id_wyscout','competition_name','minute','shot_zone','competition_gender','match_week'], axis=1, inplace=True)\n",
    "mask_penalty = (df3.shot_type_name=='penalty')\n",
    "df_penalty = df3[mask_penalty].copy()\n",
    "df_penalty.drop(['x','y','visible_angle','middle_angle','distance_to_goal','distance_visible_angle','log_distance_to_goal',\n",
    "                 'assist_type', 'pass_switch', 'pass_cross', 'pass_cut_back','counter_attack', 'pass_height_name',\n",
    "                 'pass_technique_name', 'shot_zone_number','shot_zone_player_number','fast_break', 'strong_foot',\n",
    "                 'body_part_name','shot_type_name','smart_pass','carry_length','pass_end_x','pass_end_y',\n",
    "                 'goalkeeper_x', 'goalkeeper_y','n_angle','area_goal','area_shot','shot_one_on_one','shot_open_goal',\n",
    "                'under_pressure'], axis=1, inplace=True)\n",
    "X_penalty = df_penalty.drop('goal', axis=1)\n",
    "y_penalty = df_penalty.goal"
   ]
  },
  {
   "cell_type": "code",
   "execution_count": 30,
   "id": "1b0050fc",
   "metadata": {},
   "outputs": [],
   "source": [
    "X_penalty_train_xgb, X_penalty_test_xgb, y_penalty_train_xgb, y_penalty_test_xgb = train_test_split(X_penalty, y_penalty,\n",
    "                                                                        train_size=0.8, random_state=42, stratify=y_penalty)"
   ]
  },
  {
   "cell_type": "code",
   "execution_count": 31,
   "id": "88b8e53e",
   "metadata": {},
   "outputs": [],
   "source": [
    "def clean_lightgbm_p(df):\n",
    "    df = df.copy()\n",
    "    # replace categorical columns\n",
    "    H_A_column_cat = {'Home Team': 0, 'Away Team': 1}\n",
    "    match_moment_cat = {'0-15': 0, '15-30': 1, '30-45': 2, '45-60': 3, '60-75': 4, '75-90': 5}\n",
    "    competition_type_cat = {'League': 0, 'Cup': 1}\n",
    "    competition_part_cat = {'start': 0, 'middle': 1, 'final': 2, 'group': 3, 'knockout': 4}\n",
    "    df.H_A_column.replace(H_A_column_cat, inplace=True)\n",
    "    df.match_moment.replace(match_moment_cat, inplace=True)\n",
    "    df.competition_type.replace(competition_type_cat, inplace=True)\n",
    "    df.competition_part.replace(competition_part_cat, inplace=True)\n",
    "    return df\n",
    "    \n",
    "X_penalty_train_xgb = clean_lightgbm_p(X_penalty_train_xgb)\n",
    "X_penalty_test_xgb = clean_lightgbm_p(X_penalty_test_xgb)"
   ]
  },
  {
   "cell_type": "markdown",
   "id": "bb5a6b3b",
   "metadata": {},
   "source": [
    "Implementation of the model wiht a fitting of the nested 5-fold cross validation of the LGBM Classifier using Bayesian optimisation."
   ]
  },
  {
   "cell_type": "code",
   "execution_count": 32,
   "id": "d4cb303e",
   "metadata": {},
   "outputs": [],
   "source": [
    "xgb = CalibratedClassifierCV(XGBClassifier(random_state=42, eval_metric='logloss'), method='isotonic', cv=3)\n",
    "xgb_param_grid = {'base_estimator__min_child_weight': Integer(0, 50),\n",
    "                   'base_estimator__reg_lambda': Real(0, 1),\n",
    "                   'base_estimator__reg_alpha': Real(0, 1),\n",
    "                   'base_estimator__max_depth': Integer(0, 10)}"
   ]
  },
  {
   "cell_type": "markdown",
   "id": "f4048cd3",
   "metadata": {},
   "source": [
    "Nested resampling using skopt and prediction finding of the test shots after the implementation."
   ]
  },
  {
   "cell_type": "code",
   "execution_count": 33,
   "id": "4ab31edf",
   "metadata": {},
   "outputs": [
    {
     "name": "stdout",
     "output_type": "stream",
     "text": [
      "Wall time: 5min\n"
     ]
    }
   ],
   "source": [
    "searchcv_xgb_p = BayesSearchCV(estimator=xgb,\n",
    "                             n_iter=100,\n",
    "                             search_spaces=xgb_param_grid,\n",
    "                             cv=5,\n",
    "                             n_jobs=-1)\n",
    "%time searchcv_xgb_p.fit(X_penalty_train_xgb, y_penalty_train_xgb)\n",
    "y_pred_xgb_p = searchcv_xgb_p.best_estimator_.predict_proba(X_penalty_test_xgb)"
   ]
  },
  {
   "cell_type": "code",
   "execution_count": 34,
   "id": "2331b2e5",
   "metadata": {},
   "outputs": [
    {
     "data": {
      "text/html": [
       "<div>\n",
       "<style scoped>\n",
       "    .dataframe tbody tr th:only-of-type {\n",
       "        vertical-align: middle;\n",
       "    }\n",
       "\n",
       "    .dataframe tbody tr th {\n",
       "        vertical-align: top;\n",
       "    }\n",
       "\n",
       "    .dataframe thead th {\n",
       "        text-align: right;\n",
       "    }\n",
       "</style>\n",
       "<table border=\"1\" class=\"dataframe\">\n",
       "  <thead>\n",
       "    <tr style=\"text-align: right;\">\n",
       "      <th></th>\n",
       "      <th>Feature</th>\n",
       "      <th>importance</th>\n",
       "      <th>std_dev</th>\n",
       "    </tr>\n",
       "  </thead>\n",
       "  <tbody>\n",
       "    <tr>\n",
       "      <th>0</th>\n",
       "      <td>competition_type</td>\n",
       "      <td>0.0</td>\n",
       "      <td>0.0</td>\n",
       "    </tr>\n",
       "    <tr>\n",
       "      <th>1</th>\n",
       "      <td>competition_part</td>\n",
       "      <td>0.0</td>\n",
       "      <td>0.0</td>\n",
       "    </tr>\n",
       "    <tr>\n",
       "      <th>2</th>\n",
       "      <td>H_A_column</td>\n",
       "      <td>0.0</td>\n",
       "      <td>0.0</td>\n",
       "    </tr>\n",
       "    <tr>\n",
       "      <th>3</th>\n",
       "      <td>match_moment</td>\n",
       "      <td>0.0</td>\n",
       "      <td>0.0</td>\n",
       "    </tr>\n",
       "    <tr>\n",
       "      <th>4</th>\n",
       "      <td>shot_number</td>\n",
       "      <td>0.0</td>\n",
       "      <td>0.0</td>\n",
       "    </tr>\n",
       "    <tr>\n",
       "      <th>5</th>\n",
       "      <td>shot_player_number</td>\n",
       "      <td>0.0</td>\n",
       "      <td>0.0</td>\n",
       "    </tr>\n",
       "    <tr>\n",
       "      <th>6</th>\n",
       "      <td>players</td>\n",
       "      <td>0.0</td>\n",
       "      <td>0.0</td>\n",
       "    </tr>\n",
       "    <tr>\n",
       "      <th>7</th>\n",
       "      <td>players_rival</td>\n",
       "      <td>0.0</td>\n",
       "      <td>0.0</td>\n",
       "    </tr>\n",
       "  </tbody>\n",
       "</table>\n",
       "</div>"
      ],
      "text/plain": [
       "              Feature  importance  std_dev\n",
       "0    competition_type         0.0      0.0\n",
       "1    competition_part         0.0      0.0\n",
       "2          H_A_column         0.0      0.0\n",
       "3        match_moment         0.0      0.0\n",
       "4         shot_number         0.0      0.0\n",
       "5  shot_player_number         0.0      0.0\n",
       "6             players         0.0      0.0\n",
       "7       players_rival         0.0      0.0"
      ]
     },
     "execution_count": 34,
     "metadata": {},
     "output_type": "execute_result"
    }
   ],
   "source": [
    "perm_result_xgb_p = permutation_importance(searchcv_xgb_p.best_estimator_, X_penalty_train_xgb, y_penalty_train_xgb,\n",
    "                                           n_repeats=10, random_state=42)\n",
    "df_perm_importance_xgb_p = pd.DataFrame({'Feature':X_penalty_train_xgb.columns,\n",
    "                                   'importance': perm_result_xgb_p.importances.mean(axis=1),\n",
    "                                   'std_dev': perm_result_xgb_p.importances.std(axis=1)})\n",
    "df_perm_importance_xgb_p.sort_values('importance', ascending=False, inplace=True)\n",
    "df_perm_importance_xgb_p.reset_index(drop=True, inplace=True)\n",
    "df_perm_importance_xgb_p"
   ]
  },
  {
   "cell_type": "code",
   "execution_count": 35,
   "id": "38494192",
   "metadata": {},
   "outputs": [
    {
     "data": {
      "image/png": "[encoded data removed]",
      "text/plain": [
       "<Figure size 1152x648 with 1 Axes>"
      ]
     },
     "metadata": {
      "needs_background": "light"
     },
     "output_type": "display_data"
    }
   ],
   "source": [
    "fig, ax = plt.subplots(figsize=(16, 9))\n",
    "sorted_idx = perm_result_xgb_p.importances_mean.argsort()\n",
    "bar_plot = ax.boxplot(perm_result_xgb_p.importances[sorted_idx].T, vert=False, labels=X_penalty_train_xgb.columns[sorted_idx])"
   ]
  },
  {
   "cell_type": "markdown",
   "id": "335dd67d",
   "metadata": {},
   "source": [
    "# Random Forest"
   ]
  },
  {
   "cell_type": "markdown",
   "id": "1df59e9d",
   "metadata": {},
   "source": [
    "Same process of splitting and generation of dummy variables of the Logistic Regression model."
   ]
  },
  {
   "cell_type": "code",
   "execution_count": 36,
   "id": "1a486d5b",
   "metadata": {},
   "outputs": [],
   "source": [
    "cwd = os.getcwd()\n",
    "df4 = pd.read_parquet(os.path.join(cwd, 'data', 'shots.parquet'))\n",
    "df4.drop(['match_id', 'statsbomb_id', 'statsbomb_team_id', 'player_id_statsbomb', 'competition_gender', 'team_name',\n",
    "         'player_id', 'firstName', 'middleName', 'lastName', 'Name', 'dataset', 'wyscout_id', 'wyscout_team_id', 'team_id',\n",
    "         'player_id_wyscout','competition_name','minute','shot_zone','match_week','pass_end_y',\n",
    "         'goalkeeper_x', 'goalkeeper_y', 'carry_length', 'shot_one_on_one', 'shot_open_goal','under_pressure', 'area_shot', \n",
    "         'area_goal', 'n_angle', 'smart_pass','pass_end_x'], axis=1, inplace=True)\n",
    "mask_penalty = (df4.shot_type_name=='penalty')\n",
    "df_penalty_rf = df4[mask_penalty].copy()\n",
    "df_penalty_rf.drop(['x','y','visible_angle','middle_angle','distance_to_goal','distance_visible_angle','log_distance_to_goal',\n",
    "                 'assist_type', 'pass_switch', 'pass_cross', 'pass_cut_back','counter_attack', 'pass_height_name',\n",
    "                 'pass_technique_name', 'shot_zone_number','shot_zone_player_number','fast_break', 'strong_foot',\n",
    "                 'body_part_name','shot_type_name'], axis=1, inplace=True)"
   ]
  },
  {
   "cell_type": "code",
   "execution_count": 37,
   "id": "a37d96f7",
   "metadata": {},
   "outputs": [],
   "source": [
    "df_p_rf = pd.get_dummies(df_penalty_rf, columns=['competition_type','competition_part','H_A_column','match_moment'])\n",
    "y_p_rf = df_p_rf['goal']\n",
    "x_p_rf = df_p_rf.drop(['goal'], axis=1)\n",
    "x_p_train_rf, x_p_test_rf, y_p_train_rf, y_p_test_rf = train_test_split(x_p_rf, y_p_rf, train_size=0.8, random_state=42,\n",
    "                                                                    stratify=y_p_rf)"
   ]
  },
  {
   "cell_type": "markdown",
   "id": "b9af883d",
   "metadata": {},
   "source": [
    "Implementation of the model wiht a fitting of the nested 5-fold cross validation of the LGBM Classifier using Bayesian optimisation."
   ]
  },
  {
   "cell_type": "code",
   "execution_count": 38,
   "id": "25d7b18a",
   "metadata": {},
   "outputs": [],
   "source": [
    "rf = CalibratedClassifierCV(RandomForestClassifier(random_state=42), method='isotonic', cv=3)\n",
    "rf_param_grid = {'base_estimator__n_estimators': [100, 500],\n",
    "                   'base_estimator__max_features': ['auto'],\n",
    "                   'base_estimator__min_samples_leaf': [1, 5, 20, 100],\n",
    "                   'base_estimator__min_samples_split': [2, 10, 50, 250],\n",
    "                   'base_estimator__criterion': [\"gini\", \"entropy\"],\n",
    "                   'base_estimator__max_depth': [4, 6, 8, 10, None]\n",
    "}"
   ]
  },
  {
   "cell_type": "markdown",
   "id": "6e4047af",
   "metadata": {},
   "source": [
    "Nested resampling using skopt and prediction finding of the test shots after the implementation."
   ]
  },
  {
   "cell_type": "code",
   "execution_count": 39,
   "id": "89361075",
   "metadata": {},
   "outputs": [
    {
     "name": "stdout",
     "output_type": "stream",
     "text": [
      "Wall time: 11min 12s\n"
     ]
    }
   ],
   "source": [
    "searchcv_rf_p = BayesSearchCV(estimator=rf,\n",
    "                                 n_iter=100,\n",
    "                                 search_spaces=rf_param_grid,\n",
    "                                 cv=5,\n",
    "                                 n_jobs=-1)\n",
    "%time searchcv_rf_p.fit(x_p_train_rf, y_p_train_rf)\n",
    "y_pred_rf_p = searchcv_rf_p.best_estimator_.predict_proba(x_p_test_rf)"
   ]
  },
  {
   "cell_type": "code",
   "execution_count": 40,
   "id": "fe52666f",
   "metadata": {},
   "outputs": [
    {
     "data": {
      "text/html": [
       "<div>\n",
       "<style scoped>\n",
       "    .dataframe tbody tr th:only-of-type {\n",
       "        vertical-align: middle;\n",
       "    }\n",
       "\n",
       "    .dataframe tbody tr th {\n",
       "        vertical-align: top;\n",
       "    }\n",
       "\n",
       "    .dataframe thead th {\n",
       "        text-align: right;\n",
       "    }\n",
       "</style>\n",
       "<table border=\"1\" class=\"dataframe\">\n",
       "  <thead>\n",
       "    <tr style=\"text-align: right;\">\n",
       "      <th></th>\n",
       "      <th>Feature</th>\n",
       "      <th>importance</th>\n",
       "      <th>std_dev</th>\n",
       "    </tr>\n",
       "  </thead>\n",
       "  <tbody>\n",
       "    <tr>\n",
       "      <th>0</th>\n",
       "      <td>shot_player_number</td>\n",
       "      <td>0.007165</td>\n",
       "      <td>0.001934</td>\n",
       "    </tr>\n",
       "    <tr>\n",
       "      <th>1</th>\n",
       "      <td>shot_number</td>\n",
       "      <td>0.006860</td>\n",
       "      <td>0.002073</td>\n",
       "    </tr>\n",
       "    <tr>\n",
       "      <th>2</th>\n",
       "      <td>competition_part_final</td>\n",
       "      <td>0.006098</td>\n",
       "      <td>0.002640</td>\n",
       "    </tr>\n",
       "    <tr>\n",
       "      <th>3</th>\n",
       "      <td>match_moment_60-75</td>\n",
       "      <td>0.005640</td>\n",
       "      <td>0.001810</td>\n",
       "    </tr>\n",
       "    <tr>\n",
       "      <th>4</th>\n",
       "      <td>competition_part_group</td>\n",
       "      <td>0.004268</td>\n",
       "      <td>0.001642</td>\n",
       "    </tr>\n",
       "    <tr>\n",
       "      <th>5</th>\n",
       "      <td>H_A_column_Home Team</td>\n",
       "      <td>0.004116</td>\n",
       "      <td>0.001677</td>\n",
       "    </tr>\n",
       "    <tr>\n",
       "      <th>6</th>\n",
       "      <td>H_A_column_Away Team</td>\n",
       "      <td>0.004116</td>\n",
       "      <td>0.001677</td>\n",
       "    </tr>\n",
       "    <tr>\n",
       "      <th>7</th>\n",
       "      <td>competition_type_Cup</td>\n",
       "      <td>0.003049</td>\n",
       "      <td>0.001181</td>\n",
       "    </tr>\n",
       "    <tr>\n",
       "      <th>8</th>\n",
       "      <td>competition_type_League</td>\n",
       "      <td>0.003049</td>\n",
       "      <td>0.001181</td>\n",
       "    </tr>\n",
       "    <tr>\n",
       "      <th>9</th>\n",
       "      <td>competition_part_middle</td>\n",
       "      <td>0.002287</td>\n",
       "      <td>0.001023</td>\n",
       "    </tr>\n",
       "    <tr>\n",
       "      <th>10</th>\n",
       "      <td>competition_part_start</td>\n",
       "      <td>0.001677</td>\n",
       "      <td>0.001266</td>\n",
       "    </tr>\n",
       "    <tr>\n",
       "      <th>11</th>\n",
       "      <td>match_moment_45-60</td>\n",
       "      <td>0.001220</td>\n",
       "      <td>0.001141</td>\n",
       "    </tr>\n",
       "    <tr>\n",
       "      <th>12</th>\n",
       "      <td>match_moment_75-90</td>\n",
       "      <td>0.000915</td>\n",
       "      <td>0.000747</td>\n",
       "    </tr>\n",
       "    <tr>\n",
       "      <th>13</th>\n",
       "      <td>players_rival</td>\n",
       "      <td>0.000762</td>\n",
       "      <td>0.001023</td>\n",
       "    </tr>\n",
       "    <tr>\n",
       "      <th>14</th>\n",
       "      <td>match_moment_0-15</td>\n",
       "      <td>0.000762</td>\n",
       "      <td>0.001023</td>\n",
       "    </tr>\n",
       "    <tr>\n",
       "      <th>15</th>\n",
       "      <td>match_moment_15-30</td>\n",
       "      <td>0.000610</td>\n",
       "      <td>0.001011</td>\n",
       "    </tr>\n",
       "    <tr>\n",
       "      <th>16</th>\n",
       "      <td>match_moment_30-45</td>\n",
       "      <td>0.000305</td>\n",
       "      <td>0.001904</td>\n",
       "    </tr>\n",
       "    <tr>\n",
       "      <th>17</th>\n",
       "      <td>competition_part_knockout</td>\n",
       "      <td>0.000000</td>\n",
       "      <td>0.000000</td>\n",
       "    </tr>\n",
       "    <tr>\n",
       "      <th>18</th>\n",
       "      <td>players</td>\n",
       "      <td>0.000000</td>\n",
       "      <td>0.000682</td>\n",
       "    </tr>\n",
       "  </tbody>\n",
       "</table>\n",
       "</div>"
      ],
      "text/plain": [
       "                      Feature  importance   std_dev\n",
       "0          shot_player_number    0.007165  0.001934\n",
       "1                 shot_number    0.006860  0.002073\n",
       "2      competition_part_final    0.006098  0.002640\n",
       "3          match_moment_60-75    0.005640  0.001810\n",
       "4      competition_part_group    0.004268  0.001642\n",
       "5        H_A_column_Home Team    0.004116  0.001677\n",
       "6        H_A_column_Away Team    0.004116  0.001677\n",
       "7        competition_type_Cup    0.003049  0.001181\n",
       "8     competition_type_League    0.003049  0.001181\n",
       "9     competition_part_middle    0.002287  0.001023\n",
       "10     competition_part_start    0.001677  0.001266\n",
       "11         match_moment_45-60    0.001220  0.001141\n",
       "12         match_moment_75-90    0.000915  0.000747\n",
       "13              players_rival    0.000762  0.001023\n",
       "14          match_moment_0-15    0.000762  0.001023\n",
       "15         match_moment_15-30    0.000610  0.001011\n",
       "16         match_moment_30-45    0.000305  0.001904\n",
       "17  competition_part_knockout    0.000000  0.000000\n",
       "18                    players    0.000000  0.000682"
      ]
     },
     "execution_count": 40,
     "metadata": {},
     "output_type": "execute_result"
    }
   ],
   "source": [
    "perm_result_rf_p = permutation_importance(searchcv_rf_p.best_estimator_, x_p_train_rf, y_p_train_rf, n_repeats=10,\n",
    "                                     random_state=42)\n",
    "df_perm_importance_rf_p = pd.DataFrame({'Feature':x_p_train_rf.columns,\n",
    "                                   'importance': perm_result_rf_p.importances.mean(axis=1),\n",
    "                                   'std_dev': perm_result_rf_p.importances.std(axis=1)})\n",
    "df_perm_importance_rf_p.sort_values('importance', ascending=False, inplace=True)\n",
    "df_perm_importance_rf_p.reset_index(drop=True, inplace=True)\n",
    "df_perm_importance_rf_p"
   ]
  },
  {
   "cell_type": "code",
   "execution_count": 41,
   "id": "c55e04fe",
   "metadata": {},
   "outputs": [
    {
     "data": {
      "image/png": "[encoded data removed]",
      "text/plain": [
       "<Figure size 1152x648 with 1 Axes>"
      ]
     },
     "metadata": {
      "needs_background": "light"
     },
     "output_type": "display_data"
    }
   ],
   "source": [
    "fig, ax = plt.subplots(figsize=(16, 9))\n",
    "sorted_idx = perm_result_rf_p.importances_mean.argsort()\n",
    "bar_plot = ax.boxplot(perm_result_rf_p.importances[sorted_idx].T, vert=False, labels=x_p_train_rf.columns[sorted_idx])"
   ]
  },
  {
   "cell_type": "markdown",
   "id": "58c57367",
   "metadata": {},
   "source": [
    "# Test"
   ]
  },
  {
   "cell_type": "markdown",
   "id": "fa45f1d1",
   "metadata": {},
   "source": [
    "Calculate calibration curve on test data for penalty shots"
   ]
  },
  {
   "cell_type": "code",
   "execution_count": 42,
   "id": "996cccd6",
   "metadata": {},
   "outputs": [],
   "source": [
    "# logistic regression\n",
    "y_true_test_lr_p = y_p_test\n",
    "fraction_of_positives_lr_p, mean_predicted_value_lr_p = calibration_curve(y_true_test_lr_p, y_pred_lr_p[:,1], n_bins=10,\n",
    "                                                                      strategy='quantile')\n",
    "# lightGBM\n",
    "fraction_of_positives_lgbm_p, mean_predicted_value_lgbm_p = calibration_curve(y_penalty_test_lgbm, y_pred_lgbm_p[:, 1],\n",
    "                                                                              n_bins=10, strategy='quantile')\n",
    "# XGBoost\n",
    "fraction_of_positives_xgb_p, mean_predicted_value_xgb_p = calibration_curve(y_penalty_test_xgb, y_pred_xgb_p[:, 1],\n",
    "                                                                            n_bins=10, strategy='quantile')\n",
    "# Random Forest\n",
    "y_true_test_rf_p = y_p_test_rf\n",
    "fraction_of_positives_rf_p, mean_predicted_value_rf_p = calibration_curve(y_true_test_rf_p, y_pred_rf_p[:,1], n_bins=10,\n",
    "                                                                      strategy='quantile')"
   ]
  },
  {
   "cell_type": "code",
   "execution_count": 43,
   "id": "525312ca",
   "metadata": {},
   "outputs": [
    {
     "data": {
      "text/plain": [
       "Text(0.5, 1.0, 'Distribution of predictions')"
      ]
     },
     "execution_count": 43,
     "metadata": {},
     "output_type": "execute_result"
    },
    {
     "data": {
      "image/png": "[encoded data removed]",
      "text/plain": [
       "<Figure size 720x1080 with 2 Axes>"
      ]
     },
     "metadata": {
      "needs_background": "light"
     },
     "output_type": "display_data"
    }
   ],
   "source": [
    "# Plot calibration curve on test data\n",
    "fig = plt.figure(constrained_layout=True, figsize=(10, 15))\n",
    "gs = fig.add_gridspec(ncols=1, nrows=2, height_ratios=(2/3, 1/3))\n",
    "ax1 = fig.add_subplot(gs[0])\n",
    "ax1.plot(mean_predicted_value_lgbm_p, fraction_of_positives_lgbm_p, \"-o\", color='#aabced', label='Calibrated Light GBM')\n",
    "ax1.plot(mean_predicted_value_lr_p, fraction_of_positives_lr_p, \"-o\", color='#dbdf4a', label='Logistic regression')\n",
    "ax1.plot(mean_predicted_value_xgb_p, fraction_of_positives_xgb_p, \"-o\", color='#e88fb9', label='Calibrated XGBoost')\n",
    "ax1.plot(mean_predicted_value_rf_p, fraction_of_positives_rf_p, \"-o\", color='#16e01d', label='Calibrated Random Forest')\n",
    "ax1.plot([0.5, 1], [0.5, 1], \"--\", color='#e7aeca', label=\"Perfectly calibrated\")\n",
    "ax1.set_xlabel('Mean predicted value', fontsize=15)\n",
    "ax1.set_ylabel('Fraction of positives', fontsize=15)\n",
    "ax1.set_title('Calibration curve', fontsize=20, pad=10)\n",
    "ax1.legend(fontsize=15)\n",
    "ax1.tick_params(labelsize=15)\n",
    "ax2 = fig.add_subplot(gs[1])\n",
    "sns.distplot(y_pred_lgbm_p[:, 1], color='#aabced', label='Calibrated Light GBM', kde=False, ax=ax2)\n",
    "sns.distplot(y_pred_lr_p[:,1], color='#4fe4e4', label='Logistic regression', kde=False, ax=ax2)\n",
    "sns.distplot(y_pred_xgb_p[:, 1], color='#e88fb9', label='Calibrated XGBoost', kde=False, ax=ax2)\n",
    "sns.distplot(y_pred_rf_p[:, 1], color='#16e01d', label='Calibrated Random Forest', kde=False, ax=ax2)\n",
    "ax2.set_xlabel('Predicted value', fontsize=15)\n",
    "ax2.set_ylabel('Count', fontsize=15)\n",
    "ax2.tick_params(labelsize=15)\n",
    "ax2.legend(fontsize=15)\n",
    "ax2.set_title('Distribution of predictions', fontsize=20, pad=10)"
   ]
  },
  {
   "cell_type": "code",
   "execution_count": 44,
   "id": "dd877ce6",
   "metadata": {},
   "outputs": [
    {
     "name": "stdout",
     "output_type": "stream",
     "text": [
      "The log loss of the penalty model with Logistic Regresion is: 0.5775764872397784\n",
      "The ROC AUC score of the penalty model with Logistic Regresion is: 0.47950819672131145\n",
      "The McFaddens Pseudo R-squared of the penalty model with Logistic Regresion is: -0.006774747037232576\n",
      "The Brier score of the penalty model with Logistic Regresion is: 0.19432202819252753\n"
     ]
    }
   ],
   "source": [
    "print(\"The log loss of the penalty model with Logistic Regresion is: \" + str(log_loss(y_true_test_lr_p, y_pred_lr_p[:,1])))\n",
    "print(\"The ROC AUC score of the penalty model with Logistic Regresion is: \" +str(roc_auc_score(y_true_test_lr_p,\n",
    "                                                                                               y_pred_lr_p[:,1])))\n",
    "print('The McFaddens Pseudo R-squared of the penalty model with Logistic Regresion is:', mcfadden_r2(y_true_test_lr_p,\n",
    "                                                                                                y_pred_lr_p[:,1]))\n",
    "print('The Brier score of the penalty model with Logistic Regresion is:',brier_score_loss(y_true_test_lr_p, y_pred_lr_p[:,1],\n",
    "                                                                         pos_label=y_true_test_lr_p.max()))"
   ]
  },
  {
   "cell_type": "code",
   "execution_count": 45,
   "id": "435aaab3",
   "metadata": {},
   "outputs": [
    {
     "name": "stdout",
     "output_type": "stream",
     "text": [
      "The log loss of the penalty model with LightGBM is: 0.5726134710586738\n",
      "The ROC AUC score of the penalty model with LightGBM is: 0.5335493709492948\n",
      "The McFaddens Pseudo R-squared of the penalty model with LightGBM is: 0.0018762965399602427\n",
      "The Brier score of the penalty model with LightGBM is: 0.1920229050417127\n"
     ]
    }
   ],
   "source": [
    "print(\"The log loss of the penalty model with LightGBM is: \" + str(log_loss(y_penalty_test_lgbm, y_pred_lgbm_p)))\n",
    "print(\"The ROC AUC score of the penalty model with LightGBM is: \" +str(roc_auc_score(y_penalty_test_lgbm,\n",
    "                                                                                  y_pred_lgbm_p[:,1])))\n",
    "print('The McFaddens Pseudo R-squared of the penalty model with LightGBM is:', mcfadden_r2(y_penalty_test_lgbm,\n",
    "                                                                                                     y_pred_lgbm_p[:,1]))\n",
    "print('The Brier score of the penalty model with LightGBM is:',brier_score_loss(y_penalty_test_lgbm, y_pred_lgbm_p[:,1], \n",
    "                                                           pos_label=y_penalty_test_lgbm.max()))"
   ]
  },
  {
   "cell_type": "code",
   "execution_count": 46,
   "id": "7bceb63a",
   "metadata": {},
   "outputs": [
    {
     "name": "stdout",
     "output_type": "stream",
     "text": [
      "The log loss of the penalty model with XGBoost is: 0.5805015369136405\n",
      "The ROC AUC score of the penalty model with XGBoost is: 0.49208921082729695\n",
      "The McFaddens Pseudo R-squared of the penalty model with XGBoost is: -0.011873407059816543\n",
      "The Brier score of the penalty model with XGBoost is: 0.19560164857333087\n"
     ]
    }
   ],
   "source": [
    "print(\"The log loss of the penalty model with XGBoost is: \" + str(log_loss(y_penalty_test_xgb, y_pred_xgb_p)))\n",
    "print(\"The ROC AUC score of the penalty model with XGBoost is: \" +str(roc_auc_score(y_penalty_test_xgb, \n",
    "                                                                                  y_pred_xgb_p[:,1])))\n",
    "print('The McFaddens Pseudo R-squared of the penalty model with XGBoost is:', mcfadden_r2(y_penalty_test_xgb,\n",
    "                                                                                           y_pred_xgb_p[:,1]))\n",
    "print('The Brier score of the penalty model with XGBoost is:',brier_score_loss(y_penalty_test_xgb, y_pred_xgb_p[:,1], \n",
    "                                                           pos_label=y_penalty_test_xgb.max()))"
   ]
  },
  {
   "cell_type": "code",
   "execution_count": 47,
   "id": "31f72a1c",
   "metadata": {},
   "outputs": [
    {
     "name": "stdout",
     "output_type": "stream",
     "text": [
      "The log loss of the non-penalty model with Random Forest is: 0.5767611080146358\n",
      "The ROC AUC score of the non-penalty model with Random Forest is: 0.5035264963781929\n",
      "The McFaddens Pseudo R-squared of the non-penalty model with Random Forest is: -0.005353457855161503\n",
      "The Brier score of the non-penalty model with Random Forest is: 0.19408873143077873\n"
     ]
    }
   ],
   "source": [
    "print(\"The log loss of the non-penalty model with Random Forest is: \" + str(log_loss(y_true_test_rf_p, y_pred_rf_p)))\n",
    "print(\"The ROC AUC score of the non-penalty model with Random Forest is: \" +str(roc_auc_score(y_true_test_rf_p,\n",
    "                                                                                             y_pred_rf_p[:,1])))\n",
    "print('The McFaddens Pseudo R-squared of the non-penalty model with Random Forest is:', mcfadden_r2(y_true_test_rf_p,\n",
    "                                                                                                   y_pred_rf_p[:,1]))\n",
    "print('The Brier score of the non-penalty model with Random Forest is:',brier_score_loss(y_true_test_rf_p, y_pred_rf_p[:,1],\n",
    "                                                                                    pos_label=y_true_test_rf_p.max()))"
   ]
  },
  {
   "cell_type": "markdown",
   "id": "c2c3bb48",
   "metadata": {},
   "source": [
    "# Save models"
   ]
  },
  {
   "cell_type": "code",
   "execution_count": 48,
   "id": "a28ddea8",
   "metadata": {},
   "outputs": [
    {
     "data": {
      "text/plain": [
       "['C:\\\\Users\\\\sergi77\\\\Desktop\\\\UNIR\\\\TFM\\\\xG_Model_TFM\\\\models\\\\lr_model_penalty.joblib']"
      ]
     },
     "execution_count": 48,
     "metadata": {},
     "output_type": "execute_result"
    }
   ],
   "source": [
    "dump(logistic_regression_p, os.path.join(cwd, 'models', 'lr_model_penalty.joblib'))"
   ]
  },
  {
   "cell_type": "code",
   "execution_count": 49,
   "id": "070af928",
   "metadata": {},
   "outputs": [
    {
     "data": {
      "text/plain": [
       "['C:\\\\Users\\\\sergi77\\\\Desktop\\\\UNIR\\\\TFM\\\\xG_Model_TFM\\\\models\\\\lgbm_model_penalty.joblib']"
      ]
     },
     "execution_count": 49,
     "metadata": {},
     "output_type": "execute_result"
    }
   ],
   "source": [
    "dump(searchcv_lgbm_p.best_estimator_, os.path.join(cwd, 'models', 'lgbm_model_penalty.joblib'))"
   ]
  },
  {
   "cell_type": "code",
   "execution_count": 50,
   "id": "797fead5",
   "metadata": {},
   "outputs": [
    {
     "data": {
      "text/plain": [
       "['C:\\\\Users\\\\sergi77\\\\Desktop\\\\UNIR\\\\TFM\\\\xG_Model_TFM\\\\models\\\\xgb_model_penalty.joblib']"
      ]
     },
     "execution_count": 50,
     "metadata": {},
     "output_type": "execute_result"
    }
   ],
   "source": [
    "dump(searchcv_xgb_p.best_estimator_, os.path.join(cwd, 'models', 'xgb_model_penalty.joblib'))"
   ]
  },
  {
   "cell_type": "code",
   "execution_count": 51,
   "id": "a35d7875",
   "metadata": {},
   "outputs": [
    {
     "data": {
      "text/plain": [
       "['C:\\\\Users\\\\sergi77\\\\Desktop\\\\UNIR\\\\TFM\\\\xG_Model_TFM\\\\models\\\\rf_model_penalty.joblib']"
      ]
     },
     "execution_count": 51,
     "metadata": {},
     "output_type": "execute_result"
    }
   ],
   "source": [
    "dump(searchcv_rf_p.best_estimator_, os.path.join(cwd, 'models', 'rf_model_penalty.joblib'))"
   ]
  },
  {
   "cell_type": "markdown",
   "id": "42adf1b5",
   "metadata": {},
   "source": [
    "# Save data"
   ]
  },
  {
   "cell_type": "code",
   "execution_count": 52,
   "id": "1dd5bec6",
   "metadata": {},
   "outputs": [],
   "source": [
    "# reload shot dataset for ids\n",
    "df = pd.read_parquet(os.path.join(cwd, 'data', 'shots.parquet'))\n",
    "df = df[['match_id', 'wyscout_id', 'statsbomb_id']].copy()"
   ]
  },
  {
   "cell_type": "code",
   "execution_count": 53,
   "id": "095b18c9",
   "metadata": {},
   "outputs": [],
   "source": [
    "x_p_train3['goal'] = y_p_train\n",
    "x_p_train3['split'] = 'train'\n",
    "x_p_test3['goal'] = y_p_test\n",
    "x_p_test3['split'] = 'test'\n",
    "df_penalty = pd.concat([x_p_train3, x_p_test3])\n",
    "df_penalty = df_penalty.merge(df, left_index=True, right_index=True, validate='1:1', how='left')\n",
    "df_penalty.reset_index(drop=True, inplace=True)\n",
    "df_penalty.to_parquet(os.path.join(cwd, 'data', 'modelling', 'lr_penalty.parquet'))"
   ]
  },
  {
   "cell_type": "code",
   "execution_count": 54,
   "id": "f0d12500",
   "metadata": {},
   "outputs": [],
   "source": [
    "# reload shot dataset for ids\n",
    "df2 = pd.read_parquet(os.path.join(cwd, 'data', 'shots.parquet'))\n",
    "mask_penalty = (df2.shot_type_name=='penalty')\n",
    "df_penalty2 = df2[mask_penalty].copy()\n",
    "df_penalty2 = df_penalty2[['match_id', 'wyscout_id', 'statsbomb_id']].copy()"
   ]
  },
  {
   "cell_type": "code",
   "execution_count": 55,
   "id": "097e0af1",
   "metadata": {},
   "outputs": [],
   "source": [
    "X_penalty_train_lgbm['goal'] = y_penalty_train_lgbm\n",
    "X_penalty_train_lgbm['split'] = 'train'\n",
    "X_penalty_test_lgbm['goal'] = y_penalty_test_lgbm\n",
    "X_penalty_test_lgbm['split'] = 'test'\n",
    "df_lgbm_penalty = pd.concat([X_penalty_train_lgbm, X_penalty_test_lgbm])\n",
    "df_lgbm_penalty = df_lgbm_penalty[df_lgbm_penalty.index.isin(df_penalty2.index)].copy()\n",
    "df_lgbm_penalty = df_lgbm_penalty.merge(df_penalty2, how='left', left_index=True, right_index=True, validate='1:1')\n",
    "df_lgbm_penalty.to_parquet(os.path.join(cwd, 'data', 'modelling', 'lgbm_penalty.parquet'))"
   ]
  },
  {
   "cell_type": "code",
   "execution_count": 56,
   "id": "d1d10035",
   "metadata": {},
   "outputs": [],
   "source": [
    "df3 = pd.read_parquet(os.path.join(cwd, 'data', 'shots.parquet'))\n",
    "mask_penalty = (df3.shot_type_name=='penalty')\n",
    "df_penalty3 = df3[mask_penalty].copy()\n",
    "df_penalty3 = df_penalty3[['match_id', 'wyscout_id', 'statsbomb_id']].copy()"
   ]
  },
  {
   "cell_type": "code",
   "execution_count": 59,
   "id": "e3d0588c",
   "metadata": {},
   "outputs": [],
   "source": [
    "X_penalty_train_xgb['goal'] = y_penalty_train_xgb\n",
    "X_penalty_train_xgb['split'] = 'train'\n",
    "X_penalty_test_xgb['goal'] = y_penalty_train_xgb\n",
    "X_penalty_test_xgb['split'] = 'test'\n",
    "df_lgbm_penalty = pd.concat([X_penalty_train_xgb, X_penalty_test_xgb])\n",
    "df_lgbm_penalty = df_lgbm_penalty[df_penalty3.index.isin(df_penalty.index)].copy()\n",
    "df_lgbm_penalty = df_lgbm_penalty.merge(df_penalty3, how='left', left_index=True, right_index=True, validate='1:1')\n",
    "df_lgbm_penalty.to_parquet(os.path.join(cwd, 'data', 'modelling', 'xgb_penalty.parquet'))"
   ]
  },
  {
   "cell_type": "code",
   "execution_count": 60,
   "id": "fe713a39",
   "metadata": {},
   "outputs": [],
   "source": [
    "# reload shot dataset for ids\n",
    "df4 = pd.read_parquet(os.path.join(cwd, 'data', 'shots.parquet'))\n",
    "df4 = df4[['match_id', 'wyscout_id', 'statsbomb_id']].copy()"
   ]
  },
  {
   "cell_type": "code",
   "execution_count": 61,
   "id": "08d07e48",
   "metadata": {},
   "outputs": [],
   "source": [
    "x_p_train_rf['goal'] = y_p_train_rf\n",
    "x_p_train_rf['split'] = 'train'\n",
    "x_p_test_rf['goal'] = y_p_test_rf\n",
    "x_p_test_rf['split'] = 'test'\n",
    "df_penalty4 = pd.concat([x_p_train_rf, x_p_test_rf])\n",
    "df_penalty4 = df_penalty4.merge(df4, left_index=True, right_index=True, validate='1:1', how='left')\n",
    "df_penalty4.reset_index(drop=True, inplace=True)\n",
    "df_penalty4.to_parquet(os.path.join(cwd, 'data', 'modelling', 'rf_penalty.parquet'))"
   ]
  }
 ],
 "metadata": {
  "kernelspec": {
   "display_name": "xGenv",
   "language": "python",
   "name": "xgenv"
  },
  "language_info": {
   "codemirror_mode": {
    "name": "ipython",
    "version": 3
   },
   "file_extension": ".py",
   "mimetype": "text/x-python",
   "name": "python",
   "nbconvert_exporter": "python",
   "pygments_lexer": "ipython3",
   "version": "3.7.9"
  }
 },
 "nbformat": 4,
 "nbformat_minor": 5
}
