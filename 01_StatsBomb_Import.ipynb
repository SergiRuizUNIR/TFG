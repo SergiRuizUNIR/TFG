{
 "cells": [
  {
   "cell_type": "markdown",
   "metadata": {},
   "source": [
    "# The analysis for this thesis was run from commit 3f89dc765e1ec5335a254a7a83f35a4c038e31b6:\n",
    "https://github.com/statsbomb/open-data/commit/3f89dc765e1ec5335a254a7a83f35a4c038e31b6\n",
    "\n",
    "From this commit, the dataframes have the following number of entries:\n",
    "\n",
    "* df_competition: 37 entries\n",
    "* df_match: 879 entries\n",
    "* df_lineup: 26794 entries\n",
    "* df_event: 3198449 entries\n",
    "* df_freeze: 277829 entries\n",
    "* df_tactic: 36817 entries\n",
    "* df_related: 6219794 entries\n",
    "\n",
    "This notebook takes the StatsBomb json files and turns them into parquet files. These are extremely fast to load so good for this prototyping kind of analysis."
   ]
  },
  {
   "cell_type": "code",
   "execution_count": 1,
   "metadata": {},
   "outputs": [],
   "source": [
    "import mplsoccer.statsbomb as sbapi\n",
    "import pandas as pd\n",
    "import os\n",
    "import glob\n",
    "import numpy as np"
   ]
  },
  {
   "cell_type": "markdown",
   "metadata": {},
   "source": [
    "# Path\n",
    "Chosen path where the StatsBomb open-data is located, only processing the new files."
   ]
  },
  {
   "cell_type": "code",
   "execution_count": 2,
   "metadata": {},
   "outputs": [],
   "source": [
    "cwd = os.getcwd()\n",
    "# open data folder is one folder down in the directory. To change if run elsewhere\n",
    "STATSBOMB_DATA = os.path.join(cwd,'open-data','statsbomb','data')\n",
    "# save files in folder in current directory. To change if want to save elsewhere\n",
    "DATA_FOLDER = os.path.join(cwd,'data', 'statsbomb')"
   ]
  },
  {
   "cell_type": "markdown",
   "metadata": {},
   "source": [
    "# Get the data file paths"
   ]
  },
  {
   "cell_type": "code",
   "execution_count": 3,
   "metadata": {},
   "outputs": [],
   "source": [
    "event_links = glob.glob(os.path.join(STATSBOMB_DATA, 'events', '**', '*.json'),recursive=True)\n",
    "lineup_links = glob.glob(os.path.join(STATSBOMB_DATA, 'lineups', '**', '*.json'),recursive=True)\n",
    "match_links = glob.glob(os.path.join(STATSBOMB_DATA, 'matches', '**', '*.json'),recursive=True)\n",
    "competition_path = os.path.join(STATSBOMB_DATA, 'competitions.json')"
   ]
  },
  {
   "cell_type": "markdown",
   "metadata": {},
   "source": [
    "# Make the directory structure"
   ]
  },
  {
   "cell_type": "code",
   "execution_count": 4,
   "metadata": {},
   "outputs": [],
   "source": [
    "for folder in ['event_raw', 'related_raw', 'freeze_raw', 'tactic_raw', 'lineup_raw']:\n",
    "    path = os.path.join(DATA_FOLDER, folder)\n",
    "    if not os.path.exists(path):\n",
    "        os.mkdir(path)"
   ]
  },
  {
   "cell_type": "markdown",
   "metadata": {},
   "source": [
    "# Read the competition data"
   ]
  },
  {
   "cell_type": "code",
   "execution_count": 5,
   "metadata": {
    "scrolled": true
   },
   "outputs": [
    {
     "name": "stdout",
     "output_type": "stream",
     "text": [
      "<class 'pandas.core.frame.DataFrame'>\n",
      "RangeIndex: 37 entries, 0 to 36\n",
      "Data columns (total 8 columns):\n",
      " #   Column              Non-Null Count  Dtype         \n",
      "---  ------              --------------  -----         \n",
      " 0   competition_id      37 non-null     int64         \n",
      " 1   season_id           37 non-null     int64         \n",
      " 2   country_name        37 non-null     object        \n",
      " 3   competition_name    37 non-null     object        \n",
      " 4   competition_gender  37 non-null     object        \n",
      " 5   season_name         37 non-null     object        \n",
      " 6   match_updated       37 non-null     datetime64[ns]\n",
      " 7   match_available     37 non-null     datetime64[ns]\n",
      "dtypes: datetime64[ns](2), int64(2), object(4)\n",
      "memory usage: 2.4+ KB\n"
     ]
    }
   ],
   "source": [
    "df_competition = sbapi.read_competition(competition_path, warn=False)\n",
    "# note there is a slight loss of data quality with timestamps, but these aren't relevant for analysis\n",
    "# pandas has nanoseconds, which aren't supported in parquet (supports milliseconds)\n",
    "df_competition.to_parquet(os.path.join(DATA_FOLDER, 'competition.parquet'), allow_truncated_timestamps=True)\n",
    "df_competition.info()"
   ]
  },
  {
   "cell_type": "markdown",
   "metadata": {},
   "source": [
    "# Keep a copy of the match dataframe"
   ]
  },
  {
   "cell_type": "code",
   "execution_count": 6,
   "metadata": {},
   "outputs": [],
   "source": [
    "match_path = os.path.join(DATA_FOLDER, 'match.parquet')\n",
    "if os.path.exists(match_path):\n",
    "    df_match_copy = pd.read_parquet(match_path).copy()\n",
    "    update_files = True\n",
    "else:\n",
    "    update_files = False"
   ]
  },
  {
   "cell_type": "markdown",
   "metadata": {},
   "source": [
    "# Read the match data"
   ]
  },
  {
   "cell_type": "code",
   "execution_count": 7,
   "metadata": {},
   "outputs": [
    {
     "name": "stdout",
     "output_type": "stream",
     "text": [
      "Skipping C:\\Users\\sergi77\\Desktop\\UNIR\\TFM\\xG_Model_TFM\\open-data\\statsbomb\\data\\matches\\16\\42.json: empty json\n",
      "Skipping C:\\Users\\sergi77\\Desktop\\UNIR\\TFM\\xG_Model_TFM\\open-data\\statsbomb\\data\\matches\\16\\76.json: empty json\n",
      "<class 'pandas.core.frame.DataFrame'>\n",
      "Int64Index: 879 entries, 0 to 51\n",
      "Data columns (total 50 columns):\n",
      " #   Column                           Non-Null Count  Dtype         \n",
      "---  ------                           --------------  -----         \n",
      " 0   match_id                         879 non-null    int64         \n",
      " 1   match_date                       879 non-null    datetime64[ns]\n",
      " 2   kick_off                         877 non-null    datetime64[ns]\n",
      " 3   home_score                       879 non-null    int64         \n",
      " 4   away_score                       879 non-null    int64         \n",
      " 5   match_status_360                 878 non-null    object        \n",
      " 6   last_updated                     879 non-null    datetime64[ns]\n",
      " 7   last_updated_360                 0 non-null      float64       \n",
      " 8   match_week                       879 non-null    int64         \n",
      " 9   competition_id                   879 non-null    int64         \n",
      " 10  competition_country_name         879 non-null    object        \n",
      " 11  competition_name                 879 non-null    object        \n",
      " 12  season_id                        879 non-null    int64         \n",
      " 13  season_name                      879 non-null    object        \n",
      " 14  home_team_id                     879 non-null    int64         \n",
      " 15  home_team_name                   879 non-null    object        \n",
      " 16  competition_gender               879 non-null    object        \n",
      " 17  home_team_group                  92 non-null     object        \n",
      " 18  home_team_country_id             879 non-null    int64         \n",
      " 19  home_team_country_name           879 non-null    object        \n",
      " 20  away_team_id                     879 non-null    int64         \n",
      " 21  away_team_name                   879 non-null    object        \n",
      " 22  away_team_group                  92 non-null     object        \n",
      " 23  away_team_country_id             879 non-null    int64         \n",
      " 24  away_team_country_name           879 non-null    object        \n",
      " 25  metadata_data_version            879 non-null    object        \n",
      " 26  metadata_shot_fidelity_version   684 non-null    object        \n",
      " 27  competition_stage_id             879 non-null    int64         \n",
      " 28  competition_stage_name           879 non-null    object        \n",
      " 29  stadium_id                       796 non-null    float64       \n",
      " 30  stadium_name                     796 non-null    object        \n",
      " 31  stadium_country_id               796 non-null    float64       \n",
      " 32  stadium_country_name             796 non-null    object        \n",
      " 33  referee_id                       813 non-null    float64       \n",
      " 34  referee_name                     813 non-null    object        \n",
      " 35  referee_country_id               510 non-null    float64       \n",
      " 36  referee_country_name             510 non-null    object        \n",
      " 37  home_team_managers_id            795 non-null    float64       \n",
      " 38  home_team_managers_name          795 non-null    object        \n",
      " 39  home_team_managers_nickname      438 non-null    object        \n",
      " 40  home_team_managers_dob           81 non-null     datetime64[ns]\n",
      " 41  home_team_managers_country_id    795 non-null    float64       \n",
      " 42  home_team_managers_country_name  795 non-null    object        \n",
      " 43  away_team_managers_id            795 non-null    float64       \n",
      " 44  away_team_managers_name          795 non-null    object        \n",
      " 45  away_team_managers_nickname      445 non-null    object        \n",
      " 46  away_team_managers_dob           84 non-null     datetime64[ns]\n",
      " 47  away_team_managers_country_id    795 non-null    float64       \n",
      " 48  away_team_managers_country_name  795 non-null    object        \n",
      " 49  metadata_xy_fidelity_version     594 non-null    object        \n",
      "dtypes: datetime64[ns](5), float64(9), int64(11), object(25)\n",
      "memory usage: 350.2+ KB\n"
     ]
    }
   ],
   "source": [
    "match_dfs = [sbapi.read_match(file, warn=False) for file in match_links]\n",
    "df_match = pd.concat(match_dfs)\n",
    "# again there is a slight loss of quality when saving timestamps, but only relevant for last_updated\n",
    "df_match.to_parquet(os.path.join(DATA_FOLDER, 'match.parquet'), allow_truncated_timestamps=True)\n",
    "df_match.info()"
   ]
  },
  {
   "cell_type": "markdown",
   "metadata": {},
   "source": [
    "# Check which games have been updated"
   ]
  },
  {
   "cell_type": "code",
   "execution_count": 8,
   "metadata": {},
   "outputs": [],
   "source": [
    "if update_files == True:\n",
    "    df_match_copy = df_match[['match_id', 'last_updated']].merge(df_match_copy[['match_id', 'last_updated']],\n",
    "                                                                 how='left', suffixes=['', '_old'], on='match_id')\n",
    "    df_match_copy = df_match_copy[df_match_copy.last_updated.dt.floor('ms') != df_match_copy.last_updated_old].copy()\n",
    "    to_update = df_match_copy.match_id.unique()\n",
    "    \n",
    "    # get array of event links to update - based on whether they have been updated in the match json\n",
    "    event_link_ids = np.array([int(os.path.splitext(os.path.basename(link))[0]) for link in event_links])\n",
    "    event_to_update = [link in to_update for link in event_link_ids]\n",
    "    event_links = np.array(event_links)[event_to_update]\n",
    "    \n",
    "    # get array of lineup links to update - based on whether they have been updated in the match jsons\n",
    "    lineup_link_ids = np.array([int(os.path.splitext(os.path.basename(link))[0]) for link in lineup_links])\n",
    "    lineup_to_update = [link in to_update for link in lineup_link_ids]\n",
    "    lineup_links = np.array(lineup_links)[lineup_to_update]"
   ]
  },
  {
   "cell_type": "markdown",
   "metadata": {},
   "source": [
    "# Read the lineup data"
   ]
  },
  {
   "cell_type": "code",
   "execution_count": 9,
   "metadata": {},
   "outputs": [
    {
     "name": "stdout",
     "output_type": "stream",
     "text": [
      "Trying: C:\\Users\\sergi77\\Desktop\\UNIR\\TFM\\xG_Model_TFM\\open-data\\statsbomb\\data\\lineups\\16109.json\n",
      "Trying: C:\\Users\\sergi77\\Desktop\\UNIR\\TFM\\xG_Model_TFM\\open-data\\statsbomb\\data\\lineups\\16131.json\n",
      "Trying: C:\\Users\\sergi77\\Desktop\\UNIR\\TFM\\xG_Model_TFM\\open-data\\statsbomb\\data\\lineups\\16205.json\n",
      "Trying: C:\\Users\\sergi77\\Desktop\\UNIR\\TFM\\xG_Model_TFM\\open-data\\statsbomb\\data\\lineups\\16289.json\n",
      "Trying: C:\\Users\\sergi77\\Desktop\\UNIR\\TFM\\xG_Model_TFM\\open-data\\statsbomb\\data\\lineups\\18245.json\n",
      "Trying: C:\\Users\\sergi77\\Desktop\\UNIR\\TFM\\xG_Model_TFM\\open-data\\statsbomb\\data\\lineups\\19715.json\n",
      "Trying: C:\\Users\\sergi77\\Desktop\\UNIR\\TFM\\xG_Model_TFM\\open-data\\statsbomb\\data\\lineups\\19733.json\n",
      "Trying: C:\\Users\\sergi77\\Desktop\\UNIR\\TFM\\xG_Model_TFM\\open-data\\statsbomb\\data\\lineups\\19738.json\n",
      "Trying: C:\\Users\\sergi77\\Desktop\\UNIR\\TFM\\xG_Model_TFM\\open-data\\statsbomb\\data\\lineups\\19743.json\n",
      "Trying: C:\\Users\\sergi77\\Desktop\\UNIR\\TFM\\xG_Model_TFM\\open-data\\statsbomb\\data\\lineups\\19749.json\n",
      "Trying: C:\\Users\\sergi77\\Desktop\\UNIR\\TFM\\xG_Model_TFM\\open-data\\statsbomb\\data\\lineups\\19756.json\n",
      "Trying: C:\\Users\\sergi77\\Desktop\\UNIR\\TFM\\xG_Model_TFM\\open-data\\statsbomb\\data\\lineups\\19763.json\n",
      "Trying: C:\\Users\\sergi77\\Desktop\\UNIR\\TFM\\xG_Model_TFM\\open-data\\statsbomb\\data\\lineups\\19765.json\n",
      "Trying: C:\\Users\\sergi77\\Desktop\\UNIR\\TFM\\xG_Model_TFM\\open-data\\statsbomb\\data\\lineups\\19771.json\n",
      "Trying: C:\\Users\\sergi77\\Desktop\\UNIR\\TFM\\xG_Model_TFM\\open-data\\statsbomb\\data\\lineups\\19778.json\n",
      "Trying: C:\\Users\\sergi77\\Desktop\\UNIR\\TFM\\xG_Model_TFM\\open-data\\statsbomb\\data\\lineups\\19782.json\n",
      "Trying: C:\\Users\\sergi77\\Desktop\\UNIR\\TFM\\xG_Model_TFM\\open-data\\statsbomb\\data\\lineups\\19787.json\n",
      "Trying: C:\\Users\\sergi77\\Desktop\\UNIR\\TFM\\xG_Model_TFM\\open-data\\statsbomb\\data\\lineups\\19789.json\n",
      "Trying: C:\\Users\\sergi77\\Desktop\\UNIR\\TFM\\xG_Model_TFM\\open-data\\statsbomb\\data\\lineups\\19796.json\n",
      "Trying: C:\\Users\\sergi77\\Desktop\\UNIR\\TFM\\xG_Model_TFM\\open-data\\statsbomb\\data\\lineups\\19800.json\n",
      "Trying: C:\\Users\\sergi77\\Desktop\\UNIR\\TFM\\xG_Model_TFM\\open-data\\statsbomb\\data\\lineups\\19804.json\n",
      "Trying: C:\\Users\\sergi77\\Desktop\\UNIR\\TFM\\xG_Model_TFM\\open-data\\statsbomb\\data\\lineups\\19813.json\n",
      "Trying: C:\\Users\\sergi77\\Desktop\\UNIR\\TFM\\xG_Model_TFM\\open-data\\statsbomb\\data\\lineups\\19816.json\n",
      "Trying: C:\\Users\\sergi77\\Desktop\\UNIR\\TFM\\xG_Model_TFM\\open-data\\statsbomb\\data\\lineups\\19822.json\n",
      "Trying: C:\\Users\\sergi77\\Desktop\\UNIR\\TFM\\xG_Model_TFM\\open-data\\statsbomb\\data\\lineups\\2275028.json\n",
      "Trying: C:\\Users\\sergi77\\Desktop\\UNIR\\TFM\\xG_Model_TFM\\open-data\\statsbomb\\data\\lineups\\2275036.json\n",
      "Trying: C:\\Users\\sergi77\\Desktop\\UNIR\\TFM\\xG_Model_TFM\\open-data\\statsbomb\\data\\lineups\\2275050.json\n",
      "Trying: C:\\Users\\sergi77\\Desktop\\UNIR\\TFM\\xG_Model_TFM\\open-data\\statsbomb\\data\\lineups\\2275065.json\n",
      "Trying: C:\\Users\\sergi77\\Desktop\\UNIR\\TFM\\xG_Model_TFM\\open-data\\statsbomb\\data\\lineups\\2275074.json\n",
      "Trying: C:\\Users\\sergi77\\Desktop\\UNIR\\TFM\\xG_Model_TFM\\open-data\\statsbomb\\data\\lineups\\2275083.json\n",
      "Trying: C:\\Users\\sergi77\\Desktop\\UNIR\\TFM\\xG_Model_TFM\\open-data\\statsbomb\\data\\lineups\\2275088.json\n",
      "Trying: C:\\Users\\sergi77\\Desktop\\UNIR\\TFM\\xG_Model_TFM\\open-data\\statsbomb\\data\\lineups\\2275089.json\n",
      "Trying: C:\\Users\\sergi77\\Desktop\\UNIR\\TFM\\xG_Model_TFM\\open-data\\statsbomb\\data\\lineups\\2275092.json\n",
      "Trying: C:\\Users\\sergi77\\Desktop\\UNIR\\TFM\\xG_Model_TFM\\open-data\\statsbomb\\data\\lineups\\2275093.json\n",
      "Trying: C:\\Users\\sergi77\\Desktop\\UNIR\\TFM\\xG_Model_TFM\\open-data\\statsbomb\\data\\lineups\\2275094.json\n",
      "Trying: C:\\Users\\sergi77\\Desktop\\UNIR\\TFM\\xG_Model_TFM\\open-data\\statsbomb\\data\\lineups\\2275109.json\n",
      "Trying: C:\\Users\\sergi77\\Desktop\\UNIR\\TFM\\xG_Model_TFM\\open-data\\statsbomb\\data\\lineups\\2275110.json\n",
      "Trying: C:\\Users\\sergi77\\Desktop\\UNIR\\TFM\\xG_Model_TFM\\open-data\\statsbomb\\data\\lineups\\2275120.json\n",
      "Trying: C:\\Users\\sergi77\\Desktop\\UNIR\\TFM\\xG_Model_TFM\\open-data\\statsbomb\\data\\lineups\\2275136.json\n",
      "Trying: C:\\Users\\sergi77\\Desktop\\UNIR\\TFM\\xG_Model_TFM\\open-data\\statsbomb\\data\\lineups\\2275137.json\n",
      "Trying: C:\\Users\\sergi77\\Desktop\\UNIR\\TFM\\xG_Model_TFM\\open-data\\statsbomb\\data\\lineups\\2275138.json\n",
      "Trying: C:\\Users\\sergi77\\Desktop\\UNIR\\TFM\\xG_Model_TFM\\open-data\\statsbomb\\data\\lineups\\2275139.json\n",
      "Trying: C:\\Users\\sergi77\\Desktop\\UNIR\\TFM\\xG_Model_TFM\\open-data\\statsbomb\\data\\lineups\\2275140.json\n",
      "Trying: C:\\Users\\sergi77\\Desktop\\UNIR\\TFM\\xG_Model_TFM\\open-data\\statsbomb\\data\\lineups\\2275142.json\n",
      "Trying: C:\\Users\\sergi77\\Desktop\\UNIR\\TFM\\xG_Model_TFM\\open-data\\statsbomb\\data\\lineups\\2275144.json\n",
      "Trying: C:\\Users\\sergi77\\Desktop\\UNIR\\TFM\\xG_Model_TFM\\open-data\\statsbomb\\data\\lineups\\2275146.json\n",
      "Trying: C:\\Users\\sergi77\\Desktop\\UNIR\\TFM\\xG_Model_TFM\\open-data\\statsbomb\\data\\lineups\\2275150.json\n",
      "Trying: C:\\Users\\sergi77\\Desktop\\UNIR\\TFM\\xG_Model_TFM\\open-data\\statsbomb\\data\\lineups\\2275151.json\n",
      "Trying: C:\\Users\\sergi77\\Desktop\\UNIR\\TFM\\xG_Model_TFM\\open-data\\statsbomb\\data\\lineups\\2275153.json\n",
      "Trying: C:\\Users\\sergi77\\Desktop\\UNIR\\TFM\\xG_Model_TFM\\open-data\\statsbomb\\data\\lineups\\2275154.json\n",
      "Trying: C:\\Users\\sergi77\\Desktop\\UNIR\\TFM\\xG_Model_TFM\\open-data\\statsbomb\\data\\lineups\\2275157.json\n",
      "Trying: C:\\Users\\sergi77\\Desktop\\UNIR\\TFM\\xG_Model_TFM\\open-data\\statsbomb\\data\\lineups\\2302764.json\n",
      "Trying: C:\\Users\\sergi77\\Desktop\\UNIR\\TFM\\xG_Model_TFM\\open-data\\statsbomb\\data\\lineups\\303615.json\n",
      "Trying: C:\\Users\\sergi77\\Desktop\\UNIR\\TFM\\xG_Model_TFM\\open-data\\statsbomb\\data\\lineups\\303634.json\n",
      "Trying: C:\\Users\\sergi77\\Desktop\\UNIR\\TFM\\xG_Model_TFM\\open-data\\statsbomb\\data\\lineups\\303680.json\n",
      "Trying: C:\\Users\\sergi77\\Desktop\\UNIR\\TFM\\xG_Model_TFM\\open-data\\statsbomb\\data\\lineups\\3749153.json\n",
      "Trying: C:\\Users\\sergi77\\Desktop\\UNIR\\TFM\\xG_Model_TFM\\open-data\\statsbomb\\data\\lineups\\3749192.json\n",
      "Trying: C:\\Users\\sergi77\\Desktop\\UNIR\\TFM\\xG_Model_TFM\\open-data\\statsbomb\\data\\lineups\\3749257.json\n",
      "Trying: C:\\Users\\sergi77\\Desktop\\UNIR\\TFM\\xG_Model_TFM\\open-data\\statsbomb\\data\\lineups\\3749278.json\n",
      "Trying: C:\\Users\\sergi77\\Desktop\\UNIR\\TFM\\xG_Model_TFM\\open-data\\statsbomb\\data\\lineups\\3749310.json\n",
      "Trying: C:\\Users\\sergi77\\Desktop\\UNIR\\TFM\\xG_Model_TFM\\open-data\\statsbomb\\data\\lineups\\3749453.json\n",
      "Trying: C:\\Users\\sergi77\\Desktop\\UNIR\\TFM\\xG_Model_TFM\\open-data\\statsbomb\\data\\lineups\\3750200.json\n",
      "Trying: C:\\Users\\sergi77\\Desktop\\UNIR\\TFM\\xG_Model_TFM\\open-data\\statsbomb\\data\\lineups\\3750201.json\n",
      "Trying: C:\\Users\\sergi77\\Desktop\\UNIR\\TFM\\xG_Model_TFM\\open-data\\statsbomb\\data\\lineups\\3764234.json\n",
      "Trying: C:\\Users\\sergi77\\Desktop\\UNIR\\TFM\\xG_Model_TFM\\open-data\\statsbomb\\data\\lineups\\7558.json\n"
     ]
    }
   ],
   "source": [
    "LINEUP_FOLDER = os.path.join(DATA_FOLDER, 'lineup_raw')\n",
    "# loop through all the changed links and store as parquet files - small and fast files\n",
    "for file in lineup_links:\n",
    "    save_path = f'{os.path.basename(file)[:-4]}parquet'\n",
    "    try:\n",
    "        print('Trying:', file)\n",
    "        df_lineup = sbapi.read_lineup(file, warn=False)\n",
    "        df_lineup.to_parquet(os.path.join(LINEUP_FOLDER, save_path))\n",
    "    except:\n",
    "        print('Skipping:', file)\n",
    "        pass"
   ]
  },
  {
   "cell_type": "markdown",
   "metadata": {},
   "source": [
    "Convert to a single dataframe"
   ]
  },
  {
   "cell_type": "code",
   "execution_count": 10,
   "metadata": {},
   "outputs": [],
   "source": [
    "# players with split ids\n",
    "to_replace = {18103: 38522,  # Dietmar Hamann\n",
    "              17275: 4656,  # Hannah Jayne Blundell\n",
    "              17524: 4655,  # Jennifer Beattie\n",
    "              10172: 4644,  # Jill Scott\n",
    "              4634: 5088,  # Crystal Dunn\n",
    "              4639: 10395}  # Maren Mjelde"
   ]
  },
  {
   "cell_type": "code",
   "execution_count": 11,
   "metadata": {},
   "outputs": [
    {
     "name": "stdout",
     "output_type": "stream",
     "text": [
      "<class 'pandas.core.frame.DataFrame'>\n",
      "Int64Index: 26794 entries, 0 to 35\n",
      "Data columns (total 9 columns):\n",
      " #   Column                Non-Null Count  Dtype \n",
      "---  ------                --------------  ----- \n",
      " 0   team_id               26794 non-null  int64 \n",
      " 1   team_name             26794 non-null  object\n",
      " 2   match_id              26794 non-null  int64 \n",
      " 3   player_id             26794 non-null  int64 \n",
      " 4   player_name           26794 non-null  object\n",
      " 5   player_nickname       14740 non-null  object\n",
      " 6   player_jersey_number  26794 non-null  int64 \n",
      " 7   player_country_id     26794 non-null  int64 \n",
      " 8   player_country_name   26794 non-null  object\n",
      "dtypes: int64(5), object(4)\n",
      "memory usage: 2.0+ MB\n"
     ]
    }
   ],
   "source": [
    "if len(lineup_links) == 0:\n",
    "    print('No update')\n",
    "else:\n",
    "    lineup_files = glob.glob(os.path.join(LINEUP_FOLDER, '*.parquet'))\n",
    "    df_lineup = pd.concat([pd.read_parquet(file) for file in lineup_files])\n",
    "    # replace some ids that appear to be split\n",
    "    df_lineup.player_id.replace(to_replace, inplace=True)\n",
    "    df_lineup.to_parquet(os.path.join(DATA_FOLDER, 'lineup.parquet'))\n",
    "    df_lineup.info()"
   ]
  },
  {
   "cell_type": "markdown",
   "metadata": {},
   "source": [
    "# Read the event data"
   ]
  },
  {
   "cell_type": "code",
   "execution_count": 12,
   "metadata": {},
   "outputs": [
    {
     "name": "stdout",
     "output_type": "stream",
     "text": [
      "Trying: C:\\Users\\sergi77\\Desktop\\UNIR\\TFM\\xG_Model_TFM\\open-data\\statsbomb\\data\\events\\16109.json\n",
      "Trying: C:\\Users\\sergi77\\Desktop\\UNIR\\TFM\\xG_Model_TFM\\open-data\\statsbomb\\data\\events\\16131.json\n",
      "Trying: C:\\Users\\sergi77\\Desktop\\UNIR\\TFM\\xG_Model_TFM\\open-data\\statsbomb\\data\\events\\16205.json\n",
      "Trying: C:\\Users\\sergi77\\Desktop\\UNIR\\TFM\\xG_Model_TFM\\open-data\\statsbomb\\data\\events\\16289.json\n",
      "Trying: C:\\Users\\sergi77\\Desktop\\UNIR\\TFM\\xG_Model_TFM\\open-data\\statsbomb\\data\\events\\18245.json\n",
      "Trying: C:\\Users\\sergi77\\Desktop\\UNIR\\TFM\\xG_Model_TFM\\open-data\\statsbomb\\data\\events\\19715.json\n",
      "Trying: C:\\Users\\sergi77\\Desktop\\UNIR\\TFM\\xG_Model_TFM\\open-data\\statsbomb\\data\\events\\19733.json\n",
      "Trying: C:\\Users\\sergi77\\Desktop\\UNIR\\TFM\\xG_Model_TFM\\open-data\\statsbomb\\data\\events\\19738.json\n",
      "Trying: C:\\Users\\sergi77\\Desktop\\UNIR\\TFM\\xG_Model_TFM\\open-data\\statsbomb\\data\\events\\19743.json\n",
      "Trying: C:\\Users\\sergi77\\Desktop\\UNIR\\TFM\\xG_Model_TFM\\open-data\\statsbomb\\data\\events\\19749.json\n",
      "Trying: C:\\Users\\sergi77\\Desktop\\UNIR\\TFM\\xG_Model_TFM\\open-data\\statsbomb\\data\\events\\19756.json\n",
      "Trying: C:\\Users\\sergi77\\Desktop\\UNIR\\TFM\\xG_Model_TFM\\open-data\\statsbomb\\data\\events\\19763.json\n",
      "Trying: C:\\Users\\sergi77\\Desktop\\UNIR\\TFM\\xG_Model_TFM\\open-data\\statsbomb\\data\\events\\19765.json\n",
      "Trying: C:\\Users\\sergi77\\Desktop\\UNIR\\TFM\\xG_Model_TFM\\open-data\\statsbomb\\data\\events\\19771.json\n",
      "Trying: C:\\Users\\sergi77\\Desktop\\UNIR\\TFM\\xG_Model_TFM\\open-data\\statsbomb\\data\\events\\19778.json\n",
      "Trying: C:\\Users\\sergi77\\Desktop\\UNIR\\TFM\\xG_Model_TFM\\open-data\\statsbomb\\data\\events\\19782.json\n",
      "Trying: C:\\Users\\sergi77\\Desktop\\UNIR\\TFM\\xG_Model_TFM\\open-data\\statsbomb\\data\\events\\19787.json\n",
      "Trying: C:\\Users\\sergi77\\Desktop\\UNIR\\TFM\\xG_Model_TFM\\open-data\\statsbomb\\data\\events\\19789.json\n",
      "Trying: C:\\Users\\sergi77\\Desktop\\UNIR\\TFM\\xG_Model_TFM\\open-data\\statsbomb\\data\\events\\19796.json\n",
      "Trying: C:\\Users\\sergi77\\Desktop\\UNIR\\TFM\\xG_Model_TFM\\open-data\\statsbomb\\data\\events\\19800.json\n",
      "Trying: C:\\Users\\sergi77\\Desktop\\UNIR\\TFM\\xG_Model_TFM\\open-data\\statsbomb\\data\\events\\19804.json\n",
      "Trying: C:\\Users\\sergi77\\Desktop\\UNIR\\TFM\\xG_Model_TFM\\open-data\\statsbomb\\data\\events\\19813.json\n",
      "Trying: C:\\Users\\sergi77\\Desktop\\UNIR\\TFM\\xG_Model_TFM\\open-data\\statsbomb\\data\\events\\19816.json\n",
      "Trying: C:\\Users\\sergi77\\Desktop\\UNIR\\TFM\\xG_Model_TFM\\open-data\\statsbomb\\data\\events\\19822.json\n",
      "Trying: C:\\Users\\sergi77\\Desktop\\UNIR\\TFM\\xG_Model_TFM\\open-data\\statsbomb\\data\\events\\2275028.json\n",
      "Trying: C:\\Users\\sergi77\\Desktop\\UNIR\\TFM\\xG_Model_TFM\\open-data\\statsbomb\\data\\events\\2275036.json\n",
      "Trying: C:\\Users\\sergi77\\Desktop\\UNIR\\TFM\\xG_Model_TFM\\open-data\\statsbomb\\data\\events\\2275050.json\n",
      "Trying: C:\\Users\\sergi77\\Desktop\\UNIR\\TFM\\xG_Model_TFM\\open-data\\statsbomb\\data\\events\\2275065.json\n",
      "Trying: C:\\Users\\sergi77\\Desktop\\UNIR\\TFM\\xG_Model_TFM\\open-data\\statsbomb\\data\\events\\2275074.json\n",
      "Trying: C:\\Users\\sergi77\\Desktop\\UNIR\\TFM\\xG_Model_TFM\\open-data\\statsbomb\\data\\events\\2275083.json\n",
      "Trying: C:\\Users\\sergi77\\Desktop\\UNIR\\TFM\\xG_Model_TFM\\open-data\\statsbomb\\data\\events\\2275088.json\n",
      "Trying: C:\\Users\\sergi77\\Desktop\\UNIR\\TFM\\xG_Model_TFM\\open-data\\statsbomb\\data\\events\\2275089.json\n",
      "Trying: C:\\Users\\sergi77\\Desktop\\UNIR\\TFM\\xG_Model_TFM\\open-data\\statsbomb\\data\\events\\2275092.json\n",
      "Trying: C:\\Users\\sergi77\\Desktop\\UNIR\\TFM\\xG_Model_TFM\\open-data\\statsbomb\\data\\events\\2275093.json\n",
      "Trying: C:\\Users\\sergi77\\Desktop\\UNIR\\TFM\\xG_Model_TFM\\open-data\\statsbomb\\data\\events\\2275094.json\n",
      "Trying: C:\\Users\\sergi77\\Desktop\\UNIR\\TFM\\xG_Model_TFM\\open-data\\statsbomb\\data\\events\\2275109.json\n",
      "Trying: C:\\Users\\sergi77\\Desktop\\UNIR\\TFM\\xG_Model_TFM\\open-data\\statsbomb\\data\\events\\2275110.json\n",
      "Trying: C:\\Users\\sergi77\\Desktop\\UNIR\\TFM\\xG_Model_TFM\\open-data\\statsbomb\\data\\events\\2275120.json\n",
      "Trying: C:\\Users\\sergi77\\Desktop\\UNIR\\TFM\\xG_Model_TFM\\open-data\\statsbomb\\data\\events\\2275136.json\n",
      "Trying: C:\\Users\\sergi77\\Desktop\\UNIR\\TFM\\xG_Model_TFM\\open-data\\statsbomb\\data\\events\\2275137.json\n",
      "Trying: C:\\Users\\sergi77\\Desktop\\UNIR\\TFM\\xG_Model_TFM\\open-data\\statsbomb\\data\\events\\2275138.json\n",
      "Trying: C:\\Users\\sergi77\\Desktop\\UNIR\\TFM\\xG_Model_TFM\\open-data\\statsbomb\\data\\events\\2275139.json\n",
      "Trying: C:\\Users\\sergi77\\Desktop\\UNIR\\TFM\\xG_Model_TFM\\open-data\\statsbomb\\data\\events\\2275140.json\n",
      "Trying: C:\\Users\\sergi77\\Desktop\\UNIR\\TFM\\xG_Model_TFM\\open-data\\statsbomb\\data\\events\\2275142.json\n",
      "Trying: C:\\Users\\sergi77\\Desktop\\UNIR\\TFM\\xG_Model_TFM\\open-data\\statsbomb\\data\\events\\2275144.json\n",
      "Trying: C:\\Users\\sergi77\\Desktop\\UNIR\\TFM\\xG_Model_TFM\\open-data\\statsbomb\\data\\events\\2275146.json\n",
      "Trying: C:\\Users\\sergi77\\Desktop\\UNIR\\TFM\\xG_Model_TFM\\open-data\\statsbomb\\data\\events\\2275150.json\n",
      "Trying: C:\\Users\\sergi77\\Desktop\\UNIR\\TFM\\xG_Model_TFM\\open-data\\statsbomb\\data\\events\\2275151.json\n",
      "Trying: C:\\Users\\sergi77\\Desktop\\UNIR\\TFM\\xG_Model_TFM\\open-data\\statsbomb\\data\\events\\2275153.json\n",
      "Trying: C:\\Users\\sergi77\\Desktop\\UNIR\\TFM\\xG_Model_TFM\\open-data\\statsbomb\\data\\events\\2275154.json\n",
      "Trying: C:\\Users\\sergi77\\Desktop\\UNIR\\TFM\\xG_Model_TFM\\open-data\\statsbomb\\data\\events\\2275157.json\n",
      "Trying: C:\\Users\\sergi77\\Desktop\\UNIR\\TFM\\xG_Model_TFM\\open-data\\statsbomb\\data\\events\\2302764.json\n",
      "Trying: C:\\Users\\sergi77\\Desktop\\UNIR\\TFM\\xG_Model_TFM\\open-data\\statsbomb\\data\\events\\303615.json\n",
      "Trying: C:\\Users\\sergi77\\Desktop\\UNIR\\TFM\\xG_Model_TFM\\open-data\\statsbomb\\data\\events\\303634.json\n",
      "Trying: C:\\Users\\sergi77\\Desktop\\UNIR\\TFM\\xG_Model_TFM\\open-data\\statsbomb\\data\\events\\303680.json\n",
      "Trying: C:\\Users\\sergi77\\Desktop\\UNIR\\TFM\\xG_Model_TFM\\open-data\\statsbomb\\data\\events\\3749153.json\n",
      "Trying: C:\\Users\\sergi77\\Desktop\\UNIR\\TFM\\xG_Model_TFM\\open-data\\statsbomb\\data\\events\\3749192.json\n",
      "Trying: C:\\Users\\sergi77\\Desktop\\UNIR\\TFM\\xG_Model_TFM\\open-data\\statsbomb\\data\\events\\3749257.json\n",
      "Trying: C:\\Users\\sergi77\\Desktop\\UNIR\\TFM\\xG_Model_TFM\\open-data\\statsbomb\\data\\events\\3749278.json\n",
      "Trying: C:\\Users\\sergi77\\Desktop\\UNIR\\TFM\\xG_Model_TFM\\open-data\\statsbomb\\data\\events\\3749310.json\n",
      "Trying: C:\\Users\\sergi77\\Desktop\\UNIR\\TFM\\xG_Model_TFM\\open-data\\statsbomb\\data\\events\\3749453.json\n",
      "Trying: C:\\Users\\sergi77\\Desktop\\UNIR\\TFM\\xG_Model_TFM\\open-data\\statsbomb\\data\\events\\3750200.json\n",
      "Trying: C:\\Users\\sergi77\\Desktop\\UNIR\\TFM\\xG_Model_TFM\\open-data\\statsbomb\\data\\events\\3750201.json\n",
      "Trying: C:\\Users\\sergi77\\Desktop\\UNIR\\TFM\\xG_Model_TFM\\open-data\\statsbomb\\data\\events\\3764234.json\n",
      "Trying: C:\\Users\\sergi77\\Desktop\\UNIR\\TFM\\xG_Model_TFM\\open-data\\statsbomb\\data\\events\\7558.json\n"
     ]
    }
   ],
   "source": [
    "# loop through all the changed links and store as parquet files - small and fast files\n",
    "for file in event_links:\n",
    "    save_path = f'{os.path.basename(file)[:-4]}parquet'\n",
    "    try:\n",
    "        print('Trying:', file)\n",
    "        dict_event = sbapi.read_event(file, warn=False)\n",
    "        # save to parquet files\n",
    "        # using the dictionary key to access the dataframes from the dictionary\n",
    "        dict_event['event'].to_parquet(os.path.join(DATA_FOLDER, 'event_raw', save_path))\n",
    "        dict_event['related_event'].to_parquet(os.path.join(DATA_FOLDER, 'related_raw', save_path))\n",
    "        dict_event['shot_freeze_frame'].to_parquet(os.path.join(DATA_FOLDER, 'freeze_raw', save_path))\n",
    "        dict_event['tactics_lineup'].to_parquet(os.path.join(DATA_FOLDER, 'tactic_raw', save_path))\n",
    "    except:\n",
    "        print('Skipping:', file)\n",
    "        pass"
   ]
  },
  {
   "cell_type": "markdown",
   "metadata": {},
   "source": [
    "If updating the event dataframe get a list of ids to update"
   ]
  },
  {
   "cell_type": "code",
   "execution_count": 13,
   "metadata": {},
   "outputs": [],
   "source": [
    "event_files = glob.glob(os.path.join(DATA_FOLDER, 'event_raw', '*.parquet'))\n",
    "if update_files:\n",
    "    event_files_id = [int(os.path.splitext(os.path.basename(file))[0]) for file in event_files]\n",
    "    ids_to_update = [int(os.path.splitext(os.path.basename(link))[0]) for link in event_links]"
   ]
  },
  {
   "cell_type": "markdown",
   "metadata": {},
   "source": [
    "Function to load old dataframe and combine with updated parquet files"
   ]
  },
  {
   "cell_type": "code",
   "execution_count": 14,
   "metadata": {},
   "outputs": [],
   "source": [
    "def update(folder, file_type, ids_to_update):\n",
    "    # get a list of parquet files to add to the old dataframe\n",
    "    files = glob.glob(os.path.join(folder, f'{file_type}_raw', '*.parquet'))\n",
    "    files_id = [int(os.path.splitext(os.path.basename(file))[0]) for file in files]\n",
    "    mask_update = [match_id in ids_to_update for match_id in files_id]\n",
    "    files = np.array(files)[mask_update]\n",
    "    # load the old dataframe, filter out changed matches and add the new parquet files\n",
    "    df_old = pd.read_parquet(os.path.join(folder, f'{file_type}.parquet'))\n",
    "    df_old = df_old[~df_old.match_id.isin(ids_to_update)]\n",
    "    df_new = pd.concat([pd.read_parquet(file) for file in files])\n",
    "    df_old = pd.concat([df_old, df_new])\n",
    "    return df_old"
   ]
  },
  {
   "cell_type": "markdown",
   "metadata": {},
   "source": [
    "Single dataframe events"
   ]
  },
  {
   "cell_type": "code",
   "execution_count": 15,
   "metadata": {},
   "outputs": [
    {
     "name": "stdout",
     "output_type": "stream",
     "text": [
      "<class 'pandas.core.frame.DataFrame'>\n",
      "Int64Index: 3198449 entries, 0 to 3268\n",
      "Data columns (total 95 columns):\n",
      " #   Column                          Non-Null Count    Dtype  \n",
      "---  ------                          --------------    -----  \n",
      " 0   match_id                        3198449 non-null  int64  \n",
      " 1   id                              3198449 non-null  object \n",
      " 2   index                           3198449 non-null  int64  \n",
      " 3   period                          3198449 non-null  int64  \n",
      " 4   timestamp_minute                3198449 non-null  int64  \n",
      " 5   timestamp_second                3198449 non-null  int64  \n",
      " 6   timestamp_millisecond           3198449 non-null  int64  \n",
      " 7   minute                          3198449 non-null  int64  \n",
      " 8   second                          3198449 non-null  int64  \n",
      " 9   type_id                         3198449 non-null  int64  \n",
      " 10  type_name                       3198449 non-null  object \n",
      " 11  sub_type_id                     280209 non-null   float64\n",
      " 12  sub_type_name                   280209 non-null   object \n",
      " 13  outcome_id                      444328 non-null   float64\n",
      " 14  outcome_name                    444328 non-null   object \n",
      " 15  play_pattern_id                 3198449 non-null  int64  \n",
      " 16  play_pattern_name               3198449 non-null  object \n",
      " 17  possession_team_id              3198449 non-null  int64  \n",
      " 18  possession                      3198449 non-null  int64  \n",
      " 19  possession_team_name            3198449 non-null  object \n",
      " 20  team_id                         3198449 non-null  int64  \n",
      " 21  team_name                       3198449 non-null  object \n",
      " 22  player_id                       3181705 non-null  float64\n",
      " 23  player_name                     3181705 non-null  object \n",
      " 24  position_id                     3181705 non-null  float64\n",
      " 25  position_name                   3181705 non-null  object \n",
      " 26  duration                        2343493 non-null  float64\n",
      " 27  x                               3173431 non-null  float64\n",
      " 28  y                               3173431 non-null  float64\n",
      " 29  z                               0 non-null        float64\n",
      " 30  end_x                           1645237 non-null  float64\n",
      " 31  end_y                           1645237 non-null  float64\n",
      " 32  end_z                           16408 non-null    float64\n",
      " 33  body_part_id                    890613 non-null   float64\n",
      " 34  body_part_name                  890613 non-null   object \n",
      " 35  technique_id                    41904 non-null    float64\n",
      " 36  technique_name                  41908 non-null    object \n",
      " 37  counterpress                    99100 non-null    float64\n",
      " 38  under_pressure                  689474 non-null   float64\n",
      " 39  pass_length                     882536 non-null   float64\n",
      " 40  pass_angle                      882536 non-null   float64\n",
      " 41  pass_recipient_id               819707 non-null   float64\n",
      " 42  pass_recipient_name             819707 non-null   object \n",
      " 43  pass_height_id                  882536 non-null   float64\n",
      " 44  pass_height_name                882536 non-null   object \n",
      " 45  pass_switch                     23945 non-null    object \n",
      " 46  pass_assisted_shot_id           15865 non-null    object \n",
      " 47  pass_shot_assist                13993 non-null    object \n",
      " 48  pass_cross                      18936 non-null    object \n",
      " 49  pass_backheel                   949 non-null      object \n",
      " 50  pass_deflected                  1045 non-null     object \n",
      " 51  pass_cut_back                   1633 non-null     object \n",
      " 52  pass_goal_assist                1872 non-null     object \n",
      " 53  bad_behaviour_card_id           631 non-null      float64\n",
      " 54  bad_behaviour_card_name         631 non-null      object \n",
      " 55  ball_recovery_recovery_failure  7298 non-null     object \n",
      " 56  block_offensive                 506 non-null      object \n",
      " 57  block_deflection                1004 non-null     object \n",
      " 58  dribble_overrun                 2193 non-null     object \n",
      " 59  foul_committed_card_id          2820 non-null     float64\n",
      " 60  foul_committed_card_name        2820 non-null     object \n",
      " 61  foul_committed_advantage        3339 non-null     object \n",
      " 62  foul_committed_type_id          1592 non-null     float64\n",
      " 63  foul_committed_type_name        1592 non-null     object \n",
      " 64  foul_won_defensive              6263 non-null     object \n",
      " 65  foul_won_advantage              3428 non-null     object \n",
      " 66  goalkeeper_position_id          22652 non-null    float64\n",
      " 67  goalkeeper_position_name        22652 non-null    object \n",
      " 68  shot_statsbomb_xg               22672 non-null    float64\n",
      " 69  shot_key_pass_id                15865 non-null    object \n",
      " 70  shot_first_time                 6088 non-null     object \n",
      " 71  shot_one_on_one                 1413 non-null     object \n",
      " 72  substitution_replacement_id     4915 non-null     float64\n",
      " 73  substitution_replacement_name   4915 non-null     object \n",
      " 74  tactics_formation               3347 non-null     float64\n",
      " 75  aerial_won                      21289 non-null    object \n",
      " 76  ball_recovery_offensive         333 non-null      object \n",
      " 77  dribble_nutmeg                  1214 non-null     object \n",
      " 78  off_camera                      34764 non-null    float64\n",
      " 79  foul_committed_penalty          266 non-null      object \n",
      " 80  foul_won_penalty                219 non-null      object \n",
      " 81  shot_redirect                   75 non-null       object \n",
      " 82  shot_deflected                  236 non-null      object \n",
      " 83  pass_miscommunication           577 non-null      object \n",
      " 84  foul_committed_offensive        1041 non-null     object \n",
      " 85  block_save_block                191 non-null      object \n",
      " 86  out                             19599 non-null    float64\n",
      " 87  shot_open_goal                  266 non-null      object \n",
      " 88  injury_stoppage_in_chain        340 non-null      object \n",
      " 89  shot_follows_dribble            28 non-null       object \n",
      " 90  pass_no_touch                   615 non-null      object \n",
      " 91  dribble_no_touch                99 non-null       object \n",
      " 92  half_start_late_video_start     48 non-null       object \n",
      " 93  player_off_permanent            8 non-null        object \n",
      " 94  half_end_early_video_end        8 non-null        object \n",
      "dtypes: float64(28), int64(13), object(54)\n",
      "memory usage: 2.3+ GB\n"
     ]
    }
   ],
   "source": [
    "if len(event_links) == 0:\n",
    "    print('No update')\n",
    "else:\n",
    "    if update_files:\n",
    "        df_event = update(DATA_FOLDER, 'event', ids_to_update)\n",
    "        df_event.player_id.replace(to_replace, inplace=True)  # replace some ids that appear to be split\n",
    "        df_event.to_parquet(os.path.join(DATA_FOLDER, 'event.parquet'))\n",
    "        df_event.info(verbose=True, show_counts=True)        \n",
    "    else:\n",
    "        df_event = pd.concat([pd.read_parquet(file) for file in event_files])\n",
    "        df_event.player_id.replace(to_replace, inplace=True)  # replace some ids that appear to be split\n",
    "        df_event.to_parquet(os.path.join(DATA_FOLDER, 'event.parquet'))\n",
    "        df_event.info(verbose=True, show_counts=True)"
   ]
  },
  {
   "cell_type": "markdown",
   "metadata": {},
   "source": [
    "Single dataframe shot freeze frames"
   ]
  },
  {
   "cell_type": "code",
   "execution_count": 16,
   "metadata": {},
   "outputs": [
    {
     "name": "stdout",
     "output_type": "stream",
     "text": [
      "<class 'pandas.core.frame.DataFrame'>\n",
      "Int64Index: 277829 entries, 0 to 248\n",
      "Data columns (total 10 columns):\n",
      " #   Column                Non-Null Count   Dtype  \n",
      "---  ------                --------------   -----  \n",
      " 0   id                    277829 non-null  object \n",
      " 1   event_freeze_id       277829 non-null  int64  \n",
      " 2   player_teammate       277829 non-null  bool   \n",
      " 3   player_id             277829 non-null  int64  \n",
      " 4   player_name           277829 non-null  object \n",
      " 5   player_position_id    277829 non-null  int64  \n",
      " 6   player_position_name  277829 non-null  object \n",
      " 7   x                     277829 non-null  float64\n",
      " 8   y                     277829 non-null  float64\n",
      " 9   match_id              277829 non-null  int64  \n",
      "dtypes: bool(1), float64(2), int64(4), object(3)\n",
      "memory usage: 21.5+ MB\n"
     ]
    }
   ],
   "source": [
    "if len(event_links) == 0:\n",
    "    print('No update')\n",
    "else:\n",
    "    if update_files:\n",
    "        df_freeze = update(DATA_FOLDER, 'freeze', ids_to_update)\n",
    "        df_freeze.player_id.replace(to_replace, inplace=True)  # replace some ids that appear to be split\n",
    "        df_freeze.to_parquet(os.path.join(DATA_FOLDER, 'freeze.parquet'))\n",
    "        df_freeze.info(verbose=True, show_counts=True)      \n",
    "    else:\n",
    "        freeze_files = glob.glob(os.path.join(DATA_FOLDER, 'freeze_raw', '*.parquet'))\n",
    "        df_freeze = pd.concat([pd.read_parquet(file) for file in freeze_files])\n",
    "        df_freeze.player_id.replace(to_replace, inplace=True)  # replace some ids that appear to be split\n",
    "        df_freeze.to_parquet(os.path.join(DATA_FOLDER, 'freeze.parquet'))\n",
    "        df_freeze.info()"
   ]
  },
  {
   "cell_type": "markdown",
   "metadata": {},
   "source": [
    "Single dataframe tactics"
   ]
  },
  {
   "cell_type": "code",
   "execution_count": 17,
   "metadata": {},
   "outputs": [
    {
     "name": "stdout",
     "output_type": "stream",
     "text": [
      "<class 'pandas.core.frame.DataFrame'>\n",
      "Int64Index: 36817 entries, 0 to 43\n",
      "Data columns (total 8 columns):\n",
      " #   Column                Non-Null Count  Dtype \n",
      "---  ------                --------------  ----- \n",
      " 0   id                    36817 non-null  object\n",
      " 1   event_tactics_id      36817 non-null  int64 \n",
      " 2   player_jersey_number  36817 non-null  int64 \n",
      " 3   player_id             36817 non-null  int64 \n",
      " 4   player_name           36817 non-null  object\n",
      " 5   player_position_id    36817 non-null  int64 \n",
      " 6   player_position_name  36817 non-null  object\n",
      " 7   match_id              36817 non-null  int64 \n",
      "dtypes: int64(5), object(3)\n",
      "memory usage: 2.5+ MB\n"
     ]
    }
   ],
   "source": [
    "if len(event_links) == 0:\n",
    "    print('No update')\n",
    "else:\n",
    "    if update_files:\n",
    "        df_tactic = update(DATA_FOLDER, 'tactic', ids_to_update)\n",
    "        df_tactic.player_id.replace(to_replace, inplace=True)  # replace some ids that appear to be split\n",
    "        df_tactic.to_parquet(os.path.join(DATA_FOLDER, 'tactic.parquet'))\n",
    "        df_tactic.info(verbose=True, show_counts=True)      \n",
    "    else:\n",
    "        tactic_files = glob.glob(os.path.join(DATA_FOLDER, 'tactic_raw', '*.parquet'))\n",
    "        df_tactic = pd.concat([pd.read_parquet(file) for file in tactic_files])\n",
    "        df_tactic.player_id.replace(to_replace, inplace=True)  # replace some ids that appear to be split\n",
    "        df_tactic.to_parquet(os.path.join(DATA_FOLDER, 'tactic.parquet'))\n",
    "        df_tactic.info()"
   ]
  },
  {
   "cell_type": "markdown",
   "metadata": {},
   "source": [
    "Single dataframe related events"
   ]
  },
  {
   "cell_type": "code",
   "execution_count": 18,
   "metadata": {},
   "outputs": [
    {
     "name": "stdout",
     "output_type": "stream",
     "text": [
      "<class 'pandas.core.frame.DataFrame'>\n",
      "Int64Index: 6219794 entries, 0 to 6303\n",
      "Data columns (total 7 columns):\n",
      " #   Column             Non-Null Count    Dtype \n",
      "---  ------             --------------    ----- \n",
      " 0   id                 6219794 non-null  object\n",
      " 1   id_related         6219794 non-null  object\n",
      " 2   type_name          6219794 non-null  object\n",
      " 3   index              6219794 non-null  int64 \n",
      " 4   type_name_related  6219794 non-null  object\n",
      " 5   index_related      6219794 non-null  int64 \n",
      " 6   match_id           6219794 non-null  int64 \n",
      "dtypes: int64(3), object(4)\n",
      "memory usage: 379.6+ MB\n"
     ]
    }
   ],
   "source": [
    "if len(event_links) == 0:\n",
    "    print('No update')\n",
    "else:\n",
    "    if update_files:\n",
    "        df_related = update(DATA_FOLDER, 'related', ids_to_update)\n",
    "        df_related.to_parquet(os.path.join(DATA_FOLDER, 'related.parquet'))\n",
    "        df_related.info(verbose=True, show_counts=True)     \n",
    "    else:\n",
    "        related_files = glob.glob(os.path.join(DATA_FOLDER, 'related_raw', '*.parquet'))\n",
    "        df_related = pd.concat([pd.read_parquet(file) for file in related_files])\n",
    "        df_related.to_parquet(os.path.join(DATA_FOLDER, 'related.parquet'))\n",
    "        df_related.info(verbose=True, show_counts=True)"
   ]
  }
 ],
 "metadata": {
  "kernelspec": {
   "display_name": "Python 3",
   "language": "python",
   "name": "python3"
  },
  "language_info": {
   "codemirror_mode": {
    "name": "ipython",
    "version": 3
   },
   "file_extension": ".py",
   "mimetype": "text/x-python",
   "name": "python",
   "nbconvert_exporter": "python",
   "pygments_lexer": "ipython3",
   "version": "3.7.9"
  }
 },
 "nbformat": 4,
 "nbformat_minor": 4
}
