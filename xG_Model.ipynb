{
 "cells": [
  {
   "cell_type": "code",
   "execution_count": 1,
   "metadata": {},
   "outputs": [],
   "source": [
    "import os\n",
    "import pandas as pd\n",
    "import numpy as np\n",
    "from numpy.ma import MaskedArray\n",
    "from numpy import mean\n",
    "from numpy import std\n",
    "from xgboost import XGBClassifier\n",
    "from sklearn.model_selection import train_test_split\n",
    "from sklearn.model_selection import GridSearchCV, cross_validate\n",
    "from sklearn.model_selection import cross_val_score\n",
    "from sklearn.model_selection import RepeatedStratifiedKFold\n",
    "from sklearn.preprocessing import OneHotEncoder, LabelEncoder\n",
    "from sklearn.preprocessing import FunctionTransformer\n",
    "from sklearn.preprocessing import StandardScaler\n",
    "from sklearn.compose import ColumnTransformer\n",
    "from sklearn.pipeline import Pipeline\n",
    "from sklearn.impute import SimpleImputer\n",
    "from sklearn.linear_model import LogisticRegression\n",
    "from sklearn.metrics import roc_auc_score, log_loss, make_scorer, brier_score_loss\n",
    "from sklearn.metrics import average_precision_score\n",
    "from sklearn.metrics import accuracy_score\n",
    "from sklearn.calibration import calibration_curve\n",
    "from sklearn.calibration import CalibratedClassifierCV\n",
    "from sklearn.inspection import permutation_importance\n",
    "import sklearn.utils.fixes\n",
    "sklearn.utils.fixes.MaskedArray = MaskedArray\n",
    "from lightgbm import LGBMClassifier\n",
    "from joblib import dump, load\n",
    "import matplotlib.pyplot as plt\n",
    "import seaborn as sns\n",
    "from scipy.stats import spearmanr\n",
    "from scipy.cluster import hierarchy\n",
    "from scipy.spatial import distance\n",
    "# monkey patch for bayesseachcv (https://github.com/scikit-optimize/scikit-optimize/issues/902)\n",
    "from skopt import BayesSearchCV\n",
    "from skopt.space import Real, Integer\n",
    "import warnings\n",
    "warnings.filterwarnings('ignore')"
   ]
  },
  {
   "cell_type": "code",
   "execution_count": 2,
   "metadata": {},
   "outputs": [],
   "source": [
    "# Random state\n",
    "seed = 42"
   ]
  },
  {
   "cell_type": "code",
   "execution_count": 3,
   "metadata": {},
   "outputs": [],
   "source": [
    "# Setup metrics (see: http://business-analytic.co.uk/blog/evaluating-expected-goals-models/)\n",
    "# define Mcfadden's pseduo r-squared\n",
    "def mcfadden_r2(y, y_pred):\n",
    "    ll = log_loss(y, y_pred)\n",
    "    ll_null = log_loss(y, np.full(len(y), y.mean()))\n",
    "    return 1 - (ll/ll_null)\n",
    "pseudo_r2_scorer = make_scorer(mcfadden_r2, needs_proba=True, greater_is_better=True)"
   ]
  },
  {
   "cell_type": "code",
   "execution_count": 4,
   "metadata": {},
   "outputs": [],
   "source": [
    "scoring = {'roc_aug': 'roc_auc', 'mcfaddens_r2': pseudo_r2_scorer}"
   ]
  },
  {
   "cell_type": "code",
   "execution_count": 5,
   "metadata": {},
   "outputs": [],
   "source": [
    "# Load the data\n",
    "cwd = os.getcwd()\n",
    "df = pd.read_parquet(os.path.join(cwd, 'data', 'shots.parquet'))\n",
    "df.drop(['match_id', 'statsbomb_id','period', 'statsbomb_team_id', 'player_id_statsbomb', 'competition_gender', 'team_name',\n",
    "         'player_id', 'firstName', 'middleName', 'lastName', 'Name', 'dataset', 'wyscout_id', 'wyscout_team_id', 'team_id',\n",
    "         'player_id_wyscout','competition_name','minute','shot_zone'], axis=1, inplace=True)\n",
    "mask_penalty = (df.shot_type_name=='penalty')\n",
    "df_penalty = df[mask_penalty].copy()\n",
    "df_penalty.drop(['assist_type', 'pass_end_y', 'pass_end_x', 'pass_switch', 'pass_cross', 'pass_cut_back',\n",
    "         'pass_height_name', 'pass_technique_name', 'carry_length', 'shot_open_goal', 'shot_one_on_one', 'under_pressure',\n",
    "         'area_shot', 'area_goal', 'n_angle', 'goalkeeper_x','goalkeeper_y','smart_pass',\n",
    "         'shot_zone_number','shot_zone_player_number'], axis=1, inplace=True)\n",
    "df_non_penalty = df[~mask_penalty].copy()\n",
    "df_non_penalty.drop(['penalty_number'], axis=1, inplace=True)\n",
    "X_penalty = df_penalty.drop('goal', axis=1)\n",
    "y_penalty = df_penalty.goal\n",
    "X = df_non_penalty.drop('goal', axis=1)\n",
    "y = df_non_penalty.goal"
   ]
  },
  {
   "cell_type": "code",
   "execution_count": 6,
   "metadata": {},
   "outputs": [
    {
     "name": "stdout",
     "output_type": "stream",
     "text": [
      "<class 'pandas.core.frame.DataFrame'>\n",
      "Int64Index: 64663 entries, 5 to 65787\n",
      "Data columns (total 41 columns):\n",
      " #   Column                   Non-Null Count  Dtype  \n",
      "---  ------                   --------------  -----  \n",
      " 0   eventSec                 64663 non-null  float64\n",
      " 1   shot_type_name           64663 non-null  object \n",
      " 2   x                        64663 non-null  float64\n",
      " 3   y                        64663 non-null  float64\n",
      " 4   counter_attack           64663 non-null  bool   \n",
      " 5   fast_break               64663 non-null  bool   \n",
      " 6   strong_foot              64663 non-null  bool   \n",
      " 7   body_part_name           64663 non-null  object \n",
      " 8   assist_type              64663 non-null  object \n",
      " 9   pass_end_y               15635 non-null  float64\n",
      " 10  pass_end_x               15635 non-null  float64\n",
      " 11  pass_switch              44116 non-null  object \n",
      " 12  pass_cross               44116 non-null  object \n",
      " 13  pass_cut_back            44116 non-null  object \n",
      " 14  pass_height_name         44116 non-null  object \n",
      " 15  pass_technique_name      44116 non-null  object \n",
      " 16  carry_length             15635 non-null  float64\n",
      " 17  visible_angle            64663 non-null  float64\n",
      " 18  middle_angle             64663 non-null  float64\n",
      " 19  distance_to_goal         64663 non-null  float64\n",
      " 20  distance_visible_angle   64663 non-null  float64\n",
      " 21  log_distance_to_goal     64663 non-null  float64\n",
      " 22  shot_one_on_one          21961 non-null  object \n",
      " 23  shot_open_goal           21961 non-null  object \n",
      " 24  under_pressure           21961 non-null  object \n",
      " 25  match_week               64663 non-null  float64\n",
      " 26  player_id_goalkeeper     64663 non-null  float64\n",
      " 27  H_A_column               64663 non-null  object \n",
      " 28  players                  64663 non-null  float64\n",
      " 29  players_rival            64663 non-null  float64\n",
      " 30  area_shot                21961 non-null  float64\n",
      " 31  area_goal                21961 non-null  float64\n",
      " 32  n_angle                  21961 non-null  float64\n",
      " 33  goalkeeper_x             21903 non-null  float64\n",
      " 34  goalkeeper_y             21903 non-null  float64\n",
      " 35  smart_pass               28481 non-null  object \n",
      " 36  match_moment             64663 non-null  object \n",
      " 37  shot_number              64663 non-null  float64\n",
      " 38  shot_zone_number         64663 non-null  float64\n",
      " 39  shot_player_number       64663 non-null  float64\n",
      " 40  shot_zone_player_number  64663 non-null  float64\n",
      "dtypes: bool(3), float64(24), object(14)\n",
      "memory usage: 19.4+ MB\n"
     ]
    }
   ],
   "source": [
    "X.info()"
   ]
  },
  {
   "cell_type": "code",
   "execution_count": 7,
   "metadata": {},
   "outputs": [],
   "source": [
    "# Split into train, calibration and test datasets\n",
    "X_train, X_test, y_train, y_test = train_test_split(X, y, train_size=0.8, random_state=seed, stratify=y)\n",
    "X_penalty_train, X_penalty_test, y_penalty_train, y_penalty_test = train_test_split(X_penalty, y_penalty,\n",
    "                                                                        train_size=0.8, random_state=seed, stratify=y_penalty)"
   ]
  },
  {
   "cell_type": "code",
   "execution_count": 8,
   "metadata": {},
   "outputs": [
    {
     "name": "stdout",
     "output_type": "stream",
     "text": [
      "Shots train 51730 ;Number goals 5485 ;Goals %:  10.6\n",
      "Shots test 12933 ;Number goals 1371 ;Goals %:  10.6\n"
     ]
    }
   ],
   "source": [
    "print('Shots train', len(y_train), ';Number goals', y_train.sum(),\n",
    "      ';Goals %: ', round(y_train.mean()*100, 1))\n",
    "print('Shots test', len(y_test), ';Number goals', y_test.sum(),\n",
    "      ';Goals %: ', round(y_test.mean()*100, 1))"
   ]
  },
  {
   "cell_type": "code",
   "execution_count": 9,
   "metadata": {},
   "outputs": [
    {
     "name": "stdout",
     "output_type": "stream",
     "text": [
      "Penalty Shots train 717 ;Penalty Number goals 528 ;Penalty Goals %:  73.6\n",
      "Penalty Shots test 180 ;Penalty Number goals 132 ;Penalty Goals %:  73.3\n"
     ]
    }
   ],
   "source": [
    "print('Penalty Shots train', len(y_penalty_train), ';Penalty Number goals', y_penalty_train.sum(),\n",
    "      ';Penalty Goals %: ', round(y_penalty_train.mean()*100, 1))\n",
    "print('Penalty Shots test', len(y_penalty_test), ';Penalty Number goals', y_penalty_test.sum(),\n",
    "      ';Penalty Goals %: ', round(y_penalty_test.mean()*100, 1))"
   ]
  },
  {
   "cell_type": "code",
   "execution_count": 10,
   "metadata": {},
   "outputs": [],
   "source": [
    "# Load and split fake data\n",
    "df_fake = pd.read_parquet(os.path.join(cwd, 'data', 'fake_shots.parquet'))\n",
    "df_fake.index = ['a'+str(idx) for idx in df_fake.index]\n",
    "y_fake = df_fake.goal\n",
    "X_fake = df_fake.drop('goal', axis=1)"
   ]
  },
  {
   "cell_type": "code",
   "execution_count": 11,
   "metadata": {},
   "outputs": [
    {
     "name": "stdout",
     "output_type": "stream",
     "text": [
      "Shots fake 1000 ;Goals %:  3.4\n"
     ]
    }
   ],
   "source": [
    "print('Shots fake', len(y_fake), ';Goals %: ', round(y_fake.mean()*100, 1))"
   ]
  },
  {
   "cell_type": "markdown",
   "metadata": {},
   "source": [
    "# Logistic regression"
   ]
  },
  {
   "cell_type": "code",
   "execution_count": 12,
   "metadata": {},
   "outputs": [],
   "source": [
    "# Subset dataset for logistic regression\n",
    "# logistic regression does not deal well with dependent features\n",
    "# The model will use the distance/ angle features capture these location features instead\n",
    "# lots of missings for the below features as they come from StatsBomb data only.\n",
    "# while logistic regression does not allow missings so I removed them\n",
    "# drop colum\n",
    "logistic_drop_cols = ['x', 'y',  \n",
    "                      'pass_end_y', 'pass_end_x',  # <- note these were in Wyscout, but often were just the shot location\n",
    "                      'eventSec', 'player_id_goalkeeper', 'goalkeeper_x', 'goalkeeper_y', 'carry_length', \n",
    "                      'shot_one_on_one', 'shot_open_goal','under_pressure', 'area_shot', 'area_goal', 'n_angle', 'smart_pass']\n",
    "X_train_logistic = X_train.drop(logistic_drop_cols, axis=1).copy()\n",
    "X_test_logistic = X_test.drop(logistic_drop_cols, axis=1).copy()"
   ]
  },
  {
   "cell_type": "code",
   "execution_count": 13,
   "metadata": {},
   "outputs": [],
   "source": [
    "# Split dataset for logistic regession into passes / other assists\n",
    "def split(X, y):\n",
    "    mask = X.assist_type == 'pass'\n",
    "    X_pass = X[mask].drop('assist_type', axis=1).copy()\n",
    "    y_pass = y[mask]\n",
    "    X_other = X[~mask].dropna(axis=1, how='all').copy()\n",
    "    y_other = y[~mask]\n",
    "    return X_pass, y_pass, X_other, y_other"
   ]
  },
  {
   "cell_type": "code",
   "execution_count": 14,
   "metadata": {},
   "outputs": [],
   "source": [
    "X_train_pass, y_train_pass, X_train_other, y_train_other = split(X_train_logistic, y_train)\n",
    "X_test_pass, y_test_pass, X_test_other, y_test_other = split(X_test_logistic, y_test)"
   ]
  },
  {
   "cell_type": "code",
   "execution_count": 15,
   "metadata": {},
   "outputs": [],
   "source": [
    "# Pipeline for cleaning pass assists\n",
    "cols = ['shot_type_name', 'body_part_name', 'pass_technique_name', 'pass_height_name','H_A_column','match_moment']\n",
    "cats = [['open_play', 'free_kick', 'corner', 'throw_in'],\n",
    "        ['Right Foot', 'Left Foot', 'Other'],\n",
    "        ['other', 'Through Ball', 'Straight', 'Inswinging', 'Outswinging'],\n",
    "        ['Ground/ Low Pass', 'High Pass'],\n",
    "        ['Home Team', 'Away Team'],\n",
    "        ['0-15','15-30','30-45','45-60','60-75','75-90']]\n",
    "pass_one_hot = ColumnTransformer([('encoder', OneHotEncoder(drop='first', categories=cats), cols)], remainder='passthrough')\n",
    "pipe_pass = Pipeline([('one_hot', pass_one_hot),\n",
    "                      ('impute', SimpleImputer()),\n",
    "                      ('scale', StandardScaler()),\n",
    "                      ('lr', LogisticRegression(random_state=seed))])"
   ]
  },
  {
   "cell_type": "code",
   "execution_count": 16,
   "metadata": {},
   "outputs": [],
   "source": [
    "# Column names of transformed pass data\n",
    "original_cols_remain = [col for col in X_train_pass.columns if col not in cols]\n",
    "new_cols_pass = [item for sublist in cats for i, item in enumerate(sublist) if (i>0)]\n",
    "new_cols_pass.extend(original_cols_remain)"
   ]
  },
  {
   "cell_type": "code",
   "execution_count": 17,
   "metadata": {},
   "outputs": [
    {
     "data": {
      "text/plain": [
       "['free_kick',\n",
       " 'corner',\n",
       " 'throw_in',\n",
       " 'Left Foot',\n",
       " 'Other',\n",
       " 'Through Ball',\n",
       " 'Straight',\n",
       " 'Inswinging',\n",
       " 'Outswinging',\n",
       " 'High Pass',\n",
       " 'Away Team',\n",
       " '15-30',\n",
       " '30-45',\n",
       " '45-60',\n",
       " '60-75',\n",
       " '75-90',\n",
       " 'counter_attack',\n",
       " 'fast_break',\n",
       " 'strong_foot',\n",
       " 'pass_switch',\n",
       " 'pass_cross',\n",
       " 'pass_cut_back',\n",
       " 'visible_angle',\n",
       " 'middle_angle',\n",
       " 'distance_to_goal',\n",
       " 'distance_visible_angle',\n",
       " 'log_distance_to_goal',\n",
       " 'match_week',\n",
       " 'players',\n",
       " 'players_rival',\n",
       " 'shot_number',\n",
       " 'shot_zone_number',\n",
       " 'shot_player_number',\n",
       " 'shot_zone_player_number']"
      ]
     },
     "execution_count": 17,
     "metadata": {},
     "output_type": "execute_result"
    }
   ],
   "source": [
    "new_cols_pass"
   ]
  },
  {
   "cell_type": "code",
   "execution_count": 18,
   "metadata": {},
   "outputs": [
    {
     "name": "stdout",
     "output_type": "stream",
     "text": [
      "['free_kick', 'corner', 'throw_in', 'Left Foot', 'Other', 'Through Ball', 'Straight', 'Inswinging', 'Outswinging', 'High Pass', 'Away Team', '15-30', '30-45', '45-60', '60-75', '75-90', 'counter_attack', 'fast_break', 'strong_foot', 'pass_switch', 'pass_cross', 'pass_cut_back', 'visible_angle', 'middle_angle', 'distance_to_goal', 'distance_visible_angle', 'log_distance_to_goal', 'match_week', 'players', 'players_rival', 'shot_number', 'shot_zone_number', 'shot_player_number', 'shot_zone_player_number']\n"
     ]
    }
   ],
   "source": [
    "print(new_cols_pass)"
   ]
  },
  {
   "cell_type": "code",
   "execution_count": 19,
   "metadata": {},
   "outputs": [],
   "source": [
    "# Pipeline for cleaning other assists\n",
    "# setting direct to recovery so does not not encoded twice ( also covered by shot_type_name == 'direct_set_piece')\n",
    "X_train_other.loc[X_train_other.assist_type == 'direct', 'assist_type'] = 'recovery'\n",
    "X_test_other.loc[X_test_other.assist_type == 'direct', 'assist_type'] = 'recovery'\n",
    "\n",
    "cols = ['shot_type_name', 'body_part_name', 'assist_type','H_A_column','match_moment']\n",
    "cats = [['open_play', 'free_kick', 'corner', 'throw_in', 'direct_set_piece'],\n",
    "        ['Right Foot', 'Left Foot', 'Other'],\n",
    "        ['recovery', 'clearance', 'rebound'],\n",
    "        ['Home Team', 'Away Team'],\n",
    "        ['0-15','15-30','30-45','45-60','60-75','75-90']]\n",
    "other_one_hot = ColumnTransformer([('encoder', OneHotEncoder(drop='first', categories=cats), cols)], remainder='passthrough')\n",
    "pipe_other = Pipeline([('one_hot', other_one_hot),\n",
    "                       ('impute', SimpleImputer()),\n",
    "                       ('scale', StandardScaler()),\n",
    "                       ('lr', LogisticRegression(random_state=seed))])"
   ]
  },
  {
   "cell_type": "code",
   "execution_count": 20,
   "metadata": {},
   "outputs": [],
   "source": [
    "# Column names of transformed passes\n",
    "original_cols_remain = [col for col in X_train_other.columns if col not in cols]\n",
    "new_cols_other = [item for sublist in cats for i, item in enumerate(sublist) if (i>0)]\n",
    "new_cols_other.extend(original_cols_remain)"
   ]
  },
  {
   "cell_type": "code",
   "execution_count": 21,
   "metadata": {},
   "outputs": [
    {
     "data": {
      "text/plain": [
       "['counter_attack',\n",
       " 'fast_break',\n",
       " 'strong_foot',\n",
       " 'visible_angle',\n",
       " 'middle_angle',\n",
       " 'distance_to_goal',\n",
       " 'distance_visible_angle',\n",
       " 'log_distance_to_goal',\n",
       " 'match_week',\n",
       " 'players',\n",
       " 'players_rival',\n",
       " 'shot_number',\n",
       " 'shot_zone_number',\n",
       " 'shot_player_number',\n",
       " 'shot_zone_player_number']"
      ]
     },
     "execution_count": 21,
     "metadata": {},
     "output_type": "execute_result"
    }
   ],
   "source": [
    "original_cols_remain"
   ]
  },
  {
   "cell_type": "code",
   "execution_count": 22,
   "metadata": {},
   "outputs": [
    {
     "name": "stdout",
     "output_type": "stream",
     "text": [
      "['free_kick', 'corner', 'throw_in', 'direct_set_piece', 'Left Foot', 'Other', 'clearance', 'rebound', 'Away Team', '15-30', '30-45', '45-60', '60-75', '75-90', 'counter_attack', 'fast_break', 'strong_foot', 'visible_angle', 'middle_angle', 'distance_to_goal', 'distance_visible_angle', 'log_distance_to_goal', 'match_week', 'players', 'players_rival', 'shot_number', 'shot_zone_number', 'shot_player_number', 'shot_zone_player_number']\n"
     ]
    }
   ],
   "source": [
    "print(new_cols_other)"
   ]
  },
  {
   "cell_type": "code",
   "execution_count": 23,
   "metadata": {},
   "outputs": [],
   "source": [
    "# Search parameters for gridsearchcv\n",
    "param_grid = {'lr__C': np.logspace(-3, 0.1, 100)}"
   ]
  },
  {
   "cell_type": "code",
   "execution_count": 24,
   "metadata": {},
   "outputs": [
    {
     "name": "stdout",
     "output_type": "stream",
     "text": [
      "C: 0.03953390342037077\n"
     ]
    }
   ],
   "source": [
    "# Fit the inner grid search for shots assisted by passes\n",
    "clf_pass = GridSearchCV(estimator=pipe_pass, param_grid=param_grid, scoring='neg_log_loss', n_jobs=-1)\n",
    "clf_pass.fit(X_train_pass, y_train_pass)\n",
    "print('C:', clf_pass.best_estimator_.named_steps.lr.C)"
   ]
  },
  {
   "cell_type": "code",
   "execution_count": 25,
   "metadata": {},
   "outputs": [
    {
     "data": {
      "text/plain": [
       "GridSearchCV(estimator=Pipeline(steps=[('one_hot',\n",
       "                                        ColumnTransformer(remainder='passthrough',\n",
       "                                                          transformers=[('encoder',\n",
       "                                                                         OneHotEncoder(categories=[['open_play',\n",
       "                                                                                                    'free_kick',\n",
       "                                                                                                    'corner',\n",
       "                                                                                                    'throw_in'],\n",
       "                                                                                                   ['Right '\n",
       "                                                                                                    'Foot',\n",
       "                                                                                                    'Left '\n",
       "                                                                                                    'Foot',\n",
       "                                                                                                    'Other'],\n",
       "                                                                                                   ['other',\n",
       "                                                                                                    'Through '\n",
       "                                                                                                    'Ball',\n",
       "                                                                                                    'Straight',\n",
       "                                                                                                    'Inswinging',\n",
       "                                                                                                    'Outswinging'],\n",
       "                                                                                                   ['Ground/ '\n",
       "                                                                                                    'Low '\n",
       "                                                                                                    'Pass',\n",
       "                                                                                                    'High '\n",
       "                                                                                                    'Pass'],\n",
       "                                                                                                   ['Home '\n",
       "                                                                                                    'Team',\n",
       "                                                                                                    'Away '\n",
       "                                                                                                    'Tea...\n",
       "       2.39771732e-01, 2.57698037e-01, 2.76964586e-01, 2.97671581e-01,\n",
       "       3.19926714e-01, 3.43845731e-01, 3.69553030e-01, 3.97182312e-01,\n",
       "       4.26877270e-01, 4.58792343e-01, 4.93093517e-01, 5.29959186e-01,\n",
       "       5.69581081e-01, 6.12165270e-01, 6.57933225e-01, 7.07122977e-01,\n",
       "       7.59990355e-01, 8.16810312e-01, 8.77878360e-01, 9.43512101e-01,\n",
       "       1.01405289e+00, 1.08986759e+00, 1.17135050e+00, 1.25892541e+00])},\n",
       "             scoring='neg_log_loss')"
      ]
     },
     "execution_count": 25,
     "metadata": {},
     "output_type": "execute_result"
    }
   ],
   "source": [
    "clf_pass"
   ]
  },
  {
   "cell_type": "code",
   "execution_count": 26,
   "metadata": {},
   "outputs": [
    {
     "name": "stdout",
     "output_type": "stream",
     "text": [
      "C: 0.11659144011798322\n"
     ]
    }
   ],
   "source": [
    "# Fit the inner grid search for shots assisted other than passes\n",
    "clf_other = GridSearchCV(estimator=pipe_other, param_grid=param_grid, scoring='neg_log_loss', n_jobs=-1)\n",
    "clf_other.fit(X_train_other, y_train_other)\n",
    "print('C:', clf_other.best_estimator_.named_steps.lr.C)"
   ]
  },
  {
   "cell_type": "code",
   "execution_count": 27,
   "metadata": {},
   "outputs": [
    {
     "name": "stdout",
     "output_type": "stream",
     "text": [
      "ROC AUC for shots assisted by passes: 0.7809616294481907\n",
      "McFadden's Pseudo R-squared shots assisted by passes: 0.15763474251473836\n"
     ]
    }
   ],
   "source": [
    "# Outer loops for unbiased estimates of the model accuracy\n",
    "nested_score_pass = cross_validate(clf_pass, X=X_train_pass, y=y_train_pass, scoring=scoring, n_jobs=-1)\n",
    "print('ROC AUC for shots assisted by passes:', nested_score_pass['test_roc_aug'].mean())\n",
    "print(\"McFadden's Pseudo R-squared shots assisted by passes:\", nested_score_pass['test_mcfaddens_r2'].mean())"
   ]
  },
  {
   "cell_type": "code",
   "execution_count": 29,
   "metadata": {},
   "outputs": [
    {
     "ename": "TerminatedWorkerError",
     "evalue": "A worker process managed by the executor was unexpectedly terminated. This could be caused by a segmentation fault while calling the function or by an excessive memory usage causing the Operating System to kill the worker.\n",
     "output_type": "error",
     "traceback": [
      "\u001b[1;31m---------------------------------------------------------------------------\u001b[0m",
      "\u001b[1;31mTerminatedWorkerError\u001b[0m                     Traceback (most recent call last)",
      "\u001b[1;32m<ipython-input-29-11dccb3ae181>\u001b[0m in \u001b[0;36m<module>\u001b[1;34m\u001b[0m\n\u001b[1;32m----> 1\u001b[1;33m \u001b[0mnested_score_other\u001b[0m \u001b[1;33m=\u001b[0m \u001b[0mcross_validate\u001b[0m\u001b[1;33m(\u001b[0m\u001b[0mclf_other\u001b[0m\u001b[1;33m,\u001b[0m \u001b[0mX\u001b[0m\u001b[1;33m=\u001b[0m\u001b[0mX_train_other\u001b[0m\u001b[1;33m,\u001b[0m \u001b[0my\u001b[0m\u001b[1;33m=\u001b[0m\u001b[0my_train_other\u001b[0m\u001b[1;33m,\u001b[0m \u001b[0mscoring\u001b[0m\u001b[1;33m=\u001b[0m\u001b[0mscoring\u001b[0m\u001b[1;33m,\u001b[0m \u001b[0mn_jobs\u001b[0m\u001b[1;33m=\u001b[0m\u001b[1;33m-\u001b[0m\u001b[1;36m1\u001b[0m\u001b[1;33m)\u001b[0m\u001b[1;33m\u001b[0m\u001b[1;33m\u001b[0m\u001b[0m\n\u001b[0m\u001b[0;32m      2\u001b[0m \u001b[0mprint\u001b[0m\u001b[1;33m(\u001b[0m\u001b[1;34m'ROC AUC for other model:'\u001b[0m\u001b[1;33m,\u001b[0m \u001b[0mnested_score_other\u001b[0m\u001b[1;33m[\u001b[0m\u001b[1;34m'test_roc_aug'\u001b[0m\u001b[1;33m]\u001b[0m\u001b[1;33m.\u001b[0m\u001b[0mmean\u001b[0m\u001b[1;33m(\u001b[0m\u001b[1;33m)\u001b[0m\u001b[1;33m)\u001b[0m\u001b[1;33m\u001b[0m\u001b[1;33m\u001b[0m\u001b[0m\n\u001b[0;32m      3\u001b[0m \u001b[0mprint\u001b[0m\u001b[1;33m(\u001b[0m\u001b[1;34m\"McFadden's Pseudo R-squared for other model:\"\u001b[0m\u001b[1;33m,\u001b[0m \u001b[0mnested_score_other\u001b[0m\u001b[1;33m[\u001b[0m\u001b[1;34m'test_mcfaddens_r2'\u001b[0m\u001b[1;33m]\u001b[0m\u001b[1;33m.\u001b[0m\u001b[0mmean\u001b[0m\u001b[1;33m(\u001b[0m\u001b[1;33m)\u001b[0m\u001b[1;33m)\u001b[0m\u001b[1;33m\u001b[0m\u001b[1;33m\u001b[0m\u001b[0m\n",
      "\u001b[1;32m~\\anaconda3\\envs\\xGenv\\lib\\site-packages\\sklearn\\utils\\validation.py\u001b[0m in \u001b[0;36minner_f\u001b[1;34m(*args, **kwargs)\u001b[0m\n\u001b[0;32m     70\u001b[0m                           FutureWarning)\n\u001b[0;32m     71\u001b[0m         \u001b[0mkwargs\u001b[0m\u001b[1;33m.\u001b[0m\u001b[0mupdate\u001b[0m\u001b[1;33m(\u001b[0m\u001b[1;33m{\u001b[0m\u001b[0mk\u001b[0m\u001b[1;33m:\u001b[0m \u001b[0marg\u001b[0m \u001b[1;32mfor\u001b[0m \u001b[0mk\u001b[0m\u001b[1;33m,\u001b[0m \u001b[0marg\u001b[0m \u001b[1;32min\u001b[0m \u001b[0mzip\u001b[0m\u001b[1;33m(\u001b[0m\u001b[0msig\u001b[0m\u001b[1;33m.\u001b[0m\u001b[0mparameters\u001b[0m\u001b[1;33m,\u001b[0m \u001b[0margs\u001b[0m\u001b[1;33m)\u001b[0m\u001b[1;33m}\u001b[0m\u001b[1;33m)\u001b[0m\u001b[1;33m\u001b[0m\u001b[1;33m\u001b[0m\u001b[0m\n\u001b[1;32m---> 72\u001b[1;33m         \u001b[1;32mreturn\u001b[0m \u001b[0mf\u001b[0m\u001b[1;33m(\u001b[0m\u001b[1;33m**\u001b[0m\u001b[0mkwargs\u001b[0m\u001b[1;33m)\u001b[0m\u001b[1;33m\u001b[0m\u001b[1;33m\u001b[0m\u001b[0m\n\u001b[0m\u001b[0;32m     73\u001b[0m     \u001b[1;32mreturn\u001b[0m \u001b[0minner_f\u001b[0m\u001b[1;33m\u001b[0m\u001b[1;33m\u001b[0m\u001b[0m\n\u001b[0;32m     74\u001b[0m \u001b[1;33m\u001b[0m\u001b[0m\n",
      "\u001b[1;32m~\\anaconda3\\envs\\xGenv\\lib\\site-packages\\sklearn\\model_selection\\_validation.py\u001b[0m in \u001b[0;36mcross_validate\u001b[1;34m(estimator, X, y, groups, scoring, cv, n_jobs, verbose, fit_params, pre_dispatch, return_train_score, return_estimator, error_score)\u001b[0m\n\u001b[0;32m    246\u001b[0m             \u001b[0mreturn_times\u001b[0m\u001b[1;33m=\u001b[0m\u001b[1;32mTrue\u001b[0m\u001b[1;33m,\u001b[0m \u001b[0mreturn_estimator\u001b[0m\u001b[1;33m=\u001b[0m\u001b[0mreturn_estimator\u001b[0m\u001b[1;33m,\u001b[0m\u001b[1;33m\u001b[0m\u001b[1;33m\u001b[0m\u001b[0m\n\u001b[0;32m    247\u001b[0m             error_score=error_score)\n\u001b[1;32m--> 248\u001b[1;33m         for train, test in cv.split(X, y, groups))\n\u001b[0m\u001b[0;32m    249\u001b[0m \u001b[1;33m\u001b[0m\u001b[0m\n\u001b[0;32m    250\u001b[0m     \u001b[0mzipped_scores\u001b[0m \u001b[1;33m=\u001b[0m \u001b[0mlist\u001b[0m\u001b[1;33m(\u001b[0m\u001b[0mzip\u001b[0m\u001b[1;33m(\u001b[0m\u001b[1;33m*\u001b[0m\u001b[0mscores\u001b[0m\u001b[1;33m)\u001b[0m\u001b[1;33m)\u001b[0m\u001b[1;33m\u001b[0m\u001b[1;33m\u001b[0m\u001b[0m\n",
      "\u001b[1;32m~\\anaconda3\\envs\\xGenv\\lib\\site-packages\\joblib\\parallel.py\u001b[0m in \u001b[0;36m__call__\u001b[1;34m(self, iterable)\u001b[0m\n\u001b[0;32m   1052\u001b[0m \u001b[1;33m\u001b[0m\u001b[0m\n\u001b[0;32m   1053\u001b[0m             \u001b[1;32mwith\u001b[0m \u001b[0mself\u001b[0m\u001b[1;33m.\u001b[0m\u001b[0m_backend\u001b[0m\u001b[1;33m.\u001b[0m\u001b[0mretrieval_context\u001b[0m\u001b[1;33m(\u001b[0m\u001b[1;33m)\u001b[0m\u001b[1;33m:\u001b[0m\u001b[1;33m\u001b[0m\u001b[1;33m\u001b[0m\u001b[0m\n\u001b[1;32m-> 1054\u001b[1;33m                 \u001b[0mself\u001b[0m\u001b[1;33m.\u001b[0m\u001b[0mretrieve\u001b[0m\u001b[1;33m(\u001b[0m\u001b[1;33m)\u001b[0m\u001b[1;33m\u001b[0m\u001b[1;33m\u001b[0m\u001b[0m\n\u001b[0m\u001b[0;32m   1055\u001b[0m             \u001b[1;31m# Make sure that we get a last message telling us we are done\u001b[0m\u001b[1;33m\u001b[0m\u001b[1;33m\u001b[0m\u001b[1;33m\u001b[0m\u001b[0m\n\u001b[0;32m   1056\u001b[0m             \u001b[0melapsed_time\u001b[0m \u001b[1;33m=\u001b[0m \u001b[0mtime\u001b[0m\u001b[1;33m.\u001b[0m\u001b[0mtime\u001b[0m\u001b[1;33m(\u001b[0m\u001b[1;33m)\u001b[0m \u001b[1;33m-\u001b[0m \u001b[0mself\u001b[0m\u001b[1;33m.\u001b[0m\u001b[0m_start_time\u001b[0m\u001b[1;33m\u001b[0m\u001b[1;33m\u001b[0m\u001b[0m\n",
      "\u001b[1;32m~\\anaconda3\\envs\\xGenv\\lib\\site-packages\\joblib\\parallel.py\u001b[0m in \u001b[0;36mretrieve\u001b[1;34m(self)\u001b[0m\n\u001b[0;32m    931\u001b[0m             \u001b[1;32mtry\u001b[0m\u001b[1;33m:\u001b[0m\u001b[1;33m\u001b[0m\u001b[1;33m\u001b[0m\u001b[0m\n\u001b[0;32m    932\u001b[0m                 \u001b[1;32mif\u001b[0m \u001b[0mgetattr\u001b[0m\u001b[1;33m(\u001b[0m\u001b[0mself\u001b[0m\u001b[1;33m.\u001b[0m\u001b[0m_backend\u001b[0m\u001b[1;33m,\u001b[0m \u001b[1;34m'supports_timeout'\u001b[0m\u001b[1;33m,\u001b[0m \u001b[1;32mFalse\u001b[0m\u001b[1;33m)\u001b[0m\u001b[1;33m:\u001b[0m\u001b[1;33m\u001b[0m\u001b[1;33m\u001b[0m\u001b[0m\n\u001b[1;32m--> 933\u001b[1;33m                     \u001b[0mself\u001b[0m\u001b[1;33m.\u001b[0m\u001b[0m_output\u001b[0m\u001b[1;33m.\u001b[0m\u001b[0mextend\u001b[0m\u001b[1;33m(\u001b[0m\u001b[0mjob\u001b[0m\u001b[1;33m.\u001b[0m\u001b[0mget\u001b[0m\u001b[1;33m(\u001b[0m\u001b[0mtimeout\u001b[0m\u001b[1;33m=\u001b[0m\u001b[0mself\u001b[0m\u001b[1;33m.\u001b[0m\u001b[0mtimeout\u001b[0m\u001b[1;33m)\u001b[0m\u001b[1;33m)\u001b[0m\u001b[1;33m\u001b[0m\u001b[1;33m\u001b[0m\u001b[0m\n\u001b[0m\u001b[0;32m    934\u001b[0m                 \u001b[1;32melse\u001b[0m\u001b[1;33m:\u001b[0m\u001b[1;33m\u001b[0m\u001b[1;33m\u001b[0m\u001b[0m\n\u001b[0;32m    935\u001b[0m                     \u001b[0mself\u001b[0m\u001b[1;33m.\u001b[0m\u001b[0m_output\u001b[0m\u001b[1;33m.\u001b[0m\u001b[0mextend\u001b[0m\u001b[1;33m(\u001b[0m\u001b[0mjob\u001b[0m\u001b[1;33m.\u001b[0m\u001b[0mget\u001b[0m\u001b[1;33m(\u001b[0m\u001b[1;33m)\u001b[0m\u001b[1;33m)\u001b[0m\u001b[1;33m\u001b[0m\u001b[1;33m\u001b[0m\u001b[0m\n",
      "\u001b[1;32m~\\anaconda3\\envs\\xGenv\\lib\\site-packages\\joblib\\_parallel_backends.py\u001b[0m in \u001b[0;36mwrap_future_result\u001b[1;34m(future, timeout)\u001b[0m\n\u001b[0;32m    540\u001b[0m         AsyncResults.get from multiprocessing.\"\"\"\n\u001b[0;32m    541\u001b[0m         \u001b[1;32mtry\u001b[0m\u001b[1;33m:\u001b[0m\u001b[1;33m\u001b[0m\u001b[1;33m\u001b[0m\u001b[0m\n\u001b[1;32m--> 542\u001b[1;33m             \u001b[1;32mreturn\u001b[0m \u001b[0mfuture\u001b[0m\u001b[1;33m.\u001b[0m\u001b[0mresult\u001b[0m\u001b[1;33m(\u001b[0m\u001b[0mtimeout\u001b[0m\u001b[1;33m=\u001b[0m\u001b[0mtimeout\u001b[0m\u001b[1;33m)\u001b[0m\u001b[1;33m\u001b[0m\u001b[1;33m\u001b[0m\u001b[0m\n\u001b[0m\u001b[0;32m    543\u001b[0m         \u001b[1;32mexcept\u001b[0m \u001b[0mCfTimeoutError\u001b[0m \u001b[1;32mas\u001b[0m \u001b[0me\u001b[0m\u001b[1;33m:\u001b[0m\u001b[1;33m\u001b[0m\u001b[1;33m\u001b[0m\u001b[0m\n\u001b[0;32m    544\u001b[0m             \u001b[1;32mraise\u001b[0m \u001b[0mTimeoutError\u001b[0m \u001b[1;32mfrom\u001b[0m \u001b[0me\u001b[0m\u001b[1;33m\u001b[0m\u001b[1;33m\u001b[0m\u001b[0m\n",
      "\u001b[1;32m~\\anaconda3\\envs\\xGenv\\lib\\concurrent\\futures\\_base.py\u001b[0m in \u001b[0;36mresult\u001b[1;34m(self, timeout)\u001b[0m\n\u001b[0;32m    433\u001b[0m                 \u001b[1;32mraise\u001b[0m \u001b[0mCancelledError\u001b[0m\u001b[1;33m(\u001b[0m\u001b[1;33m)\u001b[0m\u001b[1;33m\u001b[0m\u001b[1;33m\u001b[0m\u001b[0m\n\u001b[0;32m    434\u001b[0m             \u001b[1;32melif\u001b[0m \u001b[0mself\u001b[0m\u001b[1;33m.\u001b[0m\u001b[0m_state\u001b[0m \u001b[1;33m==\u001b[0m \u001b[0mFINISHED\u001b[0m\u001b[1;33m:\u001b[0m\u001b[1;33m\u001b[0m\u001b[1;33m\u001b[0m\u001b[0m\n\u001b[1;32m--> 435\u001b[1;33m                 \u001b[1;32mreturn\u001b[0m \u001b[0mself\u001b[0m\u001b[1;33m.\u001b[0m\u001b[0m__get_result\u001b[0m\u001b[1;33m(\u001b[0m\u001b[1;33m)\u001b[0m\u001b[1;33m\u001b[0m\u001b[1;33m\u001b[0m\u001b[0m\n\u001b[0m\u001b[0;32m    436\u001b[0m             \u001b[1;32melse\u001b[0m\u001b[1;33m:\u001b[0m\u001b[1;33m\u001b[0m\u001b[1;33m\u001b[0m\u001b[0m\n\u001b[0;32m    437\u001b[0m                 \u001b[1;32mraise\u001b[0m \u001b[0mTimeoutError\u001b[0m\u001b[1;33m(\u001b[0m\u001b[1;33m)\u001b[0m\u001b[1;33m\u001b[0m\u001b[1;33m\u001b[0m\u001b[0m\n",
      "\u001b[1;32m~\\anaconda3\\envs\\xGenv\\lib\\concurrent\\futures\\_base.py\u001b[0m in \u001b[0;36m__get_result\u001b[1;34m(self)\u001b[0m\n\u001b[0;32m    382\u001b[0m     \u001b[1;32mdef\u001b[0m \u001b[0m__get_result\u001b[0m\u001b[1;33m(\u001b[0m\u001b[0mself\u001b[0m\u001b[1;33m)\u001b[0m\u001b[1;33m:\u001b[0m\u001b[1;33m\u001b[0m\u001b[1;33m\u001b[0m\u001b[0m\n\u001b[0;32m    383\u001b[0m         \u001b[1;32mif\u001b[0m \u001b[0mself\u001b[0m\u001b[1;33m.\u001b[0m\u001b[0m_exception\u001b[0m\u001b[1;33m:\u001b[0m\u001b[1;33m\u001b[0m\u001b[1;33m\u001b[0m\u001b[0m\n\u001b[1;32m--> 384\u001b[1;33m             \u001b[1;32mraise\u001b[0m \u001b[0mself\u001b[0m\u001b[1;33m.\u001b[0m\u001b[0m_exception\u001b[0m\u001b[1;33m\u001b[0m\u001b[1;33m\u001b[0m\u001b[0m\n\u001b[0m\u001b[0;32m    385\u001b[0m         \u001b[1;32melse\u001b[0m\u001b[1;33m:\u001b[0m\u001b[1;33m\u001b[0m\u001b[1;33m\u001b[0m\u001b[0m\n\u001b[0;32m    386\u001b[0m             \u001b[1;32mreturn\u001b[0m \u001b[0mself\u001b[0m\u001b[1;33m.\u001b[0m\u001b[0m_result\u001b[0m\u001b[1;33m\u001b[0m\u001b[1;33m\u001b[0m\u001b[0m\n",
      "\u001b[1;31mTerminatedWorkerError\u001b[0m: A worker process managed by the executor was unexpectedly terminated. This could be caused by a segmentation fault while calling the function or by an excessive memory usage causing the Operating System to kill the worker.\n"
     ]
    }
   ],
   "source": [
    "nested_score_other = cross_validate(clf_other, X=X_train_other, y=y_train_other, scoring=scoring, n_jobs=-1)\n",
    "print('ROC AUC for other model:', nested_score_other['test_roc_aug'].mean())\n",
    "print(\"McFadden's Pseudo R-squared for other model:\", nested_score_other['test_mcfaddens_r2'].mean())"
   ]
  },
  {
   "cell_type": "markdown",
   "metadata": {},
   "source": [
    "# LightGBM model"
   ]
  },
  {
   "cell_type": "code",
   "execution_count": null,
   "metadata": {},
   "outputs": [],
   "source": [
    "# Add fake training data. I am not adding this to the test data as want this to be realistic of real data.\n",
    "X_train = pd.concat([X_train, X_fake])\n",
    "y_train = pd.concat([y_train, y_fake])"
   ]
  },
  {
   "cell_type": "code",
   "execution_count": 13,
   "metadata": {},
   "outputs": [
    {
     "name": "stdout",
     "output_type": "stream",
     "text": [
      "<class 'pandas.core.frame.DataFrame'>\n",
      "Index: 52730 entries, 48372 to a999\n",
      "Data columns (total 41 columns):\n",
      " #   Column                   Non-Null Count  Dtype  \n",
      "---  ------                   --------------  -----  \n",
      " 0   eventSec                 51730 non-null  float64\n",
      " 1   shot_type_name           52730 non-null  object \n",
      " 2   x                        52730 non-null  float64\n",
      " 3   y                        52730 non-null  float64\n",
      " 4   counter_attack           52730 non-null  bool   \n",
      " 5   fast_break               52730 non-null  bool   \n",
      " 6   strong_foot              52730 non-null  bool   \n",
      " 7   body_part_name           52730 non-null  object \n",
      " 8   assist_type              52730 non-null  object \n",
      " 9   pass_end_y               12675 non-null  float64\n",
      " 10  pass_end_x               12675 non-null  float64\n",
      " 11  pass_switch              35898 non-null  object \n",
      " 12  pass_cross               35898 non-null  object \n",
      " 13  pass_cut_back            35898 non-null  object \n",
      " 14  pass_height_name         35898 non-null  object \n",
      " 15  pass_technique_name      35898 non-null  object \n",
      " 16  carry_length             12675 non-null  float64\n",
      " 17  visible_angle            51730 non-null  float64\n",
      " 18  middle_angle             51730 non-null  float64\n",
      " 19  distance_to_goal         51730 non-null  float64\n",
      " 20  distance_visible_angle   51730 non-null  float64\n",
      " 21  log_distance_to_goal     51730 non-null  float64\n",
      " 22  shot_one_on_one          17847 non-null  object \n",
      " 23  shot_open_goal           17847 non-null  object \n",
      " 24  under_pressure           17847 non-null  object \n",
      " 25  match_week               52730 non-null  float64\n",
      " 26  player_id_goalkeeper     51730 non-null  float64\n",
      " 27  H_A_column               52730 non-null  object \n",
      " 28  players                  52730 non-null  float64\n",
      " 29  players_rival            52730 non-null  float64\n",
      " 30  area_shot                17847 non-null  float64\n",
      " 31  area_goal                17847 non-null  float64\n",
      " 32  n_angle                  17847 non-null  float64\n",
      " 33  goalkeeper_x             17803 non-null  float64\n",
      " 34  goalkeeper_y             17803 non-null  float64\n",
      " 35  smart_pass               23223 non-null  object \n",
      " 36  match_moment             52730 non-null  object \n",
      " 37  shot_number              52730 non-null  float64\n",
      " 38  shot_zone_number         52730 non-null  float64\n",
      " 39  shot_player_number       52730 non-null  float64\n",
      " 40  shot_zone_player_number  52730 non-null  float64\n",
      "dtypes: bool(3), float64(24), object(14)\n",
      "memory usage: 15.8+ MB\n"
     ]
    }
   ],
   "source": [
    "X_train.info()"
   ]
  },
  {
   "cell_type": "code",
   "execution_count": 14,
   "metadata": {},
   "outputs": [],
   "source": [
    "# Clean data. Categories to numbers. Drop distance and angle measures as just want raw locations for my models.\n",
    "def clean_lightgbm(df):\n",
    "    df = df.copy()\n",
    "    # replace categorical columns\n",
    "    shot_type_cat = {'free_kick': 0, 'corner': 1, 'throw_in': 2, 'direct_set_piece': 3, 'open_play': 4}\n",
    "    body_type_cat = {'Right Foot': 0, 'Left Foot': 1, 'Other': 2}\n",
    "    assist_type_cat = {'pass': 0, 'recovery': 1, 'clearance': 2, 'direct': 3, 'rebound': 4}\n",
    "    pass_height_cat = {'High Pass': 0, 'Ground/ Low Pass': 1}\n",
    "    pass_technique_cat = {'Through Ball': 0, 'Straight': 1, 'Inswinging': 2, 'Outswinging': 3, 'other': 4}\n",
    "    H_A_column_cat = {'Home Team': 0, 'Away Team': 1}\n",
    "    match_moment_cat = {'0-15': 0, '15-30': 1, '30-45': 2, '45-60': 3, '60-75': 4, '75-90': 5}\n",
    "    df.shot_type_name.replace(shot_type_cat, inplace=True)\n",
    "    df.body_part_name.replace(body_type_cat, inplace=True)\n",
    "    df.assist_type.replace(assist_type_cat, inplace=True)\n",
    "    df.pass_height_name.replace(pass_height_cat, inplace=True)\n",
    "    df.pass_technique_name.replace(pass_technique_cat, inplace=True)\n",
    "    df.H_A_column.replace(H_A_column_cat, inplace=True)\n",
    "    df.match_moment.replace(match_moment_cat, inplace=True)\n",
    "    \n",
    "    # replace boolean type columns (not really as have nans)\n",
    "    for col in ['pass_switch', 'pass_cross', 'pass_cut_back', 'shot_one_on_one',\n",
    "                'shot_open_goal', 'under_pressure', 'smart_pass']:\n",
    "        df[col] = df[col].astype(np.float32)\n",
    "    # drop some distance/ angle columns\n",
    "    drop_cols = ['x','y', 'eventSec', 'player_id_goalkeeper']\n",
    "    df.drop(drop_cols, axis=1, inplace=True)\n",
    "    return df\n",
    "    \n",
    "X_train = clean_lightgbm(X_train)\n",
    "X_test = clean_lightgbm(X_test)"
   ]
  },
  {
   "cell_type": "code",
   "execution_count": 15,
   "metadata": {},
   "outputs": [
    {
     "name": "stdout",
     "output_type": "stream",
     "text": [
      "<class 'pandas.core.frame.DataFrame'>\n",
      "Index: 52730 entries, 48372 to a999\n",
      "Data columns (total 37 columns):\n",
      " #   Column                   Non-Null Count  Dtype  \n",
      "---  ------                   --------------  -----  \n",
      " 0   shot_type_name           52730 non-null  int64  \n",
      " 1   counter_attack           52730 non-null  bool   \n",
      " 2   fast_break               52730 non-null  bool   \n",
      " 3   strong_foot              52730 non-null  bool   \n",
      " 4   body_part_name           52730 non-null  int64  \n",
      " 5   assist_type              52730 non-null  int64  \n",
      " 6   pass_end_y               12675 non-null  float64\n",
      " 7   pass_end_x               12675 non-null  float64\n",
      " 8   pass_switch              35898 non-null  float32\n",
      " 9   pass_cross               35898 non-null  float32\n",
      " 10  pass_cut_back            35898 non-null  float32\n",
      " 11  pass_height_name         35898 non-null  float64\n",
      " 12  pass_technique_name      35898 non-null  float64\n",
      " 13  carry_length             12675 non-null  float64\n",
      " 14  visible_angle            51730 non-null  float64\n",
      " 15  middle_angle             51730 non-null  float64\n",
      " 16  distance_to_goal         51730 non-null  float64\n",
      " 17  distance_visible_angle   51730 non-null  float64\n",
      " 18  log_distance_to_goal     51730 non-null  float64\n",
      " 19  shot_one_on_one          17847 non-null  float32\n",
      " 20  shot_open_goal           17847 non-null  float32\n",
      " 21  under_pressure           17847 non-null  float32\n",
      " 22  match_week               52730 non-null  float64\n",
      " 23  H_A_column               52730 non-null  int64  \n",
      " 24  players                  52730 non-null  float64\n",
      " 25  players_rival            52730 non-null  float64\n",
      " 26  area_shot                17847 non-null  float64\n",
      " 27  area_goal                17847 non-null  float64\n",
      " 28  n_angle                  17847 non-null  float64\n",
      " 29  goalkeeper_x             17803 non-null  float64\n",
      " 30  goalkeeper_y             17803 non-null  float64\n",
      " 31  smart_pass               23223 non-null  float32\n",
      " 32  match_moment             52730 non-null  int64  \n",
      " 33  shot_number              52730 non-null  float64\n",
      " 34  shot_zone_number         52730 non-null  float64\n",
      " 35  shot_player_number       52730 non-null  float64\n",
      " 36  shot_zone_player_number  52730 non-null  float64\n",
      "dtypes: bool(3), float32(7), float64(22), int64(5)\n",
      "memory usage: 12.8+ MB\n"
     ]
    }
   ],
   "source": [
    "X_train.info()"
   ]
  },
  {
   "cell_type": "code",
   "execution_count": 16,
   "metadata": {},
   "outputs": [
    {
     "name": "stdout",
     "output_type": "stream",
     "text": [
      "Index(['shot_type_name', 'counter_attack', 'fast_break', 'strong_foot',\n",
      "       'body_part_name', 'assist_type', 'pass_end_y', 'pass_end_x',\n",
      "       'pass_switch', 'pass_cross', 'pass_cut_back', 'pass_height_name',\n",
      "       'pass_technique_name', 'carry_length', 'visible_angle', 'middle_angle',\n",
      "       'distance_to_goal', 'distance_visible_angle', 'log_distance_to_goal',\n",
      "       'shot_one_on_one', 'shot_open_goal', 'under_pressure', 'match_week',\n",
      "       'H_A_column', 'players', 'players_rival', 'area_shot', 'area_goal',\n",
      "       'n_angle', 'goalkeeper_x', 'goalkeeper_y', 'smart_pass', 'match_moment',\n",
      "       'shot_number', 'shot_zone_number', 'shot_player_number',\n",
      "       'shot_zone_player_number'],\n",
      "      dtype='object')\n"
     ]
    }
   ],
   "source": [
    "print(X_train.columns)"
   ]
  },
  {
   "cell_type": "code",
   "execution_count": 17,
   "metadata": {},
   "outputs": [
    {
     "data": {
      "text/plain": [
       "BayesSearchCV(cv=5,\n",
       "              estimator=CalibratedClassifierCV(base_estimator=LGBMClassifier(random_state=42),\n",
       "                                               cv=3, method='isotonic'),\n",
       "              n_iter=100, n_jobs=-1,\n",
       "              search_spaces={'base_estimator__max_depth': Integer(low=0, high=500, prior='uniform', transform='identity'),\n",
       "                             'base_estimator__min_child_samples': Integer(low=0, high=200, prior='uniform', transform='identity'),\n",
       "                             'base_estimator__num_leaves': Integer(low=2, high=500, prior='uniform', transform='identity'),\n",
       "                             'base_estimator__reg_alpha': Real(low=0, high=1, prior='uniform', transform='identity'),\n",
       "                             'base_estimator__reg_lambda': Real(low=0, high=1, prior='uniform', transform='identity')})"
      ]
     },
     "execution_count": 17,
     "metadata": {},
     "output_type": "execute_result"
    }
   ],
   "source": [
    "# Fit the nested 5-fold cross validation using Bayesian optimisation.\n",
    "#lgbm = LGBMClassifier(random_state=42)\n",
    "lgbm = CalibratedClassifierCV(LGBMClassifier(random_state=42), method='isotonic', cv=3)\n",
    "lgbm_param_grid = {'base_estimator__min_child_samples': Integer(0, 200),\n",
    "                   'base_estimator__num_leaves': Integer(2, 500),\n",
    "                   'base_estimator__reg_lambda': Real(0, 1),\n",
    "                   'base_estimator__reg_alpha': Real(0, 1),\n",
    "                   'base_estimator__max_depth': Integer(0, 500)}\n",
    "# Nested resampling using skopt. see: https://github.com/scikit-optimize/scikit-optimize/issues/725\n",
    "searchcv = BayesSearchCV(estimator=lgbm,\n",
    "                         n_iter=100,\n",
    "                         search_spaces=lgbm_param_grid,\n",
    "                         cv=5,\n",
    "                         n_jobs=-1)\n",
    "searchcv.fit(X_train, y_train)"
   ]
  },
  {
   "cell_type": "code",
   "execution_count": 18,
   "metadata": {},
   "outputs": [],
   "source": [
    "# Permutation importance\n",
    "# note not using fake data for permutation importance\n",
    "perm_result = permutation_importance(searchcv.best_estimator_, X_train, y_train, n_repeats=10, random_state=seed)\n",
    "df_perm_importance = pd.DataFrame({'Feature':X_train.columns,\n",
    "                                   'importance': perm_result.importances.mean(axis=1),\n",
    "                                   'std_dev': perm_result.importances.std(axis=1)})\n",
    "df_perm_importance.sort_values('importance', ascending=False, inplace=True)\n",
    "df_perm_importance.reset_index(drop=True, inplace=True)"
   ]
  },
  {
   "cell_type": "code",
   "execution_count": 19,
   "metadata": {},
   "outputs": [
    {
     "data": {
      "text/html": [
       "<div>\n",
       "<style scoped>\n",
       "    .dataframe tbody tr th:only-of-type {\n",
       "        vertical-align: middle;\n",
       "    }\n",
       "\n",
       "    .dataframe tbody tr th {\n",
       "        vertical-align: top;\n",
       "    }\n",
       "\n",
       "    .dataframe thead th {\n",
       "        text-align: right;\n",
       "    }\n",
       "</style>\n",
       "<table border=\"1\" class=\"dataframe\">\n",
       "  <thead>\n",
       "    <tr style=\"text-align: right;\">\n",
       "      <th></th>\n",
       "      <th>Feature</th>\n",
       "      <th>importance</th>\n",
       "      <th>std_dev</th>\n",
       "    </tr>\n",
       "  </thead>\n",
       "  <tbody>\n",
       "    <tr>\n",
       "      <th>0</th>\n",
       "      <td>distance_to_goal</td>\n",
       "      <td>0.005266</td>\n",
       "      <td>0.000117</td>\n",
       "    </tr>\n",
       "    <tr>\n",
       "      <th>1</th>\n",
       "      <td>visible_angle</td>\n",
       "      <td>0.005200</td>\n",
       "      <td>0.000183</td>\n",
       "    </tr>\n",
       "    <tr>\n",
       "      <th>2</th>\n",
       "      <td>n_angle</td>\n",
       "      <td>0.001386</td>\n",
       "      <td>0.000215</td>\n",
       "    </tr>\n",
       "    <tr>\n",
       "      <th>3</th>\n",
       "      <td>goalkeeper_x</td>\n",
       "      <td>0.001068</td>\n",
       "      <td>0.000123</td>\n",
       "    </tr>\n",
       "    <tr>\n",
       "      <th>4</th>\n",
       "      <td>body_part_name</td>\n",
       "      <td>0.000772</td>\n",
       "      <td>0.000283</td>\n",
       "    </tr>\n",
       "    <tr>\n",
       "      <th>5</th>\n",
       "      <td>shot_type_name</td>\n",
       "      <td>0.000463</td>\n",
       "      <td>0.000156</td>\n",
       "    </tr>\n",
       "    <tr>\n",
       "      <th>6</th>\n",
       "      <td>pass_height_name</td>\n",
       "      <td>0.000430</td>\n",
       "      <td>0.000150</td>\n",
       "    </tr>\n",
       "    <tr>\n",
       "      <th>7</th>\n",
       "      <td>shot_open_goal</td>\n",
       "      <td>0.000372</td>\n",
       "      <td>0.000098</td>\n",
       "    </tr>\n",
       "    <tr>\n",
       "      <th>8</th>\n",
       "      <td>distance_visible_angle</td>\n",
       "      <td>0.000349</td>\n",
       "      <td>0.000098</td>\n",
       "    </tr>\n",
       "    <tr>\n",
       "      <th>9</th>\n",
       "      <td>shot_player_number</td>\n",
       "      <td>0.000243</td>\n",
       "      <td>0.000123</td>\n",
       "    </tr>\n",
       "    <tr>\n",
       "      <th>10</th>\n",
       "      <td>pass_technique_name</td>\n",
       "      <td>0.000216</td>\n",
       "      <td>0.000054</td>\n",
       "    </tr>\n",
       "    <tr>\n",
       "      <th>11</th>\n",
       "      <td>match_week</td>\n",
       "      <td>0.000188</td>\n",
       "      <td>0.000086</td>\n",
       "    </tr>\n",
       "    <tr>\n",
       "      <th>12</th>\n",
       "      <td>carry_length</td>\n",
       "      <td>0.000178</td>\n",
       "      <td>0.000075</td>\n",
       "    </tr>\n",
       "    <tr>\n",
       "      <th>13</th>\n",
       "      <td>area_goal</td>\n",
       "      <td>0.000159</td>\n",
       "      <td>0.000066</td>\n",
       "    </tr>\n",
       "    <tr>\n",
       "      <th>14</th>\n",
       "      <td>assist_type</td>\n",
       "      <td>0.000140</td>\n",
       "      <td>0.000080</td>\n",
       "    </tr>\n",
       "    <tr>\n",
       "      <th>15</th>\n",
       "      <td>pass_cross</td>\n",
       "      <td>0.000131</td>\n",
       "      <td>0.000060</td>\n",
       "    </tr>\n",
       "    <tr>\n",
       "      <th>16</th>\n",
       "      <td>pass_end_x</td>\n",
       "      <td>0.000114</td>\n",
       "      <td>0.000035</td>\n",
       "    </tr>\n",
       "    <tr>\n",
       "      <th>17</th>\n",
       "      <td>pass_end_y</td>\n",
       "      <td>0.000110</td>\n",
       "      <td>0.000045</td>\n",
       "    </tr>\n",
       "    <tr>\n",
       "      <th>18</th>\n",
       "      <td>area_shot</td>\n",
       "      <td>0.000108</td>\n",
       "      <td>0.000050</td>\n",
       "    </tr>\n",
       "    <tr>\n",
       "      <th>19</th>\n",
       "      <td>shot_zone_number</td>\n",
       "      <td>0.000085</td>\n",
       "      <td>0.000061</td>\n",
       "    </tr>\n",
       "    <tr>\n",
       "      <th>20</th>\n",
       "      <td>strong_foot</td>\n",
       "      <td>0.000072</td>\n",
       "      <td>0.000077</td>\n",
       "    </tr>\n",
       "    <tr>\n",
       "      <th>21</th>\n",
       "      <td>shot_number</td>\n",
       "      <td>0.000066</td>\n",
       "      <td>0.000083</td>\n",
       "    </tr>\n",
       "    <tr>\n",
       "      <th>22</th>\n",
       "      <td>under_pressure</td>\n",
       "      <td>0.000057</td>\n",
       "      <td>0.000089</td>\n",
       "    </tr>\n",
       "    <tr>\n",
       "      <th>23</th>\n",
       "      <td>goalkeeper_y</td>\n",
       "      <td>0.000049</td>\n",
       "      <td>0.000032</td>\n",
       "    </tr>\n",
       "    <tr>\n",
       "      <th>24</th>\n",
       "      <td>match_moment</td>\n",
       "      <td>0.000042</td>\n",
       "      <td>0.000028</td>\n",
       "    </tr>\n",
       "    <tr>\n",
       "      <th>25</th>\n",
       "      <td>shot_zone_player_number</td>\n",
       "      <td>0.000030</td>\n",
       "      <td>0.000019</td>\n",
       "    </tr>\n",
       "    <tr>\n",
       "      <th>26</th>\n",
       "      <td>middle_angle</td>\n",
       "      <td>0.000021</td>\n",
       "      <td>0.000036</td>\n",
       "    </tr>\n",
       "    <tr>\n",
       "      <th>27</th>\n",
       "      <td>shot_one_on_one</td>\n",
       "      <td>0.000019</td>\n",
       "      <td>0.000015</td>\n",
       "    </tr>\n",
       "    <tr>\n",
       "      <th>28</th>\n",
       "      <td>counter_attack</td>\n",
       "      <td>0.000013</td>\n",
       "      <td>0.000079</td>\n",
       "    </tr>\n",
       "    <tr>\n",
       "      <th>29</th>\n",
       "      <td>smart_pass</td>\n",
       "      <td>0.000004</td>\n",
       "      <td>0.000038</td>\n",
       "    </tr>\n",
       "    <tr>\n",
       "      <th>30</th>\n",
       "      <td>pass_switch</td>\n",
       "      <td>0.000002</td>\n",
       "      <td>0.000010</td>\n",
       "    </tr>\n",
       "    <tr>\n",
       "      <th>31</th>\n",
       "      <td>players</td>\n",
       "      <td>0.000000</td>\n",
       "      <td>0.000012</td>\n",
       "    </tr>\n",
       "    <tr>\n",
       "      <th>32</th>\n",
       "      <td>H_A_column</td>\n",
       "      <td>0.000000</td>\n",
       "      <td>0.000000</td>\n",
       "    </tr>\n",
       "    <tr>\n",
       "      <th>33</th>\n",
       "      <td>log_distance_to_goal</td>\n",
       "      <td>0.000000</td>\n",
       "      <td>0.000000</td>\n",
       "    </tr>\n",
       "    <tr>\n",
       "      <th>34</th>\n",
       "      <td>players_rival</td>\n",
       "      <td>-0.000002</td>\n",
       "      <td>0.000006</td>\n",
       "    </tr>\n",
       "    <tr>\n",
       "      <th>35</th>\n",
       "      <td>pass_cut_back</td>\n",
       "      <td>-0.000013</td>\n",
       "      <td>0.000021</td>\n",
       "    </tr>\n",
       "    <tr>\n",
       "      <th>36</th>\n",
       "      <td>fast_break</td>\n",
       "      <td>-0.000027</td>\n",
       "      <td>0.000015</td>\n",
       "    </tr>\n",
       "  </tbody>\n",
       "</table>\n",
       "</div>"
      ],
      "text/plain": [
       "                    Feature  importance   std_dev\n",
       "0          distance_to_goal    0.005266  0.000117\n",
       "1             visible_angle    0.005200  0.000183\n",
       "2                   n_angle    0.001386  0.000215\n",
       "3              goalkeeper_x    0.001068  0.000123\n",
       "4            body_part_name    0.000772  0.000283\n",
       "5            shot_type_name    0.000463  0.000156\n",
       "6          pass_height_name    0.000430  0.000150\n",
       "7            shot_open_goal    0.000372  0.000098\n",
       "8    distance_visible_angle    0.000349  0.000098\n",
       "9        shot_player_number    0.000243  0.000123\n",
       "10      pass_technique_name    0.000216  0.000054\n",
       "11               match_week    0.000188  0.000086\n",
       "12             carry_length    0.000178  0.000075\n",
       "13                area_goal    0.000159  0.000066\n",
       "14              assist_type    0.000140  0.000080\n",
       "15               pass_cross    0.000131  0.000060\n",
       "16               pass_end_x    0.000114  0.000035\n",
       "17               pass_end_y    0.000110  0.000045\n",
       "18                area_shot    0.000108  0.000050\n",
       "19         shot_zone_number    0.000085  0.000061\n",
       "20              strong_foot    0.000072  0.000077\n",
       "21              shot_number    0.000066  0.000083\n",
       "22           under_pressure    0.000057  0.000089\n",
       "23             goalkeeper_y    0.000049  0.000032\n",
       "24             match_moment    0.000042  0.000028\n",
       "25  shot_zone_player_number    0.000030  0.000019\n",
       "26             middle_angle    0.000021  0.000036\n",
       "27          shot_one_on_one    0.000019  0.000015\n",
       "28           counter_attack    0.000013  0.000079\n",
       "29               smart_pass    0.000004  0.000038\n",
       "30              pass_switch    0.000002  0.000010\n",
       "31                  players    0.000000  0.000012\n",
       "32               H_A_column    0.000000  0.000000\n",
       "33     log_distance_to_goal    0.000000  0.000000\n",
       "34            players_rival   -0.000002  0.000006\n",
       "35            pass_cut_back   -0.000013  0.000021\n",
       "36               fast_break   -0.000027  0.000015"
      ]
     },
     "execution_count": 19,
     "metadata": {},
     "output_type": "execute_result"
    }
   ],
   "source": [
    "df_perm_importance"
   ]
  },
  {
   "cell_type": "code",
   "execution_count": 20,
   "metadata": {},
   "outputs": [
    {
     "data": {
      "image/png": "[encoded data removed]",
      "text/plain": [
       "<Figure size 1152x648 with 1 Axes>"
      ]
     },
     "metadata": {
      "needs_background": "light"
     },
     "output_type": "display_data"
    }
   ],
   "source": [
    "fig, ax = plt.subplots(figsize=(16, 9))\n",
    "sorted_idx = perm_result.importances_mean.argsort()\n",
    "bar_plot = ax.boxplot(perm_result.importances[sorted_idx].T, vert=False, labels=X_train.columns[sorted_idx])"
   ]
  },
  {
   "cell_type": "markdown",
   "metadata": {},
   "source": [
    "# Test"
   ]
  },
  {
   "cell_type": "code",
   "execution_count": 21,
   "metadata": {},
   "outputs": [
    {
     "ename": "NameError",
     "evalue": "name 'clf_pass' is not defined",
     "output_type": "error",
     "traceback": [
      "\u001b[1;31m---------------------------------------------------------------------------\u001b[0m",
      "\u001b[1;31mNameError\u001b[0m                                 Traceback (most recent call last)",
      "\u001b[1;32m<ipython-input-21-5d9ba4968bef>\u001b[0m in \u001b[0;36m<module>\u001b[1;34m\u001b[0m\n\u001b[0;32m      3\u001b[0m \u001b[0mfraction_of_positives_lgbm\u001b[0m\u001b[1;33m,\u001b[0m \u001b[0mmean_predicted_value_lgbm\u001b[0m \u001b[1;33m=\u001b[0m \u001b[0mcalibration_curve\u001b[0m\u001b[1;33m(\u001b[0m\u001b[0my_test\u001b[0m\u001b[1;33m,\u001b[0m \u001b[0my_pred_lgbm_calibrated\u001b[0m\u001b[1;33m,\u001b[0m \u001b[0mn_bins\u001b[0m\u001b[1;33m=\u001b[0m\u001b[1;36m10\u001b[0m\u001b[1;33m)\u001b[0m\u001b[1;33m\u001b[0m\u001b[1;33m\u001b[0m\u001b[0m\n\u001b[0;32m      4\u001b[0m \u001b[1;31m# logistic regression\u001b[0m\u001b[1;33m\u001b[0m\u001b[1;33m\u001b[0m\u001b[1;33m\u001b[0m\u001b[0m\n\u001b[1;32m----> 5\u001b[1;33m \u001b[0my_pred_lr_pass\u001b[0m \u001b[1;33m=\u001b[0m \u001b[0mclf_pass\u001b[0m\u001b[1;33m.\u001b[0m\u001b[0mpredict_proba\u001b[0m\u001b[1;33m(\u001b[0m\u001b[0mX_test_pass\u001b[0m\u001b[1;33m)\u001b[0m\u001b[1;33m[\u001b[0m\u001b[1;33m:\u001b[0m\u001b[1;33m,\u001b[0m \u001b[1;36m1\u001b[0m\u001b[1;33m]\u001b[0m\u001b[1;33m\u001b[0m\u001b[1;33m\u001b[0m\u001b[0m\n\u001b[0m\u001b[0;32m      6\u001b[0m \u001b[0my_pred_lr_other\u001b[0m \u001b[1;33m=\u001b[0m \u001b[0mclf_other\u001b[0m\u001b[1;33m.\u001b[0m\u001b[0mpredict_proba\u001b[0m\u001b[1;33m(\u001b[0m\u001b[0mX_test_other\u001b[0m\u001b[1;33m)\u001b[0m\u001b[1;33m[\u001b[0m\u001b[1;33m:\u001b[0m\u001b[1;33m,\u001b[0m \u001b[1;36m1\u001b[0m\u001b[1;33m]\u001b[0m\u001b[1;33m\u001b[0m\u001b[1;33m\u001b[0m\u001b[0m\n\u001b[0;32m      7\u001b[0m \u001b[0my_pred_lr\u001b[0m \u001b[1;33m=\u001b[0m \u001b[0mnp\u001b[0m\u001b[1;33m.\u001b[0m\u001b[0mconcatenate\u001b[0m\u001b[1;33m(\u001b[0m\u001b[1;33m[\u001b[0m\u001b[0my_pred_lr_pass\u001b[0m\u001b[1;33m,\u001b[0m \u001b[0my_pred_lr_other\u001b[0m\u001b[1;33m]\u001b[0m\u001b[1;33m)\u001b[0m\u001b[1;33m\u001b[0m\u001b[1;33m\u001b[0m\u001b[0m\n",
      "\u001b[1;31mNameError\u001b[0m: name 'clf_pass' is not defined"
     ]
    }
   ],
   "source": [
    "# Calculate calibration curve on test data\n",
    "y_pred_lgbm_calibrated = searchcv.best_estimator_.predict_proba(X_test)[:, 1]\n",
    "fraction_of_positives_lgbm, mean_predicted_value_lgbm = calibration_curve(y_test, y_pred_lgbm_calibrated, n_bins=10)\n",
    "# logistic regression\n",
    "y_pred_lr_pass = clf_pass.predict_proba(X_test_pass)[:, 1]\n",
    "y_pred_lr_other = clf_other.predict_proba(X_test_other)[:, 1]\n",
    "y_pred_lr = np.concatenate([y_pred_lr_pass, y_pred_lr_other])\n",
    "y_true_test = np.concatenate([y_test_pass, y_test_other])\n",
    "fraction_of_positives_lr, mean_predicted_value_lr = calibration_curve(y_true_test, y_pred_lr, n_bins=10)"
   ]
  },
  {
   "cell_type": "code",
   "execution_count": 22,
   "metadata": {},
   "outputs": [
    {
     "ename": "NameError",
     "evalue": "name 'mean_predicted_value_lr' is not defined",
     "output_type": "error",
     "traceback": [
      "\u001b[1;31m---------------------------------------------------------------------------\u001b[0m",
      "\u001b[1;31mNameError\u001b[0m                                 Traceback (most recent call last)",
      "\u001b[1;32m<ipython-input-22-250d879dee67>\u001b[0m in \u001b[0;36m<module>\u001b[1;34m\u001b[0m\n\u001b[0;32m      5\u001b[0m \u001b[0max1\u001b[0m \u001b[1;33m=\u001b[0m \u001b[0mfig\u001b[0m\u001b[1;33m.\u001b[0m\u001b[0madd_subplot\u001b[0m\u001b[1;33m(\u001b[0m\u001b[0mgs\u001b[0m\u001b[1;33m[\u001b[0m\u001b[1;36m0\u001b[0m\u001b[1;33m]\u001b[0m\u001b[1;33m)\u001b[0m\u001b[1;33m\u001b[0m\u001b[1;33m\u001b[0m\u001b[0m\n\u001b[0;32m      6\u001b[0m \u001b[0max1\u001b[0m\u001b[1;33m.\u001b[0m\u001b[0mplot\u001b[0m\u001b[1;33m(\u001b[0m\u001b[0mmean_predicted_value_lgbm\u001b[0m\u001b[1;33m,\u001b[0m \u001b[0mfraction_of_positives_lgbm\u001b[0m\u001b[1;33m,\u001b[0m \u001b[1;34m\"-o\"\u001b[0m\u001b[1;33m,\u001b[0m \u001b[0mcolor\u001b[0m\u001b[1;33m=\u001b[0m\u001b[1;34m'#aabced'\u001b[0m\u001b[1;33m,\u001b[0m \u001b[0mlabel\u001b[0m\u001b[1;33m=\u001b[0m\u001b[1;34m'Calibrated Light GBM'\u001b[0m\u001b[1;33m)\u001b[0m\u001b[1;33m\u001b[0m\u001b[1;33m\u001b[0m\u001b[0m\n\u001b[1;32m----> 7\u001b[1;33m \u001b[0max1\u001b[0m\u001b[1;33m.\u001b[0m\u001b[0mplot\u001b[0m\u001b[1;33m(\u001b[0m\u001b[0mmean_predicted_value_lr\u001b[0m\u001b[1;33m,\u001b[0m \u001b[0mfraction_of_positives_lr\u001b[0m\u001b[1;33m,\u001b[0m \u001b[1;34m\"-o\"\u001b[0m\u001b[1;33m,\u001b[0m \u001b[0mcolor\u001b[0m\u001b[1;33m=\u001b[0m\u001b[1;34m'#dbdf4a'\u001b[0m\u001b[1;33m,\u001b[0m \u001b[0mlabel\u001b[0m\u001b[1;33m=\u001b[0m\u001b[1;34m'Logistic regression'\u001b[0m\u001b[1;33m)\u001b[0m\u001b[1;33m\u001b[0m\u001b[1;33m\u001b[0m\u001b[0m\n\u001b[0m\u001b[0;32m      8\u001b[0m \u001b[0max1\u001b[0m\u001b[1;33m.\u001b[0m\u001b[0mplot\u001b[0m\u001b[1;33m(\u001b[0m\u001b[1;33m[\u001b[0m\u001b[1;36m0\u001b[0m\u001b[1;33m,\u001b[0m \u001b[1;36m1\u001b[0m\u001b[1;33m]\u001b[0m\u001b[1;33m,\u001b[0m \u001b[1;33m[\u001b[0m\u001b[1;36m0\u001b[0m\u001b[1;33m,\u001b[0m \u001b[1;36m1\u001b[0m\u001b[1;33m]\u001b[0m\u001b[1;33m,\u001b[0m \u001b[1;34m\"--\"\u001b[0m\u001b[1;33m,\u001b[0m \u001b[0mcolor\u001b[0m\u001b[1;33m=\u001b[0m\u001b[1;34m'#e7aeca'\u001b[0m\u001b[1;33m,\u001b[0m \u001b[0mlabel\u001b[0m\u001b[1;33m=\u001b[0m\u001b[1;34m\"Perfectly calibrated\"\u001b[0m\u001b[1;33m)\u001b[0m\u001b[1;33m\u001b[0m\u001b[1;33m\u001b[0m\u001b[0m\n\u001b[0;32m      9\u001b[0m \u001b[0max1\u001b[0m\u001b[1;33m.\u001b[0m\u001b[0mset_xlabel\u001b[0m\u001b[1;33m(\u001b[0m\u001b[1;34m'Mean predicted value'\u001b[0m\u001b[1;33m,\u001b[0m \u001b[0mfontsize\u001b[0m\u001b[1;33m=\u001b[0m\u001b[1;36m15\u001b[0m\u001b[1;33m)\u001b[0m\u001b[1;33m\u001b[0m\u001b[1;33m\u001b[0m\u001b[0m\n",
      "\u001b[1;31mNameError\u001b[0m: name 'mean_predicted_value_lr' is not defined"
     ]
    },
    {
     "data": {
      "image/png": "[encoded data removed]",
      "text/plain": [
       "<Figure size 720x1080 with 1 Axes>"
      ]
     },
     "metadata": {},
     "output_type": "display_data"
    }
   ],
   "source": [
    "# Plot calibration curve on test data\n",
    "plt.style.use('dark_background')\n",
    "fig = plt.figure(constrained_layout=True, figsize=(10, 15))\n",
    "gs = fig.add_gridspec(ncols=1, nrows=2, height_ratios=(2/3, 1/3))\n",
    "ax1 = fig.add_subplot(gs[0])\n",
    "ax1.plot(mean_predicted_value_lgbm, fraction_of_positives_lgbm, \"-o\", color='#aabced', label='Calibrated Light GBM')\n",
    "ax1.plot(mean_predicted_value_lr, fraction_of_positives_lr, \"-o\", color='#dbdf4a', label='Logistic regression')\n",
    "ax1.plot([0, 1], [0, 1], \"--\", color='#e7aeca', label=\"Perfectly calibrated\")\n",
    "ax1.set_xlabel('Mean predicted value', fontsize=15)\n",
    "ax1.set_ylabel('Fraction of positives', fontsize=15)\n",
    "ax1.set_title('Calibration curve', fontsize=20, pad=10)\n",
    "ax1.legend(fontsize=15)\n",
    "ax1.tick_params(labelsize=15)\n",
    "ax2 = fig.add_subplot(gs[1])\n",
    "sns.distplot(y_pred_lr, color='#4fe4e4', label='Logistic regression', kde=False, ax=ax2)\n",
    "sns.distplot(y_pred_lgbm_calibrated, color='#aabced', label='Calibrated Light GBM', kde=False, ax=ax2)\n",
    "ax2.set_xlabel('Predicted value', fontsize=15)\n",
    "ax2.set_ylabel('Count', fontsize=15)\n",
    "ax2.tick_params(labelsize=15)\n",
    "ax2.legend(fontsize=15)\n",
    "ax2.set_title('Distribution of predictions', fontsize=20, pad=10);\n",
    "fig.savefig(os.path.join(cwd, 'figures', '22_calibration_curve.png'), bbox_inches = 'tight', pad_inches = 0.2)"
   ]
  },
  {
   "cell_type": "code",
   "execution_count": 23,
   "metadata": {},
   "outputs": [
    {
     "name": "stdout",
     "output_type": "stream",
     "text": [
      "Brier score, Light GBM: 0.07850138506080916\n",
      "ROC AUC, Light GBM: 0.8030359205077222\n",
      "Pseudo R-squared, Light GBM: 0.19363806752023816\n"
     ]
    }
   ],
   "source": [
    "# From scikit-learn docs: \"The smaller the Brier score, the better, hence the naming with “loss”. \n",
    "# Across all items in a set N predictions, the Brier score measures the mean squared difference between \n",
    "# (1) the predicted probability assigned to the possible outcomes for item i, and (2) the actual outcome.\"\n",
    "print('Brier score, Light GBM:', brier_score_loss(y_test, y_pred_lgbm_calibrated, pos_label=y_test.max()))\n",
    "print('ROC AUC, Light GBM:', roc_auc_score(y_test, y_pred_lgbm_calibrated))\n",
    "print('Pseudo R-squared, Light GBM:', mcfadden_r2(y_test, y_pred_lgbm_calibrated))"
   ]
  },
  {
   "cell_type": "code",
   "execution_count": 24,
   "metadata": {},
   "outputs": [
    {
     "name": "stdout",
     "output_type": "stream",
     "text": [
      "Brier score, Light GBM: 0.07850138506080916\n",
      "ROC AUC, Light GBM: 0.8030359205077222\n",
      "Pseudo R-squared, Light GBM: 0.19363806752023816\n"
     ]
    }
   ],
   "source": [
    "# From scikit-learn docs: \"The smaller the Brier score, the better, hence the naming with “loss”. \n",
    "# Across all items in a set N predictions, the Brier score measures the mean squared difference between \n",
    "# (1) the predicted probability assigned to the possible outcomes for item i, and (2) the actual outcome.\"\n",
    "print('Brier score, Light GBM:', brier_score_loss(y_test, y_pred_lgbm_calibrated, pos_label=y_test.max()))\n",
    "print('ROC AUC, Light GBM:', roc_auc_score(y_test, y_pred_lgbm_calibrated))\n",
    "print('Pseudo R-squared, Light GBM:', mcfadden_r2(y_test, y_pred_lgbm_calibrated))"
   ]
  },
  {
   "cell_type": "code",
   "execution_count": 25,
   "metadata": {},
   "outputs": [
    {
     "name": "stdout",
     "output_type": "stream",
     "text": [
      "Brier score, Light GBM: 0.07850138506080916\n",
      "ROC AUC, Light GBM: 0.8030359205077222\n",
      "Pseudo R-squared, Light GBM: 0.19363806752023816\n"
     ]
    }
   ],
   "source": [
    "# From scikit-learn docs: \"The smaller the Brier score, the better, hence the naming with “loss”. \n",
    "# Across all items in a set N predictions, the Brier score measures the mean squared difference between \n",
    "# (1) the predicted probability assigned to the possible outcomes for item i, and (2) the actual outcome.\"\n",
    "print('Brier score, Light GBM:', brier_score_loss(y_test, y_pred_lgbm_calibrated, pos_label=y_test.max()))\n",
    "print('ROC AUC, Light GBM:', roc_auc_score(y_test, y_pred_lgbm_calibrated))\n",
    "print('Pseudo R-squared, Light GBM:', mcfadden_r2(y_test, y_pred_lgbm_calibrated))"
   ]
  },
  {
   "cell_type": "code",
   "execution_count": 36,
   "metadata": {},
   "outputs": [
    {
     "name": "stdout",
     "output_type": "stream",
     "text": [
      "Brier score, logistic regression: 0.08205488795302611\n",
      "ROC AUC, logistic regression: 0.7849894660246197\n",
      "Pseudo R-squared, logistic regression: 0.16203269393019493\n"
     ]
    }
   ],
   "source": [
    "print('Brier score, logistic regression:',brier_score_loss(y_true_test, y_pred_lr, pos_label=y_true_test.max()))\n",
    "print('ROC AUC, logistic regression:', roc_auc_score(y_true_test, y_pred_lr))\n",
    "print('Pseudo R-squared, logistic regression:', mcfadden_r2(y_true_test, y_pred_lr))"
   ]
  },
  {
   "cell_type": "markdown",
   "metadata": {},
   "source": [
    "# Save models"
   ]
  },
  {
   "cell_type": "code",
   "execution_count": 26,
   "metadata": {},
   "outputs": [
    {
     "data": {
      "text/plain": [
       "['C:\\\\Users\\\\sergi77\\\\Desktop\\\\UNIR\\\\TFM\\\\xG_Model_TFM\\\\models\\\\lgbm_model.joblib']"
      ]
     },
     "execution_count": 26,
     "metadata": {},
     "output_type": "execute_result"
    }
   ],
   "source": [
    "dump(searchcv.best_estimator_, os.path.join(cwd, 'models', 'lgbm_model.joblib'))"
   ]
  },
  {
   "cell_type": "code",
   "execution_count": 39,
   "metadata": {},
   "outputs": [
    {
     "data": {
      "text/plain": [
       "['C:\\\\Users\\\\sergi77\\\\Desktop\\\\UNIR\\\\TFM\\\\xG_Model_TFM\\\\models\\\\lr_pass.joblib']"
      ]
     },
     "execution_count": 39,
     "metadata": {},
     "output_type": "execute_result"
    }
   ],
   "source": [
    "dump(clf_pass.best_estimator_, os.path.join(cwd, 'models', 'lr_pass.joblib'))"
   ]
  },
  {
   "cell_type": "code",
   "execution_count": 40,
   "metadata": {},
   "outputs": [
    {
     "data": {
      "text/plain": [
       "['C:\\\\Users\\\\sergi77\\\\Desktop\\\\UNIR\\\\TFM\\\\xG_Model_TFM\\\\models\\\\lr_other.joblib']"
      ]
     },
     "execution_count": 40,
     "metadata": {},
     "output_type": "execute_result"
    }
   ],
   "source": [
    "dump(clf_other.best_estimator_, os.path.join(cwd, 'models', 'lr_other.joblib'))"
   ]
  },
  {
   "cell_type": "markdown",
   "metadata": {},
   "source": [
    "# Save data"
   ]
  },
  {
   "cell_type": "code",
   "execution_count": 27,
   "metadata": {},
   "outputs": [],
   "source": [
    "# reload shot dataset for ids\n",
    "df = pd.read_parquet(os.path.join(cwd, 'data', 'shots.parquet'))\n",
    "df = df[['match_id', 'wyscout_id', 'statsbomb_id']].copy()"
   ]
  },
  {
   "cell_type": "code",
   "execution_count": 28,
   "metadata": {},
   "outputs": [
    {
     "ename": "NameError",
     "evalue": "name 'y_train_other' is not defined",
     "output_type": "error",
     "traceback": [
      "\u001b[1;31m---------------------------------------------------------------------------\u001b[0m",
      "\u001b[1;31mNameError\u001b[0m                                 Traceback (most recent call last)",
      "\u001b[1;32m<ipython-input-28-299aa9d54bc1>\u001b[0m in \u001b[0;36m<module>\u001b[1;34m\u001b[0m\n\u001b[1;32m----> 1\u001b[1;33m \u001b[0mX_train_other\u001b[0m\u001b[1;33m[\u001b[0m\u001b[1;34m'goal'\u001b[0m\u001b[1;33m]\u001b[0m \u001b[1;33m=\u001b[0m \u001b[0my_train_other\u001b[0m\u001b[1;33m\u001b[0m\u001b[1;33m\u001b[0m\u001b[0m\n\u001b[0m\u001b[0;32m      2\u001b[0m \u001b[0mX_train_other\u001b[0m\u001b[1;33m[\u001b[0m\u001b[1;34m'split'\u001b[0m\u001b[1;33m]\u001b[0m \u001b[1;33m=\u001b[0m \u001b[1;34m'train'\u001b[0m\u001b[1;33m\u001b[0m\u001b[1;33m\u001b[0m\u001b[0m\n\u001b[0;32m      3\u001b[0m \u001b[0mX_test_other\u001b[0m\u001b[1;33m[\u001b[0m\u001b[1;34m'goal'\u001b[0m\u001b[1;33m]\u001b[0m \u001b[1;33m=\u001b[0m \u001b[0my_test_other\u001b[0m\u001b[1;33m\u001b[0m\u001b[1;33m\u001b[0m\u001b[0m\n\u001b[0;32m      4\u001b[0m \u001b[0mX_test_other\u001b[0m\u001b[1;33m[\u001b[0m\u001b[1;34m'split'\u001b[0m\u001b[1;33m]\u001b[0m \u001b[1;33m=\u001b[0m \u001b[1;34m'test'\u001b[0m\u001b[1;33m\u001b[0m\u001b[1;33m\u001b[0m\u001b[0m\n\u001b[0;32m      5\u001b[0m \u001b[0mdf_other\u001b[0m \u001b[1;33m=\u001b[0m \u001b[0mpd\u001b[0m\u001b[1;33m.\u001b[0m\u001b[0mconcat\u001b[0m\u001b[1;33m(\u001b[0m\u001b[1;33m[\u001b[0m\u001b[0mX_train_other\u001b[0m\u001b[1;33m,\u001b[0m \u001b[0mX_test_other\u001b[0m\u001b[1;33m]\u001b[0m\u001b[1;33m)\u001b[0m\u001b[1;33m\u001b[0m\u001b[1;33m\u001b[0m\u001b[0m\n",
      "\u001b[1;31mNameError\u001b[0m: name 'y_train_other' is not defined"
     ]
    }
   ],
   "source": [
    "X_train_other['goal'] = y_train_other\n",
    "X_train_other['split'] = 'train'\n",
    "X_test_other['goal'] = y_test_other\n",
    "X_test_other['split'] = 'test'\n",
    "df_other = pd.concat([X_train_other, X_test_other])\n",
    "df_other = df_other.merge(df, left_index=True, right_index=True, validate='1:1', how='left')\n",
    "df_other.reset_index(drop=True, inplace=True)\n",
    "df_other.to_parquet(os.path.join(cwd, 'data', 'modelling', 'lr_other.parquet'))"
   ]
  },
  {
   "cell_type": "code",
   "execution_count": 47,
   "metadata": {},
   "outputs": [],
   "source": [
    "X_train_pass['goal'] = y_train_pass\n",
    "X_train_pass['split'] = 'train'\n",
    "X_test_pass['goal'] = y_test_pass\n",
    "X_test_pass['split'] = 'test'\n",
    "df_pass = pd.concat([X_train_pass, X_test_pass])\n",
    "df_pass = df_pass.merge(df, left_index=True, right_index=True, validate='1:1', how='left')\n",
    "df_pass.reset_index(drop=True, inplace=True)\n",
    "df_pass.to_parquet(os.path.join(cwd, 'data', 'modelling', 'lr_pass.parquet'))"
   ]
  },
  {
   "cell_type": "code",
   "execution_count": 29,
   "metadata": {},
   "outputs": [],
   "source": [
    "X_train['goal'] = y_train\n",
    "X_train['split'] = 'train'\n",
    "X_test['goal'] = y_test\n",
    "X_test['split'] = 'test'\n",
    "df_lgbm = pd.concat([X_train, X_test])\n",
    "# exlcude fake shots\n",
    "df_lgbm = df_lgbm[df_lgbm.index.isin(df.index)].copy()\n",
    "df_lgbm = df_lgbm.merge(df, how='left', left_index=True, right_index=True, validate='1:1')\n",
    "df_lgbm.to_parquet(os.path.join(cwd, 'data', 'modelling', 'lgbm2.parquet'))"
   ]
  },
  {
   "cell_type": "code",
   "execution_count": null,
   "metadata": {},
   "outputs": [],
   "source": []
  }
 ],
 "metadata": {
  "kernelspec": {
   "display_name": "xGenv",
   "language": "python",
   "name": "xgenv"
  },
  "language_info": {
   "codemirror_mode": {
    "name": "ipython",
    "version": 3
   },
   "file_extension": ".py",
   "mimetype": "text/x-python",
   "name": "python",
   "nbconvert_exporter": "python",
   "pygments_lexer": "ipython3",
   "version": "3.7.9"
  }
 },
 "nbformat": 4,
 "nbformat_minor": 4
}
