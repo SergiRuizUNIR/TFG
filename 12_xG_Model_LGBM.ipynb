{
 "cells": [
  {
   "cell_type": "code",
   "execution_count": 1,
   "metadata": {},
   "outputs": [],
   "source": [
    "import os\n",
    "import pandas as pd\n",
    "import numpy as np\n",
    "from xgboost import XGBClassifier\n",
    "from sklearn.model_selection import train_test_split\n",
    "from sklearn.metrics import roc_auc_score, log_loss, make_scorer, brier_score_loss\n",
    "from sklearn.calibration import calibration_curve\n",
    "from sklearn.calibration import CalibratedClassifierCV\n",
    "from sklearn.inspection import permutation_importance\n",
    "from lightgbm import LGBMClassifier\n",
    "from joblib import dump, load\n",
    "import matplotlib.pyplot as plt\n",
    "import seaborn as sns\n",
    "from skopt import BayesSearchCV\n",
    "from skopt.space import Real, Integer\n",
    "\n",
    "# from numpy.ma import MaskedArray\n",
    "# from numpy import mean\n",
    "# from numpy import std\n",
    "# from sklearn.model_selection import GridSearchCV, cross_validate\n",
    "# from sklearn.model_selection import cross_val_score\n",
    "# from sklearn.model_selection import RepeatedStratifiedKFold\n",
    "# from sklearn.preprocessing import OneHotEncoder, LabelEncoder\n",
    "# from sklearn.preprocessing import FunctionTransformer\n",
    "# from sklearn.preprocessing import StandardScaler\n",
    "# from sklearn.compose import ColumnTransformer\n",
    "# from sklearn.pipeline import Pipeline\n",
    "# from sklearn.impute import SimpleImputer\n",
    "# from sklearn.linear_model import LogisticRegression\n",
    "# from sklearn.metrics import average_precision_score\n",
    "# from sklearn.metrics import accuracy_score\n",
    "# import sklearn.utils.fixes\n",
    "# sklearn.utils.fixes.MaskedArray = MaskedArray\n",
    "# from scipy.stats import spearmanr\n",
    "# from scipy.cluster import hierarchy\n",
    "# from scipy.spatial import distance\n",
    "\n",
    "import warnings\n",
    "warnings.filterwarnings('ignore')"
   ]
  },
  {
   "cell_type": "code",
   "execution_count": 2,
   "metadata": {},
   "outputs": [],
   "source": [
    "# Random state\n",
    "seed = 42"
   ]
  },
  {
   "cell_type": "code",
   "execution_count": 3,
   "metadata": {},
   "outputs": [],
   "source": [
    "# Setup metrics (see: http://business-analytic.co.uk/blog/evaluating-expected-goals-models/)\n",
    "# define Mcfadden's pseduo r-squared\n",
    "def mcfadden_r2(y, y_pred):\n",
    "    ll = log_loss(y, y_pred)\n",
    "    ll_null = log_loss(y, np.full(len(y), y.mean()))\n",
    "    return 1 - (ll/ll_null)\n",
    "pseudo_r2_scorer = make_scorer(mcfadden_r2, needs_proba=True, greater_is_better=True)"
   ]
  },
  {
   "cell_type": "code",
   "execution_count": 4,
   "metadata": {},
   "outputs": [],
   "source": [
    "scoring = {'roc_aug': 'roc_auc', 'mcfaddens_r2': pseudo_r2_scorer}"
   ]
  },
  {
   "cell_type": "code",
   "execution_count": 5,
   "metadata": {},
   "outputs": [],
   "source": [
    "# Load the data\n",
    "cwd = os.getcwd()\n",
    "df = pd.read_parquet(os.path.join(cwd, 'data', 'shots.parquet'))\n",
    "df.drop(['match_id', 'statsbomb_id','period', 'statsbomb_team_id', 'player_id_statsbomb', 'competition_gender', 'team_name',\n",
    "         'player_id', 'firstName', 'middleName', 'lastName', 'Name', 'dataset', 'wyscout_id', 'wyscout_team_id', 'team_id',\n",
    "         'player_id_wyscout','competition_name','minute','shot_zone'], axis=1, inplace=True)\n",
    "mask_penalty = (df.shot_type_name=='penalty')\n",
    "df_penalty = df[mask_penalty].copy()\n",
    "df_penalty.drop(['assist_type', 'pass_end_y', 'pass_end_x', 'pass_switch', 'pass_cross', 'pass_cut_back',\n",
    "         'pass_height_name', 'pass_technique_name', 'carry_length', 'shot_open_goal', 'shot_one_on_one', 'under_pressure',\n",
    "         'area_shot', 'area_goal', 'n_angle', 'goalkeeper_x','goalkeeper_y','smart_pass',\n",
    "         'shot_zone_number','shot_zone_player_number'], axis=1, inplace=True)\n",
    "df_non_penalty = df[~mask_penalty].copy()\n",
    "df_non_penalty.drop(['penalty_number'], axis=1, inplace=True)\n",
    "X_penalty = df_penalty.drop('goal', axis=1)\n",
    "y_penalty = df_penalty.goal\n",
    "X = df_non_penalty.drop('goal', axis=1)\n",
    "y = df_non_penalty.goal"
   ]
  },
  {
   "cell_type": "code",
   "execution_count": 6,
   "metadata": {},
   "outputs": [
    {
     "name": "stdout",
     "output_type": "stream",
     "text": [
      "<class 'pandas.core.frame.DataFrame'>\n",
      "Int64Index: 64663 entries, 5 to 65787\n",
      "Data columns (total 41 columns):\n",
      " #   Column                   Non-Null Count  Dtype  \n",
      "---  ------                   --------------  -----  \n",
      " 0   eventSec                 64663 non-null  float64\n",
      " 1   shot_type_name           64663 non-null  object \n",
      " 2   x                        64663 non-null  float64\n",
      " 3   y                        64663 non-null  float64\n",
      " 4   counter_attack           64663 non-null  bool   \n",
      " 5   fast_break               64663 non-null  bool   \n",
      " 6   strong_foot              64663 non-null  bool   \n",
      " 7   body_part_name           64663 non-null  object \n",
      " 8   assist_type              64663 non-null  object \n",
      " 9   pass_end_y               15635 non-null  float64\n",
      " 10  pass_end_x               15635 non-null  float64\n",
      " 11  pass_switch              44116 non-null  object \n",
      " 12  pass_cross               44116 non-null  object \n",
      " 13  pass_cut_back            44116 non-null  object \n",
      " 14  pass_height_name         44116 non-null  object \n",
      " 15  pass_technique_name      44116 non-null  object \n",
      " 16  carry_length             15635 non-null  float64\n",
      " 17  visible_angle            64663 non-null  float64\n",
      " 18  middle_angle             64663 non-null  float64\n",
      " 19  distance_to_goal         64663 non-null  float64\n",
      " 20  distance_visible_angle   64663 non-null  float64\n",
      " 21  log_distance_to_goal     64663 non-null  float64\n",
      " 22  shot_one_on_one          21961 non-null  object \n",
      " 23  shot_open_goal           21961 non-null  object \n",
      " 24  under_pressure           21961 non-null  object \n",
      " 25  match_week               64663 non-null  float64\n",
      " 26  player_id_goalkeeper     64663 non-null  float64\n",
      " 27  H_A_column               64663 non-null  object \n",
      " 28  players                  64663 non-null  float64\n",
      " 29  players_rival            64663 non-null  float64\n",
      " 30  area_shot                21961 non-null  float64\n",
      " 31  area_goal                21961 non-null  float64\n",
      " 32  n_angle                  21961 non-null  float64\n",
      " 33  goalkeeper_x             21903 non-null  float64\n",
      " 34  goalkeeper_y             21903 non-null  float64\n",
      " 35  smart_pass               28481 non-null  object \n",
      " 36  match_moment             64663 non-null  object \n",
      " 37  shot_number              64663 non-null  float64\n",
      " 38  shot_zone_number         64663 non-null  float64\n",
      " 39  shot_player_number       64663 non-null  float64\n",
      " 40  shot_zone_player_number  64663 non-null  float64\n",
      "dtypes: bool(3), float64(24), object(14)\n",
      "memory usage: 19.4+ MB\n"
     ]
    }
   ],
   "source": [
    "X.info()"
   ]
  },
  {
   "cell_type": "code",
   "execution_count": 7,
   "metadata": {},
   "outputs": [],
   "source": [
    "# Split into train, calibration and test datasets\n",
    "X_train, X_test, y_train, y_test = train_test_split(X, y, train_size=0.8, random_state=seed, stratify=y)\n",
    "X_penalty_train, X_penalty_test, y_penalty_train, y_penalty_test = train_test_split(X_penalty, y_penalty,\n",
    "                                                                        train_size=0.8, random_state=seed, stratify=y_penalty)"
   ]
  },
  {
   "cell_type": "code",
   "execution_count": 8,
   "metadata": {},
   "outputs": [
    {
     "name": "stdout",
     "output_type": "stream",
     "text": [
      "Shots train 51730 ;Number goals 5485 ;Goals %:  10.6\n",
      "Shots test 12933 ;Number goals 1371 ;Goals %:  10.6\n"
     ]
    }
   ],
   "source": [
    "print('Shots train', len(y_train), ';Number goals', y_train.sum(),\n",
    "      ';Goals %: ', round(y_train.mean()*100, 1))\n",
    "print('Shots test', len(y_test), ';Number goals', y_test.sum(),\n",
    "      ';Goals %: ', round(y_test.mean()*100, 1))"
   ]
  },
  {
   "cell_type": "code",
   "execution_count": 9,
   "metadata": {},
   "outputs": [
    {
     "name": "stdout",
     "output_type": "stream",
     "text": [
      "Penalty Shots train 717 ;Penalty Number goals 528 ;Penalty Goals %:  73.6\n",
      "Penalty Shots test 180 ;Penalty Number goals 132 ;Penalty Goals %:  73.3\n"
     ]
    }
   ],
   "source": [
    "print('Penalty Shots train', len(y_penalty_train), ';Penalty Number goals', y_penalty_train.sum(),\n",
    "      ';Penalty Goals %: ', round(y_penalty_train.mean()*100, 1))\n",
    "print('Penalty Shots test', len(y_penalty_test), ';Penalty Number goals', y_penalty_test.sum(),\n",
    "      ';Penalty Goals %: ', round(y_penalty_test.mean()*100, 1))"
   ]
  },
  {
   "cell_type": "code",
   "execution_count": 10,
   "metadata": {},
   "outputs": [],
   "source": [
    "# Load and split fake data\n",
    "df_fake = pd.read_parquet(os.path.join(cwd, 'data', 'fake_shots.parquet'))\n",
    "df_fake.index = ['a'+str(idx) for idx in df_fake.index]\n",
    "y_fake = df_fake.goal\n",
    "X_fake = df_fake.drop('goal', axis=1)"
   ]
  },
  {
   "cell_type": "code",
   "execution_count": 11,
   "metadata": {},
   "outputs": [
    {
     "name": "stdout",
     "output_type": "stream",
     "text": [
      "Shots fake 1000 ;Goals %:  3.4\n"
     ]
    }
   ],
   "source": [
    "print('Shots fake', len(y_fake), ';Goals %: ', round(y_fake.mean()*100, 1))"
   ]
  },
  {
   "cell_type": "markdown",
   "metadata": {},
   "source": [
    "# LightGBM model"
   ]
  },
  {
   "cell_type": "code",
   "execution_count": 12,
   "metadata": {},
   "outputs": [],
   "source": [
    "# Add fake training data. I am not adding this to the test data as want this to be realistic of real data.\n",
    "X_train = pd.concat([X_train, X_fake])\n",
    "y_train = pd.concat([y_train, y_fake])"
   ]
  },
  {
   "cell_type": "code",
   "execution_count": 13,
   "metadata": {},
   "outputs": [
    {
     "name": "stdout",
     "output_type": "stream",
     "text": [
      "<class 'pandas.core.frame.DataFrame'>\n",
      "Index: 52730 entries, 48537 to a999\n",
      "Data columns (total 41 columns):\n",
      " #   Column                   Non-Null Count  Dtype  \n",
      "---  ------                   --------------  -----  \n",
      " 0   eventSec                 51730 non-null  float64\n",
      " 1   shot_type_name           52730 non-null  object \n",
      " 2   x                        52730 non-null  float64\n",
      " 3   y                        52730 non-null  float64\n",
      " 4   counter_attack           52730 non-null  bool   \n",
      " 5   fast_break               52730 non-null  bool   \n",
      " 6   strong_foot              52730 non-null  bool   \n",
      " 7   body_part_name           52730 non-null  object \n",
      " 8   assist_type              52730 non-null  object \n",
      " 9   pass_end_y               12688 non-null  float64\n",
      " 10  pass_end_x               12688 non-null  float64\n",
      " 11  pass_switch              35927 non-null  object \n",
      " 12  pass_cross               35927 non-null  object \n",
      " 13  pass_cut_back            35927 non-null  object \n",
      " 14  pass_height_name         35927 non-null  object \n",
      " 15  pass_technique_name      35927 non-null  object \n",
      " 16  carry_length             12688 non-null  float64\n",
      " 17  visible_angle            51730 non-null  float64\n",
      " 18  middle_angle             51730 non-null  float64\n",
      " 19  distance_to_goal         51730 non-null  float64\n",
      " 20  distance_visible_angle   51730 non-null  float64\n",
      " 21  log_distance_to_goal     51730 non-null  float64\n",
      " 22  shot_one_on_one          17848 non-null  object \n",
      " 23  shot_open_goal           17848 non-null  object \n",
      " 24  under_pressure           17848 non-null  object \n",
      " 25  match_week               52730 non-null  float64\n",
      " 26  player_id_goalkeeper     51730 non-null  float64\n",
      " 27  H_A_column               52730 non-null  object \n",
      " 28  players                  52730 non-null  float64\n",
      " 29  players_rival            52730 non-null  float64\n",
      " 30  area_shot                17848 non-null  float64\n",
      " 31  area_goal                17848 non-null  float64\n",
      " 32  n_angle                  17848 non-null  float64\n",
      " 33  goalkeeper_x             17803 non-null  float64\n",
      " 34  goalkeeper_y             17803 non-null  float64\n",
      " 35  smart_pass               23239 non-null  object \n",
      " 36  match_moment             52730 non-null  object \n",
      " 37  shot_number              52730 non-null  float64\n",
      " 38  shot_zone_number         52730 non-null  float64\n",
      " 39  shot_player_number       52730 non-null  float64\n",
      " 40  shot_zone_player_number  52730 non-null  float64\n",
      "dtypes: bool(3), float64(24), object(14)\n",
      "memory usage: 15.8+ MB\n"
     ]
    }
   ],
   "source": [
    "X_train.info()"
   ]
  },
  {
   "cell_type": "code",
   "execution_count": 14,
   "metadata": {},
   "outputs": [],
   "source": [
    "# Clean data. Categories to numbers. Drop distance and angle measures as just want raw locations for my models.\n",
    "def clean_lightgbm(df):\n",
    "    df = df.copy()\n",
    "    # replace categorical columns\n",
    "    shot_type_cat = {'free_kick': 0, 'corner': 1, 'throw_in': 2, 'direct_set_piece': 3, 'open_play': 4}\n",
    "    body_type_cat = {'Right Foot': 0, 'Left Foot': 1, 'Other': 2}\n",
    "    assist_type_cat = {'pass': 0, 'recovery': 1, 'clearance': 2, 'direct': 3, 'rebound': 4}\n",
    "    pass_height_cat = {'High Pass': 0, 'Ground/ Low Pass': 1}\n",
    "    pass_technique_cat = {'Through Ball': 0, 'Straight': 1, 'Inswinging': 2, 'Outswinging': 3, 'other': 4}\n",
    "    H_A_column_cat = {'Home Team': 0, 'Away Team': 1}\n",
    "    match_moment_cat = {'0-15': 0, '15-30': 1, '30-45': 2, '45-60': 3, '60-75': 4, '75-90': 5}\n",
    "    df.shot_type_name.replace(shot_type_cat, inplace=True)\n",
    "    df.body_part_name.replace(body_type_cat, inplace=True)\n",
    "    df.assist_type.replace(assist_type_cat, inplace=True)\n",
    "    df.pass_height_name.replace(pass_height_cat, inplace=True)\n",
    "    df.pass_technique_name.replace(pass_technique_cat, inplace=True)\n",
    "    df.H_A_column.replace(H_A_column_cat, inplace=True)\n",
    "    df.match_moment.replace(match_moment_cat, inplace=True)\n",
    "    \n",
    "    # replace boolean type columns (not really as have nans)\n",
    "    for col in ['pass_switch', 'pass_cross', 'pass_cut_back', 'shot_one_on_one',\n",
    "                'shot_open_goal', 'under_pressure', 'smart_pass']:\n",
    "        df[col] = df[col].astype(np.float32)\n",
    "    # drop some distance/ angle columns\n",
    "    drop_cols = ['x','y', 'eventSec', 'player_id_goalkeeper']\n",
    "    df.drop(drop_cols, axis=1, inplace=True)\n",
    "    return df\n",
    "    \n",
    "X_train = clean_lightgbm(X_train)\n",
    "X_test = clean_lightgbm(X_test)"
   ]
  },
  {
   "cell_type": "code",
   "execution_count": 15,
   "metadata": {},
   "outputs": [
    {
     "name": "stdout",
     "output_type": "stream",
     "text": [
      "<class 'pandas.core.frame.DataFrame'>\n",
      "Index: 52730 entries, 48537 to a999\n",
      "Data columns (total 37 columns):\n",
      " #   Column                   Non-Null Count  Dtype  \n",
      "---  ------                   --------------  -----  \n",
      " 0   shot_type_name           52730 non-null  int64  \n",
      " 1   counter_attack           52730 non-null  bool   \n",
      " 2   fast_break               52730 non-null  bool   \n",
      " 3   strong_foot              52730 non-null  bool   \n",
      " 4   body_part_name           52730 non-null  int64  \n",
      " 5   assist_type              52730 non-null  int64  \n",
      " 6   pass_end_y               12688 non-null  float64\n",
      " 7   pass_end_x               12688 non-null  float64\n",
      " 8   pass_switch              35927 non-null  float32\n",
      " 9   pass_cross               35927 non-null  float32\n",
      " 10  pass_cut_back            35927 non-null  float32\n",
      " 11  pass_height_name         35927 non-null  float64\n",
      " 12  pass_technique_name      35927 non-null  float64\n",
      " 13  carry_length             12688 non-null  float64\n",
      " 14  visible_angle            51730 non-null  float64\n",
      " 15  middle_angle             51730 non-null  float64\n",
      " 16  distance_to_goal         51730 non-null  float64\n",
      " 17  distance_visible_angle   51730 non-null  float64\n",
      " 18  log_distance_to_goal     51730 non-null  float64\n",
      " 19  shot_one_on_one          17848 non-null  float32\n",
      " 20  shot_open_goal           17848 non-null  float32\n",
      " 21  under_pressure           17848 non-null  float32\n",
      " 22  match_week               52730 non-null  float64\n",
      " 23  H_A_column               52730 non-null  int64  \n",
      " 24  players                  52730 non-null  float64\n",
      " 25  players_rival            52730 non-null  float64\n",
      " 26  area_shot                17848 non-null  float64\n",
      " 27  area_goal                17848 non-null  float64\n",
      " 28  n_angle                  17848 non-null  float64\n",
      " 29  goalkeeper_x             17803 non-null  float64\n",
      " 30  goalkeeper_y             17803 non-null  float64\n",
      " 31  smart_pass               23239 non-null  float32\n",
      " 32  match_moment             52730 non-null  int64  \n",
      " 33  shot_number              52730 non-null  float64\n",
      " 34  shot_zone_number         52730 non-null  float64\n",
      " 35  shot_player_number       52730 non-null  float64\n",
      " 36  shot_zone_player_number  52730 non-null  float64\n",
      "dtypes: bool(3), float32(7), float64(22), int64(5)\n",
      "memory usage: 12.8+ MB\n"
     ]
    }
   ],
   "source": [
    "X_train.info()"
   ]
  },
  {
   "cell_type": "code",
   "execution_count": 16,
   "metadata": {},
   "outputs": [
    {
     "name": "stdout",
     "output_type": "stream",
     "text": [
      "Index(['shot_type_name', 'counter_attack', 'fast_break', 'strong_foot',\n",
      "       'body_part_name', 'assist_type', 'pass_end_y', 'pass_end_x',\n",
      "       'pass_switch', 'pass_cross', 'pass_cut_back', 'pass_height_name',\n",
      "       'pass_technique_name', 'carry_length', 'visible_angle', 'middle_angle',\n",
      "       'distance_to_goal', 'distance_visible_angle', 'log_distance_to_goal',\n",
      "       'shot_one_on_one', 'shot_open_goal', 'under_pressure', 'match_week',\n",
      "       'H_A_column', 'players', 'players_rival', 'area_shot', 'area_goal',\n",
      "       'n_angle', 'goalkeeper_x', 'goalkeeper_y', 'smart_pass', 'match_moment',\n",
      "       'shot_number', 'shot_zone_number', 'shot_player_number',\n",
      "       'shot_zone_player_number'],\n",
      "      dtype='object')\n"
     ]
    }
   ],
   "source": [
    "print(X_train.columns)"
   ]
  },
  {
   "cell_type": "code",
   "execution_count": 17,
   "metadata": {},
   "outputs": [
    {
     "data": {
      "text/plain": [
       "BayesSearchCV(cv=5,\n",
       "              estimator=CalibratedClassifierCV(base_estimator=LGBMClassifier(random_state=42),\n",
       "                                               cv=3, method='isotonic'),\n",
       "              n_iter=100, n_jobs=-1,\n",
       "              search_spaces={'base_estimator__max_depth': Integer(low=0, high=500, prior='uniform', transform='identity'),\n",
       "                             'base_estimator__min_child_samples': Integer(low=0, high=200, prior='uniform', transform='identity'),\n",
       "                             'base_estimator__num_leaves': Integer(low=2, high=500, prior='uniform', transform='identity'),\n",
       "                             'base_estimator__reg_alpha': Real(low=0, high=1, prior='uniform', transform='identity'),\n",
       "                             'base_estimator__reg_lambda': Real(low=0, high=1, prior='uniform', transform='identity')})"
      ]
     },
     "execution_count": 17,
     "metadata": {},
     "output_type": "execute_result"
    }
   ],
   "source": [
    "# Fit the nested 5-fold cross validation using Bayesian optimisation.\n",
    "#lgbm = LGBMClassifier(random_state=42)\n",
    "lgbm = CalibratedClassifierCV(LGBMClassifier(random_state=42), method='isotonic', cv=3)\n",
    "lgbm_param_grid = {'base_estimator__min_child_samples': Integer(0, 200),\n",
    "                   'base_estimator__num_leaves': Integer(2, 500),\n",
    "                   'base_estimator__reg_lambda': Real(0, 1),\n",
    "                   'base_estimator__reg_alpha': Real(0, 1),\n",
    "                   'base_estimator__max_depth': Integer(0, 500)}\n",
    "# Nested resampling using skopt. see: https://github.com/scikit-optimize/scikit-optimize/issues/725\n",
    "searchcv = BayesSearchCV(estimator=lgbm,\n",
    "                         n_iter=100,\n",
    "                         search_spaces=lgbm_param_grid,\n",
    "                         cv=5,\n",
    "                         n_jobs=-1)\n",
    "searchcv.fit(X_train, y_train)"
   ]
  },
  {
   "cell_type": "code",
   "execution_count": 18,
   "metadata": {},
   "outputs": [],
   "source": [
    "# Permutation importance\n",
    "# note not using fake data for permutation importance\n",
    "perm_result = permutation_importance(searchcv.best_estimator_, X_train, y_train, n_repeats=10, random_state=seed)\n",
    "df_perm_importance = pd.DataFrame({'Feature':X_train.columns,\n",
    "                                   'importance': perm_result.importances.mean(axis=1),\n",
    "                                   'std_dev': perm_result.importances.std(axis=1)})\n",
    "df_perm_importance.sort_values('importance', ascending=False, inplace=True)\n",
    "df_perm_importance.reset_index(drop=True, inplace=True)"
   ]
  },
  {
   "cell_type": "code",
   "execution_count": 19,
   "metadata": {},
   "outputs": [
    {
     "data": {
      "text/html": [
       "<div>\n",
       "<style scoped>\n",
       "    .dataframe tbody tr th:only-of-type {\n",
       "        vertical-align: middle;\n",
       "    }\n",
       "\n",
       "    .dataframe tbody tr th {\n",
       "        vertical-align: top;\n",
       "    }\n",
       "\n",
       "    .dataframe thead th {\n",
       "        text-align: right;\n",
       "    }\n",
       "</style>\n",
       "<table border=\"1\" class=\"dataframe\">\n",
       "  <thead>\n",
       "    <tr style=\"text-align: right;\">\n",
       "      <th></th>\n",
       "      <th>Feature</th>\n",
       "      <th>importance</th>\n",
       "      <th>std_dev</th>\n",
       "    </tr>\n",
       "  </thead>\n",
       "  <tbody>\n",
       "    <tr>\n",
       "      <th>0</th>\n",
       "      <td>distance_to_goal</td>\n",
       "      <td>4.809406e-03</td>\n",
       "      <td>0.000135</td>\n",
       "    </tr>\n",
       "    <tr>\n",
       "      <th>1</th>\n",
       "      <td>visible_angle</td>\n",
       "      <td>4.124787e-03</td>\n",
       "      <td>0.000208</td>\n",
       "    </tr>\n",
       "    <tr>\n",
       "      <th>2</th>\n",
       "      <td>goalkeeper_x</td>\n",
       "      <td>9.008155e-04</td>\n",
       "      <td>0.000111</td>\n",
       "    </tr>\n",
       "    <tr>\n",
       "      <th>3</th>\n",
       "      <td>n_angle</td>\n",
       "      <td>6.694481e-04</td>\n",
       "      <td>0.000120</td>\n",
       "    </tr>\n",
       "    <tr>\n",
       "      <th>4</th>\n",
       "      <td>body_part_name</td>\n",
       "      <td>5.234212e-04</td>\n",
       "      <td>0.000158</td>\n",
       "    </tr>\n",
       "    <tr>\n",
       "      <th>5</th>\n",
       "      <td>pass_height_name</td>\n",
       "      <td>2.427461e-04</td>\n",
       "      <td>0.000114</td>\n",
       "    </tr>\n",
       "    <tr>\n",
       "      <th>6</th>\n",
       "      <td>shot_open_goal</td>\n",
       "      <td>2.408496e-04</td>\n",
       "      <td>0.000061</td>\n",
       "    </tr>\n",
       "    <tr>\n",
       "      <th>7</th>\n",
       "      <td>shot_player_number</td>\n",
       "      <td>1.953347e-04</td>\n",
       "      <td>0.000066</td>\n",
       "    </tr>\n",
       "    <tr>\n",
       "      <th>8</th>\n",
       "      <td>shot_number</td>\n",
       "      <td>1.327518e-04</td>\n",
       "      <td>0.000062</td>\n",
       "    </tr>\n",
       "    <tr>\n",
       "      <th>9</th>\n",
       "      <td>pass_technique_name</td>\n",
       "      <td>1.213730e-04</td>\n",
       "      <td>0.000047</td>\n",
       "    </tr>\n",
       "    <tr>\n",
       "      <th>10</th>\n",
       "      <td>shot_type_name</td>\n",
       "      <td>1.099943e-04</td>\n",
       "      <td>0.000138</td>\n",
       "    </tr>\n",
       "    <tr>\n",
       "      <th>11</th>\n",
       "      <td>under_pressure</td>\n",
       "      <td>8.154751e-05</td>\n",
       "      <td>0.000040</td>\n",
       "    </tr>\n",
       "    <tr>\n",
       "      <th>12</th>\n",
       "      <td>strong_foot</td>\n",
       "      <td>6.447942e-05</td>\n",
       "      <td>0.000086</td>\n",
       "    </tr>\n",
       "    <tr>\n",
       "      <th>13</th>\n",
       "      <td>middle_angle</td>\n",
       "      <td>6.447942e-05</td>\n",
       "      <td>0.000035</td>\n",
       "    </tr>\n",
       "    <tr>\n",
       "      <th>14</th>\n",
       "      <td>assist_type</td>\n",
       "      <td>6.258297e-05</td>\n",
       "      <td>0.000087</td>\n",
       "    </tr>\n",
       "    <tr>\n",
       "      <th>15</th>\n",
       "      <td>area_shot</td>\n",
       "      <td>4.930779e-05</td>\n",
       "      <td>0.000030</td>\n",
       "    </tr>\n",
       "    <tr>\n",
       "      <th>16</th>\n",
       "      <td>match_week</td>\n",
       "      <td>4.741134e-05</td>\n",
       "      <td>0.000047</td>\n",
       "    </tr>\n",
       "    <tr>\n",
       "      <th>17</th>\n",
       "      <td>pass_cross</td>\n",
       "      <td>4.741134e-05</td>\n",
       "      <td>0.000021</td>\n",
       "    </tr>\n",
       "    <tr>\n",
       "      <th>18</th>\n",
       "      <td>goalkeeper_y</td>\n",
       "      <td>3.223971e-05</td>\n",
       "      <td>0.000015</td>\n",
       "    </tr>\n",
       "    <tr>\n",
       "      <th>19</th>\n",
       "      <td>counter_attack</td>\n",
       "      <td>2.086099e-05</td>\n",
       "      <td>0.000073</td>\n",
       "    </tr>\n",
       "    <tr>\n",
       "      <th>20</th>\n",
       "      <td>carry_length</td>\n",
       "      <td>7.585815e-06</td>\n",
       "      <td>0.000030</td>\n",
       "    </tr>\n",
       "    <tr>\n",
       "      <th>21</th>\n",
       "      <td>pass_end_x</td>\n",
       "      <td>5.689361e-06</td>\n",
       "      <td>0.000015</td>\n",
       "    </tr>\n",
       "    <tr>\n",
       "      <th>22</th>\n",
       "      <td>distance_visible_angle</td>\n",
       "      <td>2.220446e-17</td>\n",
       "      <td>0.000027</td>\n",
       "    </tr>\n",
       "    <tr>\n",
       "      <th>23</th>\n",
       "      <td>smart_pass</td>\n",
       "      <td>0.000000e+00</td>\n",
       "      <td>0.000050</td>\n",
       "    </tr>\n",
       "    <tr>\n",
       "      <th>24</th>\n",
       "      <td>match_moment</td>\n",
       "      <td>0.000000e+00</td>\n",
       "      <td>0.000000</td>\n",
       "    </tr>\n",
       "    <tr>\n",
       "      <th>25</th>\n",
       "      <td>log_distance_to_goal</td>\n",
       "      <td>0.000000e+00</td>\n",
       "      <td>0.000000</td>\n",
       "    </tr>\n",
       "    <tr>\n",
       "      <th>26</th>\n",
       "      <td>players_rival</td>\n",
       "      <td>0.000000e+00</td>\n",
       "      <td>0.000000</td>\n",
       "    </tr>\n",
       "    <tr>\n",
       "      <th>27</th>\n",
       "      <td>players</td>\n",
       "      <td>0.000000e+00</td>\n",
       "      <td>0.000000</td>\n",
       "    </tr>\n",
       "    <tr>\n",
       "      <th>28</th>\n",
       "      <td>H_A_column</td>\n",
       "      <td>0.000000e+00</td>\n",
       "      <td>0.000000</td>\n",
       "    </tr>\n",
       "    <tr>\n",
       "      <th>29</th>\n",
       "      <td>pass_switch</td>\n",
       "      <td>0.000000e+00</td>\n",
       "      <td>0.000000</td>\n",
       "    </tr>\n",
       "    <tr>\n",
       "      <th>30</th>\n",
       "      <td>fast_break</td>\n",
       "      <td>0.000000e+00</td>\n",
       "      <td>0.000000</td>\n",
       "    </tr>\n",
       "    <tr>\n",
       "      <th>31</th>\n",
       "      <td>shot_zone_player_number</td>\n",
       "      <td>0.000000e+00</td>\n",
       "      <td>0.000000</td>\n",
       "    </tr>\n",
       "    <tr>\n",
       "      <th>32</th>\n",
       "      <td>pass_cut_back</td>\n",
       "      <td>-1.896454e-06</td>\n",
       "      <td>0.000006</td>\n",
       "    </tr>\n",
       "    <tr>\n",
       "      <th>33</th>\n",
       "      <td>shot_zone_number</td>\n",
       "      <td>-1.896454e-06</td>\n",
       "      <td>0.000010</td>\n",
       "    </tr>\n",
       "    <tr>\n",
       "      <th>34</th>\n",
       "      <td>pass_end_y</td>\n",
       "      <td>-5.689361e-06</td>\n",
       "      <td>0.000042</td>\n",
       "    </tr>\n",
       "    <tr>\n",
       "      <th>35</th>\n",
       "      <td>shot_one_on_one</td>\n",
       "      <td>-3.413617e-05</td>\n",
       "      <td>0.000008</td>\n",
       "    </tr>\n",
       "    <tr>\n",
       "      <th>36</th>\n",
       "      <td>area_goal</td>\n",
       "      <td>-4.741134e-05</td>\n",
       "      <td>0.000042</td>\n",
       "    </tr>\n",
       "  </tbody>\n",
       "</table>\n",
       "</div>"
      ],
      "text/plain": [
       "                    Feature    importance   std_dev\n",
       "0          distance_to_goal  4.809406e-03  0.000135\n",
       "1             visible_angle  4.124787e-03  0.000208\n",
       "2              goalkeeper_x  9.008155e-04  0.000111\n",
       "3                   n_angle  6.694481e-04  0.000120\n",
       "4            body_part_name  5.234212e-04  0.000158\n",
       "5          pass_height_name  2.427461e-04  0.000114\n",
       "6            shot_open_goal  2.408496e-04  0.000061\n",
       "7        shot_player_number  1.953347e-04  0.000066\n",
       "8               shot_number  1.327518e-04  0.000062\n",
       "9       pass_technique_name  1.213730e-04  0.000047\n",
       "10           shot_type_name  1.099943e-04  0.000138\n",
       "11           under_pressure  8.154751e-05  0.000040\n",
       "12              strong_foot  6.447942e-05  0.000086\n",
       "13             middle_angle  6.447942e-05  0.000035\n",
       "14              assist_type  6.258297e-05  0.000087\n",
       "15                area_shot  4.930779e-05  0.000030\n",
       "16               match_week  4.741134e-05  0.000047\n",
       "17               pass_cross  4.741134e-05  0.000021\n",
       "18             goalkeeper_y  3.223971e-05  0.000015\n",
       "19           counter_attack  2.086099e-05  0.000073\n",
       "20             carry_length  7.585815e-06  0.000030\n",
       "21               pass_end_x  5.689361e-06  0.000015\n",
       "22   distance_visible_angle  2.220446e-17  0.000027\n",
       "23               smart_pass  0.000000e+00  0.000050\n",
       "24             match_moment  0.000000e+00  0.000000\n",
       "25     log_distance_to_goal  0.000000e+00  0.000000\n",
       "26            players_rival  0.000000e+00  0.000000\n",
       "27                  players  0.000000e+00  0.000000\n",
       "28               H_A_column  0.000000e+00  0.000000\n",
       "29              pass_switch  0.000000e+00  0.000000\n",
       "30               fast_break  0.000000e+00  0.000000\n",
       "31  shot_zone_player_number  0.000000e+00  0.000000\n",
       "32            pass_cut_back -1.896454e-06  0.000006\n",
       "33         shot_zone_number -1.896454e-06  0.000010\n",
       "34               pass_end_y -5.689361e-06  0.000042\n",
       "35          shot_one_on_one -3.413617e-05  0.000008\n",
       "36                area_goal -4.741134e-05  0.000042"
      ]
     },
     "execution_count": 19,
     "metadata": {},
     "output_type": "execute_result"
    }
   ],
   "source": [
    "df_perm_importance"
   ]
  },
  {
   "cell_type": "code",
   "execution_count": 20,
   "metadata": {},
   "outputs": [
    {
     "data": {
      "image/png": "[encoded data removed]",
      "text/plain": [
       "<Figure size 1152x648 with 1 Axes>"
      ]
     },
     "metadata": {
      "needs_background": "light"
     },
     "output_type": "display_data"
    }
   ],
   "source": [
    "fig, ax = plt.subplots(figsize=(16, 9))\n",
    "sorted_idx = perm_result.importances_mean.argsort()\n",
    "bar_plot = ax.boxplot(perm_result.importances[sorted_idx].T, vert=False, labels=X_train.columns[sorted_idx])"
   ]
  },
  {
   "cell_type": "markdown",
   "metadata": {},
   "source": [
    "# Test"
   ]
  },
  {
   "cell_type": "code",
   "execution_count": 21,
   "metadata": {},
   "outputs": [],
   "source": [
    "# Calculate calibration curve on test data\n",
    "y_pred_lgbm_calibrated = searchcv.best_estimator_.predict_proba(X_test)[:, 1]\n",
    "fraction_of_positives_lgbm, mean_predicted_value_lgbm = calibration_curve(y_test, y_pred_lgbm_calibrated, n_bins=10)"
   ]
  },
  {
   "cell_type": "code",
   "execution_count": 22,
   "metadata": {},
   "outputs": [
    {
     "data": {
      "image/png": "[encoded data removed]",
      "text/plain": [
       "<Figure size 720x1080 with 2 Axes>"
      ]
     },
     "metadata": {},
     "output_type": "display_data"
    }
   ],
   "source": [
    "# Plot calibration curve on test data\n",
    "plt.style.use('dark_background')\n",
    "fig = plt.figure(constrained_layout=True, figsize=(10, 15))\n",
    "gs = fig.add_gridspec(ncols=1, nrows=2, height_ratios=(2/3, 1/3))\n",
    "ax1 = fig.add_subplot(gs[0])\n",
    "ax1.plot(mean_predicted_value_lgbm, fraction_of_positives_lgbm, \"-o\", color='#aabced', label='Calibrated Light GBM')\n",
    "ax1.plot([0, 1], [0, 1], \"--\", color='#e7aeca', label=\"Perfectly calibrated\")\n",
    "ax1.set_xlabel('Mean predicted value', fontsize=15)\n",
    "ax1.set_ylabel('Fraction of positives', fontsize=15)\n",
    "ax1.set_title('Calibration curve', fontsize=20, pad=10)\n",
    "ax1.legend(fontsize=15)\n",
    "ax1.tick_params(labelsize=15)\n",
    "ax2 = fig.add_subplot(gs[1])\n",
    "sns.distplot(y_pred_lgbm_calibrated, color='#aabced', label='Calibrated Light GBM', kde=False, ax=ax2)\n",
    "ax2.set_xlabel('Predicted value', fontsize=15)\n",
    "ax2.set_ylabel('Count', fontsize=15)\n",
    "ax2.tick_params(labelsize=15)\n",
    "ax2.legend(fontsize=15)\n",
    "ax2.set_title('Distribution of predictions', fontsize=20, pad=10);\n",
    "fig.savefig(os.path.join(cwd, 'figures', '22_calibration_curve2.png'), bbox_inches = 'tight', pad_inches = 0.2)"
   ]
  },
  {
   "cell_type": "code",
   "execution_count": 23,
   "metadata": {},
   "outputs": [
    {
     "name": "stdout",
     "output_type": "stream",
     "text": [
      "Brier score, Light GBM: 0.07860970045566092\n",
      "ROC AUC, Light GBM: 0.8025938803780235\n",
      "Pseudo R-squared, Light GBM: 0.19230871033162866\n"
     ]
    }
   ],
   "source": [
    "# From scikit-learn docs: \"The smaller the Brier score, the better, hence the naming with “loss”. \n",
    "# Across all items in a set N predictions, the Brier score measures the mean squared difference between \n",
    "# (1) the predicted probability assigned to the possible outcomes for item i, and (2) the actual outcome.\"\n",
    "print('Brier score, Light GBM:', brier_score_loss(y_test, y_pred_lgbm_calibrated, pos_label=y_test.max()))\n",
    "print('ROC AUC, Light GBM:', roc_auc_score(y_test, y_pred_lgbm_calibrated))\n",
    "print('Pseudo R-squared, Light GBM:', mcfadden_r2(y_test, y_pred_lgbm_calibrated))"
   ]
  },
  {
   "cell_type": "markdown",
   "metadata": {},
   "source": [
    "# Save models"
   ]
  },
  {
   "cell_type": "code",
   "execution_count": 24,
   "metadata": {},
   "outputs": [
    {
     "data": {
      "text/plain": [
       "['C:\\\\Users\\\\sergi77\\\\Desktop\\\\UNIR\\\\TFM\\\\xG_Model_TFM\\\\models\\\\lgbm_model.joblib']"
      ]
     },
     "execution_count": 24,
     "metadata": {},
     "output_type": "execute_result"
    }
   ],
   "source": [
    "dump(searchcv.best_estimator_, os.path.join(cwd, 'models', 'lgbm_model.joblib'))"
   ]
  },
  {
   "cell_type": "markdown",
   "metadata": {},
   "source": [
    "# Save data"
   ]
  },
  {
   "cell_type": "code",
   "execution_count": 25,
   "metadata": {},
   "outputs": [],
   "source": [
    "# reload shot dataset for ids\n",
    "df = pd.read_parquet(os.path.join(cwd, 'data', 'shots.parquet'))\n",
    "df = df[['match_id', 'wyscout_id', 'statsbomb_id']].copy()"
   ]
  },
  {
   "cell_type": "code",
   "execution_count": 26,
   "metadata": {},
   "outputs": [],
   "source": [
    "X_train['goal'] = y_train\n",
    "X_train['split'] = 'train'\n",
    "X_test['goal'] = y_test\n",
    "X_test['split'] = 'test'\n",
    "df_lgbm = pd.concat([X_train, X_test])\n",
    "# exlcude fake shots\n",
    "df_lgbm = df_lgbm[df_lgbm.index.isin(df.index)].copy()\n",
    "df_lgbm = df_lgbm.merge(df, how='left', left_index=True, right_index=True, validate='1:1')\n",
    "df_lgbm.to_parquet(os.path.join(cwd, 'data', 'modelling', 'lgbm2.parquet'))"
   ]
  }
 ],
 "metadata": {
  "kernelspec": {
   "display_name": "xGenv",
   "language": "python",
   "name": "xgenv"
  },
  "language_info": {
   "codemirror_mode": {
    "name": "ipython",
    "version": 3
   },
   "file_extension": ".py",
   "mimetype": "text/x-python",
   "name": "python",
   "nbconvert_exporter": "python",
   "pygments_lexer": "ipython3",
   "version": "3.7.9"
  }
 },
 "nbformat": 4,
 "nbformat_minor": 4
}
