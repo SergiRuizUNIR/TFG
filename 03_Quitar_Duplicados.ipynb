{
 "cells": [
  {
   "cell_type": "code",
   "execution_count": 1,
   "metadata": {},
   "outputs": [],
   "source": [
    "import os\n",
    "import pandas as pd\n",
    "import numpy as np\n",
    "import matplotlib.pyplot as plt\n",
    "from mplsoccer.pitch import Pitch"
   ]
  },
  {
   "cell_type": "markdown",
   "metadata": {},
   "source": [
    "Data Folders"
   ]
  },
  {
   "cell_type": "code",
   "execution_count": 2,
   "metadata": {},
   "outputs": [],
   "source": [
    "cwd = os.getcwd()\n",
    "WYSCOUT = os.path.join(cwd, 'data', 'wyscout')\n",
    "STATSBOMB = os.path.join(cwd, 'data', 'statsbomb')"
   ]
  },
  {
   "cell_type": "markdown",
   "metadata": {},
   "source": [
    "Load match data"
   ]
  },
  {
   "cell_type": "code",
   "execution_count": 3,
   "metadata": {},
   "outputs": [],
   "source": [
    "df_wyscout_match = pd.read_parquet(os.path.join(WYSCOUT, 'match.parquet'))\n",
    "df_statsbomb_match = pd.read_parquet(os.path.join(STATSBOMB, 'match.parquet'))\n",
    "df_wyscout_formation = pd.read_parquet(os.path.join(WYSCOUT, 'formation.parquet'))\n",
    "df_wyscout_sub =pd.read_parquet(os.path.join(WYSCOUT, 'substitution.parquet'))"
   ]
  },
  {
   "cell_type": "markdown",
   "metadata": {},
   "source": [
    "\n",
    "Overlaps"
   ]
  },
  {
   "cell_type": "code",
   "execution_count": 4,
   "metadata": {},
   "outputs": [],
   "source": [
    "df_wyscout_match['match_date'] = pd.to_datetime(df_wyscout_match.kick_off.dt.date)\n",
    "match_sb = df_statsbomb_match[['match_id', 'home_team_name', 'away_team_name', 'match_date', 'competition_name']]\n",
    "match_wy = df_wyscout_match[['match_id', 'home_team_name', 'away_team_name', 'match_date' ,'competition_name']]\n",
    "overlap = match_wy.merge(match_sb, on=['home_team_name', 'away_team_name', 'match_date', 'competition_name'],\n",
    "                         how='inner', suffixes=['_wyscout', '_statsbomb'])"
   ]
  },
  {
   "cell_type": "markdown",
   "metadata": {},
   "source": [
    "There are 100 overlapping games. 64 world cup games and 36 La Liga games from the 2017/18 season. Barcelona actually played 38 La Liga games in 2017/18, but Messi did not play 2 of those games."
   ]
  },
  {
   "cell_type": "code",
   "execution_count": 5,
   "metadata": {},
   "outputs": [
    {
     "data": {
      "text/plain": [
       "FIFA World Cup    64\n",
       "La Liga           36\n",
       "Name: competition_name, dtype: int64"
      ]
     },
     "execution_count": 5,
     "metadata": {},
     "output_type": "execute_result"
    }
   ],
   "source": [
    "overlap.competition_name.value_counts()"
   ]
  },
  {
   "cell_type": "markdown",
   "metadata": {},
   "source": [
    "\n",
    "Remove overlapping games from Wyscout data"
   ]
  },
  {
   "cell_type": "code",
   "execution_count": 6,
   "metadata": {},
   "outputs": [],
   "source": [
    "df_wyscout_event = pd.read_parquet(os.path.join(WYSCOUT, 'event.parquet'))"
   ]
  },
  {
   "cell_type": "code",
   "execution_count": 7,
   "metadata": {},
   "outputs": [
    {
     "name": "stdout",
     "output_type": "stream",
     "text": [
      "Number of events removed: 163602\n"
     ]
    }
   ],
   "source": [
    "mask = df_wyscout_event.match_id.isin(overlap.match_id_wyscout)\n",
    "df_wyscout_event_overlap = df_wyscout_event[mask].copy()\n",
    "df_wyscout_event = df_wyscout_event[~mask].copy()\n",
    "print('Number of events removed:', mask.sum())"
   ]
  },
  {
   "cell_type": "markdown",
   "metadata": {},
   "source": [
    "Remove overlapping matches from Wyscout data"
   ]
  },
  {
   "cell_type": "code",
   "execution_count": 8,
   "metadata": {},
   "outputs": [
    {
     "name": "stdout",
     "output_type": "stream",
     "text": [
      "Number of matches removed: 100\n"
     ]
    }
   ],
   "source": [
    "mask = df_wyscout_match.match_id.isin(overlap.match_id_wyscout)\n",
    "df_wyscout_match_overlap = df_wyscout_match[mask].copy()\n",
    "df_wyscout_match = df_wyscout_match[~mask].copy()\n",
    "print('Number of matches removed:', mask.sum())"
   ]
  },
  {
   "cell_type": "markdown",
   "metadata": {},
   "source": [
    "Remove overlapping subs"
   ]
  },
  {
   "cell_type": "code",
   "execution_count": 9,
   "metadata": {},
   "outputs": [
    {
     "name": "stdout",
     "output_type": "stream",
     "text": [
      "Number of rows removed: 591\n"
     ]
    }
   ],
   "source": [
    "mask = df_wyscout_sub.match_id.isin(overlap.match_id_wyscout)\n",
    "df_wyscout_sub_overlap = df_wyscout_sub[mask].copy()\n",
    "df_wyscout_sub = df_wyscout_sub[~mask].copy()\n",
    "print('Number of rows removed:', mask.sum())"
   ]
  },
  {
   "cell_type": "markdown",
   "metadata": {},
   "source": [
    "Remove overlapping formation"
   ]
  },
  {
   "cell_type": "code",
   "execution_count": 10,
   "metadata": {},
   "outputs": [
    {
     "name": "stdout",
     "output_type": "stream",
     "text": [
      "Number of rows removed: 4181\n"
     ]
    }
   ],
   "source": [
    "mask = df_wyscout_formation.match_id.isin(overlap.match_id_wyscout)\n",
    "df_wyscout_formation_overlap = df_wyscout_formation[mask].copy()\n",
    "df_wyscout_formation = df_wyscout_formation[~mask].copy()\n",
    "print('Number of rows removed:', mask.sum())"
   ]
  },
  {
   "cell_type": "markdown",
   "metadata": {},
   "source": [
    "Save files"
   ]
  },
  {
   "cell_type": "code",
   "execution_count": 11,
   "metadata": {},
   "outputs": [],
   "source": [
    "df_wyscout_event_overlap.to_parquet(os.path.join(WYSCOUT, 'event_overlap.parquet'))\n",
    "df_wyscout_event.to_parquet(os.path.join(WYSCOUT, 'event.parquet'))\n",
    "df_wyscout_match_overlap.to_parquet(os.path.join(WYSCOUT, 'match_overlap.parquet'))\n",
    "df_wyscout_match.to_parquet(os.path.join(WYSCOUT, 'match.parquet'))\n",
    "df_wyscout_sub_overlap.to_parquet(os.path.join(WYSCOUT, 'substitution_overlap.parquet'))\n",
    "df_wyscout_sub.to_parquet(os.path.join(WYSCOUT, 'substitution.parquet'))\n",
    "df_wyscout_formation_overlap.to_parquet(os.path.join(WYSCOUT, 'formation_overlap.parquet'))\n",
    "df_wyscout_formation.to_parquet(os.path.join(WYSCOUT, 'formation.parquet'))"
   ]
  }
 ],
 "metadata": {
  "kernelspec": {
   "display_name": "Python 3",
   "language": "python",
   "name": "python3"
  },
  "language_info": {
   "codemirror_mode": {
    "name": "ipython",
    "version": 3
   },
   "file_extension": ".py",
   "mimetype": "text/x-python",
   "name": "python",
   "nbconvert_exporter": "python",
   "pygments_lexer": "ipython3",
   "version": "3.7.9"
  }
 },
 "nbformat": 4,
 "nbformat_minor": 4
}
