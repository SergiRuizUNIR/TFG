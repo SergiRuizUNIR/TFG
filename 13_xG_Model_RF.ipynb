{
 "cells": [
  {
   "cell_type": "code",
   "execution_count": null,
   "id": "ee0fd500",
   "metadata": {},
   "outputs": [],
   "source": [
    "import os\n",
    "import numpy as np\n",
    "import pandas as pd\n",
    "import matplotlib.pyplot as plt\n",
    "from sklearn.ensemble import RandomForestClassifier\n",
    "from sklearn.inspection import permutation_importance\n",
    "\n",
    "from sklearn.model_selection import train_test_split, KFold, cross_val_score, GridSearchCV, RandomizedSearchCV, cross_validate\n",
    "\n",
    "from sklearn.metrics import log_loss, roc_auc_score, roc_curve, make_scorer, brier_score_loss"
   ]
  },
  {
   "cell_type": "markdown",
   "id": "1be24b78",
   "metadata": {},
   "source": [
    "Define Mcfadden's pseduo r-squared"
   ]
  },
  {
   "cell_type": "code",
   "execution_count": null,
   "id": "52905a18",
   "metadata": {},
   "outputs": [],
   "source": [
    "def mcfadden_r2(y, y_pred):\n",
    "    ll = log_loss(y, y_pred)\n",
    "    ll_null = log_loss(y, np.full(len(y), y.mean()))\n",
    "    return 1 - (ll/ll_null)\n",
    "pseudo_r2_scorer = make_scorer(mcfadden_r2, needs_proba=True, greater_is_better=True)"
   ]
  },
  {
   "cell_type": "code",
   "execution_count": null,
   "id": "0f18db03",
   "metadata": {},
   "outputs": [],
   "source": [
    "scoring = {'roc_aug': 'roc_auc', 'mcfaddens_r2': pseudo_r2_scorer}"
   ]
  },
  {
   "cell_type": "markdown",
   "id": "a959fb0f",
   "metadata": {},
   "source": [
    "Load the data"
   ]
  },
  {
   "cell_type": "code",
   "execution_count": null,
   "id": "dccdf6bf",
   "metadata": {},
   "outputs": [],
   "source": [
    "cwd = os.getcwd()\n",
    "df = pd.read_parquet(os.path.join(cwd, 'data', 'shots.parquet'))"
   ]
  },
  {
   "cell_type": "markdown",
   "id": "cc57a2f2",
   "metadata": {},
   "source": [
    "Drop first the columns without any information useful such as id's and names. Also drop columns for random forest. RF does not deal well with columns with missing data (the ones that come from StatsBomb only).\n",
    "Split data in penalty and non-penalty shots and subset dataset for random forest."
   ]
  },
  {
   "cell_type": "code",
   "execution_count": 5,
   "id": "9b06e6c1",
   "metadata": {},
   "outputs": [],
   "source": [
    "df.drop(['match_id', 'statsbomb_id', 'statsbomb_team_id', 'player_id_statsbomb', 'competition_gender', 'team_name',\n",
    "         'player_id', 'firstName', 'middleName', 'lastName', 'Name', 'dataset', 'wyscout_id', 'wyscout_team_id', 'team_id',\n",
    "         'player_id_wyscout','competition_name','minute','shot_zone','match_week','pass_end_y',\n",
    "         'goalkeeper_x', 'goalkeeper_y', 'carry_length', 'shot_one_on_one', 'shot_open_goal','under_pressure', 'area_shot', \n",
    "         'area_goal', 'n_angle', 'smart_pass','pass_end_x'], axis=1, inplace=True)\n",
    "mask_penalty = (df.shot_type_name=='penalty')\n",
    "df_penalty = df[mask_penalty].copy()\n",
    "df_penalty.drop(['x','y','visible_angle','middle_angle','distance_to_goal','distance_visible_angle','log_distance_to_goal',\n",
    "                 'assist_type', 'pass_switch', 'pass_cross', 'pass_cut_back','counter_attack', 'pass_height_name',\n",
    "                 'pass_technique_name', 'shot_zone_number','shot_zone_player_number','fast_break', 'strong_foot',\n",
    "                 'body_part_name','shot_type_name'], axis=1, inplace=True)\n",
    "df_non_penalty = df[~mask_penalty].copy()"
   ]
  },
  {
   "cell_type": "markdown",
   "id": "2b6b08ee",
   "metadata": {},
   "source": [
    "Split dataset for random forest into passes / other assists. They have diferent columns of information."
   ]
  },
  {
   "cell_type": "code",
   "execution_count": 6,
   "id": "c59c8a36",
   "metadata": {},
   "outputs": [],
   "source": [
    "def split(X):\n",
    "    mask = X.assist_type == 'pass'\n",
    "    X_pass = X[mask].drop('assist_type', axis=1).copy()\n",
    "    X_other = X[~mask].dropna(axis=1, how='all').copy()\n",
    "    return X_pass, X_other"
   ]
  },
  {
   "cell_type": "code",
   "execution_count": 7,
   "id": "990872e2",
   "metadata": {},
   "outputs": [],
   "source": [
    "df_np_pass,  df_np_other = split(df_non_penalty)"
   ]
  },
  {
   "cell_type": "markdown",
   "id": "e4b7fc26",
   "metadata": {},
   "source": [
    "Generate dummy columns for categorical variables. After that split the three datasets into train and test datasets."
   ]
  },
  {
   "cell_type": "code",
   "execution_count": 8,
   "id": "2eb30e53",
   "metadata": {},
   "outputs": [],
   "source": [
    "df_np_pass = pd.get_dummies(df_np_pass, columns=['competition_type','competition_part','H_A_column','match_moment',\n",
    "                                                 'shot_type_name', 'body_part_name','pass_technique_name','pass_height_name'])\n",
    "df_np_other = pd.get_dummies(df_np_other, columns=['competition_type','competition_part','H_A_column','match_moment',\n",
    "                                                   'assist_type','shot_type_name', 'body_part_name'])\n",
    "df_p = pd.get_dummies(df_penalty, columns=['competition_type','competition_part','H_A_column','match_moment'])\n",
    "y_np_pass = df_np_pass['goal']\n",
    "x_np_pass = df_np_pass.drop(['goal'], axis=1)\n",
    "x_npp_train, x_npp_test, y_npp_train, y_npp_test = train_test_split(x_np_pass, y_np_pass, train_size=0.8, random_state=42,\n",
    "                                                                    stratify=y_np_pass)\n",
    "y_np_other = df_np_other['goal']\n",
    "x_np_other = df_np_other.drop(['goal'], axis=1)\n",
    "x_npo_train, x_npo_test, y_npo_train, y_npo_test = train_test_split(x_np_other, y_np_other, train_size=0.8, random_state=42,\n",
    "                                                                    stratify=y_np_other)\n",
    "y_p = df_p['goal']\n",
    "x_p = df_p.drop(['goal'], axis=1)\n",
    "x_p_train, x_p_test, y_p_train, y_p_test = train_test_split(x_p, y_p, train_size=0.8, random_state=42,\n",
    "                                                                    stratify=y_p)"
   ]
  },
  {
   "cell_type": "markdown",
   "id": "0d30d6e8",
   "metadata": {},
   "source": [
    "Create two RF clf."
   ]
  },
  {
   "cell_type": "code",
   "execution_count": 9,
   "id": "ea3acafd",
   "metadata": {},
   "outputs": [],
   "source": [
    "random_search_model = RandomForestClassifier(random_state=42)\n",
    "grid_search_model = RandomForestClassifier(random_state=42)"
   ]
  },
  {
   "cell_type": "code",
   "execution_count": 10,
   "id": "2633c2c1",
   "metadata": {},
   "outputs": [],
   "source": [
    "cv_split = KFold(n_splits=5, random_state=42, shuffle=True)"
   ]
  },
  {
   "cell_type": "code",
   "execution_count": 11,
   "id": "182ab716",
   "metadata": {},
   "outputs": [],
   "source": [
    "rf_hyperparam_grid={\n",
    "    \"n_estimators\": [100, 500],\n",
    "    \"max_features\": ['auto', 7, 10, 15],\n",
    "    \"min_samples_leaf\": [1, 5, 20, 100],\n",
    "    \"min_samples_split\": [2, 10, 50, 250],\n",
    "    \"criterion\": [\"gini\", \"entropy\"],\n",
    "    \"max_depth\": [4, 6, 8, 10, None]\n",
    "}"
   ]
  },
  {
   "cell_type": "code",
   "execution_count": 12,
   "id": "22b86d26",
   "metadata": {},
   "outputs": [],
   "source": [
    "rf_random_search = RandomizedSearchCV(estimator=random_search_model, param_distributions=rf_hyperparam_grid, n_iter=200, \n",
    "                                    scoring=\"neg_log_loss\", return_train_score=True, cv=cv_split, verbose=10,\n",
    "                                    n_jobs=-1, random_state=42)"
   ]
  },
  {
   "cell_type": "code",
   "execution_count": 13,
   "id": "c0cdca55",
   "metadata": {},
   "outputs": [
    {
     "name": "stdout",
     "output_type": "stream",
     "text": [
      "Fitting 5 folds for each of 200 candidates, totalling 1000 fits\n"
     ]
    },
    {
     "name": "stderr",
     "output_type": "stream",
     "text": [
      "[Parallel(n_jobs=-1)]: Using backend LokyBackend with 8 concurrent workers.\n",
      "[Parallel(n_jobs=-1)]: Done   2 tasks      | elapsed:   14.7s\n",
      "[Parallel(n_jobs=-1)]: Done   9 tasks      | elapsed:   33.7s\n",
      "[Parallel(n_jobs=-1)]: Done  16 tasks      | elapsed:   52.5s\n",
      "[Parallel(n_jobs=-1)]: Done  25 tasks      | elapsed:  1.4min\n",
      "[Parallel(n_jobs=-1)]: Done  34 tasks      | elapsed:  1.8min\n",
      "[Parallel(n_jobs=-1)]: Done  45 tasks      | elapsed:  2.4min\n",
      "[Parallel(n_jobs=-1)]: Done  56 tasks      | elapsed:  2.7min\n",
      "[Parallel(n_jobs=-1)]: Done  69 tasks      | elapsed:  3.1min\n",
      "[Parallel(n_jobs=-1)]: Done  82 tasks      | elapsed:  4.1min\n",
      "[Parallel(n_jobs=-1)]: Done  97 tasks      | elapsed:  4.8min\n",
      "[Parallel(n_jobs=-1)]: Done 112 tasks      | elapsed:  5.2min\n",
      "[Parallel(n_jobs=-1)]: Done 129 tasks      | elapsed:  6.1min\n",
      "[Parallel(n_jobs=-1)]: Done 146 tasks      | elapsed:  6.6min\n",
      "[Parallel(n_jobs=-1)]: Done 165 tasks      | elapsed:  7.3min\n",
      "[Parallel(n_jobs=-1)]: Done 184 tasks      | elapsed:  8.7min\n",
      "[Parallel(n_jobs=-1)]: Done 205 tasks      | elapsed:  9.2min\n",
      "[Parallel(n_jobs=-1)]: Done 226 tasks      | elapsed: 10.5min\n",
      "[Parallel(n_jobs=-1)]: Done 249 tasks      | elapsed: 11.8min\n",
      "[Parallel(n_jobs=-1)]: Done 272 tasks      | elapsed: 12.7min\n",
      "[Parallel(n_jobs=-1)]: Done 297 tasks      | elapsed: 14.1min\n",
      "[Parallel(n_jobs=-1)]: Done 322 tasks      | elapsed: 15.5min\n",
      "[Parallel(n_jobs=-1)]: Done 349 tasks      | elapsed: 16.5min\n",
      "[Parallel(n_jobs=-1)]: Done 376 tasks      | elapsed: 17.6min\n",
      "[Parallel(n_jobs=-1)]: Done 405 tasks      | elapsed: 18.6min\n",
      "[Parallel(n_jobs=-1)]: Done 434 tasks      | elapsed: 21.4min\n",
      "[Parallel(n_jobs=-1)]: Done 465 tasks      | elapsed: 23.1min\n",
      "[Parallel(n_jobs=-1)]: Done 496 tasks      | elapsed: 25.2min\n",
      "[Parallel(n_jobs=-1)]: Done 529 tasks      | elapsed: 28.0min\n",
      "[Parallel(n_jobs=-1)]: Done 562 tasks      | elapsed: 29.3min\n",
      "[Parallel(n_jobs=-1)]: Done 597 tasks      | elapsed: 31.6min\n",
      "[Parallel(n_jobs=-1)]: Done 632 tasks      | elapsed: 33.3min\n",
      "[Parallel(n_jobs=-1)]: Done 669 tasks      | elapsed: 35.7min\n",
      "[Parallel(n_jobs=-1)]: Done 706 tasks      | elapsed: 38.8min\n",
      "[Parallel(n_jobs=-1)]: Done 745 tasks      | elapsed: 41.3min\n",
      "[Parallel(n_jobs=-1)]: Done 784 tasks      | elapsed: 42.9min\n",
      "[Parallel(n_jobs=-1)]: Done 825 tasks      | elapsed: 46.2min\n",
      "[Parallel(n_jobs=-1)]: Done 866 tasks      | elapsed: 49.2min\n",
      "[Parallel(n_jobs=-1)]: Done 909 tasks      | elapsed: 51.4min\n",
      "[Parallel(n_jobs=-1)]: Done 952 tasks      | elapsed: 53.8min\n",
      "[Parallel(n_jobs=-1)]: Done 1000 out of 1000 | elapsed: 57.7min finished\n"
     ]
    }
   ],
   "source": [
    "tuned_random_model_npp = rf_random_search.fit(x_npp_train, y_npp_train)"
   ]
  },
  {
   "cell_type": "code",
   "execution_count": 14,
   "id": "21882717",
   "metadata": {},
   "outputs": [
    {
     "data": {
      "text/plain": [
       "{'n_estimators': 500,\n",
       " 'min_samples_split': 50,\n",
       " 'min_samples_leaf': 20,\n",
       " 'max_features': 7,\n",
       " 'max_depth': 10,\n",
       " 'criterion': 'entropy'}"
      ]
     },
     "execution_count": 14,
     "metadata": {},
     "output_type": "execute_result"
    }
   ],
   "source": [
    "tuned_random_model_npp.best_params_"
   ]
  },
  {
   "cell_type": "code",
   "execution_count": null,
   "id": "9a43d9a6",
   "metadata": {},
   "outputs": [],
   "source": [
    "random_y_hat_npp = tuned_random_model_npp.predict_proba(x_npp_test)\n",
    "print(\"The log loss of the model with Random Search is: \" + str(log_loss(y_npp_test, random_y_hat_npp)))\n",
    "print(\"The ROC AUC score of the model with Random Search is: \" +str(roc_auc_score(y_npp_test, random_y_hat_npp[:,1])))"
   ]
  },
  {
   "cell_type": "markdown",
   "id": "6ee20718",
   "metadata": {},
   "source": [
    "- The log loss of the model with Random Search is: 0.2938047267611026\n",
    "- The ROC AUC score of the model with Random Search is: 0.7763513660967295"
   ]
  },
  {
   "cell_type": "code",
   "execution_count": null,
   "id": "d7a5db77",
   "metadata": {},
   "outputs": [
    {
     "name": "stdout",
     "output_type": "stream",
     "text": [
      "Fitting 5 folds for each of 200 candidates, totalling 1000 fits\n"
     ]
    },
    {
     "name": "stderr",
     "output_type": "stream",
     "text": [
      "[Parallel(n_jobs=-1)]: Using backend LokyBackend with 8 concurrent workers.\n",
      "[Parallel(n_jobs=-1)]: Done   2 tasks      | elapsed:   43.6s\n",
      "[Parallel(n_jobs=-1)]: Done   9 tasks      | elapsed:  1.5min\n",
      "[Parallel(n_jobs=-1)]: Done  16 tasks      | elapsed:  2.5min\n",
      "[Parallel(n_jobs=-1)]: Done  25 tasks      | elapsed:  3.7min\n",
      "[Parallel(n_jobs=-1)]: Done  34 tasks      | elapsed:  4.8min\n",
      "[Parallel(n_jobs=-1)]: Done  45 tasks      | elapsed:  6.3min\n",
      "[Parallel(n_jobs=-1)]: Done  56 tasks      | elapsed:  6.9min\n",
      "[Parallel(n_jobs=-1)]: Done  69 tasks      | elapsed:  7.9min\n",
      "[Parallel(n_jobs=-1)]: Done  82 tasks      | elapsed: 10.1min\n",
      "[Parallel(n_jobs=-1)]: Done  97 tasks      | elapsed: 11.9min\n",
      "[Parallel(n_jobs=-1)]: Done 112 tasks      | elapsed: 13.2min\n",
      "[Parallel(n_jobs=-1)]: Done 129 tasks      | elapsed: 15.8min\n",
      "[Parallel(n_jobs=-1)]: Done 146 tasks      | elapsed: 17.1min\n",
      "[Parallel(n_jobs=-1)]: Done 165 tasks      | elapsed: 19.3min\n",
      "[Parallel(n_jobs=-1)]: Done 184 tasks      | elapsed: 23.4min\n",
      "[Parallel(n_jobs=-1)]: Done 205 tasks      | elapsed: 24.6min\n",
      "[Parallel(n_jobs=-1)]: Done 226 tasks      | elapsed: 27.8min\n",
      "[Parallel(n_jobs=-1)]: Done 249 tasks      | elapsed: 31.7min\n",
      "[Parallel(n_jobs=-1)]: Done 272 tasks      | elapsed: 33.9min\n",
      "[Parallel(n_jobs=-1)]: Done 297 tasks      | elapsed: 37.5min\n",
      "[Parallel(n_jobs=-1)]: Done 322 tasks      | elapsed: 40.7min\n",
      "[Parallel(n_jobs=-1)]: Done 349 tasks      | elapsed: 43.1min\n",
      "[Parallel(n_jobs=-1)]: Done 376 tasks      | elapsed: 46.0min\n",
      "[Parallel(n_jobs=-1)]: Done 405 tasks      | elapsed: 48.7min\n",
      "[Parallel(n_jobs=-1)]: Done 434 tasks      | elapsed: 56.8min\n",
      "[Parallel(n_jobs=-1)]: Done 465 tasks      | elapsed: 61.3min\n",
      "[Parallel(n_jobs=-1)]: Done 496 tasks      | elapsed: 66.2min\n"
     ]
    }
   ],
   "source": [
    "tuned_random_model_npo = rf_random_search.fit(x_npo_train, y_npo_train)"
   ]
  },
  {
   "cell_type": "code",
   "execution_count": null,
   "id": "bc95200d",
   "metadata": {},
   "outputs": [],
   "source": [
    "tuned_random_model_npo.best_params_"
   ]
  },
  {
   "cell_type": "code",
   "execution_count": null,
   "id": "a6ca8495",
   "metadata": {},
   "outputs": [],
   "source": [
    "random_y_hat_npo = tuned_random_model_npo.predict_proba(x_npo_test)\n",
    "print(\"The log loss of the model with Random Search is: \" + str(log_loss(y_npo_test, random_y_hat_npo)))\n",
    "print(\"The ROC AUC score of the model with Random Search is: \" +str(roc_auc_score(y_npo_test, random_y_hat_npo[:,1])))"
   ]
  },
  {
   "cell_type": "code",
   "execution_count": null,
   "id": "1b1955e3",
   "metadata": {},
   "outputs": [],
   "source": [
    "tuned_random_model_p = rf_random_search.fit(x_p_train, y_p_train)"
   ]
  },
  {
   "cell_type": "code",
   "execution_count": 17,
   "id": "44d094ce",
   "metadata": {},
   "outputs": [
    {
     "data": {
      "text/plain": [
       "{'n_estimators': 100,\n",
       " 'min_samples_split': 2,\n",
       " 'min_samples_leaf': 100,\n",
       " 'max_features': 'auto',\n",
       " 'max_depth': None,\n",
       " 'criterion': 'gini'}"
      ]
     },
     "execution_count": 17,
     "metadata": {},
     "output_type": "execute_result"
    }
   ],
   "source": [
    "tuned_random_model_p.best_params_"
   ]
  },
  {
   "cell_type": "code",
   "execution_count": null,
   "id": "dab3ae61",
   "metadata": {},
   "outputs": [
    {
     "name": "stdout",
     "output_type": "stream",
     "text": [
      "The log loss of the model with Random Search is: 0.5723009879746499\n",
      "The ROC AUC score of the model with Random Search is: 0.5310712924132673\n"
     ]
    }
   ],
   "source": [
    "random_y_hat_p = tuned_random_model_p.predict_proba(x_p_test)\n",
    "print(\"The log loss of the model with Random Search is: \" + str(log_loss(y_p_test, random_y_hat_p)))\n",
    "print(\"The ROC AUC score of the model with Random Search is: \" +str(roc_auc_score(y_p_test, random_y_hat_p[:,1])))"
   ]
  },
  {
   "cell_type": "code",
   "execution_count": null,
   "id": "23ca191b",
   "metadata": {},
   "outputs": [],
   "source": [
    "y_pred_random = np.concatenate([random_y_hat_npp, random_y_hat_npo])\n",
    "y_true_test = np.concatenate([y_npp_test, y_npo_test])\n",
    "fraction_of_positives_random, mean_predicted_value_random = calibration_curve(y_true_test, y_pred_random[:, 1], n_bins=10)"
   ]
  },
  {
   "cell_type": "code",
   "execution_count": null,
   "id": "7522b514",
   "metadata": {},
   "outputs": [],
   "source": [
    "plt.style.use('dark_background')\n",
    "fig = plt.figure(constrained_layout=True, figsize=(10, 15))\n",
    "gs = fig.add_gridspec(ncols=1, nrows=2, height_ratios=(2/3, 1/3))\n",
    "ax1 = fig.add_subplot(gs[0])\n",
    "ax1.plot(mean_predicted_value_random, fraction_of_positives_random, \"-o\", color='#dbdf4a', label='Logistic regression')\n",
    "ax1.plot([0, 1], [0, 1], \"--\", color='#e7aeca', label=\"Perfectly calibrated\")\n",
    "ax1.set_xlabel('Mean predicted value', fontsize=15)\n",
    "ax1.set_ylabel('Fraction of positives', fontsize=15)\n",
    "ax1.set_title('Calibration curve', fontsize=20, pad=10)\n",
    "ax1.legend(fontsize=15)\n",
    "ax1.tick_params(labelsize=15)\n",
    "ax2 = fig.add_subplot(gs[1])\n",
    "sns.distplot(y_pred_random[:, 1], color='#4fe4e4', label='Logistic regression', kde=False, ax=ax2)\n",
    "ax2.set_xlabel('Predicted value', fontsize=15)\n",
    "ax2.set_ylabel('Count', fontsize=15)\n",
    "ax2.tick_params(labelsize=15)\n",
    "ax2.legend(fontsize=15)\n",
    "ax2.set_title('Distribution of predictions', fontsize=20, pad=10);"
   ]
  },
  {
   "cell_type": "code",
   "execution_count": null,
   "id": "372d7aab",
   "metadata": {},
   "outputs": [],
   "source": [
    "print(\"The log loss of the model with Random Search is: \" + str(log_loss(y_true_test, y_pred_random)))\n",
    "print(\"The ROC AUC score of the model with Random Search is: \" +str(roc_auc_score(y_true_test, y_pred_random[:,1])))\n",
    "print('Pseudo R-squared, logistic regression:', mcfadden_r2(y_true_test, y_pred_random[:,1]))\n",
    "print('Brier score, logistic regression:',brier_score_loss(y_true_test, y_pred_random[:,1], pos_label=y_true_test.max()))"
   ]
  },
  {
   "cell_type": "code",
   "execution_count": null,
   "id": "05bc6354",
   "metadata": {},
   "outputs": [],
   "source": [
    "fraction_of_positives_random_p, mean_predicted_value_random_p = calibration_curve(y_p_test, random_y_hat_p[:, 1], n_bins=10)"
   ]
  },
  {
   "cell_type": "code",
   "execution_count": null,
   "id": "17a770e8",
   "metadata": {},
   "outputs": [],
   "source": [
    "fig = plt.figure(constrained_layout=True, figsize=(10, 15))\n",
    "gs = fig.add_gridspec(ncols=1, nrows=2, height_ratios=(2/3, 1/3))\n",
    "ax1 = fig.add_subplot(gs[0])\n",
    "ax1.plot(mean_predicted_value_random_p, fraction_of_positives_random_p, \"-o\", color='#dbdf4a', label='Logistic regression')\n",
    "ax1.plot([0, 1], [0, 1], \"--\", color='#e7aeca', label=\"Perfectly calibrated\")\n",
    "ax1.set_xlabel('Mean predicted value', fontsize=15)\n",
    "ax1.set_ylabel('Fraction of positives', fontsize=15)\n",
    "ax1.set_title('Calibration curve', fontsize=20, pad=10)\n",
    "ax1.legend(fontsize=15)\n",
    "ax1.tick_params(labelsize=15)\n",
    "ax2 = fig.add_subplot(gs[1])\n",
    "sns.distplot(random_y_hat_p[:, 1], color='#4fe4e4', label='Logistic regression', kde=False, ax=ax2)\n",
    "ax2.set_xlabel('Predicted value', fontsize=15)\n",
    "ax2.set_ylabel('Count', fontsize=15)\n",
    "ax2.tick_params(labelsize=15)\n",
    "ax2.legend(fontsize=15)\n",
    "ax2.set_title('Distribution of predictions', fontsize=20, pad=10);\n",
    "fig.savefig(os.path.join(cwd, 'figures', '22_calibration_curve.png'), bbox_inches = 'tight', pad_inches = 0.2)"
   ]
  },
  {
   "cell_type": "code",
   "execution_count": null,
   "id": "fd58b266",
   "metadata": {},
   "outputs": [],
   "source": [
    "print(\"The log loss of the model with Random Search is: \" + str(log_loss(y_p_test, random_y_hat_p)))\n",
    "print(\"The ROC AUC score of the model with Random Search is: \" +str(roc_auc_score(y_p_test, random_y_hat_p[:,1])))\n",
    "print('Pseudo R-squared, logistic regression:', mcfadden_r2(y_p_test, random_y_hat_p[:,1]))\n",
    "print('Brier score, logistic regression:',brier_score_loss(y_p_test, random_y_hat_p[:,1], pos_label=y_true_test_p.max()))"
   ]
  },
  {
   "cell_type": "code",
   "execution_count": 80,
   "id": "7a5d9e82",
   "metadata": {},
   "outputs": [],
   "source": [
    "rf_grid_search=GridSearchCV(estimator=grid_search_model, param_grid=rf_hyperparam_grid, scoring=\"neg_log_loss\",\n",
    "                            return_train_score=True, cv=cv_split, verbose=10, n_jobs=-1)"
   ]
  },
  {
   "cell_type": "code",
   "execution_count": 82,
   "id": "67db810d",
   "metadata": {},
   "outputs": [
    {
     "name": "stdout",
     "output_type": "stream",
     "text": [
      "Fitting 5 folds for each of 1280 candidates, totalling 6400 fits\n"
     ]
    },
    {
     "name": "stderr",
     "output_type": "stream",
     "text": [
      "[Parallel(n_jobs=-1)]: Using backend LokyBackend with 8 concurrent workers.\n",
      "[Parallel(n_jobs=-1)]: Done   2 tasks      | elapsed:    0.4s\n",
      "[Parallel(n_jobs=-1)]: Done   9 tasks      | elapsed:    1.2s\n",
      "[Parallel(n_jobs=-1)]: Done  16 tasks      | elapsed:    2.4s\n",
      "[Parallel(n_jobs=-1)]: Done  25 tasks      | elapsed:    3.9s\n",
      "[Parallel(n_jobs=-1)]: Done  34 tasks      | elapsed:    5.0s\n",
      "[Parallel(n_jobs=-1)]: Done  45 tasks      | elapsed:    6.7s\n",
      "[Parallel(n_jobs=-1)]: Done  56 tasks      | elapsed:    8.2s\n",
      "[Parallel(n_jobs=-1)]: Done  69 tasks      | elapsed:   10.3s\n",
      "[Parallel(n_jobs=-1)]: Done  82 tasks      | elapsed:   12.2s\n",
      "[Parallel(n_jobs=-1)]: Done  97 tasks      | elapsed:   14.2s\n",
      "[Parallel(n_jobs=-1)]: Done 112 tasks      | elapsed:   16.8s\n",
      "[Parallel(n_jobs=-1)]: Done 129 tasks      | elapsed:   19.5s\n",
      "[Parallel(n_jobs=-1)]: Done 146 tasks      | elapsed:   21.8s\n",
      "[Parallel(n_jobs=-1)]: Done 165 tasks      | elapsed:   24.7s\n",
      "[Parallel(n_jobs=-1)]: Done 184 tasks      | elapsed:   27.9s\n",
      "[Parallel(n_jobs=-1)]: Done 205 tasks      | elapsed:   30.9s\n",
      "[Parallel(n_jobs=-1)]: Done 226 tasks      | elapsed:   34.4s\n",
      "[Parallel(n_jobs=-1)]: Done 249 tasks      | elapsed:   38.2s\n",
      "[Parallel(n_jobs=-1)]: Done 272 tasks      | elapsed:   41.6s\n",
      "[Parallel(n_jobs=-1)]: Done 297 tasks      | elapsed:   45.3s\n",
      "[Parallel(n_jobs=-1)]: Done 322 tasks      | elapsed:   49.0s\n",
      "[Parallel(n_jobs=-1)]: Done 349 tasks      | elapsed:   50.5s\n",
      "[Parallel(n_jobs=-1)]: Done 376 tasks      | elapsed:   51.9s\n",
      "[Parallel(n_jobs=-1)]: Done 405 tasks      | elapsed:   53.3s\n",
      "[Parallel(n_jobs=-1)]: Done 434 tasks      | elapsed:   54.8s\n",
      "[Parallel(n_jobs=-1)]: Done 465 tasks      | elapsed:   56.3s\n",
      "[Parallel(n_jobs=-1)]: Done 496 tasks      | elapsed:   58.0s\n",
      "[Parallel(n_jobs=-1)]: Done 529 tasks      | elapsed:   59.6s\n",
      "[Parallel(n_jobs=-1)]: Done 562 tasks      | elapsed:  1.0min\n",
      "[Parallel(n_jobs=-1)]: Done 597 tasks      | elapsed:  1.1min\n",
      "[Parallel(n_jobs=-1)]: Done 632 tasks      | elapsed:  1.1min\n",
      "[Parallel(n_jobs=-1)]: Done 669 tasks      | elapsed:  1.2min\n",
      "[Parallel(n_jobs=-1)]: Done 706 tasks      | elapsed:  1.3min\n",
      "[Parallel(n_jobs=-1)]: Done 745 tasks      | elapsed:  1.4min\n",
      "[Parallel(n_jobs=-1)]: Done 784 tasks      | elapsed:  1.5min\n",
      "[Parallel(n_jobs=-1)]: Done 825 tasks      | elapsed:  1.6min\n",
      "[Parallel(n_jobs=-1)]: Done 866 tasks      | elapsed:  1.7min\n",
      "[Parallel(n_jobs=-1)]: Done 909 tasks      | elapsed:  1.8min\n",
      "[Parallel(n_jobs=-1)]: Done 952 tasks      | elapsed:  1.9min\n",
      "[Parallel(n_jobs=-1)]: Done 997 tasks      | elapsed:  1.9min\n",
      "[Parallel(n_jobs=-1)]: Done 1042 tasks      | elapsed:  2.0min\n",
      "[Parallel(n_jobs=-1)]: Done 1089 tasks      | elapsed:  2.0min\n",
      "[Parallel(n_jobs=-1)]: Done 1136 tasks      | elapsed:  2.1min\n",
      "[Parallel(n_jobs=-1)]: Done 1185 tasks      | elapsed:  2.1min\n",
      "[Parallel(n_jobs=-1)]: Done 1234 tasks      | elapsed:  2.2min\n",
      "[Parallel(n_jobs=-1)]: Done 1285 tasks      | elapsed:  2.2min\n",
      "[Parallel(n_jobs=-1)]: Done 1336 tasks      | elapsed:  2.3min\n",
      "[Parallel(n_jobs=-1)]: Done 1389 tasks      | elapsed:  2.5min\n",
      "[Parallel(n_jobs=-1)]: Done 1442 tasks      | elapsed:  2.6min\n",
      "[Parallel(n_jobs=-1)]: Done 1497 tasks      | elapsed:  2.8min\n",
      "[Parallel(n_jobs=-1)]: Done 1552 tasks      | elapsed:  2.9min\n",
      "[Parallel(n_jobs=-1)]: Done 1609 tasks      | elapsed:  3.1min\n",
      "[Parallel(n_jobs=-1)]: Done 1666 tasks      | elapsed:  3.1min\n",
      "[Parallel(n_jobs=-1)]: Done 1725 tasks      | elapsed:  3.2min\n",
      "[Parallel(n_jobs=-1)]: Done 1784 tasks      | elapsed:  3.2min\n",
      "[Parallel(n_jobs=-1)]: Done 1845 tasks      | elapsed:  3.3min\n",
      "[Parallel(n_jobs=-1)]: Done 1906 tasks      | elapsed:  3.3min\n",
      "[Parallel(n_jobs=-1)]: Done 1969 tasks      | elapsed:  3.4min\n",
      "[Parallel(n_jobs=-1)]: Done 2032 tasks      | elapsed:  3.6min\n",
      "[Parallel(n_jobs=-1)]: Done 2097 tasks      | elapsed:  3.8min\n",
      "[Parallel(n_jobs=-1)]: Done 2162 tasks      | elapsed:  4.0min\n",
      "[Parallel(n_jobs=-1)]: Done 2229 tasks      | elapsed:  4.1min\n",
      "[Parallel(n_jobs=-1)]: Done 2296 tasks      | elapsed:  4.2min\n",
      "[Parallel(n_jobs=-1)]: Done 2365 tasks      | elapsed:  4.3min\n",
      "[Parallel(n_jobs=-1)]: Done 2434 tasks      | elapsed:  4.3min\n",
      "[Parallel(n_jobs=-1)]: Done 2505 tasks      | elapsed:  4.4min\n",
      "[Parallel(n_jobs=-1)]: Done 2576 tasks      | elapsed:  4.5min\n",
      "[Parallel(n_jobs=-1)]: Done 2649 tasks      | elapsed:  4.7min\n",
      "[Parallel(n_jobs=-1)]: Done 2722 tasks      | elapsed:  4.9min\n",
      "[Parallel(n_jobs=-1)]: Done 2797 tasks      | elapsed:  5.1min\n",
      "[Parallel(n_jobs=-1)]: Done 2872 tasks      | elapsed:  5.3min\n",
      "[Parallel(n_jobs=-1)]: Done 2949 tasks      | elapsed:  5.3min\n",
      "[Parallel(n_jobs=-1)]: Done 3026 tasks      | elapsed:  5.4min\n",
      "[Parallel(n_jobs=-1)]: Done 3105 tasks      | elapsed:  5.5min\n",
      "[Parallel(n_jobs=-1)]: Done 3184 tasks      | elapsed:  5.5min\n",
      "[Parallel(n_jobs=-1)]: Done 3265 tasks      | elapsed:  5.7min\n",
      "[Parallel(n_jobs=-1)]: Done 3346 tasks      | elapsed:  5.9min\n",
      "[Parallel(n_jobs=-1)]: Done 3429 tasks      | elapsed:  6.2min\n",
      "[Parallel(n_jobs=-1)]: Done 3512 tasks      | elapsed:  6.4min\n",
      "[Parallel(n_jobs=-1)]: Done 3597 tasks      | elapsed:  6.5min\n",
      "[Parallel(n_jobs=-1)]: Done 3682 tasks      | elapsed:  6.6min\n",
      "[Parallel(n_jobs=-1)]: Done 3769 tasks      | elapsed:  6.6min\n",
      "[Parallel(n_jobs=-1)]: Done 3856 tasks      | elapsed:  6.7min\n",
      "[Parallel(n_jobs=-1)]: Done 3945 tasks      | elapsed:  7.0min\n",
      "[Parallel(n_jobs=-1)]: Done 4034 tasks      | elapsed:  7.2min\n",
      "[Parallel(n_jobs=-1)]: Done 4125 tasks      | elapsed:  7.5min\n",
      "[Parallel(n_jobs=-1)]: Done 4216 tasks      | elapsed:  7.6min\n",
      "[Parallel(n_jobs=-1)]: Done 4309 tasks      | elapsed:  7.7min\n",
      "[Parallel(n_jobs=-1)]: Done 4402 tasks      | elapsed:  7.8min\n",
      "[Parallel(n_jobs=-1)]: Done 4497 tasks      | elapsed:  7.9min\n",
      "[Parallel(n_jobs=-1)]: Done 4592 tasks      | elapsed:  8.1min\n",
      "[Parallel(n_jobs=-1)]: Done 4689 tasks      | elapsed:  8.4min\n",
      "[Parallel(n_jobs=-1)]: Done 4786 tasks      | elapsed:  8.7min\n",
      "[Parallel(n_jobs=-1)]: Done 4885 tasks      | elapsed:  8.8min\n",
      "[Parallel(n_jobs=-1)]: Done 4984 tasks      | elapsed:  8.9min\n",
      "[Parallel(n_jobs=-1)]: Done 5085 tasks      | elapsed:  9.0min\n",
      "[Parallel(n_jobs=-1)]: Done 5186 tasks      | elapsed:  9.2min\n",
      "[Parallel(n_jobs=-1)]: Done 5289 tasks      | elapsed:  9.4min\n",
      "[Parallel(n_jobs=-1)]: Done 5392 tasks      | elapsed:  9.7min\n",
      "[Parallel(n_jobs=-1)]: Done 5497 tasks      | elapsed:  9.9min\n",
      "[Parallel(n_jobs=-1)]: Done 5602 tasks      | elapsed: 10.0min\n",
      "[Parallel(n_jobs=-1)]: Done 5709 tasks      | elapsed: 10.1min\n",
      "[Parallel(n_jobs=-1)]: Done 5816 tasks      | elapsed: 10.3min\n",
      "[Parallel(n_jobs=-1)]: Done 5925 tasks      | elapsed: 10.6min\n",
      "[Parallel(n_jobs=-1)]: Done 6034 tasks      | elapsed: 10.9min\n",
      "[Parallel(n_jobs=-1)]: Done 6145 tasks      | elapsed: 11.1min\n",
      "[Parallel(n_jobs=-1)]: Done 6256 tasks      | elapsed: 11.2min\n",
      "[Parallel(n_jobs=-1)]: Done 6369 tasks      | elapsed: 11.3min\n",
      "[Parallel(n_jobs=-1)]: Done 6400 out of 6400 | elapsed: 11.4min finished\n"
     ]
    },
    {
     "name": "stdout",
     "output_type": "stream",
     "text": [
      "Wall time: 11min 24s\n"
     ]
    }
   ],
   "source": [
    "tuned_grid_model_npp = rf_grid_search.fit(x_npp_train, y_npp_train)"
   ]
  },
  {
   "cell_type": "code",
   "execution_count": 83,
   "id": "c97ee99b",
   "metadata": {},
   "outputs": [
    {
     "data": {
      "text/plain": [
       "{'criterion': 'gini',\n",
       " 'max_depth': 4,\n",
       " 'max_features': 'auto',\n",
       " 'min_samples_leaf': 100,\n",
       " 'min_samples_split': 250,\n",
       " 'n_estimators': 500}"
      ]
     },
     "execution_count": 83,
     "metadata": {},
     "output_type": "execute_result"
    }
   ],
   "source": [
    "tuned_grid_model_npp.best_params_"
   ]
  },
  {
   "cell_type": "code",
   "execution_count": null,
   "id": "e602843a",
   "metadata": {},
   "outputs": [],
   "source": [
    "grid_y_hat_npp = tuned_grid_model_npp.predict_proba(x_npp_test)\n",
    "print(\"The log loss of the model with Random Search is: \" + str(log_loss(y_np_testp, grid_y_hat_npp)))\n",
    "print(\"The ROC AUC score of the model with Random Search is: \" +str(roc_auc_score(y_npp_test, grid_y_hat_npp[:,1])))\n",
    "\n",
    "nested_score_pass = cross_validate(tuned_grid_model_npp, X=x_npp_train, y=y_npp_train, scoring=scoring, n_jobs=-1)\n",
    "print('ROC AUC for shots assisted by passes:', nested_score_pass['test_roc_aug'].mean())\n",
    "print(\"McFadden's Pseudo R-squared for shots assisted by passes:\", nested_score_pass['test_mcfaddens_r2'].mean())"
   ]
  },
  {
   "cell_type": "code",
   "execution_count": 85,
   "id": "b4e8bec4",
   "metadata": {},
   "outputs": [],
   "source": [
    "random_fpr_npp, random_tpr_npp, random_thresholds_npp = roc_curve(y_true=y_npp_test, y_score=random_y_hat_npp[:,1])\n",
    "grid_fpr_npp, grid_tpr_npp, grid_thresholds_npp = roc_curve(y_true=y_npp_test, y_score=grid_y_hat_npp[:,1])"
   ]
  },
  {
   "cell_type": "code",
   "execution_count": 86,
   "id": "49cacbe8",
   "metadata": {},
   "outputs": [
    {
     "data": {
      "image/png": "[encoded data removed]",
      "text/plain": [
       "<Figure size 432x288 with 1 Axes>"
      ]
     },
     "metadata": {
      "needs_background": "light"
     },
     "output_type": "display_data"
    }
   ],
   "source": [
    "plt.plot(random_fpr_npp, random_tpr_npp, label='Random Search ROC AUC')\n",
    "plt.plot(grid_fpr_npp, grid_tpr_npp, label='Grid Search ROC AUC')\n",
    "plt.plot([0, 1], [0, 1], color = 'black', linewidth = 2, linestyle = '--')\n",
    "plt.xlabel('False Positive Rate')\n",
    "plt.ylabel('True Positive Rate')\n",
    "plt.legend()\n",
    "plt.title('ROC AUC Curve For Random Forest Model with Grid vs Random Search')\n",
    "plt.show()"
   ]
  },
  {
   "cell_type": "code",
   "execution_count": null,
   "id": "1484ca82",
   "metadata": {},
   "outputs": [],
   "source": [
    "tuned_grid_model_npo = rf_grid_search.fit(x_npo_train, y_npo_train)"
   ]
  },
  {
   "cell_type": "code",
   "execution_count": null,
   "id": "eb67b39b",
   "metadata": {},
   "outputs": [],
   "source": [
    "tuned_grid_model_npo.best_params_"
   ]
  },
  {
   "cell_type": "code",
   "execution_count": null,
   "id": "7af362df",
   "metadata": {},
   "outputs": [],
   "source": [
    "grid_y_hat_npo = tuned_grid_model_npo.predict_proba(x_npo_test)\n",
    "print(\"The log loss of the model with Random Search is: \" + str(log_loss(y_npo_test, grid_y_hat_npo)))\n",
    "print(\"The ROC AUC score of the model with Random Search is: \" +str(roc_auc_score(y_npo_test, grid_y_hat_npo[:,1])))\n",
    "\n",
    "nested_score_other = cross_validate(tuned_grid_model_npo, X=x_npo_train, y=y_npo_train, scoring=scoring, n_jobs=-1)\n",
    "print('ROC AUC for shots assisted by passes:', nested_score_other['test_roc_aug'].mean())\n",
    "print(\"McFadden's Pseudo R-squared for shots assisted by passes:\", nested_score_other['test_mcfaddens_r2'].mean())"
   ]
  },
  {
   "cell_type": "code",
   "execution_count": null,
   "id": "68da43dc",
   "metadata": {},
   "outputs": [],
   "source": [
    "y_pred_grid = np.concatenate([grid_y_hat_npp, grid_y_hat_npo])\n",
    "y_true_test = np.concatenate([y_npp_test, y_npo_test])\n",
    "fraction_of_positives_grid, mean_predicted_value_grid = calibration_curve(y_true_test, y_pred_grid[:, 1], n_bins=10)"
   ]
  },
  {
   "cell_type": "code",
   "execution_count": null,
   "id": "1b62bf75",
   "metadata": {},
   "outputs": [],
   "source": [
    "plt.style.use('dark_background')\n",
    "fig = plt.figure(constrained_layout=True, figsize=(10, 15))\n",
    "gs = fig.add_gridspec(ncols=1, nrows=2, height_ratios=(2/3, 1/3))\n",
    "ax1 = fig.add_subplot(gs[0])\n",
    "ax1.plot(mean_predicted_value_grid, fraction_of_positives_grid, \"-o\", color='#dbdf4a', label='Logistic regression')\n",
    "ax1.plot([0, 1], [0, 1], \"--\", color='#e7aeca', label=\"Perfectly calibrated\")\n",
    "ax1.set_xlabel('Mean predicted value', fontsize=15)\n",
    "ax1.set_ylabel('Fraction of positives', fontsize=15)\n",
    "ax1.set_title('Calibration curve', fontsize=20, pad=10)\n",
    "ax1.legend(fontsize=15)\n",
    "ax1.tick_params(labelsize=15)\n",
    "ax2 = fig.add_subplot(gs[1])\n",
    "sns.distplot(y_pred_grid[:, 1], color='#4fe4e4', label='Logistic regression', kde=False, ax=ax2)\n",
    "ax2.set_xlabel('Predicted value', fontsize=15)\n",
    "ax2.set_ylabel('Count', fontsize=15)\n",
    "ax2.tick_params(labelsize=15)\n",
    "ax2.legend(fontsize=15)\n",
    "ax2.set_title('Distribution of predictions', fontsize=20, pad=10);"
   ]
  },
  {
   "cell_type": "code",
   "execution_count": null,
   "id": "ee75fea6",
   "metadata": {},
   "outputs": [],
   "source": [
    "print(\"The log loss of the model with Random Search is: \" + str(log_loss(y_true_test, y_pred_grid)))\n",
    "print(\"The ROC AUC score of the model with Random Search is: \" +str(roc_auc_score(y_true_test, y_pred_grid[:,1])))\n",
    "print('Pseudo R-squared, logistic regression:', mcfadden_r2(y_true_test, y_pred_grid[:,1]))\n",
    "print('Brier score, logistic regression:',brier_score_loss(y_true_test, y_pred_grid[:,1], pos_label=y_true_test.max()))"
   ]
  },
  {
   "cell_type": "code",
   "execution_count": null,
   "id": "beda270d",
   "metadata": {},
   "outputs": [],
   "source": [
    "fraction_of_positives_grid_p, mean_predicted_value_grid_p = calibration_curve(y_p_test, grid_y_hat_p[:, 1], n_bins=10)"
   ]
  },
  {
   "cell_type": "code",
   "execution_count": null,
   "id": "063baf0e",
   "metadata": {},
   "outputs": [],
   "source": [
    "fig = plt.figure(constrained_layout=True, figsize=(10, 15))\n",
    "gs = fig.add_gridspec(ncols=1, nrows=2, height_ratios=(2/3, 1/3))\n",
    "ax1 = fig.add_subplot(gs[0])\n",
    "ax1.plot(mean_predicted_value_grid_p, fraction_of_positives_grid_p, \"-o\", color='#dbdf4a', label='Logistic regression')\n",
    "ax1.plot([0, 1], [0, 1], \"--\", color='#e7aeca', label=\"Perfectly calibrated\")\n",
    "ax1.set_xlabel('Mean predicted value', fontsize=15)\n",
    "ax1.set_ylabel('Fraction of positives', fontsize=15)\n",
    "ax1.set_title('Calibration curve', fontsize=20, pad=10)\n",
    "ax1.legend(fontsize=15)\n",
    "ax1.tick_params(labelsize=15)\n",
    "ax2 = fig.add_subplot(gs[1])\n",
    "sns.distplot(grid_y_hat_p[:, 1], color='#4fe4e4', label='Logistic regression', kde=False, ax=ax2)\n",
    "ax2.set_xlabel('Predicted value', fontsize=15)\n",
    "ax2.set_ylabel('Count', fontsize=15)\n",
    "ax2.tick_params(labelsize=15)\n",
    "ax2.legend(fontsize=15)\n",
    "ax2.set_title('Distribution of predictions', fontsize=20, pad=10);\n",
    "fig.savefig(os.path.join(cwd, 'figures', '22_calibration_curve.png'), bbox_inches = 'tight', pad_inches = 0.2)"
   ]
  },
  {
   "cell_type": "code",
   "execution_count": null,
   "id": "0ebdae06",
   "metadata": {},
   "outputs": [],
   "source": [
    "print(\"The log loss of the model with Random Search is: \" + str(log_loss(y_p_test, grid_y_hat_p)))\n",
    "print(\"The ROC AUC score of the model with Random Search is: \" +str(roc_auc_score(y_p_test, grid_y_hat_p[:,1])))\n",
    "print('Pseudo R-squared, logistic regression:', mcfadden_r2(y_p_test, grid_y_hat_p[:,1]))\n",
    "print('Brier score, logistic regression:',brier_score_loss(y_p_test, grid_y_hat_p[:,1], pos_label=y_true_test_p.max()))"
   ]
  },
  {
   "cell_type": "code",
   "execution_count": null,
   "id": "172c6296",
   "metadata": {},
   "outputs": [],
   "source": [
    "random_fpr_npo, random_tpr_npo, random_thresholds_npo = roc_curve(y_true=y_npo_test, y_score=random_y_hat_npo[:,1])\n",
    "grid_fpr_npo, grid_tpr_npo, grid_thresholds_npo = roc_curve(y_true=y_npo_test, y_score=grid_y_hat_npo[:,1])"
   ]
  },
  {
   "cell_type": "code",
   "execution_count": null,
   "id": "47bf47eb",
   "metadata": {},
   "outputs": [],
   "source": [
    "plt.plot(random_fpr_npo, random_tpr_npo, label='Random Search ROC AUC')\n",
    "plt.plot(grid_fpr_npo, grid_tpr_npo, label='Grid Search ROC AUC')\n",
    "plt.plot([0, 1], [0, 1], color = 'black', linewidth = 2, linestyle = '--')\n",
    "plt.xlabel('False Positive Rate')\n",
    "plt.ylabel('True Positive Rate')\n",
    "plt.legend()\n",
    "plt.title('ROC AUC Curve For Random Forest Model with Grid vs Random Search')\n",
    "plt.show()"
   ]
  },
  {
   "cell_type": "code",
   "execution_count": null,
   "id": "676810c4",
   "metadata": {},
   "outputs": [],
   "source": [
    "tuned_grid_model_p = rf_grid_search.fit(x_p_train, y_p_train)"
   ]
  },
  {
   "cell_type": "code",
   "execution_count": null,
   "id": "9f30e70b",
   "metadata": {},
   "outputs": [],
   "source": [
    "tuned_grid_model_p.best_params_"
   ]
  },
  {
   "cell_type": "code",
   "execution_count": null,
   "id": "fa94d8a0",
   "metadata": {},
   "outputs": [],
   "source": [
    "grid_y_hat_p = tuned_grid_model_p.predict_proba(x_p_test)\n",
    "print(\"The log loss of the model with Random Search is: \" + str(log_loss(y_p_test, grid_y_hat_p)))\n",
    "print(\"The ROC AUC score of the model with Random Search is: \" +str(roc_auc_score(y_p_test, grid_y_hat_p[:,1])))\n",
    "\n",
    "nested_score_penalty = cross_validate(tuned_grid_model_p, X=x_p_train, y=y_p_train, scoring=scoring, n_jobs=-1)\n",
    "print('ROC AUC for shots assisted by passes:', nested_score_penalty['test_roc_aug'].mean())\n",
    "print(\"McFadden's Pseudo R-squared for shots assisted by passes:\", nested_score_penalty['test_mcfaddens_r2'].mean())"
   ]
  },
  {
   "cell_type": "code",
   "execution_count": null,
   "id": "c070472e",
   "metadata": {},
   "outputs": [],
   "source": [
    "grid_y_hat_p = tuned_grid_model.predict_proba(x_p_test)\n",
    "random_fpr_p, random_tpr_p, random_thresholds_p = roc_curve(y_true=y_p_test, y_score=random_y_hat_p[:,1])\n",
    "grid_fpr_p, grid_tpr_p, grid_thresholds_p = roc_curve(y_true=y_p_test, y_score=grid_y_hat_p[:,1])"
   ]
  },
  {
   "cell_type": "code",
   "execution_count": null,
   "id": "016f466a",
   "metadata": {},
   "outputs": [],
   "source": [
    "plt.plot(random_fpr_p, random_tpr_p, label='Random Search ROC AUC')\n",
    "plt.plot(grid_fpr_p, grid_tpr_p, label='Grid Search ROC AUC')\n",
    "plt.plot([0, 1], [0, 1], color = 'black', linewidth = 2, linestyle = '--')\n",
    "plt.xlabel('False Positive Rate')\n",
    "plt.ylabel('True Positive Rate')\n",
    "plt.legend()\n",
    "plt.title('ROC AUC Curve For Random Forest Model with Grid vs Random Search')\n",
    "plt.show()"
   ]
  },
  {
   "cell_type": "code",
   "execution_count": 87,
   "id": "9d54a522",
   "metadata": {},
   "outputs": [],
   "source": [
    "better_rf_hyperparam_grid_npp={\n",
    "    \"n_estimators\": [500],\n",
    "    \"max_features\": [5, 6, 7, 8, 9],\n",
    "    \"min_samples_leaf\": [1, 2, 5, 10, 15, 20],\n",
    "    \"min_samples_split\": [100, 200, 250, 300, 400],\n",
    "    \"criterion\": [\"gini\"],\n",
    "    \"max_depth\": [5, 6, 7, 8, 9]\n",
    "}"
   ]
  },
  {
   "cell_type": "code",
   "execution_count": null,
   "id": "081fcd96",
   "metadata": {},
   "outputs": [],
   "source": [
    "better_rf_hyperparam_grid_npo={\n",
    "    \"n_estimators\": [500],\n",
    "    \"max_features\": [5, 6, 7, 8, 9],\n",
    "    \"min_samples_leaf\": [1, 2, 5, 10, 15, 20],\n",
    "    \"min_samples_split\": [100, 200, 250, 300, 400],\n",
    "    \"criterion\": [\"gini\"],\n",
    "    \"max_depth\": [5, 6, 7, 8, 9]\n",
    "}"
   ]
  },
  {
   "cell_type": "code",
   "execution_count": null,
   "id": "d91c45d2",
   "metadata": {},
   "outputs": [],
   "source": [
    "better_rf_hyperparam_grid_p={\n",
    "    \"n_estimators\": [500],\n",
    "    \"max_features\": [5, 6, 7, 8, 9],\n",
    "    \"min_samples_leaf\": [1, 2, 5, 10, 15, 20],\n",
    "    \"min_samples_split\": [100, 200, 250, 300, 400],\n",
    "    \"criterion\": [\"gini\"],\n",
    "    \"max_depth\": [5, 6, 7, 8, 9]\n",
    "}"
   ]
  },
  {
   "cell_type": "code",
   "execution_count": 88,
   "id": "c217c7cf",
   "metadata": {},
   "outputs": [],
   "source": [
    "better_random_search_model = RandomForestClassifier(random_state=42)"
   ]
  },
  {
   "cell_type": "code",
   "execution_count": null,
   "id": "79d46c69",
   "metadata": {},
   "outputs": [],
   "source": [
    "better_rf_random_search_npp = RandomizedSearchCV(estimator=better_random_search_model,\n",
    "                                                 param_distributions=better_rf_hyperparam_grid_npo, n_iter=250,\n",
    "                                                 scoring=\"neg_log_loss\", return_train_score=True, cv=cv_split, verbose=10,\n",
    "                                                 n_jobs=-1, random_state=42)"
   ]
  },
  {
   "cell_type": "code",
   "execution_count": null,
   "id": "2bcde5e3",
   "metadata": {},
   "outputs": [],
   "source": [
    "better_tuned_random_model_npp = better_rf_random_search_npo.fit(x_npp_train, y_npp_train)"
   ]
  },
  {
   "cell_type": "code",
   "execution_count": 91,
   "id": "01db3bea",
   "metadata": {},
   "outputs": [
    {
     "data": {
      "text/plain": [
       "{'n_estimators': 500,\n",
       " 'min_samples_split': 400,\n",
       " 'min_samples_leaf': 2,\n",
       " 'max_features': 6,\n",
       " 'max_depth': 5,\n",
       " 'criterion': 'gini'}"
      ]
     },
     "execution_count": 91,
     "metadata": {},
     "output_type": "execute_result"
    }
   ],
   "source": [
    "better_tuned_random_model_npp.best_params_"
   ]
  },
  {
   "cell_type": "code",
   "execution_count": 102,
   "id": "f6dd0203",
   "metadata": {},
   "outputs": [
    {
     "name": "stdout",
     "output_type": "stream",
     "text": [
      "The log loss of the model with Random Search is: 0.5743970793730475\n",
      "The ROC AUC score of the model with Random Search is: 0.5079107891727029\n",
      "Pseudo R-squared, logistic regression: -0.0012327147324664445\n",
      "Brier score, logistic regression: 0.19298207201794523\n"
     ]
    }
   ],
   "source": [
    "y_pred_rf_pass = better_tuned_random_model_npp.predict_proba(x_npp_test)\n",
    "print(\"The log loss of the model with Random Search for pass model is: \" + str(log_loss(y_npp_test, y_pred_rf_pass)))\n",
    "print(\"The ROC AUC score of the model with Random Search for pass model is: \" +str(roc_auc_score(y_npp_test,\n",
    "                                                                                                 y_pred_rf_pass[:,1])))\n",
    "print('Pseudo R-squared, Random Forest for pass model is:', mcfadden_r2(y_npp_test, y_pred_rf_pass[:,1]))\n",
    "print('Brier score, Random Forest for pass model is:',brier_score_loss(y_npp_test, y_pred_rf_pass[:,1],\n",
    "                                                                       pos_label=y_npp_test.max()))"
   ]
  },
  {
   "cell_type": "code",
   "execution_count": 110,
   "id": "57ac3fbd",
   "metadata": {},
   "outputs": [
    {
     "name": "stdout",
     "output_type": "stream",
     "text": [
      "Wall time: 0 ns\n"
     ]
    },
    {
     "data": {
      "image/png": "[encoded data removed]",
      "text/plain": [
       "<Figure size 432x288 with 1 Axes>"
      ]
     },
     "metadata": {
      "needs_background": "light"
     },
     "output_type": "display_data"
    }
   ],
   "source": [
    "perm_result_npp = permutation_importance(better_tuned_random_model_npp, x_npp_train, y_npp_train, n_repeats=100,\n",
    "                                         random_state=42, n_jobs=-1)\n",
    "df_perm_importance_npp = pd.DataFrame({'Feature':x_npp_train.columns,\n",
    "                                   'importance': perm_result_npp.importances.mean(axis=1),\n",
    "                                   'std_dev': perm_result_npp.importances.std(axis=1)})\n",
    "df_perm_importance_npp.sort_values('importance', ascending=False, inplace=True)\n",
    "df_perm_importance_npp.reset_index(drop=True, inplace=True)\n",
    "df_perm_importance_npp"
   ]
  },
  {
   "cell_type": "code",
   "execution_count": null,
   "id": "3403666e",
   "metadata": {},
   "outputs": [],
   "source": [
    "fig, ax = plt.subplots(figsize=(16, 9))\n",
    "sorted_idx = perm_result_npp.importances_mean.argsort()\n",
    "bar_plot = ax.boxplot(perm_result_npp.importances[sorted_idx].T, vert=False, labels=x_npp_train.columns[sorted_idx])\n",
    "ax.set_title(\"Random Forest Permutation Importances (Training Set)\")\n",
    "fig.tight_layout()\n",
    "plt.show()"
   ]
  },
  {
   "cell_type": "code",
   "execution_count": 89,
   "id": "42c93fcf",
   "metadata": {},
   "outputs": [],
   "source": [
    "better_rf_random_search_npo = RandomizedSearchCV(estimator=better_random_search_model,\n",
    "                                                 param_distributions=better_rf_hyperparam_grid_npp, n_iter=250,\n",
    "                                                 scoring=\"neg_log_loss\", return_train_score=True, cv=cv_split, verbose=10,\n",
    "                                                 n_jobs=-1, random_state=42)"
   ]
  },
  {
   "cell_type": "code",
   "execution_count": null,
   "id": "c7a2e053",
   "metadata": {},
   "outputs": [],
   "source": [
    "better_tuned_random_model_npo = better_rf_random_search_npp.fit(x_npp_train, y_npo_train)"
   ]
  },
  {
   "cell_type": "code",
   "execution_count": null,
   "id": "f151ee7a",
   "metadata": {},
   "outputs": [],
   "source": [
    "better_tuned_random_model_npo.best_params_"
   ]
  },
  {
   "cell_type": "code",
   "execution_count": null,
   "id": "2507aa42",
   "metadata": {},
   "outputs": [],
   "source": [
    "y_pred_rf_other = better_tuned_random_model_npo.predict_proba(x_npo_test)\n",
    "print(\"The log loss of the model with Random Search for other model is: \" + str(log_loss(y_npo_test, y_pred_rf_other)))\n",
    "print(\"The ROC AUC score of the model with Random Search for other model is: \" +str(roc_auc_score(y_npo_test,\n",
    "                                                                                                  y_pred_rf_other[:,1])))\n",
    "print('Pseudo R-squared, Random Forest for other model is:', mcfadden_r2(y_npo_test, y_pred_rf_other[:,1]))\n",
    "print('Brier score, Random Forest for other model is:',brier_score_loss(y_npo_test, y_pred_rf_other[:,1],\n",
    "                                                                        pos_label=y_npo_test.max()))"
   ]
  },
  {
   "cell_type": "code",
   "execution_count": 109,
   "id": "f0e3e197",
   "metadata": {},
   "outputs": [
    {
     "name": "stdout",
     "output_type": "stream",
     "text": [
      "Wall time: 35.5 s\n"
     ]
    },
    {
     "data": {
      "image/png": "[encoded data removed]",
      "text/plain": [
       "<Figure size 432x288 with 1 Axes>"
      ]
     },
     "metadata": {
      "needs_background": "light"
     },
     "output_type": "display_data"
    }
   ],
   "source": [
    "perm_result_npo = permutation_importance(better_tuned_random_model_npo, x_npo_train, y_npo_train, n_repeats=100,\n",
    "                                         random_state=42, n_jobs=-1)\n",
    "df_perm_importance_npo = pd.DataFrame({'Feature':x_npo_train.columns,\n",
    "                                   'importance': perm_result_npo.importances.mean(axis=1),\n",
    "                                   'std_dev': perm_result_npo.importances.std(axis=1)})\n",
    "df_perm_importance_npo.sort_values('importance', ascending=False, inplace=True)\n",
    "df_perm_importance_npo.reset_index(drop=True, inplace=True)\n",
    "df_perm_importance_npo"
   ]
  },
  {
   "cell_type": "code",
   "execution_count": 108,
   "id": "5338e7d2",
   "metadata": {},
   "outputs": [
    {
     "name": "stdout",
     "output_type": "stream",
     "text": [
      "<class 'pandas.core.frame.DataFrame'>\n",
      "Int64Index: 165 entries, 41479 to 31963\n",
      "Data columns (total 8 columns):\n",
      " #   Column              Non-Null Count  Dtype  \n",
      "---  ------              --------------  -----  \n",
      " 0   competition_type    165 non-null    int64  \n",
      " 1   competition_part    165 non-null    int64  \n",
      " 2   H_A_column          165 non-null    int64  \n",
      " 3   match_moment        165 non-null    int64  \n",
      " 4   shot_number         165 non-null    float64\n",
      " 5   shot_player_number  165 non-null    float64\n",
      " 6   players             165 non-null    float64\n",
      " 7   players_rival       165 non-null    float64\n",
      "dtypes: float64(4), int64(4)\n",
      "memory usage: 11.6 KB\n"
     ]
    }
   ],
   "source": [
    "fig, ax = plt.subplots(figsize=(16, 9))\n",
    "sorted_idx = perm_result_npo.importances_mean.argsort()\n",
    "bar_plot = ax.boxplot(perm_result_npo.importances[sorted_idx].T, vert=False, labels=x_npo_train.columns[sorted_idx])\n",
    "ax.set_title(\"Random Forest Permutation Importances (Training Set)\")\n",
    "fig.tight_layout()\n",
    "plt.show()"
   ]
  },
  {
   "cell_type": "code",
   "execution_count": null,
   "id": "a8cde587",
   "metadata": {},
   "outputs": [],
   "source": [
    "better_rf_random_search_p = RandomizedSearchCV(estimator=better_random_search_model,\n",
    "                                                 param_distributions=better_rf_hyperparam_grid_p, n_iter=250,\n",
    "                                                 scoring=\"neg_log_loss\", return_train_score=True, cv=cv_split, verbose=10,\n",
    "                                                 n_jobs=-1, random_state=42)"
   ]
  },
  {
   "cell_type": "code",
   "execution_count": 90,
   "id": "7195630a",
   "metadata": {},
   "outputs": [
    {
     "name": "stdout",
     "output_type": "stream",
     "text": [
      "Fitting 5 folds for each of 250 candidates, totalling 1250 fits\n"
     ]
    },
    {
     "name": "stderr",
     "output_type": "stream",
     "text": [
      "[Parallel(n_jobs=-1)]: Using backend LokyBackend with 8 concurrent workers.\n",
      "[Parallel(n_jobs=-1)]: Done   2 tasks      | elapsed:    2.0s\n",
      "[Parallel(n_jobs=-1)]: Done   9 tasks      | elapsed:    2.8s\n",
      "[Parallel(n_jobs=-1)]: Done  16 tasks      | elapsed:    4.3s\n",
      "[Parallel(n_jobs=-1)]: Done  25 tasks      | elapsed:    5.7s\n",
      "[Parallel(n_jobs=-1)]: Done  34 tasks      | elapsed:    9.7s\n",
      "[Parallel(n_jobs=-1)]: Done  45 tasks      | elapsed:   11.6s\n",
      "[Parallel(n_jobs=-1)]: Done  56 tasks      | elapsed:   14.9s\n",
      "[Parallel(n_jobs=-1)]: Done  69 tasks      | elapsed:   16.1s\n",
      "[Parallel(n_jobs=-1)]: Done  82 tasks      | elapsed:   20.0s\n",
      "[Parallel(n_jobs=-1)]: Done  97 tasks      | elapsed:   24.1s\n",
      "[Parallel(n_jobs=-1)]: Done 112 tasks      | elapsed:   26.7s\n",
      "[Parallel(n_jobs=-1)]: Done 129 tasks      | elapsed:   31.4s\n",
      "[Parallel(n_jobs=-1)]: Done 146 tasks      | elapsed:   36.0s\n",
      "[Parallel(n_jobs=-1)]: Done 165 tasks      | elapsed:   41.3s\n",
      "[Parallel(n_jobs=-1)]: Done 184 tasks      | elapsed:   45.5s\n",
      "[Parallel(n_jobs=-1)]: Done 205 tasks      | elapsed:   50.1s\n",
      "[Parallel(n_jobs=-1)]: Done 226 tasks      | elapsed:   54.6s\n",
      "[Parallel(n_jobs=-1)]: Done 249 tasks      | elapsed:   58.7s\n",
      "[Parallel(n_jobs=-1)]: Done 272 tasks      | elapsed:  1.1min\n",
      "[Parallel(n_jobs=-1)]: Done 297 tasks      | elapsed:  1.2min\n",
      "[Parallel(n_jobs=-1)]: Done 322 tasks      | elapsed:  1.3min\n",
      "[Parallel(n_jobs=-1)]: Done 349 tasks      | elapsed:  1.4min\n",
      "[Parallel(n_jobs=-1)]: Done 376 tasks      | elapsed:  1.4min\n",
      "[Parallel(n_jobs=-1)]: Done 405 tasks      | elapsed:  1.6min\n",
      "[Parallel(n_jobs=-1)]: Done 434 tasks      | elapsed:  1.7min\n",
      "[Parallel(n_jobs=-1)]: Done 465 tasks      | elapsed:  1.8min\n",
      "[Parallel(n_jobs=-1)]: Done 496 tasks      | elapsed:  1.9min\n",
      "[Parallel(n_jobs=-1)]: Done 529 tasks      | elapsed:  2.1min\n",
      "[Parallel(n_jobs=-1)]: Done 562 tasks      | elapsed:  2.2min\n",
      "[Parallel(n_jobs=-1)]: Done 597 tasks      | elapsed:  2.3min\n",
      "[Parallel(n_jobs=-1)]: Done 632 tasks      | elapsed:  2.5min\n",
      "[Parallel(n_jobs=-1)]: Done 669 tasks      | elapsed:  2.6min\n",
      "[Parallel(n_jobs=-1)]: Done 706 tasks      | elapsed:  2.8min\n",
      "[Parallel(n_jobs=-1)]: Done 745 tasks      | elapsed:  2.9min\n",
      "[Parallel(n_jobs=-1)]: Done 784 tasks      | elapsed:  3.1min\n",
      "[Parallel(n_jobs=-1)]: Done 825 tasks      | elapsed:  3.3min\n",
      "[Parallel(n_jobs=-1)]: Done 866 tasks      | elapsed:  3.4min\n",
      "[Parallel(n_jobs=-1)]: Done 909 tasks      | elapsed:  3.7min\n",
      "[Parallel(n_jobs=-1)]: Done 952 tasks      | elapsed:  3.8min\n",
      "[Parallel(n_jobs=-1)]: Done 997 tasks      | elapsed:  4.0min\n",
      "[Parallel(n_jobs=-1)]: Done 1042 tasks      | elapsed:  4.2min\n",
      "[Parallel(n_jobs=-1)]: Done 1089 tasks      | elapsed:  4.4min\n",
      "[Parallel(n_jobs=-1)]: Done 1136 tasks      | elapsed:  4.6min\n",
      "[Parallel(n_jobs=-1)]: Done 1185 tasks      | elapsed:  4.8min\n",
      "[Parallel(n_jobs=-1)]: Done 1234 tasks      | elapsed:  5.0min\n",
      "[Parallel(n_jobs=-1)]: Done 1250 out of 1250 | elapsed:  5.0min finished\n"
     ]
    },
    {
     "name": "stdout",
     "output_type": "stream",
     "text": [
      "Wall time: 5min 3s\n"
     ]
    }
   ],
   "source": [
    "better_tuned_random_model_p = better_rf_random_search_p.fit(x_p_train, y_p_train)"
   ]
  },
  {
   "cell_type": "code",
   "execution_count": null,
   "id": "abd7b894",
   "metadata": {},
   "outputs": [],
   "source": [
    "better_tuned_random_model_p.best_params_"
   ]
  },
  {
   "cell_type": "code",
   "execution_count": null,
   "id": "8b5dae14",
   "metadata": {},
   "outputs": [],
   "source": [
    "y_pred_rf_penalty = better_tuned_random_model_p.predict_proba(x_p_test)\n",
    "print(\"The log loss of the model with Random Search for penalty model is: \" + str(log_loss(y_p_test, y_pred_rf_penalty)))\n",
    "print(\"The ROC AUC score of the model with Random Search for penalty model is: \" +str(roc_auc_score(y_p_test,\n",
    "                                                                                                    y_pred_rf_penalty[:,1])))\n",
    "print('Pseudo R-squared, Random Forest for penalty model is:', mcfadden_r2(y_p_test, y_pred_rf_penalty[:,1]))\n",
    "print('Brier score, Random Forest for penalty model is:',brier_score_loss(y_p_test, y_pred_rf_penalty[:,1],\n",
    "                                                                          pos_label=y_p_test.max()))"
   ]
  },
  {
   "cell_type": "code",
   "execution_count": null,
   "id": "5caae780",
   "metadata": {},
   "outputs": [],
   "source": [
    "perm_result_p = permutation_importance(better_tuned_random_model_p, x_p_train, y_p_train, n_repeats=100,\n",
    "                                         random_state=42, n_jobs=-1)\n",
    "df_perm_importance_p = pd.DataFrame({'Feature':x_p_train.columns,\n",
    "                                   'importance': perm_result_p.importances.mean(axis=1),\n",
    "                                   'std_dev': perm_result_p.importances.std(axis=1)})\n",
    "df_perm_importance_p.sort_values('importance', ascending=False, inplace=True)\n",
    "df_perm_importance_p.reset_index(drop=True, inplace=True)\n",
    "df_perm_importance_p"
   ]
  },
  {
   "cell_type": "code",
   "execution_count": null,
   "id": "05d8f4a3",
   "metadata": {},
   "outputs": [],
   "source": [
    "fig, ax = plt.subplots(figsize=(16, 9))\n",
    "sorted_idx = perm_result_p.importances_mean.argsort()\n",
    "bar_plot = ax.boxplot(perm_result_p.importances[sorted_idx].T, vert=False, labels=x_p_train.columns[sorted_idx])\n",
    "ax.set_title(\"Random Forest Permutation Importances (Training Set)\")\n",
    "fig.tight_layout()\n",
    "plt.show()"
   ]
  },
  {
   "cell_type": "code",
   "execution_count": null,
   "id": "2f899f79",
   "metadata": {},
   "outputs": [],
   "source": [
    "npp1\n",
    "{'n_estimators': 500,\n",
    " 'min_samples_split': 50,\n",
    " 'min_samples_leaf': 20,\n",
    " 'max_features': 7,\n",
    " 'max_depth': 10,\n",
    " 'criterion': 'entropy'}"
   ]
  },
  {
   "cell_type": "code",
   "execution_count": null,
   "id": "f3114e33",
   "metadata": {},
   "outputs": [],
   "source": [
    "{'n_estimators': 500\n",
    " 'max_features': 7,\n",
    " 'min_samples_leaf': 1,\n",
    " 'criterion': 'gini', \n",
    " 'min_samples_split': 250,\n",
    " 'max_depth': 8,\n",
    " }"
   ]
  },
  {
   "cell_type": "code",
   "execution_count": null,
   "id": "2bf63b54",
   "metadata": {},
   "outputs": [],
   "source": [
    "\"n_estimators\": [500],\n",
    "    \"max_features\": [5, 6, 7, 8, 9],\n",
    "    \"min_samples_leaf\": [1, 2, 5, 10, 15, 20],\n",
    "    \"criterion\": [\"gini\"],\n",
    "    \"min_samples_split\": [100, 200, 250, 300, 400],\n",
    "    \"max_depth\": [5, 6, 7, 8, 9]"
   ]
  }
 ],
 "metadata": {
  "kernelspec": {
   "display_name": "xGenv",
   "language": "python",
   "name": "xgenv"
  },
  "language_info": {
   "codemirror_mode": {
    "name": "ipython",
    "version": 3
   },
   "file_extension": ".py",
   "mimetype": "text/x-python",
   "name": "python",
   "nbconvert_exporter": "python",
   "pygments_lexer": "ipython3",
   "version": "3.7.9"
  }
 },
 "nbformat": 4,
 "nbformat_minor": 5
}
